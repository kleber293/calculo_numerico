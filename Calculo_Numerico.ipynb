{
  "nbformat": 4,
  "nbformat_minor": 0,
  "metadata": {
    "colab": {
      "name": "Calculo_Numerico.ipynb",
      "provenance": [],
      "collapsed_sections": [
        "Q4tLTbZbZIxx"
      ],
      "authorship_tag": "ABX9TyPYJ2D+ivcyr0Agg6n+htB/",
      "include_colab_link": true
    },
    "kernelspec": {
      "name": "python3",
      "display_name": "Python 3"
    },
    "language_info": {
      "name": "python"
    }
  },
  "cells": [
    {
      "cell_type": "markdown",
      "metadata": {
        "id": "view-in-github",
        "colab_type": "text"
      },
      "source": [
        "<a href=\"https://colab.research.google.com/github/kleber293/calculo_numerico/blob/main/Calculo_Numerico.ipynb\" target=\"_parent\"><img src=\"https://colab.research.google.com/assets/colab-badge.svg\" alt=\"Open In Colab\"/></a>"
      ]
    },
    {
      "cell_type": "markdown",
      "metadata": {
        "id": "0okkjS6imtMS"
      },
      "source": [
        "<HR width=100% color=\"Turquoise\t\" align=left noshade>"
      ]
    },
    {
      "cell_type": "code",
      "metadata": {
        "id": "DJhQJGUxtjyL",
        "cellView": "form"
      },
      "source": [
        "#@markdown # Binário ⇆ Decimal\n",
        "def Convert_BxD(num, bin=False, dec=False):\n",
        "    \n",
        "    def saida(v1, b1, v2, b2):\n",
        "        print(f'(\\033[1;32m{v1}\\033[){b1}', end='')\n",
        "        print(' \\u27F6 ', end='')\n",
        "        print(f'(\\033[1;32m{v2}\\033[){b2}')\n",
        "\n",
        "    def dec_inteiro(val):\n",
        "        bn, bnr, val = list(), str(), int(val)\n",
        "        bn.append(val % 2)\n",
        "        while True:\n",
        "            d = val // 2\n",
        "            if d == 1 or d == 0:\n",
        "                bn.append(d)\n",
        "                break\n",
        "            bn.append(d % 2)\n",
        "            val = d\n",
        "        for x in reversed(bn):\n",
        "            bnr += str(x)\n",
        "        return bnr\n",
        "\n",
        "    conf = num\n",
        "    \n",
        "    if bin:\n",
        "        con = True\n",
        "        for v in str(num):\n",
        "            con *= v in '10.'\n",
        "        if bool(con):\n",
        "            if isinstance(num, float):\n",
        "                b, sm = str(num).find('.')-1, 0\n",
        "                for i in str(num).replace('.', ''):\n",
        "                    sm += int(i)*2**(b)\n",
        "                    b -= 1\n",
        "                saida(conf, '\\u2082', sm, '\\u2081\\u2080')\n",
        "            else:\n",
        "                c, s = 0, 0\n",
        "                for n in str(num):\n",
        "                    c += 1\n",
        "                    s += int(n)*2**(len(str(num))-c)\n",
        "                saida(conf, '\\u2082', s, '\\u2081\\u2080')\n",
        "        else: \n",
        "            print('\\033[1;31mO valor digitado não é um número Binário!\\033[m')\n",
        "\n",
        "    elif dec:\n",
        "        if isinstance(num, float):\n",
        "            bm, st = list(), str()\n",
        "            cm = 0 if int(num) == 0 else dec_inteiro(num)\n",
        "            while True:\n",
        "                if num > 1:\n",
        "                    num -= int(num)\n",
        "                num *= 2\n",
        "                bm.append(num)\n",
        "                if num % 1 == 0:\n",
        "                    break\n",
        "            for x in bm:\n",
        "                st += f'{str(int(x))}'\n",
        "            saida(conf, '\\u2081\\u2080', f'{cm}.{st}', '\\u2082')\n",
        "        else:\n",
        "            saida(conf,'\\u2081\\u2080', dec_inteiro(num), '\\u2082')"
      ],
      "execution_count": null,
      "outputs": []
    },
    {
      "cell_type": "code",
      "metadata": {
        "id": "CKA5oT9it4a9",
        "cellView": "form"
      },
      "source": [
        "#@markdown ### Convertendo um número **Binário** em **Decimal**\n",
        "Numero_Binario =  10111#@param\n",
        "Convert_BxD(Numero_Binario, bin=True)"
      ],
      "execution_count": null,
      "outputs": []
    },
    {
      "cell_type": "code",
      "metadata": {
        "cellView": "form",
        "id": "yN69942r1Zds"
      },
      "source": [
        "#@markdown ### Convertendo um número **Decimal** em **Binário**\n",
        "Numero_Decimal =  13.25#@param\n",
        "Convert_BxD(Numero_Decimal, dec=True)"
      ],
      "execution_count": null,
      "outputs": []
    },
    {
      "cell_type": "markdown",
      "metadata": {
        "id": "u2ACRTABnNin"
      },
      "source": [
        "<HR width=100% color=\"Turquoise\t\" align=left noshade>"
      ]
    },
    {
      "cell_type": "markdown",
      "metadata": {
        "id": "Q4tLTbZbZIxx"
      },
      "source": [
        "# Método de eliminação de Gauss ou Eliminação Gaussiana\n",
        "\n",
        "> $\\color{gray}{\\text{Gauss triângulação }}$\n",
        "\n",
        "Base: [Aqui](https://www.ufrgs.br/reamat/CalculoNumerico/livro-sci/sdsl-eliminacao_gaussiana.html):"
      ]
    },
    {
      "cell_type": "markdown",
      "metadata": {
        "id": "UyzWy5bMafL4"
      },
      "source": [
        "Exercício de texte:\n",
        "\n",
        "\\begin{bmatrix}\n",
        "1&1&1&1\\\\\n",
        "4&4&2&2\\\\\n",
        "2&1&-1&0\n",
        "\\end{bmatrix}"
      ]
    },
    {
      "cell_type": "markdown",
      "metadata": {
        "id": "m1u7WhDBSxFg"
      },
      "source": [
        "<HR width=100% color=\"Turquoise\t\" align=left noshade>"
      ]
    },
    {
      "cell_type": "markdown",
      "metadata": {
        "id": "iNEaDHCmSh2P"
      },
      "source": [
        "# Método de eliminação de Gauss jordan\n",
        "\n",
        "> $\\color{gray}{\\text{método do pivotamento parcial}}$\n",
        "\n",
        "Base: [Aqui](https://www.ufrgs.br/reamat/CalculoNumerico/livro-sci/sdsl-eliminacao_gaussiana.html):"
      ]
    },
    {
      "cell_type": "markdown",
      "metadata": {
        "id": "HbrRZFO6TllS"
      },
      "source": [
        "Exercício de texte:\n",
        "\n",
        "\\begin{bmatrix}\n",
        "2&3&1&-1&6.9\\\\\n",
        "-1&1&-4&1&-6.6\\\\\n",
        "1&1&1&1&10.2\\\\\n",
        "4&-5&1&-2&-12.3\n",
        "\\end{bmatrix}"
      ]
    },
    {
      "cell_type": "code",
      "metadata": {
        "id": "DeILhIq-O_TK"
      },
      "source": [
        "m = [[2, 3, 1, -1, 6.9],\n",
        "     [-1, 1, -4, 1, -6.6],\n",
        "     [1, 1, 1, 1, 10.2],\n",
        "     [4, -5, 1, -2, -12.3]]"
      ],
      "execution_count": 98,
      "outputs": []
    },
    {
      "cell_type": "code",
      "metadata": {
        "id": "KgJgLGT6SfR6"
      },
      "source": [
        "def pivotamento(hea):\n",
        "    import numpy as np\n",
        "    \n",
        "    arr = np.array(hea, copy=True)\n",
        "    \n",
        "    def max_diagonal(arr):\n",
        "        \n",
        "        def permutation(arr, shift, end):\n",
        "            arr = np.insert(arr, end, arr[shift], axis=0)\n",
        "            finale = shift + 1 if shift > end else shift \n",
        "            arr = np.delete(arr, finale, axis=0)\n",
        "            return arr \n",
        "\n",
        "        for i in range(len(arr)):\n",
        "            arr = permutation(\n",
        "                arr,\n",
        "                np.where(arr[i:, i] == max(arr[i:, i], key=abs))[0][0] + i,\n",
        "                i\n",
        "            )\n",
        "        return arr\n",
        "\n",
        "    arr = max_diagonal(arr)\n",
        "    \n",
        "    return arr"
      ],
      "execution_count": 99,
      "outputs": []
    },
    {
      "cell_type": "code",
      "metadata": {
        "id": "5F1YSaPaacBS"
      },
      "source": [
        "def max_diagonal(arr):\n",
        "\n",
        "    import numpy as np\n",
        "\n",
        "    def permutation(arr, shift, end):\n",
        "        arr = np.insert(arr, end, arr[shift], axis=0)\n",
        "        finale = shift + 1 if shift > end else shift \n",
        "        arr = np.delete(arr, finale, axis=0)\n",
        "        return arr \n",
        "\n",
        "    for i in range(len(arr)):\n",
        "        arr = permutation(\n",
        "            arr,\n",
        "            np.where(arr[i:, i] == max(arr[i:, i], key=abs))[0][0] + i,\n",
        "            i\n",
        "        )\n",
        "    return arr"
      ],
      "execution_count": 100,
      "outputs": []
    },
    {
      "cell_type": "code",
      "metadata": {
        "colab": {
          "base_uri": "https://localhost:8080/"
        },
        "id": "BJIKZFgQTs4z",
        "outputId": "2bc1fc53-3052-4f14-da24-37ebbb5e69d1"
      },
      "source": [
        "p = pivotamento(m); print(f'\\033[34m{p}\\033['); print(f'\\033[31m{\"-=\"*20}\\033[')\n",
        "print()\n",
        "\n",
        "for cm in range(len(p[0])-2):\n",
        "    for l in range(len(p)-1-cm): # linha\n",
        "        for c in range(len(p[0])): # coluna da linha\n",
        "            if not c:\n",
        "                v1, v2 = p[cm][cm], p[l+cm+1][cm]\n",
        "                sinal = '-'\n",
        "\n",
        "            # print(f'{v2}*{p[cm][c]} {sinal} {v1}*{p[l+cm+1][c]}, L[{l+cm+1}][{cm}]')\n",
        "            \n",
        "            ms = v2*p[cm][c] - v1*p[l+cm+1][c]\n",
        "\n",
        "            p[l+cm+1][c] = ms\n",
        "\n",
        "            # print(p, '\\n')\n",
        "        # print(f'\\033[31m{\"-=\"*20}\\033[')\n",
        "    # print(f'\\033[32m{\"*\"*20}\\033[')\n",
        "\n",
        "    p = max_diagonal(p)\n",
        "print(p, '\\n')"
      ],
      "execution_count": 175,
      "outputs": [
        {
          "output_type": "stream",
          "name": "stdout",
          "text": [
            "\u001b[34m[[  4.   -5.    1.   -2.  -12.3]\n",
            " [  2.    3.    1.   -1.    6.9]\n",
            " [ -1.    1.   -4.    1.   -6.6]\n",
            " [  1.    1.    1.    1.   10.2]]\u001b[\n",
            "\u001b[31m-=-=-=-=-=-=-=-=-=-=-=-=-=-=-=-=-=-=-=-=\u001b[\n",
            "\n",
            "[[ 4.000000e+00 -5.000000e+00  1.000000e+00 -2.000000e+00 -1.230000e+01]\n",
            " [ 0.000000e+00 -2.200000e+01 -2.000000e+00  0.000000e+00 -5.220000e+01]\n",
            " [ 0.000000e+00  0.000000e+00  3.280000e+02 -4.400000e+01  7.992000e+02]\n",
            " [-0.000000e+00 -0.000000e+00  0.000000e+00  4.540800e+04  1.907136e+05]] \n",
            "\n"
          ]
        }
      ]
    }
  ]
}