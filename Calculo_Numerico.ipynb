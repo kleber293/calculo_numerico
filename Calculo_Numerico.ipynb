{
  "nbformat": 4,
  "nbformat_minor": 0,
  "metadata": {
    "colab": {
      "name": "Calculo_Numerico.ipynb",
      "provenance": [],
      "collapsed_sections": [
        "0okkjS6imtMS"
      ],
      "authorship_tag": "ABX9TyMP/pTxVN16Hq1ZzzegYHul",
      "include_colab_link": true
    },
    "kernelspec": {
      "name": "python3",
      "display_name": "Python 3"
    },
    "language_info": {
      "name": "python"
    }
  },
  "cells": [
    {
      "cell_type": "markdown",
      "metadata": {
        "id": "view-in-github",
        "colab_type": "text"
      },
      "source": [
        "<a href=\"https://colab.research.google.com/github/kleber293/calculo_numerico/blob/main/Calculo_Numerico.ipynb\" target=\"_parent\"><img src=\"https://colab.research.google.com/assets/colab-badge.svg\" alt=\"Open In Colab\"/></a>"
      ]
    },
    {
      "cell_type": "markdown",
      "metadata": {
        "id": "0okkjS6imtMS"
      },
      "source": [
        "# <HR width=100% color=\"Turquoise\t\" align=left noshade>"
      ]
    },
    {
      "cell_type": "code",
      "metadata": {
        "id": "DJhQJGUxtjyL",
        "cellView": "form"
      },
      "source": [
        "#@markdown # $\\color{Turquoise}{\\text{Binário ⇆ Decimal}}$\n",
        "#@markdown > $\\color{gray}{\\text{convert_bxd}}$\n",
        "def convert_bxd(num, bin=False, dec=False):\n",
        "    \n",
        "    def saida(v1, b1, v2, b2):\n",
        "        print(f'(\\033[1;32m{v1}\\033[){b1}', end='')\n",
        "        print(' \\u27F6 ', end='')\n",
        "        print(f'(\\033[1;32m{v2}\\033[){b2}')\n",
        "\n",
        "    def dec_inteiro(val):\n",
        "        bn, bnr, val = list(), str(), int(val)\n",
        "        bn.append(val % 2)\n",
        "        while True:\n",
        "            d = val // 2\n",
        "            if d == 1 or d == 0:\n",
        "                bn.append(d)\n",
        "                break\n",
        "            bn.append(d % 2)\n",
        "            val = d\n",
        "        for x in reversed(bn):\n",
        "            bnr += str(x)\n",
        "        return bnr\n",
        "\n",
        "    conf = num\n",
        "    \n",
        "    if bin:\n",
        "        con = True\n",
        "        for v in str(num):\n",
        "            con *= v in '10.'\n",
        "        if bool(con):\n",
        "            if isinstance(num, float):\n",
        "                b, sm = str(num).find('.')-1, 0\n",
        "                for i in str(num).replace('.', ''):\n",
        "                    sm += int(i)*2**(b)\n",
        "                    b -= 1\n",
        "                saida(conf, '\\u2082', sm, '\\u2081\\u2080')\n",
        "            else:\n",
        "                c, s = 0, 0\n",
        "                for n in str(num):\n",
        "                    c += 1\n",
        "                    s += int(n)*2**(len(str(num))-c)\n",
        "                saida(conf, '\\u2082', s, '\\u2081\\u2080')\n",
        "        else: \n",
        "            print('\\033[1;31mO valor digitado não é um número Binário!\\033[m')\n",
        "\n",
        "    elif dec:\n",
        "        if isinstance(num, float):\n",
        "            bm, st = list(), str()\n",
        "            cm = 0 if int(num) == 0 else dec_inteiro(num)\n",
        "            while True:\n",
        "                if num > 1:\n",
        "                    num -= int(num)\n",
        "                num *= 2\n",
        "                bm.append(num)\n",
        "                if num % 1 == 0:\n",
        "                    break\n",
        "            for x in bm:\n",
        "                st += f'{str(int(x))}'\n",
        "            saida(conf, '\\u2081\\u2080', f'{cm}.{st}', '\\u2082')\n",
        "        else:\n",
        "            saida(conf,'\\u2081\\u2080', dec_inteiro(num), '\\u2082')"
      ],
      "execution_count": null,
      "outputs": []
    },
    {
      "cell_type": "code",
      "metadata": {
        "id": "CKA5oT9it4a9",
        "colab": {
          "base_uri": "https://localhost:8080/"
        },
        "cellView": "form",
        "outputId": "a3209da9-0b08-4bd1-fdff-775316b71657"
      },
      "source": [
        "#@markdown ### Convertendo um número **Binário** em **Decimal**\n",
        "Numero_Binario =  10111#@param\n",
        "convert_bxd(Numero_Binario, bin=True)"
      ],
      "execution_count": null,
      "outputs": [
        {
          "output_type": "stream",
          "name": "stdout",
          "text": [
            "(\u001b[1;32m10111\u001b[)₂ ⟶ (\u001b[1;32m23\u001b[)₁₀\n"
          ]
        }
      ]
    },
    {
      "cell_type": "code",
      "metadata": {
        "id": "yN69942r1Zds",
        "colab": {
          "base_uri": "https://localhost:8080/"
        },
        "cellView": "form",
        "outputId": "0fe97a9e-67de-4c84-ce28-b02eab27c875"
      },
      "source": [
        "#@markdown ### Convertendo um número **Decimal** em **Binário**\n",
        "Numero_Decimal =  13.25#@param\n",
        "convert_bxd(Numero_Decimal, dec=True)"
      ],
      "execution_count": null,
      "outputs": [
        {
          "output_type": "stream",
          "name": "stdout",
          "text": [
            "(\u001b[1;32m13.25\u001b[)₁₀ ⟶ (\u001b[1;32m1101.01\u001b[)₂\n"
          ]
        }
      ]
    },
    {
      "cell_type": "markdown",
      "metadata": {
        "id": "u2ACRTABnNin"
      },
      "source": [
        "# <HR width=100% color=\"Turquoise\t\" align=left noshade>"
      ]
    },
    {
      "cell_type": "code",
      "metadata": {
        "id": "KgJgLGT6SfR6",
        "cellView": "form"
      },
      "source": [
        "#@markdown # $\\color{Turquoise}{\\text{Método de Gauss}}$\n",
        "#@markdown > $\\color{gray}{\\text{eliminacao_gauss}}$\n",
        "\n",
        "def eliminacao_gauss(hea):\n",
        "    import numpy as np\n",
        "    \n",
        "    arr = np.array(hea, dtype=np.float64, copy=True)\n",
        "    \n",
        "    def max_diagonal(arr):\n",
        "        \n",
        "        def permutation(arr, shift, end):\n",
        "            arr = np.insert(arr, end, arr[shift], axis=0)\n",
        "            finale = shift + 1 if shift > end else shift \n",
        "            arr = np.delete(arr, finale, axis=0)\n",
        "            return arr \n",
        "\n",
        "        for i in range(len(arr)):\n",
        "            arr = permutation(\n",
        "                arr,\n",
        "                np.where(arr[i:, i] == max(arr[i:, i], key=abs))[0][0] + i,\n",
        "                i\n",
        "            )\n",
        "        return arr\n",
        "\n",
        "    arr = max_diagonal(arr)\n",
        "\n",
        "    for cm in range(len(arr[0])-2): # coluna da linha da matriz\n",
        "        for l, k in zip(range(cm, len(arr)-1), range(len(arr))): # linha\n",
        "            for c in range(len(arr[0])): # coluna da linha\n",
        "                if not c:\n",
        "                    v1, v2 = arr[cm][cm], arr[cm+k+1][cm]\n",
        "                arr[cm+k+1][c] = v1*arr[cm+k+1][c]-v2*arr[cm][c]\n",
        "        arr = max_diagonal(arr)\n",
        "\n",
        "    return arr        "
      ],
      "execution_count": null,
      "outputs": []
    },
    {
      "cell_type": "code",
      "metadata": {
        "colab": {
          "base_uri": "https://localhost:8080/"
        },
        "id": "8ZSab6ZEJfKR",
        "cellView": "form",
        "outputId": "c445ce2d-f896-4fb3-d106-7d3129ec45db"
      },
      "source": [
        "matriz_para_triangular = [[3, 2, 1, -1, 5], [0, 1, 0, 3, 6], [0, -3, -5, 7, 7], [0, 2, 4, 0, 15]] #@param\n",
        "#@markdown > $\\color{gray}{\\text{eliminacao_gauss(matriz_para_triangular)}}$\n",
        "matriz_triangulada = eliminacao_gauss(matriz_para_triangular)\n",
        "print(f'\\033[32m{matriz_triangulada}'); print()\n",
        "%timeit eliminacao_gauss(matriz_para_triangular)"
      ],
      "execution_count": null,
      "outputs": [
        {
          "output_type": "stream",
          "name": "stdout",
          "text": [
            "\u001b[32m[[ 3.0000e+00  2.0000e+00  1.0000e+00 -1.0000e+00  5.0000e+00]\n",
            " [ 0.0000e+00 -9.0000e+00 -1.5000e+01  2.1000e+01  2.1000e+01]\n",
            " [-0.0000e+00  0.0000e+00  4.5000e+01 -1.4400e+02 -2.2500e+02]\n",
            " [-0.0000e+00  0.0000e+00  0.0000e+00 -8.2620e+03 -2.7945e+04]]\n",
            "\n",
            "1000 loops, best of 5: 731 µs per loop\n"
          ]
        }
      ]
    },
    {
      "cell_type": "markdown",
      "metadata": {
        "id": "AiFmztPNJDwj"
      },
      "source": [
        "# <HR width=100% color=\"Turquoise\t\" align=left noshade>"
      ]
    },
    {
      "cell_type": "code",
      "metadata": {
        "id": "4-hMYMpcl4S6",
        "cellView": "form"
      },
      "source": [
        "#@markdown # $\\color{Turquoise}{\\text{Mostrando matriz resultao do Método de Gauss}}$\n",
        "#@markdown > $\\color{gray}{\\text{resultado}}$\n",
        "\n",
        "def resultado(hea):\n",
        "    '''Entre apenas com uma matriz triangular inferior'''\n",
        "    import numpy as np\n",
        "    \n",
        "    arr = np.array(hea, dtype=np.float64, copy=True); mt = []\n",
        "    for x in reversed(range(len(arr))):\n",
        "        n = 0; s = []\n",
        "        for i, k in zip(range(x+1, len(arr)), range(1, len(arr))):\n",
        "            s.append(arr[x][i])\n",
        "            n += s[k-1]*mt[k-1]\n",
        "\n",
        "        mt.insert(0, (arr[x][len(arr)]-n)/arr.diagonal()[x])\n",
        "\n",
        "    return mt"
      ],
      "execution_count": null,
      "outputs": []
    },
    {
      "cell_type": "code",
      "metadata": {
        "colab": {
          "base_uri": "https://localhost:8080/"
        },
        "id": "zeiJmNBSKGNB",
        "cellView": "form",
        "outputId": "1cd28ce1-0e2b-41d3-c21c-d2f66c607771"
      },
      "source": [
        "matriz_resultados =  matriz_triangulada#@param\n",
        "#@markdown > $\\color{gray}{\\text{resultado(matriz_resultados)}}$\n",
        "print(f'\\033[32mM\\u1D40 = {resultado(matriz_resultados)}'); print()\n",
        "%timeit resultado(matriz_resultados)"
      ],
      "execution_count": null,
      "outputs": [
        {
          "output_type": "stream",
          "name": "stdout",
          "text": [
            "\u001b[32mMᵀ = [3.6176470588235285, -4.14705882352941, 5.823529411764706, 3.3823529411764706]\n",
            "\n",
            "10000 loops, best of 5: 17.5 µs per loop\n"
          ]
        }
      ]
    },
    {
      "cell_type": "markdown",
      "metadata": {
        "id": "m1u7WhDBSxFg"
      },
      "source": [
        "# <HR width=100% color=\"Turquoise\t\" align=left noshade>"
      ]
    },
    {
      "cell_type": "code",
      "metadata": {
        "id": "muuk30as4uZ7",
        "cellView": "form"
      },
      "source": [
        "#@markdown # $\\color{Turquoise}{\\text{Método de Gauss Jordan}}$\n",
        "#@markdown > $\\color{gray}{\\text{gauss_jordan}}$\n",
        "\n",
        "def gauss_jordan(hea):\n",
        "\n",
        "    import numpy as np\n",
        "\n",
        "    def simple(arr):\n",
        "        diag = arr.diagonal()\n",
        "        for i, x in zip(range(len(diag)), diag):\n",
        "            arr[i] = arr[i]/x\n",
        "        return arr\n",
        "\n",
        "    arr = np.array(hea, dtype=np.float64,  copy=True)\n",
        "\n",
        "    for _ in range(2): \n",
        "        bl = []\n",
        "        for i, k in zip(arr, range(len(arr))):\n",
        "            if not k-1 < 0:\n",
        "                bl.append([i[x] for x in range(k)])\n",
        "        bl = np.hstack(bl)\n",
        "\n",
        "        if len(np.where(bl > 0)[0]) != 0:\n",
        "            arr = eliminacao_gauss(arr)\n",
        "        else:\n",
        "            break\n",
        "\n",
        "    for cm in reversed(range(1, len(arr[0])-1)): # coluna da linha da matriz\n",
        "        for l, k in zip(reversed(range(cm)), range(1, len(arr))): # linha\n",
        "            for c in range(len(arr[0])): # coluna da linha\n",
        "                if not c:\n",
        "                    v1, v2 = arr[cm][cm], arr[cm-k][cm]\n",
        "\n",
        "                arr[cm-k][c] = v1*arr[cm-k][c]-v2*arr[cm][c]\n",
        "            simple(arr)\n",
        "    return arr"
      ],
      "execution_count": null,
      "outputs": []
    },
    {
      "cell_type": "code",
      "metadata": {
        "colab": {
          "base_uri": "https://localhost:8080/"
        },
        "id": "oD5DwgUj4zrq",
        "cellView": "form",
        "outputId": "bfcb9792-0a72-49e3-986e-0c9469999aea"
      },
      "source": [
        "matriz_para_triangular =  [[3, 2, 1, -1, 5], [0, 1, 0, 3, 6], [0, -3, -5, 7, 7], [0, 2, 4, 0, 15]]#@param\n",
        "#@markdown > $\\color{gray}{\\text{gauss_jordan(matriz_para_triangular)}}$\n",
        "arr = gauss_jordan(matriz_para_triangular)\n",
        "print(f'\\033[32m{arr}'); print()\n",
        "%timeit gauss_jordan(matriz_para_triangular)"
      ],
      "execution_count": null,
      "outputs": [
        {
          "output_type": "stream",
          "name": "stdout",
          "text": [
            "\u001b[32m[[ 1.          0.          0.          0.          3.61764706]\n",
            " [ 0.          1.          0.          0.         -4.14705882]\n",
            " [-0.         -0.          1.         -0.          5.82352941]\n",
            " [ 0.         -0.         -0.          1.          3.38235294]]\n",
            "\n",
            "1000 loops, best of 5: 949 µs per loop\n"
          ]
        }
      ]
    },
    {
      "cell_type": "markdown",
      "metadata": {
        "id": "7jr4NM4XqDGO"
      },
      "source": [
        "# <HR width=100% color=\"Turquoise\t\" align=left noshade>"
      ]
    },
    {
      "cell_type": "code",
      "metadata": {
        "cellView": "form",
        "id": "yaxfm3_s9Jw_"
      },
      "source": [
        "#@markdown # $\\color{Turquoise}{\\text{Método de Jacobi}}$\n",
        "#@markdown > $\\color{gray}{\\text{m_jacobi}}$\n",
        "\n",
        "def m_jacobi(hea):\n",
        "\n",
        "    import numpy as np\n",
        "\n",
        "    def v(arr, condi, line=0):\n",
        "        n, rs = [arr[line][-1]], 0\n",
        "        n.append(\n",
        "            [x*i for x, i, c in zip(arr[line], condi, range(len(arr[0])))\n",
        "            if c != line]\n",
        "        )\n",
        "        for k in n[1]:\n",
        "            rs += k\n",
        "        x = (n[0]-rs)/arr[line][line]\n",
        "        return x\n",
        "\n",
        "    arr = np.array(hea, dtype=np.float64, copy=True)\n",
        "\n",
        "    "
      ],
      "execution_count": 145,
      "outputs": []
    },
    {
      "cell_type": "code",
      "metadata": {
        "id": "fdXv8rv1-hh-"
      },
      "source": [
        "import numpy as np"
      ],
      "execution_count": 4,
      "outputs": []
    },
    {
      "cell_type": "code",
      "metadata": {
        "colab": {
          "base_uri": "https://localhost:8080/"
        },
        "id": "ICUBvDaN-wtu",
        "outputId": "21ff54d6-e3a7-4cd5-cca3-762d12a27b8d"
      },
      "source": [
        "arr = np.array([[10, 2, 1, 7], [1, 5, 1, -8], [2, 3, 10, 6]], dtype=np.float64)\n",
        "ci = [1, 2, 3]\n",
        "arr"
      ],
      "execution_count": 36,
      "outputs": [
        {
          "output_type": "execute_result",
          "data": {
            "text/plain": [
              "array([[10.,  2.,  1.,  7.],\n",
              "       [ 1.,  5.,  1., -8.],\n",
              "       [ 2.,  3., 10.,  6.]])"
            ]
          },
          "metadata": {},
          "execution_count": 36
        }
      ]
    },
    {
      "cell_type": "code",
      "metadata": {
        "colab": {
          "base_uri": "https://localhost:8080/"
        },
        "id": "CyLpGfpxEEOD",
        "outputId": "2712d18a-0924-4a0d-a0c6-a9522c0d01c0"
      },
      "source": [
        "n = [arr[0][-1]]\n",
        "n.append([x*i for x, i in zip(range(3), ci)])\n",
        "n"
      ],
      "execution_count": 34,
      "outputs": [
        {
          "output_type": "execute_result",
          "data": {
            "text/plain": [
              "[7.0, [0, 0, 0]]"
            ]
          },
          "metadata": {},
          "execution_count": 34
        }
      ]
    },
    {
      "cell_type": "code",
      "metadata": {
        "colab": {
          "base_uri": "https://localhost:8080/"
        },
        "id": "Jveh7M4_GdyO",
        "outputId": "a4296fd0-e1d8-433c-d2c1-379a62b042bf"
      },
      "source": [
        "[f'{x}*{i}' for x, i in zip(-1*arr[0], ci)]"
      ],
      "execution_count": 49,
      "outputs": [
        {
          "output_type": "execute_result",
          "data": {
            "text/plain": [
              "['-10.0*1', '-2.0*2', '-1.0*3']"
            ]
          },
          "metadata": {},
          "execution_count": 49
        }
      ]
    },
    {
      "cell_type": "code",
      "metadata": {
        "id": "-hurXSVp_JD_"
      },
      "source": [
        "def v(arr, condi, line=0):\n",
        "    n, rs = [arr[line][-1]], 0\n",
        "    n.append(\n",
        "        [x*i for x, i, c in zip(arr[line], condi, range(len(arr[0])))\n",
        "        if c != line]\n",
        "    )\n",
        "    for k in n[1]:\n",
        "        rs += k\n",
        "    x = (n[0]-rs)/arr[line][line]\n",
        "    return x"
      ],
      "execution_count": 139,
      "outputs": []
    },
    {
      "cell_type": "code",
      "metadata": {
        "colab": {
          "base_uri": "https://localhost:8080/"
        },
        "id": "XrTmB01aGCbd",
        "outputId": "6c799fbd-b9a4-47ff-940e-94b7693ce0be"
      },
      "source": [
        "nv = v(arr, ci, line=0); nv"
      ],
      "execution_count": 140,
      "outputs": [
        {
          "output_type": "execute_result",
          "data": {
            "text/plain": [
              "0.0"
            ]
          },
          "metadata": {},
          "execution_count": 140
        }
      ]
    },
    {
      "cell_type": "code",
      "metadata": {
        "colab": {
          "base_uri": "https://localhost:8080/"
        },
        "id": "ahCvIa1GkXhe",
        "outputId": "512ca408-352d-4fbb-95fb-e06ff40af21f"
      },
      "source": [
        "nv = v(arr, ci, line=1); nv"
      ],
      "execution_count": 141,
      "outputs": [
        {
          "output_type": "execute_result",
          "data": {
            "text/plain": [
              "-2.4"
            ]
          },
          "metadata": {},
          "execution_count": 141
        }
      ]
    },
    {
      "cell_type": "code",
      "metadata": {
        "colab": {
          "base_uri": "https://localhost:8080/"
        },
        "id": "bX3e2g75kcu2",
        "outputId": "4c5263d5-6c10-4bc7-93de-1728ad484498"
      },
      "source": [
        "nv = v(arr, ci, line=2); nv"
      ],
      "execution_count": 142,
      "outputs": [
        {
          "output_type": "execute_result",
          "data": {
            "text/plain": [
              "-0.2"
            ]
          },
          "metadata": {},
          "execution_count": 142
        }
      ]
    },
    {
      "cell_type": "code",
      "metadata": {
        "colab": {
          "base_uri": "https://localhost:8080/"
        },
        "id": "jdbdgUf5eZd_",
        "outputId": "a2054a9b-1c02-4b55-a79e-d771e162e548"
      },
      "source": [
        "for i in nv[1]:\n",
        "    print(i)"
      ],
      "execution_count": 128,
      "outputs": [
        {
          "output_type": "stream",
          "name": "stdout",
          "text": [
            "2.0\n",
            "6.0\n"
          ]
        }
      ]
    },
    {
      "cell_type": "code",
      "metadata": {
        "colab": {
          "base_uri": "https://localhost:8080/"
        },
        "id": "fUhkNfvzZo7d",
        "outputId": "4115c4a8-0b6d-481a-e0b9-38c25e2fd0a9"
      },
      "source": [
        "for i, k, l in zip(range(1, 4), range(i), range(2, 5)):\n",
        "    print(i, k, l)"
      ],
      "execution_count": 98,
      "outputs": [
        {
          "output_type": "stream",
          "name": "stdout",
          "text": [
            "1 0 2\n",
            "2 1 3\n",
            "3 2 4\n"
          ]
        }
      ]
    },
    {
      "cell_type": "code",
      "metadata": {
        "colab": {
          "base_uri": "https://localhost:8080/",
          "height": 164
        },
        "id": "W6kOSR29Q3B3",
        "outputId": "d75a7a70-8368-4a9f-c5a7-ec9e65d1f0ec"
      },
      "source": [
        "nv.remove(list(nv[1])[0])"
      ],
      "execution_count": 92,
      "outputs": [
        {
          "output_type": "error",
          "ename": "ValueError",
          "evalue": "ignored",
          "traceback": [
            "\u001b[0;31m---------------------------------------------------------------------------\u001b[0m",
            "\u001b[0;31mValueError\u001b[0m                                Traceback (most recent call last)",
            "\u001b[0;32m<ipython-input-92-134ce2e967d6>\u001b[0m in \u001b[0;36m<module>\u001b[0;34m()\u001b[0m\n\u001b[0;32m----> 1\u001b[0;31m \u001b[0mnv\u001b[0m\u001b[0;34m.\u001b[0m\u001b[0mremove\u001b[0m\u001b[0;34m(\u001b[0m\u001b[0mlist\u001b[0m\u001b[0;34m(\u001b[0m\u001b[0mnv\u001b[0m\u001b[0;34m[\u001b[0m\u001b[0;36m1\u001b[0m\u001b[0;34m]\u001b[0m\u001b[0;34m)\u001b[0m\u001b[0;34m[\u001b[0m\u001b[0;36m0\u001b[0m\u001b[0;34m]\u001b[0m\u001b[0;34m)\u001b[0m\u001b[0;34m\u001b[0m\u001b[0;34m\u001b[0m\u001b[0m\n\u001b[0m",
            "\u001b[0;31mValueError\u001b[0m: list.remove(x): x not in list"
          ]
        }
      ]
    },
    {
      "cell_type": "markdown",
      "metadata": {
        "id": "Lo7Qes7b9Ofa"
      },
      "source": [
        "# <HR width=100% color=\"Turquoise\t\" align=left noshade>"
      ]
    },
    {
      "cell_type": "code",
      "metadata": {
        "colab": {
          "base_uri": "https://localhost:8080/",
          "height": 128
        },
        "id": "-BSy6gbmqMQG",
        "cellView": "form",
        "outputId": "ca367325-7ca0-4ed7-9a9e-3bc37df219dc"
      },
      "source": [
        "#@markdown # $\\color{Turquoise}{\\text{Contatos}}$\n",
        "%%html\n",
        "\n",
        "<table style=\"white-space: nowrap; width: 0px;\" border=\"0\" cellspacing=\"0\">\n",
        "  <tbody>\n",
        "    <tr>\n",
        "      <td style=\"vertical-align: 0px;\">\n",
        "        <img style=\"border-right: 3px solid #30D5C8; padding-right: 13px; height: 90px;\" src=\"https://i.pinimg.com/280x280_RS/79/42/c4/7942c414d01e7c8f8c179f905a5a86eb.jpg\"/></td>\n",
        "        <td style=\"white-space: nowrap; font-family: Helvetica, Arial; padding-left: 11px; font-size: 12px; vertical-align: middle; width: 560px;\">\n",
        "        <h1 style=\"white-space: nowrap; font-size: 14px; color: #30D5C8; line-height: 1; margin: 0 0 8px 0;\">\n",
        "          <b>CLEBSON DOS SANTOS MARQUES</b>\n",
        "        </h1>\n",
        "\n",
        "        <span style=\"color: #808080; data-contrast: none;\">\n",
        "          Estudante do Curso de Licenciatura em F&iacute;sica pela Universidade Estadual Vale do Acara&uacute;<br />\n",
        "        </span>\n",
        "        <span style=\"white-space: nowrap; font-size: 12px; color: #30D5C8; line-height: 1px; margin: 0 0 8px 0;\" data-contrast=\"none\">\n",
        "          <b>Tel.:</b>\n",
        "        </span>\n",
        "        <span style=\"color: #808080; data-contrast: none;\">(88) 9 9412 2413\n",
        "          <br /><a style=\"color: #808080; data-contrast: none; text-decoration: none;\" href=\"mailto:klebersantosy@gmail.com\">klebersantosy@gmail.com</a><br />\n",
        "          <a style=\"color: #808080; data-contrast: none; text-decoration: none;\" href=\"http://lattes.cnpq.br/9411163467458250\">http://lattes.cnpq.br/9411163467458250</a>\n",
        "        </span>\n",
        "\n",
        "        <div style=\"white-space: nowrap; margin-top: 8px;\">\n",
        "          <a style=\"white-space: nowrap; display: inline-block;\" href=\"https://api.whatsapp.com/send?phone=558894122413\">\n",
        "            <img style=\"white-space: nowrap; width: 20px; height: 20px;\" src=\"https://icon-library.com/images/icon-whatsapp-png/icon-whatsapp-png-2.jpg\" />\n",
        "          </a> <a style=\"white-space: nowrap; display: inline-block;\" href=\"https://t.me/clebson_marques\">\n",
        "            <img style=\"white-space: nowrap; width: 20px; height: 20px;\" src=\"https://www.freepnglogos.com/uploads/telegram-png/telegram-communications-icons-24.png\" />\n",
        "          </a> <a style=\"white-space: nowrap; display: inline-block;\" href=\"https://www.passeidireto.com/perfil/371127-klebson-marques/\">\n",
        "            <img style=\"white-space: nowrap; width: 20px; height: 20px;\" src=\"https://img.utdstc.com/icon/f63/09d/f6309d71c42e9f12c4aaf4800260f4c2ae9637ab4b148c381e8378e80ccce0e6:200\" />\n",
        "          </a> <a style=\"white-space: nowrap; display: inline-block;\" href=\"https://github.com/kleber293\">\n",
        "            <img style=\"white-space: nowrap; width: 26px; height: 20px; object-fit: cover;\" src=\"http://pngimg.com/uploads/github/github_PNG69.png\" /></a>\n",
        "        </div>\n",
        "      </td>\n",
        "    </tr>\n",
        "  </tbody>\n",
        "</table>"
      ],
      "execution_count": null,
      "outputs": [
        {
          "output_type": "display_data",
          "data": {
            "text/html": [
              "\n",
              "<table style=\"white-space: nowrap; width: 0px;\" border=\"0\" cellspacing=\"0\">\n",
              "  <tbody>\n",
              "    <tr>\n",
              "      <td style=\"vertical-align: 0px;\">\n",
              "        <img style=\"border-right: 3px solid #30D5C8; padding-right: 13px; height: 90px;\" src=\"https://i.pinimg.com/280x280_RS/79/42/c4/7942c414d01e7c8f8c179f905a5a86eb.jpg\"/></td>\n",
              "        <td style=\"white-space: nowrap; font-family: Helvetica, Arial; padding-left: 11px; font-size: 12px; vertical-align: middle; width: 560px;\">\n",
              "        <h1 style=\"white-space: nowrap; font-size: 14px; color: #30D5C8; line-height: 1; margin: 0 0 8px 0;\">\n",
              "          <b>CLEBSON DOS SANTOS MARQUES</b>\n",
              "        </h1>\n",
              "\n",
              "        <span style=\"color: #808080; data-contrast: none;\">\n",
              "          Estudante do Curso de Licenciatura em F&iacute;sica pela Universidade Estadual Vale do Acara&uacute;<br />\n",
              "        </span>\n",
              "        <span style=\"white-space: nowrap; font-size: 12px; color: #30D5C8; line-height: 1px; margin: 0 0 8px 0;\" data-contrast=\"none\">\n",
              "          <b>Tel.:</b>\n",
              "        </span>\n",
              "        <span style=\"color: #808080; data-contrast: none;\">(88) 9 9412 2413\n",
              "          <br /><a style=\"color: #808080; data-contrast: none; text-decoration: none;\" href=\"mailto:klebersantosy@gmail.com\">klebersantosy@gmail.com</a><br />\n",
              "          <a style=\"color: #808080; data-contrast: none; text-decoration: none;\" href=\"http://lattes.cnpq.br/9411163467458250\">http://lattes.cnpq.br/9411163467458250</a>\n",
              "        </span>\n",
              "\n",
              "        <div style=\"white-space: nowrap; margin-top: 8px;\">\n",
              "          <a style=\"white-space: nowrap; display: inline-block;\" href=\"https://api.whatsapp.com/send?phone=558894122413\">\n",
              "            <img style=\"white-space: nowrap; width: 20px; height: 20px;\" src=\"https://icon-library.com/images/icon-whatsapp-png/icon-whatsapp-png-2.jpg\" />\n",
              "          </a> <a style=\"white-space: nowrap; display: inline-block;\" href=\"https://t.me/clebson_marques\">\n",
              "            <img style=\"white-space: nowrap; width: 20px; height: 20px;\" src=\"https://www.freepnglogos.com/uploads/telegram-png/telegram-communications-icons-24.png\" />\n",
              "          </a> <a style=\"white-space: nowrap; display: inline-block;\" href=\"https://www.passeidireto.com/perfil/371127-klebson-marques/\">\n",
              "            <img style=\"white-space: nowrap; width: 20px; height: 20px;\" src=\"https://img.utdstc.com/icon/f63/09d/f6309d71c42e9f12c4aaf4800260f4c2ae9637ab4b148c381e8378e80ccce0e6:200\" />\n",
              "          </a> <a style=\"white-space: nowrap; display: inline-block;\" href=\"https://github.com/kleber293\">\n",
              "            <img style=\"white-space: nowrap; width: 26px; height: 20px; object-fit: cover;\" src=\"http://pngimg.com/uploads/github/github_PNG69.png\" /></a>\n",
              "        </div>\n",
              "      </td>\n",
              "    </tr>\n",
              "  </tbody>\n",
              "</table>"
            ],
            "text/plain": [
              "<IPython.core.display.HTML object>"
            ]
          },
          "metadata": {}
        }
      ]
    }
  ]
}