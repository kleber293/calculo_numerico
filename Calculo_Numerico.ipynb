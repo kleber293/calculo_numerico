{
  "nbformat": 4,
  "nbformat_minor": 0,
  "metadata": {
    "colab": {
      "name": "Calculo_Numerico.ipynb",
      "provenance": [],
      "collapsed_sections": [],
      "authorship_tag": "ABX9TyO9MaXqVquLLaaKGeCWCUhC",
      "include_colab_link": true
    },
    "kernelspec": {
      "name": "python3",
      "display_name": "Python 3"
    },
    "language_info": {
      "name": "python"
    }
  },
  "cells": [
    {
      "cell_type": "markdown",
      "metadata": {
        "id": "view-in-github",
        "colab_type": "text"
      },
      "source": [
        "<a href=\"https://colab.research.google.com/github/kleber293/calculo_numerico/blob/main/Calculo_Numerico.ipynb\" target=\"_parent\"><img src=\"https://colab.research.google.com/assets/colab-badge.svg\" alt=\"Open In Colab\"/></a>"
      ]
    },
    {
      "cell_type": "markdown",
      "metadata": {
        "id": "0okkjS6imtMS"
      },
      "source": [
        "<HR width=100% color=\"Turquoise\t\" align=left noshade>"
      ]
    },
    {
      "cell_type": "code",
      "metadata": {
        "id": "DJhQJGUxtjyL",
        "cellView": "form"
      },
      "source": [
        "#@markdown # $\\color{Turquoise}{\\text{Binário ⇆ Decimal}}$\n",
        "#@markdown > $\\color{gray}{\\text{convert_bxd}}$\n",
        "def convert_bxd(num, bin=False, dec=False):\n",
        "    \n",
        "    def saida(v1, b1, v2, b2):\n",
        "        print(f'(\\033[1;32m{v1}\\033[){b1}', end='')\n",
        "        print(' \\u27F6 ', end='')\n",
        "        print(f'(\\033[1;32m{v2}\\033[){b2}')\n",
        "\n",
        "    def dec_inteiro(val):\n",
        "        bn, bnr, val = list(), str(), int(val)\n",
        "        bn.append(val % 2)\n",
        "        while True:\n",
        "            d = val // 2\n",
        "            if d == 1 or d == 0:\n",
        "                bn.append(d)\n",
        "                break\n",
        "            bn.append(d % 2)\n",
        "            val = d\n",
        "        for x in reversed(bn):\n",
        "            bnr += str(x)\n",
        "        return bnr\n",
        "\n",
        "    conf = num\n",
        "    \n",
        "    if bin:\n",
        "        con = True\n",
        "        for v in str(num):\n",
        "            con *= v in '10.'\n",
        "        if bool(con):\n",
        "            if isinstance(num, float):\n",
        "                b, sm = str(num).find('.')-1, 0\n",
        "                for i in str(num).replace('.', ''):\n",
        "                    sm += int(i)*2**(b)\n",
        "                    b -= 1\n",
        "                saida(conf, '\\u2082', sm, '\\u2081\\u2080')\n",
        "            else:\n",
        "                c, s = 0, 0\n",
        "                for n in str(num):\n",
        "                    c += 1\n",
        "                    s += int(n)*2**(len(str(num))-c)\n",
        "                saida(conf, '\\u2082', s, '\\u2081\\u2080')\n",
        "        else: \n",
        "            print('\\033[1;31mO valor digitado não é um número Binário!\\033[m')\n",
        "\n",
        "    elif dec:\n",
        "        if isinstance(num, float):\n",
        "            bm, st = list(), str()\n",
        "            cm = 0 if int(num) == 0 else dec_inteiro(num)\n",
        "            while True:\n",
        "                if num > 1:\n",
        "                    num -= int(num)\n",
        "                num *= 2\n",
        "                bm.append(num)\n",
        "                if num % 1 == 0:\n",
        "                    break\n",
        "            for x in bm:\n",
        "                st += f'{str(int(x))}'\n",
        "            saida(conf, '\\u2081\\u2080', f'{cm}.{st}', '\\u2082')\n",
        "        else:\n",
        "            saida(conf,'\\u2081\\u2080', dec_inteiro(num), '\\u2082')"
      ],
      "execution_count": 15,
      "outputs": []
    },
    {
      "cell_type": "code",
      "metadata": {
        "id": "CKA5oT9it4a9",
        "colab": {
          "base_uri": "https://localhost:8080/"
        },
        "cellView": "form",
        "outputId": "9f526c29-6914-44fc-828a-3741b694f655"
      },
      "source": [
        "#@markdown ### Convertendo um número **Binário** em **Decimal**\n",
        "Numero_Binario =  10111#@param\n",
        "convert_bxd(Numero_Binario, bin=True)"
      ],
      "execution_count": 16,
      "outputs": [
        {
          "output_type": "stream",
          "name": "stdout",
          "text": [
            "(\u001b[1;32m10111\u001b[)₂ ⟶ (\u001b[1;32m23\u001b[)₁₀\n"
          ]
        }
      ]
    },
    {
      "cell_type": "code",
      "metadata": {
        "id": "yN69942r1Zds",
        "colab": {
          "base_uri": "https://localhost:8080/"
        },
        "cellView": "form",
        "outputId": "fd741f84-fc9b-49cf-ff2e-73cae571696d"
      },
      "source": [
        "#@markdown ### Convertendo um número **Decimal** em **Binário**\n",
        "Numero_Decimal =  13.25#@param\n",
        "convert_bxd(Numero_Decimal, dec=True)"
      ],
      "execution_count": 17,
      "outputs": [
        {
          "output_type": "stream",
          "name": "stdout",
          "text": [
            "(\u001b[1;32m13.25\u001b[)₁₀ ⟶ (\u001b[1;32m1101.01\u001b[)₂\n"
          ]
        }
      ]
    },
    {
      "cell_type": "markdown",
      "metadata": {
        "id": "u2ACRTABnNin"
      },
      "source": [
        "<HR width=100% color=\"Turquoise\t\" align=left noshade>"
      ]
    },
    {
      "cell_type": "code",
      "metadata": {
        "id": "KgJgLGT6SfR6",
        "cellView": "form"
      },
      "source": [
        "#@markdown # $\\color{Turquoise}{\\text{Método de eliminação gaussiana}}$\n",
        "#@markdown > $\\color{gray}{\\text{eliminacao_gauss}}$\n",
        "\n",
        "def eliminacao_gauss(hea):\n",
        "    import numpy as np\n",
        "    \n",
        "    arr = np.array(hea, copy=True)\n",
        "    \n",
        "    def max_diagonal(arr):\n",
        "        \n",
        "        def permutation(arr, shift, end):\n",
        "            arr = np.insert(arr, end, arr[shift], axis=0)\n",
        "            finale = shift + 1 if shift > end else shift \n",
        "            arr = np.delete(arr, finale, axis=0)\n",
        "            return arr \n",
        "\n",
        "        for i in range(len(arr)):\n",
        "            arr = permutation(\n",
        "                arr,\n",
        "                np.where(arr[i:, i] == max(arr[i:, i], key=abs))[0][0] + i,\n",
        "                i\n",
        "            )\n",
        "        return arr\n",
        "\n",
        "    arr = max_diagonal(arr)\n",
        "\n",
        "    for cm in range(len(arr[0])-2): # coluna da linha da matriz\n",
        "        for l in range(len(arr)-1-cm): # linha\n",
        "            for c in range(len(arr[0])): # coluna da linha\n",
        "                if not c:\n",
        "                    v1, v2 = arr[cm][cm], arr[l+cm+1][cm]\n",
        "\n",
        "                ms = v2*arr[cm][c] - v1*arr[l+cm+1][c]\n",
        "\n",
        "                arr[l+cm+1][c] = ms\n",
        "\n",
        "        arr = max_diagonal(arr)\n",
        "    return arr        "
      ],
      "execution_count": 18,
      "outputs": []
    },
    {
      "cell_type": "code",
      "metadata": {
        "colab": {
          "base_uri": "https://localhost:8080/"
        },
        "cellView": "form",
        "id": "8ZSab6ZEJfKR",
        "outputId": "e9f6876c-3439-4ce9-9552-7655088eb2ce"
      },
      "source": [
        "Matriz_para_Triangular = [[2, 1, 1, 1, 1], [1, 2, 1, 1, 2], [1, 1, 2, 1, 3], [1, 1, 1, 2, 4]] #@param\n",
        "#@markdown > $\\color{gray}{\\text{Matriz_Triangulada}}$\n",
        "Matriz_Triangulada = eliminacao_gauss(Matriz_para_Triangular)\n",
        "print(f'\\033[32m{Matriz_Triangulada}')"
      ],
      "execution_count": 19,
      "outputs": [
        {
          "output_type": "stream",
          "name": "stdout",
          "text": [
            "\u001b[32m[[   2    1    1    1    1]\n",
            " [   0   -3   -1   -1   -3]\n",
            " [   0    0   -8   -2  -12]\n",
            " [   0    0    0  -60 -120]]\n"
          ]
        }
      ]
    },
    {
      "cell_type": "markdown",
      "metadata": {
        "id": "AiFmztPNJDwj"
      },
      "source": [
        "<HR width=100% color=\"Turquoise\t\" align=left noshade>"
      ]
    },
    {
      "cell_type": "code",
      "metadata": {
        "id": "4-hMYMpcl4S6",
        "cellView": "form"
      },
      "source": [
        "#@markdown # $\\color{Turquoise}{\\text{Mostrando resultados de uma matriz triângular}}$\n",
        "#@markdown > $\\color{gray}{\\text{resultado}}$\n",
        "\n",
        "def resultado(hea):\n",
        "    '''Entre apenas com uma matriz triangular inferior'''\n",
        "    import numpy as np\n",
        "    \n",
        "    arr = np.array(hea, copy=True); mt = []\n",
        "    for x in reversed(range(len(arr))):\n",
        "        n = 0; s = []\n",
        "        for i, k in zip(range(x+1, len(arr)), range(1, len(arr))):\n",
        "            s.append(arr[x][i])\n",
        "            n += s[k-1]*mt[k-1]\n",
        "\n",
        "        mt.insert(0, (arr[x][len(arr)]-n)/arr.diagonal()[x])\n",
        "\n",
        "    return mt"
      ],
      "execution_count": 20,
      "outputs": []
    },
    {
      "cell_type": "code",
      "metadata": {
        "colab": {
          "base_uri": "https://localhost:8080/"
        },
        "cellView": "form",
        "id": "zeiJmNBSKGNB",
        "outputId": "a89c84e2-8669-485b-c4f7-f69101862572"
      },
      "source": [
        "Matriz_Resultados =  Matriz_Triangulada#@param\n",
        "print(f'\\033[32mM\\u1D40 = {resultado(Matriz_Resultados)}')"
      ],
      "execution_count": 21,
      "outputs": [
        {
          "output_type": "stream",
          "name": "stdout",
          "text": [
            "\u001b[32mMᵀ = [-1.0, -0.0, 1.0, 2.0]\n"
          ]
        }
      ]
    },
    {
      "cell_type": "markdown",
      "metadata": {
        "id": "m1u7WhDBSxFg"
      },
      "source": [
        "<HR width=100% color=\"Turquoise\t\" align=left noshade>"
      ]
    },
    {
      "cell_type": "code",
      "metadata": {
        "id": "muuk30as4uZ7",
        "cellView": "form"
      },
      "source": [
        "#@markdown # $\\color{Turquoise}{\\text{Método de Gauss Jordan}}$\n",
        "#@markdown > $\\color{gray}{\\text{gauss_jordan}}$\n",
        "\n",
        "def gauss_jordan(hea):\n",
        "\n",
        "    import numpy as np\n",
        "    \n",
        "    arr = np.array(hea, copy=True)\n",
        "\n",
        "    for _ in range(2): \n",
        "        bl = []\n",
        "        for i, k in zip(arr, range(len(arr))):\n",
        "            if not k-1 < 0:\n",
        "                bl.append([i[x] for x in range(k)])\n",
        "        bl = np.hstack(bl)\n",
        "\n",
        "        if len(np.where(bl > 0)[0]) != 0:\n",
        "            arr = eliminacao_gauss(arr)\n",
        "        else:\n",
        "            break\n",
        "\n",
        "    '''\n",
        "    import numpy as np\n",
        "    \n",
        "    arr = np.array(hea, copy=True)\n",
        "    \n",
        "    def max_diagonal(arr):\n",
        "        \n",
        "        def permutation(arr, shift, end):\n",
        "            arr = np.insert(arr, end, arr[shift], axis=0)\n",
        "            finale = shift + 1 if shift > end else shift \n",
        "            arr = np.delete(arr, finale, axis=0)\n",
        "            return arr \n",
        "\n",
        "        for i in range(len(arr)):\n",
        "            arr = permutation(\n",
        "                arr,\n",
        "                np.where(arr[i:, i] == max(arr[i:, i], key=abs))[0][0] + i,\n",
        "                i\n",
        "            )\n",
        "        return arr\n",
        "\n",
        "    arr = max_diagonal(arr)\n",
        "\n",
        "    for cm in range(len(arr[0])-2): # coluna da linha da matriz\n",
        "        for l in range(len(arr)-1-cm): # linha\n",
        "            for c in range(len(arr[0])): # coluna da linha\n",
        "                if not c:\n",
        "                    v1, v2 = arr[cm][cm], arr[l+cm+1][cm]\n",
        "\n",
        "                ms = v2*arr[cm][c] - v1*arr[l+cm+1][c]\n",
        "\n",
        "                arr[l+cm+1][c] = ms\n",
        "\n",
        "        arr = max_diagonal(arr)\n",
        "    return arr\n",
        "print(gauss_jordan(m2))\n",
        "    '''"
      ],
      "execution_count": 218,
      "outputs": []
    },
    {
      "cell_type": "code",
      "metadata": {
        "id": "oD5DwgUj4zrq",
        "cellView": "form"
      },
      "source": [
        "Matriz_para_Triangular = [[2, 1, 1, 1, 1], [1, 2, 1, 1, 2], [1, 1, 2, 1, 3], [1, 1, 1, 2, 4]] #@param\n",
        "#@markdown > $\\color{gray}{\\text{arr}}$\n",
        "arr = eliminacao_gauss(Matriz_para_Triangular)\n",
        "print(f'\\033[32m{arr}')"
      ],
      "execution_count": null,
      "outputs": []
    },
    {
      "cell_type": "code",
      "metadata": {
        "colab": {
          "base_uri": "https://localhost:8080/"
        },
        "id": "ldhc05ox5lSJ",
        "outputId": "2ea9754a-3da0-4165-dab9-78d5110bfc8b"
      },
      "source": [
        "import numpy as np\n",
        "matriz = [[2, 1, 1, 1, 1], [1, 2, 1, 1, 2], [1, 1, 2, 1, 3], [1, 1, 1, 2, 4]]\n",
        "arr = np.array(matriz)\n",
        "\n",
        "for _ in range(2): \n",
        "    bl = []\n",
        "    for i, k in zip(arr, range(len(arr))):\n",
        "        if not k-1 < 0:\n",
        "            bl.append([i[x] for x in range(k)])\n",
        "    bl = np.hstack(bl)\n",
        "\n",
        "    if len(np.where(bl > 0)[0]) != 0:\n",
        "        arr = eliminacao_gauss(arr)\n",
        "    else:\n",
        "        break\n",
        "print(f'\\033[32m{arr}\\033[')"
      ],
      "execution_count": 226,
      "outputs": [
        {
          "output_type": "stream",
          "name": "stdout",
          "text": [
            "\u001b[32m[[   2    1    1    1    1]\n",
            " [   0   -3   -1   -1   -3]\n",
            " [   0    0   -8   -2  -12]\n",
            " [   0    0    0  -60 -120]]\u001b[\n"
          ]
        }
      ]
    },
    {
      "cell_type": "code",
      "metadata": {
        "id": "XBwFALCMoGTx"
      },
      "source": [
        ""
      ],
      "execution_count": null,
      "outputs": []
    },
    {
      "cell_type": "markdown",
      "metadata": {
        "id": "7jr4NM4XqDGO"
      },
      "source": [
        "# <HR width=100% color=\"Turquoise\t\" align=left noshade>"
      ]
    },
    {
      "cell_type": "code",
      "metadata": {
        "colab": {
          "base_uri": "https://localhost:8080/",
          "height": 128
        },
        "id": "-BSy6gbmqMQG",
        "cellView": "form",
        "outputId": "7b880022-7670-4899-d9b8-6b7d07da2692"
      },
      "source": [
        "#@markdown # $\\color{Turquoise}{\\text{Contatos}}$\n",
        "%%html\n",
        "\n",
        "<table style=\"white-space: nowrap; width: 0px;\" border=\"0\" cellspacing=\"0\">\n",
        "  <tbody>\n",
        "    <tr>\n",
        "      <td style=\"vertical-align: 0px;\">\n",
        "        <img style=\"border-right: 3px solid #30D5C8; padding-right: 13px; height: 90px;\" src=\"https://i.pinimg.com/280x280_RS/79/42/c4/7942c414d01e7c8f8c179f905a5a86eb.jpg\"/></td>\n",
        "        <td style=\"white-space: nowrap; font-family: Helvetica, Arial; padding-left: 11px; font-size: 12px; vertical-align: middle; width: 560px;\">\n",
        "        <h1 style=\"white-space: nowrap; font-size: 14px; color: #30D5C8; line-height: 1; margin: 0 0 8px 0;\">\n",
        "          <b>CLEBSON DOS SANTOS MARQUES</b>\n",
        "        </h1>\n",
        "\n",
        "        <span style=\"color: #808080; data-contrast: none;\">\n",
        "          Estudante do Curso de Licenciatura em F&iacute;sica pela Universidade Estadual Vale do Acara&uacute;<br />\n",
        "        </span>\n",
        "        <span style=\"white-space: nowrap; font-size: 12px; color: #30D5C8; line-height: 1px; margin: 0 0 8px 0;\" data-contrast=\"none\">\n",
        "          <b>Tel.:</b>\n",
        "        </span>\n",
        "        <span style=\"color: #808080; data-contrast: none;\">(88) 9 9412 2413\n",
        "          <br /><a style=\"color: #808080; data-contrast: none; text-decoration: none;\" href=\"mailto:klebersantosy@gmail.com\">klebersantosy@gmail.com</a><br />\n",
        "          <a style=\"color: #808080; data-contrast: none; text-decoration: none;\" href=\"http://lattes.cnpq.br/9411163467458250\">http://lattes.cnpq.br/9411163467458250</a>\n",
        "        </span>\n",
        "\n",
        "        <div style=\"white-space: nowrap; margin-top: 8px;\">\n",
        "          <a style=\"white-space: nowrap; display: inline-block;\" href=\"https://api.whatsapp.com/send?phone=558894122413\">\n",
        "            <img style=\"white-space: nowrap; width: 20px; height: 20px;\" src=\"https://icon-library.com/images/icon-whatsapp-png/icon-whatsapp-png-2.jpg\" />\n",
        "          </a> <a style=\"white-space: nowrap; display: inline-block;\" href=\"https://t.me/clebson_marques\">\n",
        "            <img style=\"white-space: nowrap; width: 20px; height: 20px;\" src=\"https://www.freepnglogos.com/uploads/telegram-png/telegram-communications-icons-24.png\" />\n",
        "          </a> <a style=\"white-space: nowrap; display: inline-block;\" href=\"https://www.passeidireto.com/perfil/371127-klebson-marques/\">\n",
        "            <img style=\"white-space: nowrap; width: 20px; height: 20px;\" src=\"https://img.utdstc.com/icon/f63/09d/f6309d71c42e9f12c4aaf4800260f4c2ae9637ab4b148c381e8378e80ccce0e6:200\" />\n",
        "          </a> <a style=\"white-space: nowrap; display: inline-block;\" href=\"https://github.com/kleber293\">\n",
        "            <img style=\"white-space: nowrap; width: 26px; height: 20px; object-fit: cover;\" src=\"http://pngimg.com/uploads/github/github_PNG69.png\" /></a>\n",
        "        </div>\n",
        "      </td>\n",
        "    </tr>\n",
        "  </tbody>\n",
        "</table>"
      ],
      "execution_count": 282,
      "outputs": [
        {
          "output_type": "display_data",
          "data": {
            "text/html": [
              "\n",
              "<table style=\"white-space: nowrap; width: 0px;\" border=\"0\" cellspacing=\"0\">\n",
              "  <tbody>\n",
              "    <tr>\n",
              "      <td style=\"vertical-align: 0px;\">\n",
              "        <img style=\"border-right: 3px solid #30D5C8; padding-right: 13px; height: 90px;\" src=\"https://i.pinimg.com/280x280_RS/79/42/c4/7942c414d01e7c8f8c179f905a5a86eb.jpg\"/></td>\n",
              "        <td style=\"white-space: nowrap; font-family: Helvetica, Arial; padding-left: 11px; font-size: 12px; vertical-align: middle; width: 560px;\">\n",
              "        <h1 style=\"white-space: nowrap; font-size: 14px; color: #30D5C8; line-height: 1; margin: 0 0 8px 0;\">\n",
              "          <b>CLEBSON DOS SANTOS MARQUES</b>\n",
              "        </h1>\n",
              "\n",
              "        <span style=\"color: #808080; data-contrast: none;\">\n",
              "          Estudante do Curso de Licenciatura em F&iacute;sica pela Universidade Estadual Vale do Acara&uacute;<br />\n",
              "        </span>\n",
              "        <span style=\"white-space: nowrap; font-size: 12px; color: #30D5C8; line-height: 1px; margin: 0 0 8px 0;\" data-contrast=\"none\">\n",
              "          <b>Tel.:</b>\n",
              "        </span>\n",
              "        <span style=\"color: #808080; data-contrast: none;\">(88) 9 9412 2413\n",
              "          <br /><a style=\"color: #808080; data-contrast: none; text-decoration: none;\" href=\"mailto:klebersantosy@gmail.com\">klebersantosy@gmail.com</a><br />\n",
              "          <a style=\"color: #808080; data-contrast: none; text-decoration: none;\" href=\"http://lattes.cnpq.br/9411163467458250\">http://lattes.cnpq.br/9411163467458250</a>\n",
              "        </span>\n",
              "\n",
              "        <div style=\"white-space: nowrap; margin-top: 8px;\">\n",
              "          <a style=\"white-space: nowrap; display: inline-block;\" href=\"https://api.whatsapp.com/send?phone=558894122413\">\n",
              "            <img style=\"white-space: nowrap; width: 20px; height: 20px;\" src=\"https://icon-library.com/images/icon-whatsapp-png/icon-whatsapp-png-2.jpg\" />\n",
              "          </a> <a style=\"white-space: nowrap; display: inline-block;\" href=\"https://t.me/clebson_marques\">\n",
              "            <img style=\"white-space: nowrap; width: 20px; height: 20px;\" src=\"https://www.freepnglogos.com/uploads/telegram-png/telegram-communications-icons-24.png\" />\n",
              "          </a> <a style=\"white-space: nowrap; display: inline-block;\" href=\"https://www.passeidireto.com/perfil/371127-klebson-marques/\">\n",
              "            <img style=\"white-space: nowrap; width: 20px; height: 20px;\" src=\"https://img.utdstc.com/icon/f63/09d/f6309d71c42e9f12c4aaf4800260f4c2ae9637ab4b148c381e8378e80ccce0e6:200\" />\n",
              "          </a> <a style=\"white-space: nowrap; display: inline-block;\" href=\"https://github.com/kleber293\">\n",
              "            <img style=\"white-space: nowrap; width: 26px; height: 20px; object-fit: cover;\" src=\"http://pngimg.com/uploads/github/github_PNG69.png\" /></a>\n",
              "        </div>\n",
              "      </td>\n",
              "    </tr>\n",
              "  </tbody>\n",
              "</table>"
            ],
            "text/plain": [
              "<IPython.core.display.HTML object>"
            ]
          },
          "metadata": {}
        }
      ]
    }
  ]
}