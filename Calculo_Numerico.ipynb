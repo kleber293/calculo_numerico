{
  "nbformat": 4,
  "nbformat_minor": 0,
  "metadata": {
    "colab": {
      "name": "Calculo_Numerico.ipynb",
      "provenance": [],
      "collapsed_sections": [],
      "authorship_tag": "ABX9TyOJ495RtVj9KV18bdALA6Nj",
      "include_colab_link": true
    },
    "kernelspec": {
      "name": "python3",
      "display_name": "Python 3"
    },
    "language_info": {
      "name": "python"
    }
  },
  "cells": [
    {
      "cell_type": "markdown",
      "metadata": {
        "id": "view-in-github",
        "colab_type": "text"
      },
      "source": [
        "<a href=\"https://colab.research.google.com/github/kleber293/calculo_numerico/blob/main/Calculo_Numerico.ipynb\" target=\"_parent\"><img src=\"https://colab.research.google.com/assets/colab-badge.svg\" alt=\"Open In Colab\"/></a>"
      ]
    },
    {
      "cell_type": "markdown",
      "metadata": {
        "id": "0okkjS6imtMS"
      },
      "source": [
        "# <HR width=100% color=\"Turquoise\t\" align=left noshade>"
      ]
    },
    {
      "cell_type": "code",
      "metadata": {
        "id": "DJhQJGUxtjyL",
        "cellView": "form"
      },
      "source": [
        "#@markdown # $\\color{Turquoise}{\\text{Binário ⇆ Decimal}}$\n",
        "#@markdown > $\\color{gray}{\\text{convert_bxd}}$\n",
        "def convert_bxd(num, bin=False, dec=False):\n",
        "    \n",
        "    def saida(v1, b1, v2, b2):\n",
        "        print(f'(\\033[1;32m{v1}\\033[){b1}', end='')\n",
        "        print(' \\u27F6 ', end='')\n",
        "        print(f'(\\033[1;32m{v2}\\033[){b2}')\n",
        "\n",
        "    def dec_inteiro(val):\n",
        "        bn, bnr, val = list(), str(), int(val)\n",
        "        bn.append(val % 2)\n",
        "        while True:\n",
        "            d = val // 2\n",
        "            if d == 1 or d == 0:\n",
        "                bn.append(d)\n",
        "                break\n",
        "            bn.append(d % 2)\n",
        "            val = d\n",
        "        for x in reversed(bn):\n",
        "            bnr += str(x)\n",
        "        return bnr\n",
        "\n",
        "    conf = num\n",
        "    \n",
        "    if bin:\n",
        "        con = True\n",
        "        for v in str(num):\n",
        "            con *= v in '10.'\n",
        "        if bool(con):\n",
        "            if isinstance(num, float):\n",
        "                b, sm = str(num).find('.')-1, 0\n",
        "                for i in str(num).replace('.', ''):\n",
        "                    sm += int(i)*2**(b)\n",
        "                    b -= 1\n",
        "                saida(conf, '\\u2082', sm, '\\u2081\\u2080')\n",
        "            else:\n",
        "                c, s = 0, 0\n",
        "                for n in str(num):\n",
        "                    c += 1\n",
        "                    s += int(n)*2**(len(str(num))-c)\n",
        "                saida(conf, '\\u2082', s, '\\u2081\\u2080')\n",
        "        else: \n",
        "            print('\\033[1;31mO valor digitado não é um número Binário!\\033[m')\n",
        "\n",
        "    elif dec:\n",
        "        if isinstance(num, float):\n",
        "            bm, st = list(), str()\n",
        "            cm = 0 if int(num) == 0 else dec_inteiro(num)\n",
        "            while True:\n",
        "                if num > 1:\n",
        "                    num -= int(num)\n",
        "                num *= 2\n",
        "                bm.append(num)\n",
        "                if num % 1 == 0:\n",
        "                    break\n",
        "            for x in bm:\n",
        "                st += f'{str(int(x))}'\n",
        "            saida(conf, '\\u2081\\u2080', f'{cm}.{st}', '\\u2082')\n",
        "        else:\n",
        "            saida(conf,'\\u2081\\u2080', dec_inteiro(num), '\\u2082')"
      ],
      "execution_count": 689,
      "outputs": []
    },
    {
      "cell_type": "code",
      "metadata": {
        "id": "CKA5oT9it4a9",
        "colab": {
          "base_uri": "https://localhost:8080/"
        },
        "cellView": "form",
        "outputId": "f3d403b3-f66c-4c90-a590-118c3066a4d2"
      },
      "source": [
        "#@markdown ### Convertendo um número **Binário** em **Decimal**\n",
        "Numero_Binario =  10111#@param\n",
        "convert_bxd(Numero_Binario, bin=True)"
      ],
      "execution_count": 690,
      "outputs": [
        {
          "output_type": "stream",
          "name": "stdout",
          "text": [
            "(\u001b[1;32m10111\u001b[)₂ ⟶ (\u001b[1;32m23\u001b[)₁₀\n"
          ]
        }
      ]
    },
    {
      "cell_type": "code",
      "metadata": {
        "id": "yN69942r1Zds",
        "colab": {
          "base_uri": "https://localhost:8080/"
        },
        "cellView": "form",
        "outputId": "cac3a639-3b4c-441a-e4e2-f75858cf2749"
      },
      "source": [
        "#@markdown ### Convertendo um número **Decimal** em **Binário**\n",
        "Numero_Decimal =  13.25#@param\n",
        "convert_bxd(Numero_Decimal, dec=True)"
      ],
      "execution_count": 691,
      "outputs": [
        {
          "output_type": "stream",
          "name": "stdout",
          "text": [
            "(\u001b[1;32m13.25\u001b[)₁₀ ⟶ (\u001b[1;32m1101.01\u001b[)₂\n"
          ]
        }
      ]
    },
    {
      "cell_type": "markdown",
      "metadata": {
        "id": "u2ACRTABnNin"
      },
      "source": [
        "# <HR width=100% color=\"Turquoise\t\" align=left noshade>"
      ]
    },
    {
      "cell_type": "code",
      "metadata": {
        "id": "KgJgLGT6SfR6",
        "cellView": "form"
      },
      "source": [
        "#@markdown # $\\color{Turquoise}{\\text{Método de Gauss}}$\n",
        "#@markdown > $\\color{gray}{\\text{eliminacao_gauss(hea)}}$\n",
        "\n",
        "def eliminacao_gauss(hea):\n",
        "    import numpy as np\n",
        "    \n",
        "    arr = np.array(hea, dtype=np.float64, copy=True)\n",
        "    \n",
        "    def max_diagonal(arr):\n",
        "        \n",
        "        def permutation(arr, shift, end):\n",
        "            arr = np.insert(arr, end, arr[shift], axis=0)\n",
        "            finale = shift + 1 if shift > end else shift \n",
        "            arr = np.delete(arr, finale, axis=0)\n",
        "            return arr \n",
        "\n",
        "        for i in range(len(arr)):\n",
        "            arr = permutation(\n",
        "                arr,\n",
        "                np.where(arr[i:, i] == max(arr[i:, i], key=abs))[0][0] + i,\n",
        "                i\n",
        "            )\n",
        "        return arr\n",
        "\n",
        "    arr = max_diagonal(arr)\n",
        "\n",
        "    for cm in range(len(arr[0])-2): # coluna da linha da matriz\n",
        "        for l, k in zip(range(cm, len(arr)-1), range(len(arr))): # linha\n",
        "            for c in range(len(arr[0])): # coluna da linha\n",
        "                if not c:\n",
        "                    v1, v2 = arr[cm][cm], arr[cm+k+1][cm]\n",
        "                arr[cm+k+1][c] = v1*arr[cm+k+1][c]-v2*arr[cm][c]\n",
        "        arr = max_diagonal(arr)\n",
        "\n",
        "    return arr        "
      ],
      "execution_count": 692,
      "outputs": []
    },
    {
      "cell_type": "code",
      "metadata": {
        "colab": {
          "base_uri": "https://localhost:8080/"
        },
        "id": "8ZSab6ZEJfKR",
        "cellView": "form",
        "outputId": "ca56ca79-2341-4d63-c677-9bffcec87962"
      },
      "source": [
        "matriz_gauss = [[3, 2, 1, -1, 5], [0, 1, 0, 3, 6], [0, -3, -5, 7, 7], [0, 2, 4, 0, 15]] #@param\n",
        "#@markdown > $\\color{gray}{\\text{matriz = eliminacao_gauss(matriz_gauss)}}$\n",
        "matriz = eliminacao_gauss(matriz_gauss)\n",
        "print(f'\\033[32m{matriz}'); print()\n",
        "%timeit eliminacao_gauss(matriz_gauss)"
      ],
      "execution_count": 693,
      "outputs": [
        {
          "output_type": "stream",
          "name": "stdout",
          "text": [
            "\u001b[32m[[ 3.0000e+00  2.0000e+00  1.0000e+00 -1.0000e+00  5.0000e+00]\n",
            " [ 0.0000e+00 -9.0000e+00 -1.5000e+01  2.1000e+01  2.1000e+01]\n",
            " [-0.0000e+00  0.0000e+00  4.5000e+01 -1.4400e+02 -2.2500e+02]\n",
            " [-0.0000e+00  0.0000e+00  0.0000e+00 -8.2620e+03 -2.7945e+04]]\n",
            "\n",
            "1000 loops, best of 5: 791 µs per loop\n"
          ]
        }
      ]
    },
    {
      "cell_type": "markdown",
      "metadata": {
        "id": "AiFmztPNJDwj"
      },
      "source": [
        "# <HR width=100% color=\"Turquoise\t\" align=left noshade>"
      ]
    },
    {
      "cell_type": "code",
      "metadata": {
        "id": "4-hMYMpcl4S6",
        "cellView": "form"
      },
      "source": [
        "#@markdown # $\\color{Turquoise}{\\text{Matriz resultado do Método de Gauss}}$\n",
        "#@markdown > $\\color{gray}{\\text{resultados(hea)}}$\n",
        "\n",
        "def resultado(hea):\n",
        "    '''Entre apenas com uma matriz triangular inferior'''\n",
        "    import numpy as np\n",
        "    \n",
        "    arr = np.array(hea, dtype=np.float64, copy=True); mt = []\n",
        "    for x in reversed(range(len(arr))):\n",
        "        n = 0; s = []\n",
        "        for i, k in zip(range(x+1, len(arr)), range(1, len(arr))):\n",
        "            s.append(arr[x][i])\n",
        "            n += s[k-1]*mt[k-1]\n",
        "\n",
        "        mt.insert(0, (arr[x][len(arr)]-n)/arr.diagonal()[x])\n",
        "\n",
        "    return mt"
      ],
      "execution_count": 694,
      "outputs": []
    },
    {
      "cell_type": "code",
      "metadata": {
        "colab": {
          "base_uri": "https://localhost:8080/"
        },
        "id": "zeiJmNBSKGNB",
        "cellView": "form",
        "outputId": "27628256-a5d4-461a-a6a3-8830f48b75b1"
      },
      "source": [
        "matriz_resultados =  matriz#@param\n",
        "#@markdown > $\\color{gray}{\\text{resultado(matriz_resultados)}}$\n",
        "print(f'\\033[32mM\\u1D40 = {resultado(matriz_resultados)}'); print()\n",
        "%timeit resultado(matriz_resultados)"
      ],
      "execution_count": 695,
      "outputs": [
        {
          "output_type": "stream",
          "name": "stdout",
          "text": [
            "\u001b[32mMᵀ = [3.6176470588235285, -4.14705882352941, 5.823529411764706, 3.3823529411764706]\n",
            "\n",
            "The slowest run took 6.03 times longer than the fastest. This could mean that an intermediate result is being cached.\n",
            "10000 loops, best of 5: 18.5 µs per loop\n"
          ]
        }
      ]
    },
    {
      "cell_type": "markdown",
      "metadata": {
        "id": "m1u7WhDBSxFg"
      },
      "source": [
        "# <HR width=100% color=\"Turquoise\t\" align=left noshade>"
      ]
    },
    {
      "cell_type": "code",
      "metadata": {
        "id": "muuk30as4uZ7",
        "cellView": "form"
      },
      "source": [
        "#@markdown # $\\color{Turquoise}{\\text{Método de Gauss Jordan}}$\n",
        "#@markdown > $\\color{gray}{\\text{gauss_jordan(hea)}}$\n",
        "\n",
        "def gauss_jordan(hea):\n",
        "\n",
        "    import numpy as np\n",
        "\n",
        "    def simple(arr):\n",
        "        diag = arr.diagonal()\n",
        "        for i, x in zip(range(len(diag)), diag):\n",
        "            arr[i] = arr[i]/x\n",
        "        return arr\n",
        "\n",
        "    arr = np.array(hea, dtype=np.float64,  copy=True)\n",
        "\n",
        "    for _ in range(2): \n",
        "        bl = []\n",
        "        for i, k in zip(arr, range(len(arr))):\n",
        "            if not k-1 < 0:\n",
        "                bl.append([i[x] for x in range(k)])\n",
        "        bl = np.hstack(bl)\n",
        "\n",
        "        if len(np.where(bl > 0)[0]) != 0:\n",
        "            arr = eliminacao_gauss(arr)\n",
        "        else:\n",
        "            break\n",
        "\n",
        "    for cm in reversed(range(1, len(arr[0])-1)): # coluna da linha da matriz\n",
        "        for l, k in zip(reversed(range(cm)), range(1, len(arr))): # linha\n",
        "            for c in range(len(arr[0])): # coluna da linha\n",
        "                if not c:\n",
        "                    v1, v2 = arr[cm][cm], arr[cm-k][cm]\n",
        "\n",
        "                arr[cm-k][c] = v1*arr[cm-k][c]-v2*arr[cm][c]\n",
        "            simple(arr)\n",
        "    return arr"
      ],
      "execution_count": 696,
      "outputs": []
    },
    {
      "cell_type": "code",
      "metadata": {
        "colab": {
          "base_uri": "https://localhost:8080/"
        },
        "id": "oD5DwgUj4zrq",
        "cellView": "form",
        "outputId": "18733c26-22b1-486c-d714-98d5a21a1be8"
      },
      "source": [
        "matriz_gauss_jordan = [[3, 2, 1, -1, 5], [0, 1, 0, 3, 6], [0, -3, -5, 7, 7], [0, 2, 4, 0, 15]]#@param\n",
        "#@markdown > $\\color{gray}{\\text{gauss_jordan(matriz_gauss_jordan)}}$\n",
        "arr = gauss_jordan(matriz_gauss_jordan)\n",
        "print(f'\\033[32m{arr}'); print()\n",
        "%timeit gauss_jordan(matriz_gauss_jordan)"
      ],
      "execution_count": 697,
      "outputs": [
        {
          "output_type": "stream",
          "name": "stdout",
          "text": [
            "\u001b[32m[[ 1.          0.          0.          0.          3.61764706]\n",
            " [ 0.          1.          0.          0.         -4.14705882]\n",
            " [-0.         -0.          1.         -0.          5.82352941]\n",
            " [ 0.         -0.         -0.          1.          3.38235294]]\n",
            "\n",
            "1000 loops, best of 5: 976 µs per loop\n"
          ]
        }
      ]
    },
    {
      "cell_type": "markdown",
      "metadata": {
        "id": "7jr4NM4XqDGO"
      },
      "source": [
        "# <HR width=100% color=\"Turquoise\t\" align=left noshade>"
      ]
    },
    {
      "cell_type": "code",
      "metadata": {
        "id": "yaxfm3_s9Jw_",
        "cellView": "form"
      },
      "source": [
        "#@markdown # $\\color{Turquoise}{\\text{Método de Jacobi}}$\n",
        "#@markdown > $\\color{gray}{\\text{m_jacobi(hea, ci=[0, 0, 0], ni=10, tc=2, trc=False)}}$\n",
        "\n",
        "def m_jacobi(hea, ci=[0, 0, 0], ni=10, tc=2, trc=False):\n",
        "\n",
        "    import numpy as np\n",
        "\n",
        "    def trunc(arr1, arr2, tr=2):\n",
        "        '''\n",
        "            Retorna um booleano se arr1 == arr2\n",
        "        '''\n",
        "\n",
        "        def truncv(values, decs=0):\n",
        "            values = np.array(values)\n",
        "            return np.trunc(values*10**decs)/(10**decs)\n",
        "\n",
        "        arr1, arr2 = truncv(arr1, decs=tr), truncv(arr2, decs=tr)\n",
        "\n",
        "        comp = np.all([arr1==arr2, [True for _ in range(len(arr1))]]) \n",
        "        return comp\n",
        "\n",
        "    def v(arr, cond, line=0):\n",
        "        '''\n",
        "            Retorna uma matriz solução\n",
        "        '''\n",
        "        \n",
        "        def max_diagonal(arr):\n",
        "                \n",
        "            def permutation(arr, shift, end):\n",
        "                arr = np.insert(arr, end, arr[shift], axis=0)\n",
        "                finale = shift + 1 if shift > end else shift \n",
        "                arr = np.delete(arr, finale, axis=0)\n",
        "                return arr \n",
        "\n",
        "            for i in range(len(arr)):\n",
        "                arr = permutation(\n",
        "                    arr,\n",
        "                    np.where(arr[i:, i] == max(arr[i:, i], key=abs))[0][0] + i,\n",
        "                    i\n",
        "                )\n",
        "            return arr\n",
        "\n",
        "        arr = max_diagonal(arr)\n",
        "\n",
        "        n, rs = [arr[line][-1]], 0\n",
        "        n.append(\n",
        "            [x*i for x, i, c in zip(arr[line], cond, range(len(arr[0])))\n",
        "            if c != line]\n",
        "        )\n",
        "        for k in n[1]:\n",
        "            rs += k\n",
        "        x = (n[0]-rs)/arr[line][line]\n",
        "\n",
        "        return x\n",
        "\n",
        "    \n",
        "    ci = [ci]; arr = np.array(hea, dtype=np.float64, copy=True)\n",
        "\n",
        "    for j in range(ni):\n",
        "        ci.append([])\n",
        "        for i in range(len(arr)):\n",
        "            ci[j+1].append(v(arr, ci[j], line=i))\n",
        "        \n",
        "        if trc:\n",
        "            if trunc(ci[j], ci[j+1], tr=tc):\n",
        "                break\n",
        "    \n",
        "    return ci"
      ],
      "execution_count": 698,
      "outputs": []
    },
    {
      "cell_type": "code",
      "metadata": {
        "colab": {
          "base_uri": "https://localhost:8080/"
        },
        "id": "ICUBvDaN-wtu",
        "cellView": "form",
        "outputId": "cc6d89ed-e281-4f6d-d4ce-0c27212342a9"
      },
      "source": [
        "import numpy as np\n",
        "\n",
        "matriz_m_jacobi = [[3, 2, 1, -1, 5], [0, 1, 0, 3, 6], [0, -3, -5, 7, 7], [0, 2, 4, 0, 15]]#@param\n",
        "condicoes_iniciais = [0, 0, 0, 0] #@param\n",
        "loops = 27 #@param {type:\"slider\", min:0, max:50, step:1}\n",
        "trun = True #@param {type:\"boolean\"}\n",
        "truncamento_decimal = 2 #@param {type:\"slider\", min:1, max:10, step:1}\n",
        "#@markdown > $\\color{gray}{\\text{matriz_j = m_jacobi(matriz_m_jacobi, ci=condicoes_iniciais, ni=loops, tc = truncamento_decimal)}}$\n",
        "matriz_j = np.array(m_jacobi(matriz_m_jacobi, ci=condicoes_iniciais, ni=loops, tc = truncamento_decimal, trc=trun), dtype=np.float64)\n",
        "# print(f'\\033[32m{matriz_j}'); print()\n",
        "print(f'\\033[32m{matriz_j}'); print()\n",
        "%timeit m_jacobi(matriz_m_jacobi, ci=condicoes_iniciais, ni=loops, tc = truncamento_decimal)"
      ],
      "execution_count": 699,
      "outputs": [
        {
          "output_type": "stream",
          "name": "stdout",
          "text": [
            "\u001b[32m[[ 0.          0.          0.          0.        ]\n",
            " [ 1.66666667 -2.33333333  3.75        2.        ]\n",
            " [ 2.63888889 -3.91666667  4.91666667  2.77777778]\n",
            " [ 3.56481481 -4.0462963   5.70833333  3.30555556]\n",
            " [ 3.5632716  -4.13425926  5.77314815  3.34876543]\n",
            " [ 3.61471193 -4.14146091  5.81712963  3.37808642]\n",
            " [ 3.6146262  -4.14634774  5.82073045  3.38048697]\n",
            " [ 3.617484   -4.14674783  5.82317387  3.38211591]]\n",
            "\n",
            "10 loops, best of 5: 19 ms per loop\n"
          ]
        }
      ]
    },
    {
      "cell_type": "markdown",
      "metadata": {
        "id": "Lo7Qes7b9Ofa"
      },
      "source": [
        "# <HR width=100% color=\"Turquoise\t\" align=left noshade>"
      ]
    },
    {
      "cell_type": "code",
      "metadata": {
        "id": "f3LZTlcc0r63"
      },
      "source": [
        ""
      ],
      "execution_count": null,
      "outputs": []
    },
    {
      "cell_type": "markdown",
      "metadata": {
        "id": "R2ocoPDh0t9h"
      },
      "source": [
        "# <HR width=100% color=\"Turquoise\t\" align=left noshade>"
      ]
    },
    {
      "cell_type": "code",
      "metadata": {
        "colab": {
          "base_uri": "https://localhost:8080/",
          "height": 128
        },
        "id": "-BSy6gbmqMQG",
        "cellView": "form",
        "outputId": "85bd4679-5dce-4ae4-9045-99dc6c3d8a93"
      },
      "source": [
        "#@markdown # $\\color{Turquoise}{\\text{Contatos}}$\n",
        "%%html\n",
        "\n",
        "<table style=\"white-space: nowrap; width: 0px;\" border=\"0\" cellspacing=\"0\">\n",
        "  <tbody>\n",
        "    <tr>\n",
        "      <td style=\"vertical-align: 0px;\">\n",
        "        <img style=\"border-right: 3px solid #30D5C8; padding-right: 13px; height: 90px;\" src=\"https://i.pinimg.com/280x280_RS/79/42/c4/7942c414d01e7c8f8c179f905a5a86eb.jpg\"/></td>\n",
        "        <td style=\"white-space: nowrap; font-family: Helvetica, Arial; padding-left: 11px; font-size: 12px; vertical-align: middle; width: 560px;\">\n",
        "        <h1 style=\"white-space: nowrap; font-size: 14px; color: #30D5C8; line-height: 1; margin: 0 0 8px 0;\">\n",
        "          <b>CLEBSON DOS SANTOS MARQUES</b>\n",
        "        </h1>\n",
        "\n",
        "        <span style=\"color: #808080; data-contrast: none;\">\n",
        "          Estudante do Curso de Licenciatura em F&iacute;sica pela Universidade Estadual Vale do Acara&uacute;<br />\n",
        "        </span>\n",
        "        <span style=\"white-space: nowrap; font-size: 12px; color: #30D5C8; line-height: 1px; margin: 0 0 8px 0;\" data-contrast=\"none\">\n",
        "          <b>Tel.:</b>\n",
        "        </span>\n",
        "        <span style=\"color: #808080; data-contrast: none;\">(88) 9 9412 2413\n",
        "          <br /><a style=\"color: #808080; data-contrast: none; text-decoration: none;\" href=\"mailto:klebersantosy@gmail.com\">klebersantosy@gmail.com</a><br />\n",
        "          <a style=\"color: #808080; data-contrast: none; text-decoration: none;\" href=\"http://lattes.cnpq.br/9411163467458250\">http://lattes.cnpq.br/9411163467458250</a>\n",
        "        </span>\n",
        "\n",
        "        <div style=\"white-space: nowrap; margin-top: 8px;\">\n",
        "          <a style=\"white-space: nowrap; display: inline-block;\" href=\"https://api.whatsapp.com/send?phone=558894122413\">\n",
        "            <img style=\"white-space: nowrap; width: 20px; height: 20px;\" src=\"https://icon-library.com/images/icon-whatsapp-png/icon-whatsapp-png-2.jpg\" />\n",
        "          </a> <a style=\"white-space: nowrap; display: inline-block;\" href=\"https://t.me/clebson_marques\">\n",
        "            <img style=\"white-space: nowrap; width: 20px; height: 20px;\" src=\"https://www.freepnglogos.com/uploads/telegram-png/telegram-communications-icons-24.png\" />\n",
        "          </a> <a style=\"white-space: nowrap; display: inline-block;\" href=\"https://www.passeidireto.com/perfil/371127-klebson-marques/\">\n",
        "            <img style=\"white-space: nowrap; width: 20px; height: 20px;\" src=\"https://img.utdstc.com/icon/f63/09d/f6309d71c42e9f12c4aaf4800260f4c2ae9637ab4b148c381e8378e80ccce0e6:200\" />\n",
        "          </a> <a style=\"white-space: nowrap; display: inline-block;\" href=\"https://github.com/kleber293\">\n",
        "            <img style=\"white-space: nowrap; width: 26px; height: 20px; object-fit: cover;\" src=\"http://pngimg.com/uploads/github/github_PNG69.png\" /></a>\n",
        "        </div>\n",
        "      </td>\n",
        "    </tr>\n",
        "  </tbody>\n",
        "</table>"
      ],
      "execution_count": 700,
      "outputs": [
        {
          "output_type": "display_data",
          "data": {
            "text/html": [
              "\n",
              "<table style=\"white-space: nowrap; width: 0px;\" border=\"0\" cellspacing=\"0\">\n",
              "  <tbody>\n",
              "    <tr>\n",
              "      <td style=\"vertical-align: 0px;\">\n",
              "        <img style=\"border-right: 3px solid #30D5C8; padding-right: 13px; height: 90px;\" src=\"https://i.pinimg.com/280x280_RS/79/42/c4/7942c414d01e7c8f8c179f905a5a86eb.jpg\"/></td>\n",
              "        <td style=\"white-space: nowrap; font-family: Helvetica, Arial; padding-left: 11px; font-size: 12px; vertical-align: middle; width: 560px;\">\n",
              "        <h1 style=\"white-space: nowrap; font-size: 14px; color: #30D5C8; line-height: 1; margin: 0 0 8px 0;\">\n",
              "          <b>CLEBSON DOS SANTOS MARQUES</b>\n",
              "        </h1>\n",
              "\n",
              "        <span style=\"color: #808080; data-contrast: none;\">\n",
              "          Estudante do Curso de Licenciatura em F&iacute;sica pela Universidade Estadual Vale do Acara&uacute;<br />\n",
              "        </span>\n",
              "        <span style=\"white-space: nowrap; font-size: 12px; color: #30D5C8; line-height: 1px; margin: 0 0 8px 0;\" data-contrast=\"none\">\n",
              "          <b>Tel.:</b>\n",
              "        </span>\n",
              "        <span style=\"color: #808080; data-contrast: none;\">(88) 9 9412 2413\n",
              "          <br /><a style=\"color: #808080; data-contrast: none; text-decoration: none;\" href=\"mailto:klebersantosy@gmail.com\">klebersantosy@gmail.com</a><br />\n",
              "          <a style=\"color: #808080; data-contrast: none; text-decoration: none;\" href=\"http://lattes.cnpq.br/9411163467458250\">http://lattes.cnpq.br/9411163467458250</a>\n",
              "        </span>\n",
              "\n",
              "        <div style=\"white-space: nowrap; margin-top: 8px;\">\n",
              "          <a style=\"white-space: nowrap; display: inline-block;\" href=\"https://api.whatsapp.com/send?phone=558894122413\">\n",
              "            <img style=\"white-space: nowrap; width: 20px; height: 20px;\" src=\"https://icon-library.com/images/icon-whatsapp-png/icon-whatsapp-png-2.jpg\" />\n",
              "          </a> <a style=\"white-space: nowrap; display: inline-block;\" href=\"https://t.me/clebson_marques\">\n",
              "            <img style=\"white-space: nowrap; width: 20px; height: 20px;\" src=\"https://www.freepnglogos.com/uploads/telegram-png/telegram-communications-icons-24.png\" />\n",
              "          </a> <a style=\"white-space: nowrap; display: inline-block;\" href=\"https://www.passeidireto.com/perfil/371127-klebson-marques/\">\n",
              "            <img style=\"white-space: nowrap; width: 20px; height: 20px;\" src=\"https://img.utdstc.com/icon/f63/09d/f6309d71c42e9f12c4aaf4800260f4c2ae9637ab4b148c381e8378e80ccce0e6:200\" />\n",
              "          </a> <a style=\"white-space: nowrap; display: inline-block;\" href=\"https://github.com/kleber293\">\n",
              "            <img style=\"white-space: nowrap; width: 26px; height: 20px; object-fit: cover;\" src=\"http://pngimg.com/uploads/github/github_PNG69.png\" /></a>\n",
              "        </div>\n",
              "      </td>\n",
              "    </tr>\n",
              "  </tbody>\n",
              "</table>"
            ],
            "text/plain": [
              "<IPython.core.display.HTML object>"
            ]
          },
          "metadata": {}
        }
      ]
    }
  ]
}