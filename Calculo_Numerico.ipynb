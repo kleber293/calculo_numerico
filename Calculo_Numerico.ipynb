{
  "nbformat": 4,
  "nbformat_minor": 0,
  "metadata": {
    "colab": {
      "name": "Calculo_Numerico.ipynb",
      "provenance": [],
      "collapsed_sections": [],
      "authorship_tag": "ABX9TyOOJD7HVl20zSyqqeDJ5P4K",
      "include_colab_link": true
    },
    "kernelspec": {
      "name": "python3",
      "display_name": "Python 3"
    },
    "language_info": {
      "name": "python"
    }
  },
  "cells": [
    {
      "cell_type": "markdown",
      "metadata": {
        "id": "view-in-github",
        "colab_type": "text"
      },
      "source": [
        "<a href=\"https://colab.research.google.com/github/kleber293/calculo_numerico/blob/main/Calculo_Numerico.ipynb\" target=\"_parent\"><img src=\"https://colab.research.google.com/assets/colab-badge.svg\" alt=\"Open In Colab\"/></a>"
      ]
    },
    {
      "cell_type": "code",
      "metadata": {
        "id": "DJhQJGUxtjyL",
        "cellView": "form"
      },
      "source": [
        "#@markdown # Binário ⇆ Decimal\n",
        "def Convert_BxD(num, bin=False, dec=False):\n",
        "    \n",
        "    def saida(v1, b1, v2, b2):\n",
        "        print(f'(\\033[1;32m{v1}\\033[){b1}', end='')\n",
        "        print(' \\u27F6 ', end='')\n",
        "        print(f'(\\033[1;32m{v2}\\033[){b2}')\n",
        "\n",
        "    def dec_inteiro(val):\n",
        "        bn, bnr, val = list(), str(), int(val)\n",
        "        bn.append(val % 2)\n",
        "        while True:\n",
        "            d = val // 2\n",
        "            if d == 1 or d == 0:\n",
        "                bn.append(d)\n",
        "                break\n",
        "            bn.append(d % 2)\n",
        "            val = d\n",
        "        for x in reversed(bn):\n",
        "            bnr += str(x)\n",
        "        return bnr\n",
        "\n",
        "    conf = num\n",
        "    \n",
        "    if bin:\n",
        "        con = True\n",
        "        for v in str(num):\n",
        "            con *= v in '10.'\n",
        "        if bool(con):\n",
        "            if isinstance(num, float):\n",
        "                b, sm = str(num).find('.')-1, 0\n",
        "                for i in str(num).replace('.', ''):\n",
        "                    sm += int(i)*2**(b)\n",
        "                    b -= 1\n",
        "                saida(conf, '\\u2082', sm, '\\u2081\\u2080')\n",
        "            else:\n",
        "                c, s = 0, 0\n",
        "                for n in str(num):\n",
        "                    c += 1\n",
        "                    s += int(n)*2**(len(str(num))-c)\n",
        "                saida(conf, '\\u2082', s, '\\u2081\\u2080')\n",
        "        else: \n",
        "            print('\\033[1;31mO valor digitado não é um número Binário!\\033[m')\n",
        "\n",
        "    elif dec:\n",
        "        if isinstance(num, float):\n",
        "            bm, st = list(), str()\n",
        "            cm = 0 if int(num) == 0 else dec_inteiro(num)\n",
        "            while True:\n",
        "                if num > 1:\n",
        "                    num -= int(num)\n",
        "                num *= 2\n",
        "                bm.append(num)\n",
        "                if num % 1 == 0:\n",
        "                    break\n",
        "            for x in bm:\n",
        "                st += f'{str(int(x))}'\n",
        "            saida(conf, '\\u2081\\u2080', f'{cm}.{st}', '\\u2082')\n",
        "        else:\n",
        "            saida(conf,'\\u2081\\u2080', dec_inteiro(num), '\\u2082')"
      ],
      "execution_count": 81,
      "outputs": []
    },
    {
      "cell_type": "code",
      "metadata": {
        "colab": {
          "base_uri": "https://localhost:8080/"
        },
        "cellView": "form",
        "id": "CKA5oT9it4a9",
        "outputId": "1fb35c11-2ac0-4f60-c8fe-70ce8052632f"
      },
      "source": [
        "#@markdown ### Convertendo um número **Binário** em **Decimal**\n",
        "Numero_Binario =  10.111#@param\n",
        "Convert_BxD(Numero_Binario, bin=True)"
      ],
      "execution_count": 87,
      "outputs": [
        {
          "output_type": "stream",
          "name": "stdout",
          "text": [
            "(\u001b[1;32m10.111\u001b[)₂ ⟶ (\u001b[1;32m2.875\u001b[)₁₀\n"
          ]
        }
      ]
    },
    {
      "cell_type": "code",
      "metadata": {
        "colab": {
          "base_uri": "https://localhost:8080/"
        },
        "cellView": "form",
        "id": "yN69942r1Zds",
        "outputId": "9d41db5f-fb66-4227-a2b4-1fe965abeed5"
      },
      "source": [
        "#@markdown ### Convertendo um número **Decimal** em **Binário**\n",
        "Numero_Decimal =  2.875#@param\n",
        "Convert_BxD(Numero_Decimal, dec=True)"
      ],
      "execution_count": 88,
      "outputs": [
        {
          "output_type": "stream",
          "name": "stdout",
          "text": [
            "(\u001b[1;32m2.875\u001b[)₁₀ ⟶ (\u001b[1;32m10.111\u001b[)₂\n"
          ]
        }
      ]
    }
  ]
}