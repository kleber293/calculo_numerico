{
  "nbformat": 4,
  "nbformat_minor": 0,
  "metadata": {
    "colab": {
      "name": "Calculo_Numerico.ipynb",
      "provenance": [],
      "collapsed_sections": [
        "0okkjS6imtMS",
        "fqX9bcUiDDpc",
        "yJDah9hBDMn5",
        "FEkk8pt_J5hH",
        "Clj1aVzjFQ7G",
        "FswsPMDlFV-z",
        "mh2NUnuLEkEc",
        "u2ACRTABnNin",
        "cmZT80eJyLfQ",
        "AiFmztPNJDwj",
        "m1u7WhDBSxFg",
        "7jr4NM4XqDGO",
        "OyZvVfI-y1xg",
        "jkviYKCCJiks",
        "_5eOlQbKJs-f",
        "MBvipitciSJC",
        "Lo7Qes7b9Ofa",
        "Q4sdAN1zFFlo",
        "hQrn7HvPIQ8n",
        "My-iTEweWOOJ",
        "QyZoFWgS3vvS",
        "XEmAfP2ltXcC",
        "s_Wnu6PD8NXb",
        "Vb12DHLw6gH7",
        "Dpd4EeQMv60H",
        "cH4sV6v0pYAy",
        "bhi6k6TAADQ-",
        "kOHYl6DyFSdA",
        "K_tOe8_6ouX1",
        "QHCWwxY0AH49",
        "b15OhwVPo16t",
        "jKhZx8cWpC61",
        "R2ocoPDh0t9h"
      ],
      "authorship_tag": "ABX9TyMs2xhmFPOy8b5qSnmcQmbt",
      "include_colab_link": true
    },
    "kernelspec": {
      "name": "python3",
      "display_name": "Python 3"
    },
    "language_info": {
      "name": "python"
    }
  },
  "cells": [
    {
      "cell_type": "markdown",
      "metadata": {
        "id": "view-in-github",
        "colab_type": "text"
      },
      "source": [
        "<a href=\"https://colab.research.google.com/github/kleber293/calculo_numerico/blob/main/Calculo_Numerico.ipynb\" target=\"_parent\"><img src=\"https://colab.research.google.com/assets/colab-badge.svg\" alt=\"Open In Colab\"/></a>"
      ]
    },
    {
      "cell_type": "markdown",
      "metadata": {
        "id": "0okkjS6imtMS"
      },
      "source": [
        "# <div align=\"center\">$\\color{#ff6b00}{\\text{Conversões}}$</div>"
      ]
    },
    {
      "cell_type": "markdown",
      "metadata": {
        "id": "fqX9bcUiDDpc"
      },
      "source": [
        "## $\\color{#97a100}{\\text{Vídeo de apresentação}}$"
      ]
    },
    {
      "cell_type": "code",
      "metadata": {
        "colab": {
          "base_uri": "https://localhost:8080/",
          "height": 354
        },
        "id": "th9OS5ICtJVU",
        "cellView": "form",
        "outputId": "67f0f719-ad21-4bc7-c891-515a3ca2728b"
      },
      "source": [
        "#@markdown > $\\color{gray}{\\text{Este vídeo apresenta a função e as suas funcionalidades}}$\n",
        "from IPython.display import YouTubeVideo\n",
        "YouTubeVideo('HBa5ATDFg04', width=500, height=333)"
      ],
      "execution_count": null,
      "outputs": [
        {
          "output_type": "execute_result",
          "data": {
            "text/html": [
              "\n",
              "        <iframe\n",
              "            width=\"500\"\n",
              "            height=\"333\"\n",
              "            src=\"https://www.youtube.com/embed/HBa5ATDFg04\"\n",
              "            frameborder=\"0\"\n",
              "            allowfullscreen\n",
              "        ></iframe>\n",
              "        "
            ],
            "text/plain": [
              "<IPython.lib.display.YouTubeVideo at 0x7f820c9de850>"
            ],
            "image/jpeg": "[encoded data removed]"
          },
          "metadata": {},
          "execution_count": 315
        }
      ]
    },
    {
      "cell_type": "markdown",
      "metadata": {
        "id": "yJDah9hBDMn5"
      },
      "source": [
        "## $\\color{#97a100}{\\text{Binário ⇆ Decimal}}$\n"
      ]
    },
    {
      "cell_type": "markdown",
      "metadata": {
        "id": "FEkk8pt_J5hH"
      },
      "source": [
        "### $\\color{#00b6ff}{\\text{Função}}$"
      ]
    },
    {
      "cell_type": "code",
      "metadata": {
        "id": "DJhQJGUxtjyL",
        "cellView": "form"
      },
      "source": [
        "#@markdown > $\\color{gray}{\\text{convert_bxd}}$\n",
        "def convert_bxd(num, bin=False, dec=False):\n",
        "    \n",
        "    def saida(v1, b1, v2, b2):\n",
        "        print(f'(\\033[1;32m{v1}\\033[){b1}', end='')\n",
        "        print(' \\u27F6 ', end='')\n",
        "        print(f'(\\033[1;32m{v2}\\033[){b2}')\n",
        "\n",
        "    def dec_inteiro(val):\n",
        "        bn, bnr, val = list(), str(), int(val)\n",
        "        bn.append(val % 2)\n",
        "        while True:\n",
        "            d = val // 2\n",
        "            if d == 1 or d == 0:\n",
        "                bn.append(d)\n",
        "                break\n",
        "            bn.append(d % 2)\n",
        "            val = d\n",
        "        for x in reversed(bn):\n",
        "            bnr += str(x)\n",
        "        return bnr\n",
        "\n",
        "    conf = num\n",
        "    \n",
        "    if bin:\n",
        "        con = True\n",
        "        for v in str(num):\n",
        "            con *= v in '10.'\n",
        "        if bool(con):\n",
        "            if isinstance(num, float):\n",
        "                b, sm = str(num).find('.')-1, 0\n",
        "                for i in str(num).replace('.', ''):\n",
        "                    sm += int(i)*2**(b)\n",
        "                    b -= 1\n",
        "                saida(conf, '\\u2082', sm, '\\u2081\\u2080')\n",
        "            else:\n",
        "                c, s = 0, 0\n",
        "                for n in str(num):\n",
        "                    c += 1\n",
        "                    s += int(n)*2**(len(str(num))-c)\n",
        "                saida(conf, '\\u2082', s, '\\u2081\\u2080')\n",
        "        else: \n",
        "            print('\\033[1;31mO valor digitado não é um número Binário!\\033[m')\n",
        "\n",
        "    elif dec:\n",
        "        if isinstance(num, float):\n",
        "            bm, st = list(), str()\n",
        "            cm = 0 if int(num) == 0 else dec_inteiro(num)\n",
        "            while True:\n",
        "                if num > 1:\n",
        "                    num -= int(num)\n",
        "                num *= 2\n",
        "                bm.append(num)\n",
        "                if num % 1 == 0:\n",
        "                    break\n",
        "            for x in bm:\n",
        "                st += f'{str(int(x))}'\n",
        "            saida(conf, '\\u2081\\u2080', f'{cm}.{st}', '\\u2082')\n",
        "        else:\n",
        "            saida(conf,'\\u2081\\u2080', dec_inteiro(num), '\\u2082')"
      ],
      "execution_count": null,
      "outputs": []
    },
    {
      "cell_type": "markdown",
      "metadata": {
        "id": "Clj1aVzjFQ7G"
      },
      "source": [
        "### $\\color{#00b6ff}{\\text{Convertendo um número Binário em Decimal}}$\n"
      ]
    },
    {
      "cell_type": "code",
      "metadata": {
        "id": "CKA5oT9it4a9",
        "colab": {
          "base_uri": "https://localhost:8080/"
        },
        "outputId": "c8fcd3da-fa13-479c-8f56-c02edf03a4a6"
      },
      "source": [
        "Numero_Binario =  10111#@param\n",
        "convert_bxd(Numero_Binario, bin=True)"
      ],
      "execution_count": null,
      "outputs": [
        {
          "output_type": "stream",
          "name": "stdout",
          "text": [
            "(\u001b[1;32m10111\u001b[)₂ ⟶ (\u001b[1;32m23\u001b[)₁₀\n"
          ]
        }
      ]
    },
    {
      "cell_type": "markdown",
      "metadata": {
        "id": "FswsPMDlFV-z"
      },
      "source": [
        "### $\\color{#00b6ff}{\\text{Convertendo um número Decimal em Binário}}$\n"
      ]
    },
    {
      "cell_type": "code",
      "metadata": {
        "id": "yN69942r1Zds",
        "colab": {
          "base_uri": "https://localhost:8080/"
        },
        "cellView": "form",
        "outputId": "f2414946-0309-4e85-90ea-db40415643f8"
      },
      "source": [
        "Numero_Decimal =  13.25#@param\n",
        "convert_bxd(Numero_Decimal, dec=True)"
      ],
      "execution_count": null,
      "outputs": [
        {
          "output_type": "stream",
          "name": "stdout",
          "text": [
            "(\u001b[1;32m13.25\u001b[)₁₀ ⟶ (\u001b[1;32m1101.01\u001b[)₂\n"
          ]
        }
      ]
    },
    {
      "cell_type": "markdown",
      "metadata": {
        "id": "mh2NUnuLEkEc"
      },
      "source": [
        "# <div align=\"center\">$\\color{#ff6b00}{\\text{Resolução numérica de sistemas lineares}}$</div>"
      ]
    },
    {
      "cell_type": "markdown",
      "metadata": {
        "id": "u2ACRTABnNin"
      },
      "source": [
        "## $\\color{#97a100}{\\text{Métodos Exatos}}$"
      ]
    },
    {
      "cell_type": "markdown",
      "metadata": {
        "id": "cmZT80eJyLfQ"
      },
      "source": [
        "### $\\color{#00b6ff}{\\text{Método de Gauss}}$"
      ]
    },
    {
      "cell_type": "code",
      "metadata": {
        "id": "KgJgLGT6SfR6",
        "cellView": "form"
      },
      "source": [
        "\n",
        "#@markdown > $\\color{gray}{\\text{eliminacao_gauss(hea)}}$\n",
        "\n",
        "def eliminacao_gauss(hea):\n",
        "    import numpy as np\n",
        "    \n",
        "    arr = np.array(hea, dtype=np.float64, copy=True)\n",
        "    \n",
        "    def max_diagonal(arr):\n",
        "        \n",
        "        def permutation(arr, shift, end):\n",
        "            arr = np.insert(arr, end, arr[shift], axis=0)\n",
        "            finale = shift + 1 if shift > end else shift \n",
        "            arr = np.delete(arr, finale, axis=0)\n",
        "            return arr \n",
        "\n",
        "        for i in range(len(arr)):\n",
        "            arr = permutation(\n",
        "                arr,\n",
        "                np.where(arr[i:, i] == max(arr[i:, i], key=abs))[0][0] + i,\n",
        "                i\n",
        "            )\n",
        "        return arr\n",
        "\n",
        "    arr = max_diagonal(arr)\n",
        "\n",
        "    for cm in range(len(arr[0])-2): # coluna da linha da matriz\n",
        "        for l, k in zip(range(cm, len(arr)-1), range(len(arr))): # linha\n",
        "            for c in range(len(arr[0])): # coluna da linha\n",
        "                if not c:\n",
        "                    v1, v2 = arr[cm][cm], arr[cm+k+1][cm]\n",
        "                arr[cm+k+1][c] = v1*arr[cm+k+1][c]-v2*arr[cm][c]\n",
        "        arr = max_diagonal(arr)\n",
        "\n",
        "    return arr        "
      ],
      "execution_count": null,
      "outputs": []
    },
    {
      "cell_type": "code",
      "metadata": {
        "colab": {
          "base_uri": "https://localhost:8080/"
        },
        "id": "8ZSab6ZEJfKR",
        "cellView": "form",
        "outputId": "13530ad2-7c66-42e5-a606-fb6eb9cfc8c4"
      },
      "source": [
        "matriz_gauss =  [[1, 1, 2, 4], [2, -1, -1, 0], [1, -1, -1, -1]]#@param\n",
        "#@markdown > $\\color{gray}{\\text{matriz = eliminacao_gauss(matriz_gauss)}}$\n",
        "matriz = eliminacao_gauss(matriz_gauss)\n",
        "print(f'\\033[32m{matriz}'); print()\n",
        "testar_velocidade = False #@param {type:\"boolean\"}\n",
        "if testar_velocidade:\n",
        "    %timeit eliminacao_gauss(matriz_gauss)"
      ],
      "execution_count": null,
      "outputs": [
        {
          "output_type": "stream",
          "name": "stdout",
          "text": [
            "\u001b[32m[[ 2. -1. -1.  0.]\n",
            " [ 0.  3.  5.  8.]\n",
            " [ 0.  0.  2.  2.]]\n",
            "\n"
          ]
        }
      ]
    },
    {
      "cell_type": "markdown",
      "metadata": {
        "id": "AiFmztPNJDwj"
      },
      "source": [
        "### $\\color{#00b6ff}{\\text{Matriz resultado do Método de Gauss}}$\n"
      ]
    },
    {
      "cell_type": "code",
      "metadata": {
        "id": "4-hMYMpcl4S6",
        "cellView": "form"
      },
      "source": [
        "#@markdown > $\\color{gray}{\\text{resultados(hea)}}$\n",
        "\n",
        "def resultado(hea):\n",
        "    '''Entre apenas com uma matriz triangular inferior'''\n",
        "    import numpy as np\n",
        "    \n",
        "    arr = np.array(hea, dtype=np.float64, copy=True); mt = []\n",
        "    for x in reversed(range(len(arr))):\n",
        "        n = 0; s = []\n",
        "        for i, k in zip(range(x+1, len(arr)), range(1, len(arr))):\n",
        "            s.append(arr[x][i])\n",
        "            n += s[k-1]*mt[k-1]\n",
        "\n",
        "        mt.insert(0, (arr[x][len(arr)]-n)/arr.diagonal()[x])\n",
        "\n",
        "    return mt"
      ],
      "execution_count": null,
      "outputs": []
    },
    {
      "cell_type": "code",
      "metadata": {
        "colab": {
          "base_uri": "https://localhost:8080/"
        },
        "id": "zeiJmNBSKGNB",
        "cellView": "form",
        "outputId": "8b37cd29-2a22-44f5-d7f9-8e4f0de13b8c"
      },
      "source": [
        "matriz_resultados =  matriz#@param\n",
        "#@markdown > $\\color{gray}{\\text{resultado(matriz_resultados)}}$\n",
        "print(f'\\033[32mM = {resultado(matriz_resultados)}\\u1D40'); print()\n",
        "testar_velocidade = False #@param {type:\"boolean\"}\n",
        "if testar_velocidade:\n",
        "    %timeit resultado(matriz_resultados)"
      ],
      "execution_count": null,
      "outputs": [
        {
          "output_type": "stream",
          "name": "stdout",
          "text": [
            "\u001b[32mM = [1.0, 1.0, 1.0]ᵀ\n",
            "\n"
          ]
        }
      ]
    },
    {
      "cell_type": "markdown",
      "metadata": {
        "id": "m1u7WhDBSxFg"
      },
      "source": [
        "### $\\color{#00b6ff}{\\text{Método de Gauss Jordan}}$\n"
      ]
    },
    {
      "cell_type": "code",
      "metadata": {
        "id": "muuk30as4uZ7",
        "cellView": "form"
      },
      "source": [
        "#@markdown > $\\color{gray}{\\text{gauss_jordan(hea)}}$\n",
        "\n",
        "def gauss_jordan(hea):\n",
        "\n",
        "    import numpy as np\n",
        "\n",
        "    def simple(arr):\n",
        "        diag = arr.diagonal()\n",
        "        for i, x in zip(range(len(diag)), diag):\n",
        "            arr[i] = arr[i]/x\n",
        "        return arr\n",
        "\n",
        "    arr = np.array(hea, dtype=np.float64,  copy=True)\n",
        "\n",
        "    for _ in range(2): \n",
        "        bl = []\n",
        "        for i, k in zip(arr, range(len(arr))):\n",
        "            if not k-1 < 0:\n",
        "                bl.append([i[x] for x in range(k)])\n",
        "        bl = np.hstack(bl)\n",
        "\n",
        "        if len(np.where(bl > 0)[0]) != 0:\n",
        "            arr = eliminacao_gauss(arr)\n",
        "        else:\n",
        "            break\n",
        "\n",
        "    for cm in reversed(range(1, len(arr[0])-1)): # coluna da linha da matriz\n",
        "        for l, k in zip(reversed(range(cm)), range(1, len(arr))): # linha\n",
        "            for c in range(len(arr[0])): # coluna da linha\n",
        "                if not c:\n",
        "                    v1, v2 = arr[cm][cm], arr[cm-k][cm]\n",
        "\n",
        "                arr[cm-k][c] = v1*arr[cm-k][c]-v2*arr[cm][c]\n",
        "            simple(arr)\n",
        "    return arr"
      ],
      "execution_count": null,
      "outputs": []
    },
    {
      "cell_type": "code",
      "metadata": {
        "colab": {
          "base_uri": "https://localhost:8080/"
        },
        "id": "oD5DwgUj4zrq",
        "cellView": "form",
        "outputId": "4984a19a-c198-4076-f10e-b2fd6d14ae8b"
      },
      "source": [
        "matriz_gauss_jordan = [[1, 1, 2, 4], [2, -1, -1, 0], [1, -1, -1, -1]]#@param\n",
        "#@markdown > $\\color{gray}{\\text{gauss_jordan(matriz_gauss_jordan)}}$\n",
        "arr = gauss_jordan(matriz_gauss_jordan)\n",
        "print(f'\\033[32m{arr}'); print()\n",
        "testar_velocidade = False #@param {type:\"boolean\"}\n",
        "if testar_velocidade:\n",
        "    %timeit gauss_jordan(matriz_gauss_jordan)"
      ],
      "execution_count": null,
      "outputs": [
        {
          "output_type": "stream",
          "name": "stdout",
          "text": [
            "\u001b[32m[[1. 0. 0. 1.]\n",
            " [0. 1. 0. 1.]\n",
            " [0. 0. 1. 1.]]\n",
            "\n"
          ]
        }
      ]
    },
    {
      "cell_type": "markdown",
      "metadata": {
        "id": "7jr4NM4XqDGO"
      },
      "source": [
        "## $\\color{#97a100}{Métodos Abertos}$"
      ]
    },
    {
      "cell_type": "markdown",
      "metadata": {
        "id": "OyZvVfI-y1xg"
      },
      "source": [
        "### $\\color{#00b6ff}{\\text{Critérios de convergência}}$\n"
      ]
    },
    {
      "cell_type": "markdown",
      "metadata": {
        "id": "jkviYKCCJiks"
      },
      "source": [
        "#### $\\color{#0097ff}{\\text{Descrição}}$"
      ]
    },
    {
      "cell_type": "markdown",
      "metadata": {
        "id": "piA1ykK0jtNT"
      },
      "source": [
        "O processo interativo\n",
        "$$x^{(k+1)}=Bx^{(k)}+d$$\n",
        "Converge para a solução $\\textbf{se e somente se}$\n",
        "$$max\\{|\\lambda_i|\\}<1,\\qquad\\lambda_i\\:\\text{autovalores de}\\:B$$\n",
        "\n",
        "$\\color{gray}{Fonte:}$ [Aqui](https://youtu.be/0KhoP01Ir9g)"
      ]
    },
    {
      "cell_type": "markdown",
      "metadata": {
        "id": "_5eOlQbKJs-f"
      },
      "source": [
        "#### $\\color{#0097ff}{\\text{Programa}}$"
      ]
    },
    {
      "cell_type": "code",
      "metadata": {
        "id": "24FTYomyiSuZ",
        "cellView": "form"
      },
      "source": [
        "#@markdown > $\\color{gray}{\\text{convergencia(arr)}}$\n",
        "\n",
        "def convergencia(arr):\n",
        "    \"\"\"\n",
        "        Retorna uma str afirmando ou negando se a matriz converge\n",
        "    \"\"\"\n",
        "    \n",
        "    def interacao(arr):\n",
        "        \"\"\"\n",
        "            Retorna uma matriz quadrada gerada pelo processo de interação \n",
        "        \"\"\"\n",
        "        arr = np.array(arr, dtype=np.float64, copy=True)\n",
        "\n",
        "        if len(arr[0]) == len(arr)+1:\n",
        "            arr = np.delete(arr, -1, 1)\n",
        "\n",
        "        for j in range(len(arr)): # colunas\n",
        "            for i in range(len(arr[0])): #linhas\n",
        "                if j != i:\n",
        "                    arr[j][i] = -1*arr[j][i]/arr.diagonal()[j]\n",
        "            arr[j][j] = 0\n",
        "        return arr\n",
        "\n",
        "    # ---------------\n",
        "    \n",
        "    import numpy as np\n",
        "\n",
        "    arr = np.array(arr, dtype=np.float64, copy=True)\n",
        "    arr = interacao(arr)\n",
        "    \n",
        "    if len(arr[0]) == len(arr):\n",
        "        auto_v = np.linalg.eigvals(arr)\n",
        "        \n",
        "        if np.max(abs(auto_v)) < 1:\n",
        "            msg = '\\033[32mA matriz converge\\033[' # mensagem em verde\n",
        "        else:\n",
        "            msg = '\\033[31mA matriz diverge\\033[' # mensagem em vermelho\n",
        "    else:\n",
        "        msg = f'\\033[31mErro! M[{len(arr[0])}][{len(arr)}]\\033[' # mensagem de erro em vermelho\n",
        "\n",
        "    return f'{msg}\\n{abs(auto_v)}'\n",
        "\n",
        "# convergencia([[15, 5, -5, 30], [4, -20, 1, 23], [2, -2, 8, -10]])\n",
        "# convergencia([[3, 4, -2, 13], [-1, 3, 5, 0], [-4, 4, 2, 2]])"
      ],
      "execution_count": null,
      "outputs": []
    },
    {
      "cell_type": "code",
      "metadata": {
        "colab": {
          "base_uri": "https://localhost:8080/"
        },
        "cellView": "form",
        "id": "v3iZQDTdbyYw",
        "outputId": "c1ff7a27-3bb4-4870-b957-a428f712ad30"
      },
      "source": [
        "Matriz_1 = True #@param {type:\"boolean\"}\n",
        "if Matriz_1:\n",
        "    Matriz_01 =  [[2, -1, 1], [1, 2, 3]]#@param\n",
        "    print(convergencia(Matriz_01))\n",
        "Matriz_2 = False #@param {type:\"boolean\"}\n",
        "if Matriz_2:\n",
        "    Matriz_02 =  [[1, 1, 2, 4], [2, -1, -1, 0], [1, -1, -1, -1]]#@param\n",
        "    print(convergencia(Matriz_02))"
      ],
      "execution_count": null,
      "outputs": [
        {
          "output_type": "stream",
          "name": "stdout",
          "text": [
            "\u001b[32mA matriz converge\u001b[\n",
            "[0.5 0.5]\n"
          ]
        }
      ]
    },
    {
      "cell_type": "markdown",
      "metadata": {
        "id": "MBvipitciSJC"
      },
      "source": [
        "### $\\color{#00b6ff}{\\text{Método de Jacobi}}$\n"
      ]
    },
    {
      "cell_type": "code",
      "metadata": {
        "id": "yaxfm3_s9Jw_",
        "cellView": "form"
      },
      "source": [
        "#@markdown > $\\color{gray}{\\text{m_jacobi(hea, ci=[0, 0, 0], ni=10, tc=2, trc=False, permu=True)}}$\n",
        "\n",
        "def m_jacobi(hea, ci=[0, 0, 0], ni=10, tc=2, trc=False, permu=True):\n",
        "\n",
        "    import numpy as np\n",
        "\n",
        "    def trunc(arr1, arr2, tr=2):\n",
        "        '''\n",
        "            Retorna um booleano se arr1 == arr2, para o descimal definido\n",
        "        '''\n",
        "\n",
        "        def truncv(values, decs=0):\n",
        "            values = np.array(values)\n",
        "            return np.trunc(values*10**decs)/(10**decs)\n",
        "\n",
        "        arr1, arr2 = truncv(arr1, decs=tr), truncv(arr2, decs=tr)\n",
        "\n",
        "        comp = np.all([arr1==arr2, [True for _ in range(len(arr1))]]) \n",
        "        return comp\n",
        "\n",
        "    def v(arr, cond, line=0):\n",
        "        '''\n",
        "            Retorna uma matriz solução\n",
        "        '''\n",
        "        \n",
        "        def max_diagonal(arr):\n",
        "                \n",
        "            def permutation(arr, shift, end):\n",
        "                arr = np.insert(arr, end, arr[shift], axis=0)\n",
        "                finale = shift + 1 if shift > end else shift \n",
        "                arr = np.delete(arr, finale, axis=0)\n",
        "                return arr \n",
        "\n",
        "            for i in range(len(arr)):\n",
        "                arr = permutation(\n",
        "                    arr,\n",
        "                    np.where(arr[i:, i] == max(arr[i:, i], key=abs))[0][0] + i,\n",
        "                    i\n",
        "                )\n",
        "            return arr\n",
        "        if permu:\n",
        "            arr = max_diagonal(arr)\n",
        "\n",
        "        n, rs = [arr[line][-1]], 0\n",
        "        n.append(\n",
        "            [x*i for x, i, c in zip(arr[line], cond, range(len(arr[0])))\n",
        "            if c != line]\n",
        "        )\n",
        "        for k in n[1]:\n",
        "            rs += k\n",
        "        x = (n[0]-rs)/arr[line][line]\n",
        "\n",
        "        return x\n",
        "\n",
        "    \n",
        "    ci = [ci]; arr = np.array(hea, dtype=np.float64, copy=True)\n",
        "\n",
        "    for j in range(ni):\n",
        "        ci.append([])\n",
        "        for i in range(len(arr)):\n",
        "            ci[j+1].append(v(arr, ci[j], line=i))\n",
        "        \n",
        "        if trc:\n",
        "            if trunc(ci[j], ci[j+1], tr=tc):\n",
        "                break\n",
        "    \n",
        "    return ci"
      ],
      "execution_count": null,
      "outputs": []
    },
    {
      "cell_type": "code",
      "metadata": {
        "colab": {
          "base_uri": "https://localhost:8080/"
        },
        "id": "ICUBvDaN-wtu",
        "cellView": "form",
        "outputId": "7fd4e653-e1a0-4c5a-dcff-04fbb4ee79c8"
      },
      "source": [
        "import numpy as np\n",
        "\n",
        "matriz_m_jacobi = [[2, -1, 1], [1, 2, 3]]#@param\n",
        "condicoes_iniciais =  [0, 0]#@param\n",
        "loops = 10 #@param {type:\"slider\", min:0, max:150, step:1}\n",
        "trun = False #@param {type:\"boolean\"}\n",
        "permutacao = False #@param {type:\"boolean\"}\n",
        "truncamento_decimal = 3 #@param {type:\"slider\", min:1, max:10, step:1}\n",
        "#@markdown > $\\color{gray}{\\text{matriz_j = m_jacobi(matriz_m_jacobi, ci=condicoes_iniciais, ni=loops, tc = truncamento_decimal, trc=trun, permu=permutacao)}}$\n",
        "matriz_j = np.array(m_jacobi(matriz_m_jacobi, ci=condicoes_iniciais, ni=loops, tc = truncamento_decimal, trc=trun, permu=permutacao), dtype=np.float64)\n",
        "# print(f'\\033[32m{matriz_j}'); print()\n",
        "print(f'\\033[32m{matriz_j}'); print()\n",
        "testar_velocidade = False #@param {type:\"boolean\"}\n",
        "if testar_velocidade:\n",
        "    %timeit m_jacobi(matriz_m_jacobi, ci=condicoes_iniciais, ni=loops, tc = truncamento_decimal, trc=trun, permu=permutacao)"
      ],
      "execution_count": null,
      "outputs": [
        {
          "output_type": "stream",
          "name": "stdout",
          "text": [
            "\u001b[32m[[0.         0.        ]\n",
            " [0.5        1.5       ]\n",
            " [1.25       1.25      ]\n",
            " [1.125      0.875     ]\n",
            " [0.9375     0.9375    ]\n",
            " [0.96875    1.03125   ]\n",
            " [1.015625   1.015625  ]\n",
            " [1.0078125  0.9921875 ]\n",
            " [0.99609375 0.99609375]\n",
            " [0.99804688 1.00195312]\n",
            " [1.00097656 1.00097656]]\n",
            "\n"
          ]
        }
      ]
    },
    {
      "cell_type": "markdown",
      "metadata": {
        "id": "Lo7Qes7b9Ofa"
      },
      "source": [
        "### $\\color{#00b6ff}{\\text{Método de Gauss Seidel}}$\n"
      ]
    },
    {
      "cell_type": "code",
      "metadata": {
        "id": "f3LZTlcc0r63",
        "cellView": "form"
      },
      "source": [
        "#@markdown > $\\color{gray}{\\text{gauss_saidel(hea, ci=[0, 0, 0], ni=10, tc=2, trc=False, permu=True)}}$\n",
        "\n",
        "def gauss_saidel(hea, ci=[0, 0, 0], ni=10, tc=2, trc=False, permu=True):\n",
        "\n",
        "    import numpy as np\n",
        "\n",
        "    def trunc(arr1, arr2, tr=2):\n",
        "        '''\n",
        "            Retorna um booleano se arr1 == arr2\n",
        "        '''\n",
        "\n",
        "        def truncv(values, decs=0):\n",
        "            values = np.array(values)\n",
        "            return np.trunc(values*10**decs)/(10**decs)\n",
        "\n",
        "        arr1, arr2 = truncv(arr1, decs=tr), truncv(arr2, decs=tr)\n",
        "\n",
        "        comp = np.all([arr1==arr2, [True for _ in range(len(arr1))]]) \n",
        "        return comp\n",
        "\n",
        "    def v(arr, cond, line=0):\n",
        "        '''\n",
        "            Retorna uma matriz solução\n",
        "        '''\n",
        "        \n",
        "        def max_diagonal(arr):\n",
        "                \n",
        "            def permutation(arr, shift, end):\n",
        "                arr = np.insert(arr, end, arr[shift], axis=0)\n",
        "                finale = shift + 1 if shift > end else shift \n",
        "                arr = np.delete(arr, finale, axis=0)\n",
        "                return arr \n",
        "\n",
        "            for i in range(len(arr)):\n",
        "                arr = permutation(\n",
        "                    arr,\n",
        "                    np.where(arr[i:, i] == max(arr[i:, i], key=abs))[0][0] + i,\n",
        "                    i\n",
        "                )\n",
        "            return arr\n",
        "        if permu:\n",
        "            arr = max_diagonal(arr)\n",
        "\n",
        "        n, rs = [arr[line][-1]], 0\n",
        "        n.append(\n",
        "            [x*i for x, i, c in zip(arr[line], cond, range(len(arr[0])))\n",
        "            if c != line]\n",
        "        )\n",
        "        for k in n[1]:\n",
        "            rs += k\n",
        "        x = (n[0]-rs)/arr[line][line]\n",
        "\n",
        "        return x\n",
        "\n",
        "    \n",
        "    arr = np.array(hea, dtype=np.float64, copy=True)\n",
        "    hist = np.array([ci], dtype=np.float64, copy=True)\n",
        "\n",
        "    for j in range(1, ni+1):\n",
        "        for i in range(len(arr)):\n",
        "            ci[i] = v(arr, ci, line=i)\n",
        "        \n",
        "        hist = np.append(hist, [ci], axis=0)\n",
        "\n",
        "        if trc:\n",
        "            if trunc(hist[j-1], hist[j], tr=tc):\n",
        "                break\n",
        "    return hist"
      ],
      "execution_count": null,
      "outputs": []
    },
    {
      "cell_type": "code",
      "metadata": {
        "colab": {
          "base_uri": "https://localhost:8080/"
        },
        "id": "HSBnLVR1A42E",
        "cellView": "form",
        "outputId": "a3501a07-6da5-4060-d551-afa12e4a2d7e"
      },
      "source": [
        "import numpy as np\n",
        "\n",
        "matriz_g_saidel = [[2, -1, 1], [1, 2, 3]]#@param\n",
        "condicoes_iniciais2 =  [0, 0]#@param\n",
        "loops2 = 10 #@param {type:\"slider\", min:0, max:150, step:1}\n",
        "trun2 = False #@param {type:\"boolean\"}\n",
        "permutacao2 = False #@param {type: \"boolean\"}\n",
        "truncamento_decimal2 = 3 #@param {type:\"slider\", min:1, max:10, step:1}\n",
        "#@markdown > $\\color{gray}{\\text{matriz_j = gauss_saidel(matriz_g_saidel, ci=condicoes_iniciais2, ni=loops2, tc = truncamento_decimal2, trc=trun2, permu=permutacao2)}}$\n",
        "matriz_j = np.array(gauss_saidel(matriz_g_saidel, ci=condicoes_iniciais2, ni=loops2, tc = truncamento_decimal2, trc=trun2, permu=permutacao2))\n",
        "# print(f'\\033[32m{matriz_j}'); print()\n",
        "print(f'\\033[32m{matriz_j}'); print()\n",
        "testar_velocidade = False #@param {type:\"boolean\"}\n",
        "if testar_velocidade:\n",
        "    %timeit gauss_saidel(matriz_g_saidel, ci=condicoes_iniciais2, ni=loops2, tc = truncamento_decimal2, trc=trun2, permu=permutacao2)"
      ],
      "execution_count": null,
      "outputs": [
        {
          "output_type": "stream",
          "name": "stdout",
          "text": [
            "\u001b[32m[[0.         0.        ]\n",
            " [0.5        1.25      ]\n",
            " [1.125      0.9375    ]\n",
            " [0.96875    1.015625  ]\n",
            " [1.0078125  0.99609375]\n",
            " [0.99804688 1.00097656]\n",
            " [1.00048828 0.99975586]\n",
            " [0.99987793 1.00006104]\n",
            " [1.00003052 0.99998474]\n",
            " [0.99999237 1.00000381]\n",
            " [1.00000191 0.99999905]]\n",
            "\n"
          ]
        }
      ]
    },
    {
      "cell_type": "markdown",
      "metadata": {
        "id": "kiNZR7WlHAMp"
      },
      "source": [
        "# <div align=\"center\">$\\color{#ff6b00}{\\text{Resolução numérica de equações}}$</div>"
      ]
    },
    {
      "cell_type": "markdown",
      "metadata": {
        "id": "WqBNFSBp8vG-"
      },
      "source": [
        "REFERÊNCIA\n",
        "\n",
        "\n",
        "> $\\color{gray}{\\text{BARROSO, Leônidas Conceição. $\\textbf{Cálculo numérico}$. São Paulo: Harper & Row do Brasil, 1983}}$\n",
        "\n",
        "> $\\color{gray}{\\text{MÁRCIA, Gomes Ruggiero A. $\\textbf{Cálculo numérico}$. Aspectos teóricos e computacionais. São Paulo: Person, 1996}}$"
      ]
    },
    {
      "cell_type": "markdown",
      "metadata": {
        "id": "Q4sdAN1zFFlo"
      },
      "source": [
        "### $\\color{#97a100}{\\text{Teorema 3.1: Teorema de Bolzano}}$"
      ]
    },
    {
      "cell_type": "markdown",
      "metadata": {
        "id": "lvcLBPG-FsCi"
      },
      "source": [
        "Se uma função contínua $f(x)$ assume valores de sinais opostos nos pontos extremos do intervalo $[a,\\:b]$, isto é $f(a)\\cdot f(b)<0$, então o intervalo conterá, no mínimo, uma raiz da equação $f(x)=0$.}\n",
        "\n",
        "$\\color{gray}{\\text{BARROSO (1983)}}$"
      ]
    },
    {
      "cell_type": "markdown",
      "metadata": {
        "id": "hQrn7HvPIQ8n"
      },
      "source": [
        "### $\\color{#97a100}{\\text{Bissecção}}$\n"
      ]
    },
    {
      "cell_type": "markdown",
      "metadata": {
        "id": "My-iTEweWOOJ"
      },
      "source": [
        "#### $\\color{#00b6ff}{\\text{Descrição 3.4.1}}$"
      ]
    },
    {
      "cell_type": "markdown",
      "metadata": {
        "id": "Egh2ZhTXWbGO"
      },
      "source": [
        "Seja $f(x)$ uma função contínua no intervalo $[a,b]$ e $f(a)\\cdot f(b)<0$.\n",
        "\n",
        "\n",
        "Dividindo o intervalo $[a,b]$ ao meio, obtém-se $x_0$, havendo, pois, dois subintervalos, $[a,x_0]$ e $[x_0,b]$, a ser considerados.\n",
        "\n",
        "\n",
        "Se $f(x_0)=0$, então $\\xi=x_0$; caso contrário, a raiz estará no subintervalo onde a função tem sinais opostos nos pontos extremos, ou seja, se $f(a)\\cdot f(x_0)<0$, então $\\xi\\in(a,x_0)$; senão $f(a)\\cdot f(x_0)>0$ e $\\xi\\in(x_0, b)$.\n",
        "\n",
        "\n",
        "O novo intervalo $[a_1, b_1]$ que contém $\\xi$ é diviidido ao meio e obtém-se o ponto $x_1$. O processo se repete até que se obtenha uma aproximação para a raiz exata $\\xi$, com a tolerância $\\epsilon$ desejada.\n",
        "\n",
        "\n",
        "$\\color{gray}{\\text{BARROSO (1983)}}$"
      ]
    },
    {
      "cell_type": "markdown",
      "metadata": {
        "id": "QyZoFWgS3vvS"
      },
      "source": [
        "#### $\\color{#00b6ff}{Programa}$"
      ]
    },
    {
      "cell_type": "code",
      "metadata": {
        "id": "C0-dParQISg2",
        "cellView": "form"
      },
      "source": [
        "#@markdown > $\\color{gray}{\\text{bisseccao(a, b, n=100, e=0.001)}}$\n",
        "\n",
        "def bisseccao(a, b, n=100, e=0.001):\n",
        "\n",
        "    for l in range(n):\n",
        "        xi = a if l == 0 else x\n",
        "        x = (a+b)/2\n",
        "        if f(a) == 0 or f(b) == 0 or abs((x-xi)/x) < e:\n",
        "            raiz = a if f(a) == 0 else raiz\n",
        "            raiz = b if f(b) == 0 else raiz\n",
        "            break\n",
        "\n",
        "        else:\n",
        "            a = x if f(x) * f(a) > 0 else a \n",
        "            b = x if f(x) * f(b) > 0 else b\n",
        "            raiz = x\n",
        "\n",
        "    return (raiz, l, abs((x-xi)/x))"
      ],
      "execution_count": 120,
      "outputs": []
    },
    {
      "cell_type": "code",
      "metadata": {
        "colab": {
          "base_uri": "https://localhost:8080/",
          "height": 585
        },
        "id": "07H1U02UKgnB",
        "cellView": "form",
        "outputId": "4bd777f8-5714-401f-f869-5373ca9ab55c"
      },
      "source": [
        "import numpy as np\n",
        "f = lambda x: np.exp(-x)+x/5-1 #@param\n",
        "\n",
        "RUM = True #@param {type:\"boolean\"}\n",
        "if RUM:\n",
        "    a =  4#@param {type:\"number\"}\n",
        "    b = 6 #@param {type:\"number\"}\n",
        "    error = 1e-10 #@param {type:\"slider\", min:1e-10, max:0.1, step:0.0001}\n",
        "    loops = 72 #@param {type:\"slider\", min:1, max:100}\n",
        "    bissec = bisseccao(a, b, loops, error)\n",
        "    print(f'\\033[32mA raiz encontrada foi \\033[34m{bissec[0]}\\033[')\n",
        "    print(f'\\033[32mO programa rodou \\033[34m{bissec[1]}\\033[32m vezes\\033[')\n",
        "    print(f'\\033[32mA diferença dos intervalos é \\033[34m{bissec[2]}\\033[')\n",
        "\n",
        "PLOTAR_GRAFICO = True #@param {type:\"boolean\"}\n",
        "if PLOTAR_GRAFICO:\n",
        "\n",
        "    import plotly.express as px\n",
        "    y = np.exp(-x)+x/5-1 #@param\n",
        "    x = np.linspace(a-a/2, b+b/2)\n",
        "    fig = px.line()\n",
        "    print()\n",
        "    fig.update_layout(width=700,height=500)\n",
        "    fig.update_yaxes(zeroline=True, zerolinecolor='#000000')\n",
        "    fig.add_scatter(x=x, y=y, name=\"f(x)\")\n",
        "    fig.add_scatter(x=[bisseccao(a, b, loops, error)[0]], y=[0], name=\"raiz\")\n",
        "    fig.show()\n",
        "\n",
        "TESTE_VELOCIDADE = False #@param {type:\"boolean\"}\n",
        "if TESTE_VELOCIDADE:\n",
        "    %timeit corda(a, b, loops, error)"
      ],
      "execution_count": 121,
      "outputs": [
        {
          "output_type": "stream",
          "name": "stdout",
          "text": [
            "\u001b[32mA raiz encontrada foi \u001b[34m4.965114231221378\u001b[\n",
            "\u001b[32mO programa rodou \u001b[34m31\u001b[32m vezes\u001b[\n",
            "\u001b[32mA diferença dos intervalos é \u001b[34m9.378662112865781e-11\u001b[\n",
            "\n"
          ]
        },
        {
          "output_type": "display_data",
          "data": {
            "text/html": [
              "<html>\n",
              "<head><meta charset=\"utf-8\" /></head>\n",
              "<body>\n",
              "    <div>\n",
              "            <script src=\"https://cdnjs.cloudflare.com/ajax/libs/mathjax/2.7.5/MathJax.js?config=TeX-AMS-MML_SVG\"></script><script type=\"text/javascript\">if (window.MathJax) {MathJax.Hub.Config({SVG: {font: \"STIX-Web\"}});}</script>\n",
              "                <script type=\"text/javascript\">window.PlotlyConfig = {MathJaxConfig: 'local'};</script>\n",
              "        <script src=\"https://cdn.plot.ly/plotly-latest.min.js\"></script>    \n",
              "            <div id=\"edaea5b9-7f20-4a23-9c17-51a8a733efa7\" class=\"plotly-graph-div\" style=\"height:500px; width:700px;\"></div>\n",
              "            <script type=\"text/javascript\">\n",
              "                \n",
              "                    window.PLOTLYENV=window.PLOTLYENV || {};\n",
              "                    \n",
              "                if (document.getElementById(\"edaea5b9-7f20-4a23-9c17-51a8a733efa7\")) {\n",
              "                    Plotly.newPlot(\n",
              "                        'edaea5b9-7f20-4a23-9c17-51a8a733efa7',\n",
              "                        [{\"name\": \"f(x)\", \"type\": \"scatter\", \"x\": [2.0, 2.142857142857143, 2.2857142857142856, 2.4285714285714284, 2.571428571428571, 2.7142857142857144, 2.857142857142857, 3.0, 3.142857142857143, 3.2857142857142856, 3.4285714285714284, 3.571428571428571, 3.7142857142857144, 3.8571428571428568, 4.0, 4.142857142857142, 4.285714285714286, 4.428571428571429, 4.571428571428571, 4.7142857142857135, 4.857142857142857, 5.0, 5.142857142857142, 5.285714285714286, 5.428571428571429, 5.571428571428571, 5.7142857142857135, 5.857142857142857, 6.0, 6.142857142857142, 6.285714285714286, 6.428571428571428, 6.571428571428571, 6.714285714285714, 6.857142857142857, 7.0, 7.142857142857142, 7.285714285714286, 7.428571428571428, 7.571428571428571, 7.7142857142857135, 7.857142857142857, 8.0, 8.142857142857142, 8.285714285714285, 8.428571428571427, 8.571428571428571, 8.714285714285714, 8.857142857142858, 9.0], \"y\": [-0.4646647167633873, -0.45410940533432065, -0.441155750552916, -0.42612302492335685, -0.4092879987235176, -0.39089059799059545, -0.37113880930381127, -0.35021293163213607, -0.3282692621671188, -0.30544329148990623, -0.2818524733909188, -0.2575986259653138, -0.23277001306957756, -0.20744314869024538, -0.18168436111126574, -0.15555114885612287, -0.12909335612409245, -0.10235419174995808, -0.07537111251766748, -0.048176588885420424, -0.020798768775825205, 0.006737946999085365, 0.0344124059146238, 0.06220627131461476, 0.09010364755706424, 0.1180907550612258, 0.14615564861308195, 0.17428797317059352, 0.20247875217666622, 0.23072020405233817, 0.25900558311878275, 0.28732904169610607, 0.31568551055984395, 0.34407059531133855, 0.3724804865435112, 0.4009118819655544, 0.42936191889454833, 0.4578281157339361, 0.4863083212425059, 0.5148006705567949, 0.5433035470678804, 0.5718155493732153, 0.6003354626279025, 0.6288622337097494, 0.657394949690401, 0.6859328191724432, 0.714475156110947, 0.7430213657887255, 0.7715709326585929, 0.8001234098040868]}, {\"name\": \"raiz\", \"type\": \"scatter\", \"x\": [4.965114231221378], \"y\": [0]}],\n",
              "                        {\"height\": 500, \"legend\": {\"tracegroupgap\": 0}, \"margin\": {\"t\": 60}, \"template\": {\"data\": {\"bar\": [{\"error_x\": {\"color\": \"#2a3f5f\"}, \"error_y\": {\"color\": \"#2a3f5f\"}, \"marker\": {\"line\": {\"color\": \"#E5ECF6\", \"width\": 0.5}}, \"type\": \"bar\"}], \"barpolar\": [{\"marker\": {\"line\": {\"color\": \"#E5ECF6\", \"width\": 0.5}}, \"type\": \"barpolar\"}], \"carpet\": [{\"aaxis\": {\"endlinecolor\": \"#2a3f5f\", \"gridcolor\": \"white\", \"linecolor\": \"white\", \"minorgridcolor\": \"white\", \"startlinecolor\": \"#2a3f5f\"}, \"baxis\": {\"endlinecolor\": \"#2a3f5f\", \"gridcolor\": \"white\", \"linecolor\": \"white\", \"minorgridcolor\": \"white\", \"startlinecolor\": \"#2a3f5f\"}, \"type\": \"carpet\"}], \"choropleth\": [{\"colorbar\": {\"outlinewidth\": 0, \"ticks\": \"\"}, \"type\": \"choropleth\"}], \"contour\": [{\"colorbar\": {\"outlinewidth\": 0, \"ticks\": \"\"}, \"colorscale\": [[0.0, \"#0d0887\"], [0.1111111111111111, \"#46039f\"], [0.2222222222222222, \"#7201a8\"], [0.3333333333333333, \"#9c179e\"], [0.4444444444444444, \"#bd3786\"], [0.5555555555555556, \"#d8576b\"], [0.6666666666666666, \"#ed7953\"], [0.7777777777777778, \"#fb9f3a\"], [0.8888888888888888, \"#fdca26\"], [1.0, \"#f0f921\"]], \"type\": \"contour\"}], \"contourcarpet\": [{\"colorbar\": {\"outlinewidth\": 0, \"ticks\": \"\"}, \"type\": \"contourcarpet\"}], \"heatmap\": [{\"colorbar\": {\"outlinewidth\": 0, \"ticks\": \"\"}, \"colorscale\": [[0.0, \"#0d0887\"], [0.1111111111111111, \"#46039f\"], [0.2222222222222222, \"#7201a8\"], [0.3333333333333333, \"#9c179e\"], [0.4444444444444444, \"#bd3786\"], [0.5555555555555556, \"#d8576b\"], [0.6666666666666666, \"#ed7953\"], [0.7777777777777778, \"#fb9f3a\"], [0.8888888888888888, \"#fdca26\"], [1.0, \"#f0f921\"]], \"type\": \"heatmap\"}], \"heatmapgl\": [{\"colorbar\": {\"outlinewidth\": 0, \"ticks\": \"\"}, \"colorscale\": [[0.0, \"#0d0887\"], [0.1111111111111111, \"#46039f\"], [0.2222222222222222, \"#7201a8\"], [0.3333333333333333, \"#9c179e\"], [0.4444444444444444, \"#bd3786\"], [0.5555555555555556, \"#d8576b\"], [0.6666666666666666, \"#ed7953\"], [0.7777777777777778, \"#fb9f3a\"], [0.8888888888888888, \"#fdca26\"], [1.0, \"#f0f921\"]], \"type\": \"heatmapgl\"}], \"histogram\": [{\"marker\": {\"colorbar\": {\"outlinewidth\": 0, \"ticks\": \"\"}}, \"type\": \"histogram\"}], \"histogram2d\": [{\"colorbar\": {\"outlinewidth\": 0, \"ticks\": \"\"}, \"colorscale\": [[0.0, \"#0d0887\"], [0.1111111111111111, \"#46039f\"], [0.2222222222222222, \"#7201a8\"], [0.3333333333333333, \"#9c179e\"], [0.4444444444444444, \"#bd3786\"], [0.5555555555555556, \"#d8576b\"], [0.6666666666666666, \"#ed7953\"], [0.7777777777777778, \"#fb9f3a\"], [0.8888888888888888, \"#fdca26\"], [1.0, \"#f0f921\"]], \"type\": \"histogram2d\"}], \"histogram2dcontour\": [{\"colorbar\": {\"outlinewidth\": 0, \"ticks\": \"\"}, \"colorscale\": [[0.0, \"#0d0887\"], [0.1111111111111111, \"#46039f\"], [0.2222222222222222, \"#7201a8\"], [0.3333333333333333, \"#9c179e\"], [0.4444444444444444, \"#bd3786\"], [0.5555555555555556, \"#d8576b\"], [0.6666666666666666, \"#ed7953\"], [0.7777777777777778, \"#fb9f3a\"], [0.8888888888888888, \"#fdca26\"], [1.0, \"#f0f921\"]], \"type\": \"histogram2dcontour\"}], \"mesh3d\": [{\"colorbar\": {\"outlinewidth\": 0, \"ticks\": \"\"}, \"type\": \"mesh3d\"}], \"parcoords\": [{\"line\": {\"colorbar\": {\"outlinewidth\": 0, \"ticks\": \"\"}}, \"type\": \"parcoords\"}], \"pie\": [{\"automargin\": true, \"type\": \"pie\"}], \"scatter\": [{\"marker\": {\"colorbar\": {\"outlinewidth\": 0, \"ticks\": \"\"}}, \"type\": \"scatter\"}], \"scatter3d\": [{\"line\": {\"colorbar\": {\"outlinewidth\": 0, \"ticks\": \"\"}}, \"marker\": {\"colorbar\": {\"outlinewidth\": 0, \"ticks\": \"\"}}, \"type\": \"scatter3d\"}], \"scattercarpet\": [{\"marker\": {\"colorbar\": {\"outlinewidth\": 0, \"ticks\": \"\"}}, \"type\": \"scattercarpet\"}], \"scattergeo\": [{\"marker\": {\"colorbar\": {\"outlinewidth\": 0, \"ticks\": \"\"}}, \"type\": \"scattergeo\"}], \"scattergl\": [{\"marker\": {\"colorbar\": {\"outlinewidth\": 0, \"ticks\": \"\"}}, \"type\": \"scattergl\"}], \"scattermapbox\": [{\"marker\": {\"colorbar\": {\"outlinewidth\": 0, \"ticks\": \"\"}}, \"type\": \"scattermapbox\"}], \"scatterpolar\": [{\"marker\": {\"colorbar\": {\"outlinewidth\": 0, \"ticks\": \"\"}}, \"type\": \"scatterpolar\"}], \"scatterpolargl\": [{\"marker\": {\"colorbar\": {\"outlinewidth\": 0, \"ticks\": \"\"}}, \"type\": \"scatterpolargl\"}], \"scatterternary\": [{\"marker\": {\"colorbar\": {\"outlinewidth\": 0, \"ticks\": \"\"}}, \"type\": \"scatterternary\"}], \"surface\": [{\"colorbar\": {\"outlinewidth\": 0, \"ticks\": \"\"}, \"colorscale\": [[0.0, \"#0d0887\"], [0.1111111111111111, \"#46039f\"], [0.2222222222222222, \"#7201a8\"], [0.3333333333333333, \"#9c179e\"], [0.4444444444444444, \"#bd3786\"], [0.5555555555555556, \"#d8576b\"], [0.6666666666666666, \"#ed7953\"], [0.7777777777777778, \"#fb9f3a\"], [0.8888888888888888, \"#fdca26\"], [1.0, \"#f0f921\"]], \"type\": \"surface\"}], \"table\": [{\"cells\": {\"fill\": {\"color\": \"#EBF0F8\"}, \"line\": {\"color\": \"white\"}}, \"header\": {\"fill\": {\"color\": \"#C8D4E3\"}, \"line\": {\"color\": \"white\"}}, \"type\": \"table\"}]}, \"layout\": {\"annotationdefaults\": {\"arrowcolor\": \"#2a3f5f\", \"arrowhead\": 0, \"arrowwidth\": 1}, \"coloraxis\": {\"colorbar\": {\"outlinewidth\": 0, \"ticks\": \"\"}}, \"colorscale\": {\"diverging\": [[0, \"#8e0152\"], [0.1, \"#c51b7d\"], [0.2, \"#de77ae\"], [0.3, \"#f1b6da\"], [0.4, \"#fde0ef\"], [0.5, \"#f7f7f7\"], [0.6, \"#e6f5d0\"], [0.7, \"#b8e186\"], [0.8, \"#7fbc41\"], [0.9, \"#4d9221\"], [1, \"#276419\"]], \"sequential\": [[0.0, \"#0d0887\"], [0.1111111111111111, \"#46039f\"], [0.2222222222222222, \"#7201a8\"], [0.3333333333333333, \"#9c179e\"], [0.4444444444444444, \"#bd3786\"], [0.5555555555555556, \"#d8576b\"], [0.6666666666666666, \"#ed7953\"], [0.7777777777777778, \"#fb9f3a\"], [0.8888888888888888, \"#fdca26\"], [1.0, \"#f0f921\"]], \"sequentialminus\": [[0.0, \"#0d0887\"], [0.1111111111111111, \"#46039f\"], [0.2222222222222222, \"#7201a8\"], [0.3333333333333333, \"#9c179e\"], [0.4444444444444444, \"#bd3786\"], [0.5555555555555556, \"#d8576b\"], [0.6666666666666666, \"#ed7953\"], [0.7777777777777778, \"#fb9f3a\"], [0.8888888888888888, \"#fdca26\"], [1.0, \"#f0f921\"]]}, \"colorway\": [\"#636efa\", \"#EF553B\", \"#00cc96\", \"#ab63fa\", \"#FFA15A\", \"#19d3f3\", \"#FF6692\", \"#B6E880\", \"#FF97FF\", \"#FECB52\"], \"font\": {\"color\": \"#2a3f5f\"}, \"geo\": {\"bgcolor\": \"white\", \"lakecolor\": \"white\", \"landcolor\": \"#E5ECF6\", \"showlakes\": true, \"showland\": true, \"subunitcolor\": \"white\"}, \"hoverlabel\": {\"align\": \"left\"}, \"hovermode\": \"closest\", \"mapbox\": {\"style\": \"light\"}, \"paper_bgcolor\": \"white\", \"plot_bgcolor\": \"#E5ECF6\", \"polar\": {\"angularaxis\": {\"gridcolor\": \"white\", \"linecolor\": \"white\", \"ticks\": \"\"}, \"bgcolor\": \"#E5ECF6\", \"radialaxis\": {\"gridcolor\": \"white\", \"linecolor\": \"white\", \"ticks\": \"\"}}, \"scene\": {\"xaxis\": {\"backgroundcolor\": \"#E5ECF6\", \"gridcolor\": \"white\", \"gridwidth\": 2, \"linecolor\": \"white\", \"showbackground\": true, \"ticks\": \"\", \"zerolinecolor\": \"white\"}, \"yaxis\": {\"backgroundcolor\": \"#E5ECF6\", \"gridcolor\": \"white\", \"gridwidth\": 2, \"linecolor\": \"white\", \"showbackground\": true, \"ticks\": \"\", \"zerolinecolor\": \"white\"}, \"zaxis\": {\"backgroundcolor\": \"#E5ECF6\", \"gridcolor\": \"white\", \"gridwidth\": 2, \"linecolor\": \"white\", \"showbackground\": true, \"ticks\": \"\", \"zerolinecolor\": \"white\"}}, \"shapedefaults\": {\"line\": {\"color\": \"#2a3f5f\"}}, \"ternary\": {\"aaxis\": {\"gridcolor\": \"white\", \"linecolor\": \"white\", \"ticks\": \"\"}, \"baxis\": {\"gridcolor\": \"white\", \"linecolor\": \"white\", \"ticks\": \"\"}, \"bgcolor\": \"#E5ECF6\", \"caxis\": {\"gridcolor\": \"white\", \"linecolor\": \"white\", \"ticks\": \"\"}}, \"title\": {\"x\": 0.05}, \"xaxis\": {\"automargin\": true, \"gridcolor\": \"white\", \"linecolor\": \"white\", \"ticks\": \"\", \"title\": {\"standoff\": 15}, \"zerolinecolor\": \"white\", \"zerolinewidth\": 2}, \"yaxis\": {\"automargin\": true, \"gridcolor\": \"white\", \"linecolor\": \"white\", \"ticks\": \"\", \"title\": {\"standoff\": 15}, \"zerolinecolor\": \"white\", \"zerolinewidth\": 2}}}, \"width\": 700, \"xaxis\": {\"anchor\": \"y\", \"domain\": [0.0, 1.0]}, \"yaxis\": {\"anchor\": \"x\", \"domain\": [0.0, 1.0], \"zeroline\": true, \"zerolinecolor\": \"#000000\"}},\n",
              "                        {\"responsive\": true}\n",
              "                    ).then(function(){\n",
              "                            \n",
              "var gd = document.getElementById('edaea5b9-7f20-4a23-9c17-51a8a733efa7');\n",
              "var x = new MutationObserver(function (mutations, observer) {{\n",
              "        var display = window.getComputedStyle(gd).display;\n",
              "        if (!display || display === 'none') {{\n",
              "            console.log([gd, 'removed!']);\n",
              "            Plotly.purge(gd);\n",
              "            observer.disconnect();\n",
              "        }}\n",
              "}});\n",
              "\n",
              "// Listen for the removal of the full notebook cells\n",
              "var notebookContainer = gd.closest('#notebook-container');\n",
              "if (notebookContainer) {{\n",
              "    x.observe(notebookContainer, {childList: true});\n",
              "}}\n",
              "\n",
              "// Listen for the clearing of the current output cell\n",
              "var outputEl = gd.closest('.output');\n",
              "if (outputEl) {{\n",
              "    x.observe(outputEl, {childList: true});\n",
              "}}\n",
              "\n",
              "                        })\n",
              "                };\n",
              "                \n",
              "            </script>\n",
              "        </div>\n",
              "</body>\n",
              "</html>"
            ]
          },
          "metadata": {}
        }
      ]
    },
    {
      "cell_type": "markdown",
      "metadata": {
        "id": "XEmAfP2ltXcC"
      },
      "source": [
        "### $\\color{#97a100}{\\text{Corda}}$"
      ]
    },
    {
      "cell_type": "markdown",
      "metadata": {
        "id": "s_Wnu6PD8NXb"
      },
      "source": [
        "#### $\\color{#00b6ff}{\\text{Descrção 3.5.1}}$"
      ]
    },
    {
      "cell_type": "markdown",
      "metadata": {
        "id": "JL1Ci03L8d3f"
      },
      "source": [
        "Seja $f(x)$ uma função contínua que tenha derivada segunda com sinal constante no intervalo $[a, b]$, sendo que $f(a)\\cdot f(b)<0$ e que existe somente um número $\\xi\\in[a, b]$ tal que $f(\\xi)=0$\n",
        "\n",
        "No método das cordas, ao invés de se dividir o intervalo $[a, b]$ ao meio, ele é dividido em partes proporcionais à razão $-f(a)/f(b)$\n",
        "\n",
        "\\\\\n",
        "\n",
        "$\\frac{h_1}{b-a}=\\frac{-f(a)}{-f(a)+f(b)}$\n",
        "\n",
        "\\\\\n",
        "\n",
        "Isto conduz a um valor aproximado da raiz\n",
        "\n",
        "\\\\\n",
        "\n",
        "$x_1=a+h_1$\n",
        "\n",
        "\\\\\n",
        "\n",
        "$x_1=a-\\frac{f(a)}{f(b)-f(a)}(b-a)$\n",
        "\n",
        "\\\\\n",
        "\n",
        "Ao se aplicar este procedimento ao novo intervalo que contém $\\xi([a, x_1] ou [x_1, b])$, obtém-se uma nova aproximação $x_2$ da raiz\n",
        "\n",
        "\n",
        "$\\color{gray}{\\text{BARROSO (1983)}}$"
      ]
    },
    {
      "cell_type": "markdown",
      "metadata": {
        "id": "Vb12DHLw6gH7"
      },
      "source": [
        "#### $\\color{#00b6ff}{Programa}$"
      ]
    },
    {
      "cell_type": "code",
      "metadata": {
        "id": "UWTxE_jP_lrf",
        "cellView": "form"
      },
      "source": [
        "#@markdown > $\\color{gray}{\\text{corda(a, b, n=100, e=0.001)}}$\n",
        "\n",
        "def corda(a, b, n=100, e=0.001):\n",
        "\n",
        "    for l in range(n):    \n",
        "        xi = a if l == 0 else x\n",
        "        x = a-f(a)*(b-a)/(f(b)-f(a)) \n",
        "\n",
        "        if f(a) == 0 or f(b) == 0 or abs((x-xi)/x) < e:\n",
        "            raiz = a if f(a) == 0 else raiz\n",
        "            raiz = b if f(b) == 0 else raiz\n",
        "            break\n",
        "\n",
        "        else:\n",
        "            a = x if f(x) * f(a) > 0 else a \n",
        "            b = x if f(x) * f(b) > 0 else b\n",
        "            raiz = x\n",
        "\n",
        "    return (raiz, l, abs((x-xi)/x))"
      ],
      "execution_count": 114,
      "outputs": []
    },
    {
      "cell_type": "code",
      "metadata": {
        "colab": {
          "base_uri": "https://localhost:8080/",
          "height": 585
        },
        "id": "uzO5QHo1cRsC",
        "cellView": "form",
        "outputId": "6d3f5e05-5e62-47b9-f456-d3f230a1513c"
      },
      "source": [
        "import numpy as np\n",
        "f = lambda x: np.exp(-x)+x/5-1 #@param\n",
        "\n",
        "RUM = True #@param {type:\"boolean\"}\n",
        "if RUM:\n",
        "    a =  4#@param {type:\"number\"}\n",
        "    b = 5 #@param {type:\"number\"}\n",
        "    error = 0.0001000001 #@param {type:\"slider\", min:1e-10, max:1e-1, step:0.0001}\n",
        "    loops = 30 #@param {type:\"slider\", min:1, max:100}\n",
        "    cord = corda(a, b, loops, error)\n",
        "    print(f'\\033[32mA raiz encontrada foi \\033[34m{cord[0]}\\033[')\n",
        "    print(f'\\033[32mO programa rodou \\033[34m{cord[1]}\\033[32m vezes\\033[')\n",
        "    print(f'\\033[32mA diferença dos intervalos é \\033[34m{cord[2]}\\033[')\n",
        "\n",
        "PLOTAR_GRAFICO = True #@param {type:\"boolean\"}\n",
        "if PLOTAR_GRAFICO:\n",
        "\n",
        "    import plotly.express as px\n",
        "    y =  np.exp(-x)+x/5-1#@param\n",
        "    x = np.linspace(a-a/2, b+b/2)\n",
        "    fig = px.line()\n",
        "    print()\n",
        "    fig.update_layout(width=700,height=500)\n",
        "    fig.update_yaxes(zeroline=True, zerolinecolor='#000000')\n",
        "    fig.add_scatter(x=x, y=y, name=\"f(x)\")\n",
        "    fig.add_scatter(x=[corda(a, b, loops, error)[0]], y=[0], name=\"raiz\")\n",
        "    fig.show()\n",
        "\n",
        "TESTE_VELOCIDADE = False #@param {type:\"boolean\"}\n",
        "if TESTE_VELOCIDADE:\n",
        "    %timeit corda(a, b, loops, error)\n"
      ],
      "execution_count": 117,
      "outputs": [
        {
          "output_type": "stream",
          "name": "stdout",
          "text": [
            "\u001b[32mA raiz encontrada foi \u001b[34m4.965113687178467\u001b[\n",
            "\u001b[32mO programa rodou \u001b[34m2\u001b[32m vezes\u001b[\n",
            "\u001b[32mA diferença dos intervalos é \u001b[34m1.0961009210323827e-07\u001b[\n",
            "\n"
          ]
        },
        {
          "output_type": "display_data",
          "data": {
            "text/html": [
              "<html>\n",
              "<head><meta charset=\"utf-8\" /></head>\n",
              "<body>\n",
              "    <div>\n",
              "            <script src=\"https://cdnjs.cloudflare.com/ajax/libs/mathjax/2.7.5/MathJax.js?config=TeX-AMS-MML_SVG\"></script><script type=\"text/javascript\">if (window.MathJax) {MathJax.Hub.Config({SVG: {font: \"STIX-Web\"}});}</script>\n",
              "                <script type=\"text/javascript\">window.PlotlyConfig = {MathJaxConfig: 'local'};</script>\n",
              "        <script src=\"https://cdn.plot.ly/plotly-latest.min.js\"></script>    \n",
              "            <div id=\"3a83418c-0446-4d87-9d0e-f665b95f4012\" class=\"plotly-graph-div\" style=\"height:500px; width:700px;\"></div>\n",
              "            <script type=\"text/javascript\">\n",
              "                \n",
              "                    window.PLOTLYENV=window.PLOTLYENV || {};\n",
              "                    \n",
              "                if (document.getElementById(\"3a83418c-0446-4d87-9d0e-f665b95f4012\")) {\n",
              "                    Plotly.newPlot(\n",
              "                        '3a83418c-0446-4d87-9d0e-f665b95f4012',\n",
              "                        [{\"name\": \"f(x)\", \"type\": \"scatter\", \"x\": [2.0, 2.1122448979591835, 2.2244897959183674, 2.336734693877551, 2.4489795918367347, 2.561224489795918, 2.673469387755102, 2.7857142857142856, 2.8979591836734695, 3.010204081632653, 3.1224489795918364, 3.2346938775510203, 3.3469387755102042, 3.4591836734693877, 3.571428571428571, 3.683673469387755, 3.795918367346939, 3.9081632653061225, 4.020408163265306, 4.13265306122449, 4.244897959183673, 4.357142857142858, 4.469387755102041, 4.581632653061225, 4.6938775510204085, 4.8061224489795915, 4.918367346938775, 5.030612244897959, 5.142857142857142, 5.255102040816327, 5.36734693877551, 5.479591836734694, 5.591836734693878, 5.704081632653061, 5.816326530612245, 5.928571428571429, 6.040816326530612, 6.153061224489796, 6.26530612244898, 6.377551020408164, 6.489795918367347, 6.6020408163265305, 6.714285714285714, 6.826530612244898, 6.938775510204081, 7.051020408163265, 7.163265306122449, 7.275510204081633, 7.387755102040816, 7.5], \"y\": [-0.4646647167633873, -0.45658491557325764, -0.44697947167560803, -0.4360103696742855, -0.42382239551203915, -0.41054496253260553, -0.3962937436612638, -0.38117213028916674, -0.3652725362611162, -0.34867756341287237, -0.33146104335793003, -0.31368896866293183, -0.29542032515584493, -0.2767078358640943, -0.2575986259653138, -0.23813481713717466, -0.21835405880231928, -0.19829000296854238, -0.17797272865297376, -0.15742912124316666, -0.13668321157965002, -0.11575647903650121, -0.09466812242244571, -0.07343530211911675, -0.05207335651037204, -0.03059599543229652, -0.009015473083717529, 0.012657257421996748, 0.0344124059146238, 0.05624122169198853, 0.07813588315478914, 0.10008939915941317, 0.12209552084458086, 0.14414866281976702, 0.1662438327214164, 0.18837656824850368, 0.2105428808833203, 0.23273920558769157, 0.25496235584017746, 0.2772094834471852, 0.29947804262112343, 0.3217657578725466, 0.34407059531133855, 0.3663907369949868, 0.3887245580004153, 0.41107060593021294, 0.4334275825947771, 0.45579432763935146, 0.47816980390945774, 0.5005530843701478]}, {\"name\": \"raiz\", \"type\": \"scatter\", \"x\": [4.965113687178467], \"y\": [0]}],\n",
              "                        {\"height\": 500, \"legend\": {\"tracegroupgap\": 0}, \"margin\": {\"t\": 60}, \"template\": {\"data\": {\"bar\": [{\"error_x\": {\"color\": \"#2a3f5f\"}, \"error_y\": {\"color\": \"#2a3f5f\"}, \"marker\": {\"line\": {\"color\": \"#E5ECF6\", \"width\": 0.5}}, \"type\": \"bar\"}], \"barpolar\": [{\"marker\": {\"line\": {\"color\": \"#E5ECF6\", \"width\": 0.5}}, \"type\": \"barpolar\"}], \"carpet\": [{\"aaxis\": {\"endlinecolor\": \"#2a3f5f\", \"gridcolor\": \"white\", \"linecolor\": \"white\", \"minorgridcolor\": \"white\", \"startlinecolor\": \"#2a3f5f\"}, \"baxis\": {\"endlinecolor\": \"#2a3f5f\", \"gridcolor\": \"white\", \"linecolor\": \"white\", \"minorgridcolor\": \"white\", \"startlinecolor\": \"#2a3f5f\"}, \"type\": \"carpet\"}], \"choropleth\": [{\"colorbar\": {\"outlinewidth\": 0, \"ticks\": \"\"}, \"type\": \"choropleth\"}], \"contour\": [{\"colorbar\": {\"outlinewidth\": 0, \"ticks\": \"\"}, \"colorscale\": [[0.0, \"#0d0887\"], [0.1111111111111111, \"#46039f\"], [0.2222222222222222, \"#7201a8\"], [0.3333333333333333, \"#9c179e\"], [0.4444444444444444, \"#bd3786\"], [0.5555555555555556, \"#d8576b\"], [0.6666666666666666, \"#ed7953\"], [0.7777777777777778, \"#fb9f3a\"], [0.8888888888888888, \"#fdca26\"], [1.0, \"#f0f921\"]], \"type\": \"contour\"}], \"contourcarpet\": [{\"colorbar\": {\"outlinewidth\": 0, \"ticks\": \"\"}, \"type\": \"contourcarpet\"}], \"heatmap\": [{\"colorbar\": {\"outlinewidth\": 0, \"ticks\": \"\"}, \"colorscale\": [[0.0, \"#0d0887\"], [0.1111111111111111, \"#46039f\"], [0.2222222222222222, \"#7201a8\"], [0.3333333333333333, \"#9c179e\"], [0.4444444444444444, \"#bd3786\"], [0.5555555555555556, \"#d8576b\"], [0.6666666666666666, \"#ed7953\"], [0.7777777777777778, \"#fb9f3a\"], [0.8888888888888888, \"#fdca26\"], [1.0, \"#f0f921\"]], \"type\": \"heatmap\"}], \"heatmapgl\": [{\"colorbar\": {\"outlinewidth\": 0, \"ticks\": \"\"}, \"colorscale\": [[0.0, \"#0d0887\"], [0.1111111111111111, \"#46039f\"], [0.2222222222222222, \"#7201a8\"], [0.3333333333333333, \"#9c179e\"], [0.4444444444444444, \"#bd3786\"], [0.5555555555555556, \"#d8576b\"], [0.6666666666666666, \"#ed7953\"], [0.7777777777777778, \"#fb9f3a\"], [0.8888888888888888, \"#fdca26\"], [1.0, \"#f0f921\"]], \"type\": \"heatmapgl\"}], \"histogram\": [{\"marker\": {\"colorbar\": {\"outlinewidth\": 0, \"ticks\": \"\"}}, \"type\": \"histogram\"}], \"histogram2d\": [{\"colorbar\": {\"outlinewidth\": 0, \"ticks\": \"\"}, \"colorscale\": [[0.0, \"#0d0887\"], [0.1111111111111111, \"#46039f\"], [0.2222222222222222, \"#7201a8\"], [0.3333333333333333, \"#9c179e\"], [0.4444444444444444, \"#bd3786\"], [0.5555555555555556, \"#d8576b\"], [0.6666666666666666, \"#ed7953\"], [0.7777777777777778, \"#fb9f3a\"], [0.8888888888888888, \"#fdca26\"], [1.0, \"#f0f921\"]], \"type\": \"histogram2d\"}], \"histogram2dcontour\": [{\"colorbar\": {\"outlinewidth\": 0, \"ticks\": \"\"}, \"colorscale\": [[0.0, \"#0d0887\"], [0.1111111111111111, \"#46039f\"], [0.2222222222222222, \"#7201a8\"], [0.3333333333333333, \"#9c179e\"], [0.4444444444444444, \"#bd3786\"], [0.5555555555555556, \"#d8576b\"], [0.6666666666666666, \"#ed7953\"], [0.7777777777777778, \"#fb9f3a\"], [0.8888888888888888, \"#fdca26\"], [1.0, \"#f0f921\"]], \"type\": \"histogram2dcontour\"}], \"mesh3d\": [{\"colorbar\": {\"outlinewidth\": 0, \"ticks\": \"\"}, \"type\": \"mesh3d\"}], \"parcoords\": [{\"line\": {\"colorbar\": {\"outlinewidth\": 0, \"ticks\": \"\"}}, \"type\": \"parcoords\"}], \"pie\": [{\"automargin\": true, \"type\": \"pie\"}], \"scatter\": [{\"marker\": {\"colorbar\": {\"outlinewidth\": 0, \"ticks\": \"\"}}, \"type\": \"scatter\"}], \"scatter3d\": [{\"line\": {\"colorbar\": {\"outlinewidth\": 0, \"ticks\": \"\"}}, \"marker\": {\"colorbar\": {\"outlinewidth\": 0, \"ticks\": \"\"}}, \"type\": \"scatter3d\"}], \"scattercarpet\": [{\"marker\": {\"colorbar\": {\"outlinewidth\": 0, \"ticks\": \"\"}}, \"type\": \"scattercarpet\"}], \"scattergeo\": [{\"marker\": {\"colorbar\": {\"outlinewidth\": 0, \"ticks\": \"\"}}, \"type\": \"scattergeo\"}], \"scattergl\": [{\"marker\": {\"colorbar\": {\"outlinewidth\": 0, \"ticks\": \"\"}}, \"type\": \"scattergl\"}], \"scattermapbox\": [{\"marker\": {\"colorbar\": {\"outlinewidth\": 0, \"ticks\": \"\"}}, \"type\": \"scattermapbox\"}], \"scatterpolar\": [{\"marker\": {\"colorbar\": {\"outlinewidth\": 0, \"ticks\": \"\"}}, \"type\": \"scatterpolar\"}], \"scatterpolargl\": [{\"marker\": {\"colorbar\": {\"outlinewidth\": 0, \"ticks\": \"\"}}, \"type\": \"scatterpolargl\"}], \"scatterternary\": [{\"marker\": {\"colorbar\": {\"outlinewidth\": 0, \"ticks\": \"\"}}, \"type\": \"scatterternary\"}], \"surface\": [{\"colorbar\": {\"outlinewidth\": 0, \"ticks\": \"\"}, \"colorscale\": [[0.0, \"#0d0887\"], [0.1111111111111111, \"#46039f\"], [0.2222222222222222, \"#7201a8\"], [0.3333333333333333, \"#9c179e\"], [0.4444444444444444, \"#bd3786\"], [0.5555555555555556, \"#d8576b\"], [0.6666666666666666, \"#ed7953\"], [0.7777777777777778, \"#fb9f3a\"], [0.8888888888888888, \"#fdca26\"], [1.0, \"#f0f921\"]], \"type\": \"surface\"}], \"table\": [{\"cells\": {\"fill\": {\"color\": \"#EBF0F8\"}, \"line\": {\"color\": \"white\"}}, \"header\": {\"fill\": {\"color\": \"#C8D4E3\"}, \"line\": {\"color\": \"white\"}}, \"type\": \"table\"}]}, \"layout\": {\"annotationdefaults\": {\"arrowcolor\": \"#2a3f5f\", \"arrowhead\": 0, \"arrowwidth\": 1}, \"coloraxis\": {\"colorbar\": {\"outlinewidth\": 0, \"ticks\": \"\"}}, \"colorscale\": {\"diverging\": [[0, \"#8e0152\"], [0.1, \"#c51b7d\"], [0.2, \"#de77ae\"], [0.3, \"#f1b6da\"], [0.4, \"#fde0ef\"], [0.5, \"#f7f7f7\"], [0.6, \"#e6f5d0\"], [0.7, \"#b8e186\"], [0.8, \"#7fbc41\"], [0.9, \"#4d9221\"], [1, \"#276419\"]], \"sequential\": [[0.0, \"#0d0887\"], [0.1111111111111111, \"#46039f\"], [0.2222222222222222, \"#7201a8\"], [0.3333333333333333, \"#9c179e\"], [0.4444444444444444, \"#bd3786\"], [0.5555555555555556, \"#d8576b\"], [0.6666666666666666, \"#ed7953\"], [0.7777777777777778, \"#fb9f3a\"], [0.8888888888888888, \"#fdca26\"], [1.0, \"#f0f921\"]], \"sequentialminus\": [[0.0, \"#0d0887\"], [0.1111111111111111, \"#46039f\"], [0.2222222222222222, \"#7201a8\"], [0.3333333333333333, \"#9c179e\"], [0.4444444444444444, \"#bd3786\"], [0.5555555555555556, \"#d8576b\"], [0.6666666666666666, \"#ed7953\"], [0.7777777777777778, \"#fb9f3a\"], [0.8888888888888888, \"#fdca26\"], [1.0, \"#f0f921\"]]}, \"colorway\": [\"#636efa\", \"#EF553B\", \"#00cc96\", \"#ab63fa\", \"#FFA15A\", \"#19d3f3\", \"#FF6692\", \"#B6E880\", \"#FF97FF\", \"#FECB52\"], \"font\": {\"color\": \"#2a3f5f\"}, \"geo\": {\"bgcolor\": \"white\", \"lakecolor\": \"white\", \"landcolor\": \"#E5ECF6\", \"showlakes\": true, \"showland\": true, \"subunitcolor\": \"white\"}, \"hoverlabel\": {\"align\": \"left\"}, \"hovermode\": \"closest\", \"mapbox\": {\"style\": \"light\"}, \"paper_bgcolor\": \"white\", \"plot_bgcolor\": \"#E5ECF6\", \"polar\": {\"angularaxis\": {\"gridcolor\": \"white\", \"linecolor\": \"white\", \"ticks\": \"\"}, \"bgcolor\": \"#E5ECF6\", \"radialaxis\": {\"gridcolor\": \"white\", \"linecolor\": \"white\", \"ticks\": \"\"}}, \"scene\": {\"xaxis\": {\"backgroundcolor\": \"#E5ECF6\", \"gridcolor\": \"white\", \"gridwidth\": 2, \"linecolor\": \"white\", \"showbackground\": true, \"ticks\": \"\", \"zerolinecolor\": \"white\"}, \"yaxis\": {\"backgroundcolor\": \"#E5ECF6\", \"gridcolor\": \"white\", \"gridwidth\": 2, \"linecolor\": \"white\", \"showbackground\": true, \"ticks\": \"\", \"zerolinecolor\": \"white\"}, \"zaxis\": {\"backgroundcolor\": \"#E5ECF6\", \"gridcolor\": \"white\", \"gridwidth\": 2, \"linecolor\": \"white\", \"showbackground\": true, \"ticks\": \"\", \"zerolinecolor\": \"white\"}}, \"shapedefaults\": {\"line\": {\"color\": \"#2a3f5f\"}}, \"ternary\": {\"aaxis\": {\"gridcolor\": \"white\", \"linecolor\": \"white\", \"ticks\": \"\"}, \"baxis\": {\"gridcolor\": \"white\", \"linecolor\": \"white\", \"ticks\": \"\"}, \"bgcolor\": \"#E5ECF6\", \"caxis\": {\"gridcolor\": \"white\", \"linecolor\": \"white\", \"ticks\": \"\"}}, \"title\": {\"x\": 0.05}, \"xaxis\": {\"automargin\": true, \"gridcolor\": \"white\", \"linecolor\": \"white\", \"ticks\": \"\", \"title\": {\"standoff\": 15}, \"zerolinecolor\": \"white\", \"zerolinewidth\": 2}, \"yaxis\": {\"automargin\": true, \"gridcolor\": \"white\", \"linecolor\": \"white\", \"ticks\": \"\", \"title\": {\"standoff\": 15}, \"zerolinecolor\": \"white\", \"zerolinewidth\": 2}}}, \"width\": 700, \"xaxis\": {\"anchor\": \"y\", \"domain\": [0.0, 1.0]}, \"yaxis\": {\"anchor\": \"x\", \"domain\": [0.0, 1.0], \"zeroline\": true, \"zerolinecolor\": \"#000000\"}},\n",
              "                        {\"responsive\": true}\n",
              "                    ).then(function(){\n",
              "                            \n",
              "var gd = document.getElementById('3a83418c-0446-4d87-9d0e-f665b95f4012');\n",
              "var x = new MutationObserver(function (mutations, observer) {{\n",
              "        var display = window.getComputedStyle(gd).display;\n",
              "        if (!display || display === 'none') {{\n",
              "            console.log([gd, 'removed!']);\n",
              "            Plotly.purge(gd);\n",
              "            observer.disconnect();\n",
              "        }}\n",
              "}});\n",
              "\n",
              "// Listen for the removal of the full notebook cells\n",
              "var notebookContainer = gd.closest('#notebook-container');\n",
              "if (notebookContainer) {{\n",
              "    x.observe(notebookContainer, {childList: true});\n",
              "}}\n",
              "\n",
              "// Listen for the clearing of the current output cell\n",
              "var outputEl = gd.closest('.output');\n",
              "if (outputEl) {{\n",
              "    x.observe(outputEl, {childList: true});\n",
              "}}\n",
              "\n",
              "                        })\n",
              "                };\n",
              "                \n",
              "            </script>\n",
              "        </div>\n",
              "</body>\n",
              "</html>"
            ]
          },
          "metadata": {}
        }
      ]
    },
    {
      "cell_type": "markdown",
      "metadata": {
        "id": "Dpd4EeQMv60H"
      },
      "source": [
        "### $\\color{#97a100}{\\text{Pégaso}}$"
      ]
    },
    {
      "cell_type": "markdown",
      "metadata": {
        "id": "cH4sV6v0pYAy"
      },
      "source": [
        "#### $\\color{#00b6ff}{\\text{Descição 3.6.2}}$"
      ]
    },
    {
      "cell_type": "markdown",
      "metadata": {
        "id": "nQ19e8o1qTVL"
      },
      "source": [
        "Seja $f(x)$ uma função contínua no intervalo $[x_0, x_1]$ e $f(x_0)\\cdot f(x_1)<0$. Como existe uma raiz neste intervalo, as sucessivas aproximações $x_2, x_3, x_4,...$ desta raiz podem ser obtidas pela formação de recorrência abaixo:\n",
        "\n",
        "\\\\\n",
        "\n",
        "$x_{n+1}=x_n-\\frac{f(x_n)(x_n-x_{n-1})}{f(x_n)-f(x_{n-1})}\\qquad n=1, 2, 3, ...$\n",
        "\n",
        "\\\\\n",
        "\n",
        "onde as aproximalções da interação seguinte são escolhas do seguinte modo:\n",
        "\n",
        "\\\\\n",
        "\n",
        "se $f(x_{n+1})\\cdot f(x_n)<0$, então $\\qquad[x_{n-1},f({x_{n-1}})]$ é trocado por $[x_n, f(x_n)]$\n",
        "\n",
        "\\\\\n",
        "\n",
        "se $f(x_{n+1})\\cdot f(x_n)>0$, então $\\qquad[x_{n-1},f({x_{n-1}})]$ é trocado por $[x_{n-1}, f(x_{n-1})\\cdot f(x_n)/(f(x_n)+f(x_{n+1}))]$\n",
        "\n",
        "\\\\\n",
        "\n",
        "Em ambos os casos, $[x_n, f(x_n)]$ é trocado por $[x_{n+1}, f(x_{n+1})]$ e esta escolha garante que os valores da função usado a cada interação tenha sempre sinais opostos.\n",
        "\n",
        "\n",
        "A filosofia fo método Pégaso é reduzir o valor $(x_{n-1})$ por um fator $f(x_n)/(f(x_n)+f(x_n+1))$ de modo a evitar a retenção de um ponto, como o ponto $[c,f(c)]$ no método das cordas, e com isto obter um método de convergência mais rápida.\n",
        "\n",
        "\n",
        "$\\color{gray}{\\text{BARROSO (1983)}}$"
      ]
    },
    {
      "cell_type": "markdown",
      "metadata": {
        "id": "bhi6k6TAADQ-"
      },
      "source": [
        "#### $\\color{#00b6ff}{Programa}$"
      ]
    },
    {
      "cell_type": "code",
      "metadata": {
        "id": "2Hc9zH8s_w0o",
        "cellView": "form"
      },
      "source": [
        "#@markdown > $\\color{gray}{\\text{pegaso(a, b, n=100, e=0.1)}}$\n",
        "\n",
        "def pegaso(a, b, n=100, e=0.1):\n",
        "    # a = f(b)/(f(b)+f(b+1))\n",
        "    x = [\n",
        "         a,  # .............................. 0\n",
        "         f(a),  # ........................... 1\n",
        "         b,  # .............................. 2\n",
        "         f(b),  # ........................... 3\n",
        "         b - (f(b)*(b-a)) / (f(b)-f(a)),  # . 4\n",
        "         f(b - (f(b)*(b-a)) / (f(b)-f(a)))  # 5\n",
        "    ]\n",
        "    for l in range(n):\n",
        "\n",
        "        if x[5] * x[3] < 0:\n",
        "            x[0] = x[2]\n",
        "            x[1] = f(x[0])\n",
        "            \n",
        "        elif x[5] * x[3] > 0:\n",
        "            x[1] = (x[1]*x[3])/(x[3]+x[5])\n",
        "\n",
        "        x[2] = x[4]\n",
        "        x[3] = f(x[2])\n",
        "        x[4] = x[2] - (x[3]*(x[2]-x[0]))/(x[3]-x[1])\n",
        "        x[5] = f(x[4])\n",
        "\n",
        "        if abs((x[4]-x[2])/x[4]) < e:\n",
        "            break\n",
        "\n",
        "    return x[4], l, abs((x[4]-x[2])/x[4])"
      ],
      "execution_count": 106,
      "outputs": []
    },
    {
      "cell_type": "code",
      "metadata": {
        "colab": {
          "base_uri": "https://localhost:8080/",
          "height": 585
        },
        "id": "3hZEHdk6SSW7",
        "cellView": "form",
        "outputId": "414afac8-efc7-45fb-afb2-3fc3d907a5ec"
      },
      "source": [
        "import numpy as np\n",
        "f = lambda x: x*np.sin(x) #@param\n",
        "\n",
        "RUM = True #@param {type:\"boolean\"}\n",
        "a =  10 #@param {type:\"number\"}\n",
        "b =  14 #@param {type:\"number\"}\n",
        "error = 1e-10 #@param {type:\"slider\", min:1e-10, max:1e-1, step:0.0001}\n",
        "loops = 48 #@param {type:\"slider\", min:1, max:100}\n",
        "\n",
        "if RUM:\n",
        "    pegas = pegaso(a, b, loops, error)\n",
        "    print(f'\\033[32mA raiz encontrada foi \\033[34m{pegas[0]}\\033[')\n",
        "    print(f'\\033[32mO programa rodou \\033[34m{pegas[1]}\\033[32m vezes\\033[')\n",
        "    print(f'\\033[32mA diferença dos intervalos é \\033[34m{pegas[2]}\\033[')\n",
        "\n",
        "PLOTAR_GRAFICO = True #@param {type:\"boolean\"}\n",
        "if PLOTAR_GRAFICO:\n",
        "\n",
        "    y = x*np.sin(x) #@param\n",
        "    import plotly.express as px\n",
        "    x = np.linspace(a-a/2, b+b/2)\n",
        "    fig = px.line()\n",
        "    print()\n",
        "    fig.update_layout(width=700,height=500)\n",
        "    fig.update_yaxes(zeroline=True, zerolinecolor='#000000')\n",
        "    fig.add_scatter(x=x, y=y, name=\"f(x)\")\n",
        "    fig.add_scatter(x=[pegaso(a, b, loops, error)[0]], y=[0], name=\"raiz\")\n",
        "    fig.show()\n",
        "\n",
        "TESTE_VELOCIDADE = False #@param {type:\"boolean\"}\n",
        "if TESTE_VELOCIDADE:\n",
        "    %timeit pegaso(a, b, loops, error)"
      ],
      "execution_count": 110,
      "outputs": [
        {
          "output_type": "stream",
          "name": "stdout",
          "text": [
            "\u001b[32mA raiz encontrada foi \u001b[34m12.566370614359172\u001b[\n",
            "\u001b[32mO programa rodou \u001b[34m5\u001b[32m vezes\u001b[\n",
            "\u001b[32mA diferença dos intervalos é \u001b[34m4.2507759922795294e-12\u001b[\n",
            "\n"
          ]
        },
        {
          "output_type": "display_data",
          "data": {
            "text/html": [
              "<html>\n",
              "<head><meta charset=\"utf-8\" /></head>\n",
              "<body>\n",
              "    <div>\n",
              "            <script src=\"https://cdnjs.cloudflare.com/ajax/libs/mathjax/2.7.5/MathJax.js?config=TeX-AMS-MML_SVG\"></script><script type=\"text/javascript\">if (window.MathJax) {MathJax.Hub.Config({SVG: {font: \"STIX-Web\"}});}</script>\n",
              "                <script type=\"text/javascript\">window.PlotlyConfig = {MathJaxConfig: 'local'};</script>\n",
              "        <script src=\"https://cdn.plot.ly/plotly-latest.min.js\"></script>    \n",
              "            <div id=\"cf407ae4-164e-436f-aff9-c072e649144a\" class=\"plotly-graph-div\" style=\"height:500px; width:700px;\"></div>\n",
              "            <script type=\"text/javascript\">\n",
              "                \n",
              "                    window.PLOTLYENV=window.PLOTLYENV || {};\n",
              "                    \n",
              "                if (document.getElementById(\"cf407ae4-164e-436f-aff9-c072e649144a\")) {\n",
              "                    Plotly.newPlot(\n",
              "                        'cf407ae4-164e-436f-aff9-c072e649144a',\n",
              "                        [{\"name\": \"f(x)\", \"type\": \"scatter\", \"x\": [5.0, 5.326530612244898, 5.653061224489796, 5.979591836734694, 6.3061224489795915, 6.63265306122449, 6.959183673469388, 7.285714285714286, 7.612244897959183, 7.938775510204081, 8.26530612244898, 8.591836734693878, 8.918367346938776, 9.244897959183673, 9.571428571428571, 9.897959183673468, 10.224489795918366, 10.551020408163264, 10.877551020408163, 11.204081632653061, 11.53061224489796, 11.857142857142858, 12.183673469387754, 12.510204081632653, 12.83673469387755, 13.16326530612245, 13.489795918367346, 13.816326530612244, 14.142857142857142, 14.46938775510204, 14.795918367346937, 15.122448979591836, 15.448979591836734, 15.775510204081632, 16.10204081632653, 16.428571428571427, 16.755102040816325, 17.081632653061224, 17.408163265306122, 17.734693877551017, 18.06122448979592, 18.387755102040813, 18.714285714285715, 19.04081632653061, 19.36734693877551, 19.693877551020407, 20.020408163265305, 20.346938775510203, 20.6734693877551, 21.0], \"y\": [-4.794621373315692, -4.353205091128304, -3.331038149600383, -1.7876065418801375, 0.14463174194804437, 2.2710056941748493, 4.354197242961436, 6.140652853446079, 7.390908855631986, 7.910252702569594, 7.575914007225264, 6.357212884544949, 4.325778202244254, 1.6540186763612048, -1.3986299879446724, -4.510700596107439, -7.332546993085801, -9.525488780555564, -10.801879542656819, -10.961412246690271, -9.919200840682624, -7.7219398271575965, -4.549674380567623, -0.7022854034721567, 3.4284647323914323, 7.39876648345302, 10.760433392443426, 13.111289305698005, 14.142628181964444, 13.678207013765807, 11.699978049916169, 8.357089909768616, 3.9564567006400053, -1.0647772589144298, -6.182484933954958, -10.840257627718023, -14.509851566829786, -16.75081815103349, -17.26261399629553, -15.923095857674578, -12.808620716096486, -8.192866827780758, -2.5237721687271555, 3.6195919253445887, 9.586099410196873, 14.721580824882377, 18.440452944747552, 20.29213309714279, 20.0147407731029, 17.56976840925718]}, {\"name\": \"raiz\", \"type\": \"scatter\", \"x\": [12.566370614359172], \"y\": [0]}],\n",
              "                        {\"height\": 500, \"legend\": {\"tracegroupgap\": 0}, \"margin\": {\"t\": 60}, \"template\": {\"data\": {\"bar\": [{\"error_x\": {\"color\": \"#2a3f5f\"}, \"error_y\": {\"color\": \"#2a3f5f\"}, \"marker\": {\"line\": {\"color\": \"#E5ECF6\", \"width\": 0.5}}, \"type\": \"bar\"}], \"barpolar\": [{\"marker\": {\"line\": {\"color\": \"#E5ECF6\", \"width\": 0.5}}, \"type\": \"barpolar\"}], \"carpet\": [{\"aaxis\": {\"endlinecolor\": \"#2a3f5f\", \"gridcolor\": \"white\", \"linecolor\": \"white\", \"minorgridcolor\": \"white\", \"startlinecolor\": \"#2a3f5f\"}, \"baxis\": {\"endlinecolor\": \"#2a3f5f\", \"gridcolor\": \"white\", \"linecolor\": \"white\", \"minorgridcolor\": \"white\", \"startlinecolor\": \"#2a3f5f\"}, \"type\": \"carpet\"}], \"choropleth\": [{\"colorbar\": {\"outlinewidth\": 0, \"ticks\": \"\"}, \"type\": \"choropleth\"}], \"contour\": [{\"colorbar\": {\"outlinewidth\": 0, \"ticks\": \"\"}, \"colorscale\": [[0.0, \"#0d0887\"], [0.1111111111111111, \"#46039f\"], [0.2222222222222222, \"#7201a8\"], [0.3333333333333333, \"#9c179e\"], [0.4444444444444444, \"#bd3786\"], [0.5555555555555556, \"#d8576b\"], [0.6666666666666666, \"#ed7953\"], [0.7777777777777778, \"#fb9f3a\"], [0.8888888888888888, \"#fdca26\"], [1.0, \"#f0f921\"]], \"type\": \"contour\"}], \"contourcarpet\": [{\"colorbar\": {\"outlinewidth\": 0, \"ticks\": \"\"}, \"type\": \"contourcarpet\"}], \"heatmap\": [{\"colorbar\": {\"outlinewidth\": 0, \"ticks\": \"\"}, \"colorscale\": [[0.0, \"#0d0887\"], [0.1111111111111111, \"#46039f\"], [0.2222222222222222, \"#7201a8\"], [0.3333333333333333, \"#9c179e\"], [0.4444444444444444, \"#bd3786\"], [0.5555555555555556, \"#d8576b\"], [0.6666666666666666, \"#ed7953\"], [0.7777777777777778, \"#fb9f3a\"], [0.8888888888888888, \"#fdca26\"], [1.0, \"#f0f921\"]], \"type\": \"heatmap\"}], \"heatmapgl\": [{\"colorbar\": {\"outlinewidth\": 0, \"ticks\": \"\"}, \"colorscale\": [[0.0, \"#0d0887\"], [0.1111111111111111, \"#46039f\"], [0.2222222222222222, \"#7201a8\"], [0.3333333333333333, \"#9c179e\"], [0.4444444444444444, \"#bd3786\"], [0.5555555555555556, \"#d8576b\"], [0.6666666666666666, \"#ed7953\"], [0.7777777777777778, \"#fb9f3a\"], [0.8888888888888888, \"#fdca26\"], [1.0, \"#f0f921\"]], \"type\": \"heatmapgl\"}], \"histogram\": [{\"marker\": {\"colorbar\": {\"outlinewidth\": 0, \"ticks\": \"\"}}, \"type\": \"histogram\"}], \"histogram2d\": [{\"colorbar\": {\"outlinewidth\": 0, \"ticks\": \"\"}, \"colorscale\": [[0.0, \"#0d0887\"], [0.1111111111111111, \"#46039f\"], [0.2222222222222222, \"#7201a8\"], [0.3333333333333333, \"#9c179e\"], [0.4444444444444444, \"#bd3786\"], [0.5555555555555556, \"#d8576b\"], [0.6666666666666666, \"#ed7953\"], [0.7777777777777778, \"#fb9f3a\"], [0.8888888888888888, \"#fdca26\"], [1.0, \"#f0f921\"]], \"type\": \"histogram2d\"}], \"histogram2dcontour\": [{\"colorbar\": {\"outlinewidth\": 0, \"ticks\": \"\"}, \"colorscale\": [[0.0, \"#0d0887\"], [0.1111111111111111, \"#46039f\"], [0.2222222222222222, \"#7201a8\"], [0.3333333333333333, \"#9c179e\"], [0.4444444444444444, \"#bd3786\"], [0.5555555555555556, \"#d8576b\"], [0.6666666666666666, \"#ed7953\"], [0.7777777777777778, \"#fb9f3a\"], [0.8888888888888888, \"#fdca26\"], [1.0, \"#f0f921\"]], \"type\": \"histogram2dcontour\"}], \"mesh3d\": [{\"colorbar\": {\"outlinewidth\": 0, \"ticks\": \"\"}, \"type\": \"mesh3d\"}], \"parcoords\": [{\"line\": {\"colorbar\": {\"outlinewidth\": 0, \"ticks\": \"\"}}, \"type\": \"parcoords\"}], \"pie\": [{\"automargin\": true, \"type\": \"pie\"}], \"scatter\": [{\"marker\": {\"colorbar\": {\"outlinewidth\": 0, \"ticks\": \"\"}}, \"type\": \"scatter\"}], \"scatter3d\": [{\"line\": {\"colorbar\": {\"outlinewidth\": 0, \"ticks\": \"\"}}, \"marker\": {\"colorbar\": {\"outlinewidth\": 0, \"ticks\": \"\"}}, \"type\": \"scatter3d\"}], \"scattercarpet\": [{\"marker\": {\"colorbar\": {\"outlinewidth\": 0, \"ticks\": \"\"}}, \"type\": \"scattercarpet\"}], \"scattergeo\": [{\"marker\": {\"colorbar\": {\"outlinewidth\": 0, \"ticks\": \"\"}}, \"type\": \"scattergeo\"}], \"scattergl\": [{\"marker\": {\"colorbar\": {\"outlinewidth\": 0, \"ticks\": \"\"}}, \"type\": \"scattergl\"}], \"scattermapbox\": [{\"marker\": {\"colorbar\": {\"outlinewidth\": 0, \"ticks\": \"\"}}, \"type\": \"scattermapbox\"}], \"scatterpolar\": [{\"marker\": {\"colorbar\": {\"outlinewidth\": 0, \"ticks\": \"\"}}, \"type\": \"scatterpolar\"}], \"scatterpolargl\": [{\"marker\": {\"colorbar\": {\"outlinewidth\": 0, \"ticks\": \"\"}}, \"type\": \"scatterpolargl\"}], \"scatterternary\": [{\"marker\": {\"colorbar\": {\"outlinewidth\": 0, \"ticks\": \"\"}}, \"type\": \"scatterternary\"}], \"surface\": [{\"colorbar\": {\"outlinewidth\": 0, \"ticks\": \"\"}, \"colorscale\": [[0.0, \"#0d0887\"], [0.1111111111111111, \"#46039f\"], [0.2222222222222222, \"#7201a8\"], [0.3333333333333333, \"#9c179e\"], [0.4444444444444444, \"#bd3786\"], [0.5555555555555556, \"#d8576b\"], [0.6666666666666666, \"#ed7953\"], [0.7777777777777778, \"#fb9f3a\"], [0.8888888888888888, \"#fdca26\"], [1.0, \"#f0f921\"]], \"type\": \"surface\"}], \"table\": [{\"cells\": {\"fill\": {\"color\": \"#EBF0F8\"}, \"line\": {\"color\": \"white\"}}, \"header\": {\"fill\": {\"color\": \"#C8D4E3\"}, \"line\": {\"color\": \"white\"}}, \"type\": \"table\"}]}, \"layout\": {\"annotationdefaults\": {\"arrowcolor\": \"#2a3f5f\", \"arrowhead\": 0, \"arrowwidth\": 1}, \"coloraxis\": {\"colorbar\": {\"outlinewidth\": 0, \"ticks\": \"\"}}, \"colorscale\": {\"diverging\": [[0, \"#8e0152\"], [0.1, \"#c51b7d\"], [0.2, \"#de77ae\"], [0.3, \"#f1b6da\"], [0.4, \"#fde0ef\"], [0.5, \"#f7f7f7\"], [0.6, \"#e6f5d0\"], [0.7, \"#b8e186\"], [0.8, \"#7fbc41\"], [0.9, \"#4d9221\"], [1, \"#276419\"]], \"sequential\": [[0.0, \"#0d0887\"], [0.1111111111111111, \"#46039f\"], [0.2222222222222222, \"#7201a8\"], [0.3333333333333333, \"#9c179e\"], [0.4444444444444444, \"#bd3786\"], [0.5555555555555556, \"#d8576b\"], [0.6666666666666666, \"#ed7953\"], [0.7777777777777778, \"#fb9f3a\"], [0.8888888888888888, \"#fdca26\"], [1.0, \"#f0f921\"]], \"sequentialminus\": [[0.0, \"#0d0887\"], [0.1111111111111111, \"#46039f\"], [0.2222222222222222, \"#7201a8\"], [0.3333333333333333, \"#9c179e\"], [0.4444444444444444, \"#bd3786\"], [0.5555555555555556, \"#d8576b\"], [0.6666666666666666, \"#ed7953\"], [0.7777777777777778, \"#fb9f3a\"], [0.8888888888888888, \"#fdca26\"], [1.0, \"#f0f921\"]]}, \"colorway\": [\"#636efa\", \"#EF553B\", \"#00cc96\", \"#ab63fa\", \"#FFA15A\", \"#19d3f3\", \"#FF6692\", \"#B6E880\", \"#FF97FF\", \"#FECB52\"], \"font\": {\"color\": \"#2a3f5f\"}, \"geo\": {\"bgcolor\": \"white\", \"lakecolor\": \"white\", \"landcolor\": \"#E5ECF6\", \"showlakes\": true, \"showland\": true, \"subunitcolor\": \"white\"}, \"hoverlabel\": {\"align\": \"left\"}, \"hovermode\": \"closest\", \"mapbox\": {\"style\": \"light\"}, \"paper_bgcolor\": \"white\", \"plot_bgcolor\": \"#E5ECF6\", \"polar\": {\"angularaxis\": {\"gridcolor\": \"white\", \"linecolor\": \"white\", \"ticks\": \"\"}, \"bgcolor\": \"#E5ECF6\", \"radialaxis\": {\"gridcolor\": \"white\", \"linecolor\": \"white\", \"ticks\": \"\"}}, \"scene\": {\"xaxis\": {\"backgroundcolor\": \"#E5ECF6\", \"gridcolor\": \"white\", \"gridwidth\": 2, \"linecolor\": \"white\", \"showbackground\": true, \"ticks\": \"\", \"zerolinecolor\": \"white\"}, \"yaxis\": {\"backgroundcolor\": \"#E5ECF6\", \"gridcolor\": \"white\", \"gridwidth\": 2, \"linecolor\": \"white\", \"showbackground\": true, \"ticks\": \"\", \"zerolinecolor\": \"white\"}, \"zaxis\": {\"backgroundcolor\": \"#E5ECF6\", \"gridcolor\": \"white\", \"gridwidth\": 2, \"linecolor\": \"white\", \"showbackground\": true, \"ticks\": \"\", \"zerolinecolor\": \"white\"}}, \"shapedefaults\": {\"line\": {\"color\": \"#2a3f5f\"}}, \"ternary\": {\"aaxis\": {\"gridcolor\": \"white\", \"linecolor\": \"white\", \"ticks\": \"\"}, \"baxis\": {\"gridcolor\": \"white\", \"linecolor\": \"white\", \"ticks\": \"\"}, \"bgcolor\": \"#E5ECF6\", \"caxis\": {\"gridcolor\": \"white\", \"linecolor\": \"white\", \"ticks\": \"\"}}, \"title\": {\"x\": 0.05}, \"xaxis\": {\"automargin\": true, \"gridcolor\": \"white\", \"linecolor\": \"white\", \"ticks\": \"\", \"title\": {\"standoff\": 15}, \"zerolinecolor\": \"white\", \"zerolinewidth\": 2}, \"yaxis\": {\"automargin\": true, \"gridcolor\": \"white\", \"linecolor\": \"white\", \"ticks\": \"\", \"title\": {\"standoff\": 15}, \"zerolinecolor\": \"white\", \"zerolinewidth\": 2}}}, \"width\": 700, \"xaxis\": {\"anchor\": \"y\", \"domain\": [0.0, 1.0]}, \"yaxis\": {\"anchor\": \"x\", \"domain\": [0.0, 1.0], \"zeroline\": true, \"zerolinecolor\": \"#000000\"}},\n",
              "                        {\"responsive\": true}\n",
              "                    ).then(function(){\n",
              "                            \n",
              "var gd = document.getElementById('cf407ae4-164e-436f-aff9-c072e649144a');\n",
              "var x = new MutationObserver(function (mutations, observer) {{\n",
              "        var display = window.getComputedStyle(gd).display;\n",
              "        if (!display || display === 'none') {{\n",
              "            console.log([gd, 'removed!']);\n",
              "            Plotly.purge(gd);\n",
              "            observer.disconnect();\n",
              "        }}\n",
              "}});\n",
              "\n",
              "// Listen for the removal of the full notebook cells\n",
              "var notebookContainer = gd.closest('#notebook-container');\n",
              "if (notebookContainer) {{\n",
              "    x.observe(notebookContainer, {childList: true});\n",
              "}}\n",
              "\n",
              "// Listen for the clearing of the current output cell\n",
              "var outputEl = gd.closest('.output');\n",
              "if (outputEl) {{\n",
              "    x.observe(outputEl, {childList: true});\n",
              "}}\n",
              "\n",
              "                        })\n",
              "                };\n",
              "                \n",
              "            </script>\n",
              "        </div>\n",
              "</body>\n",
              "</html>"
            ]
          },
          "metadata": {}
        }
      ]
    },
    {
      "cell_type": "markdown",
      "metadata": {
        "id": "x8O6pxKhv6bx"
      },
      "source": [
        "\n",
        "\n",
        "### $\\color{#97a100}{\\text{Newton}}$"
      ]
    },
    {
      "cell_type": "markdown",
      "metadata": {
        "id": "kOHYl6DyFSdA"
      },
      "source": [
        "#### $\\color{#00b6ff}{\\text{Descrição 3.7.1}}$"
      ]
    },
    {
      "cell_type": "markdown",
      "metadata": {
        "id": "SoikczDwGqmZ"
      },
      "source": [
        "Seja $f(x)$ uma função contínuua no intervalo $[a,b]$ e $\\xi$ o seu único zero neste intervalo; as derivadas $f'(x)(f'(x)\\neq0)$ e $f''(x)$ devem também ser contínuas. Encontra-se uma aproximação $x_n$ para a raiz $\\xi$ e é feita uma expansão em série de Taylor para $f(x)=0$:\n",
        "\n",
        "\\\\\n",
        "\n",
        "$$\n",
        "f(x)\\doteq f(x_n)+f'(x_n)(x-x_n)\n",
        "$$\n",
        "\n",
        "\\\\\n",
        "\n",
        "$$\n",
        "f(x_{n+1})\\doteq 0 =f(x_n)+f'(x_n)(x_{n+1}-x_n)\n",
        "$$\n",
        "\n",
        "\\\\\n",
        "\n",
        "$$\n",
        "\\frac{-f(x_n)}{f'(x_n)}=x_{n+1}-x_n\n",
        "$$\n",
        "\n",
        "\\\\\n",
        "\n",
        "$$\n",
        "x_{x+1}=x_n-\\frac{f(x_n)}{f'(x_n)}\\qquad n=0,1,2,...\n",
        "$$\n",
        "\n",
        "\\\\\n",
        "\n",
        "Onde x_{n+1} é uma aproximação de $\\xi$\n",
        "\n",
        "$\\color{gray}{\\text{BARROSO (1983)}}$"
      ]
    },
    {
      "cell_type": "markdown",
      "metadata": {
        "id": "tiBiGromAGBO"
      },
      "source": [
        "#### $\\color{#00b6ff}{Programa}$"
      ]
    },
    {
      "cell_type": "code",
      "metadata": {
        "id": "4K3_rrFA_yvp"
      },
      "source": [
        "##@markdown > $\\color{gray}{\\text{newton(a, n=100, e=0.01)}}$\n",
        "def newton(a, n=100, e=0.01):\n",
        "    \n",
        "    df = lambda a, h=e:(f(a + h)-f(a-h))/(2*h)\n",
        "\n",
        "    for i in range(n):\n",
        "        x = a if i == 0 else x-f(x)/df(x)\n",
        "        error = abs(x-er)/x if i != 0 else 1; er = x\n",
        "        if error <= e:\n",
        "            break\n",
        "    \n",
        "    return x, i, error"
      ],
      "execution_count": 16,
      "outputs": []
    },
    {
      "cell_type": "code",
      "metadata": {
        "colab": {
          "base_uri": "https://localhost:8080/",
          "height": 602
        },
        "id": "f2iLCcO8uDNK",
        "cellView": "form",
        "outputId": "af23db54-fee1-48d8-e6da-1b9c00a9aecf"
      },
      "source": [
        "import numpy as np\n",
        "f = lambda x: np.exp(-x)+x/5-1 #@param\n",
        "\n",
        "RUM = True #@param {type:\"boolean\"}\n",
        "if RUM:\n",
        "    a =  3#@param {type:\"number\"}\n",
        "    error = 0.0001000001 #@param {type:\"slider\", min:1e-10, max:1e-1, step:0.0001}\n",
        "    loops = 30 #@param {type:\"slider\", min:1, max:100}\n",
        "    newto = newton(a, loops, error)\n",
        "    print(f'\\033[32mA raiz encontrada foi \\033[34m{newto[0]}\\033[')\n",
        "    print(f'\\033[32mO programa rodou \\033[34m{newto[1]}\\033[32m vezes\\033[')\n",
        "    print(f'\\033[32mA diferença dos intervalos é \\033[34m{newto[2]}\\033[')\n",
        "\n",
        "PLOTAR_GRAFICO = True #@param {type:\"boolean\"}\n",
        "if PLOTAR_GRAFICO:\n",
        "    b = a+a/2 if a >= 0 else a-a/2\n",
        "    import plotly.express as px\n",
        "    x = np.linspace(a-a/2, b+b/2)\n",
        "    fig = px.line()\n",
        "    print()\n",
        "    fig.update_layout(width=700,height=500)\n",
        "    fig.update_yaxes(zeroline=True, zerolinecolor='#000000')\n",
        "    fig.add_scatter(x=x, y=f(x), name=\"f(x)\")\n",
        "    fig.add_scatter(x=[newton(a, loops, error)[0]], y=[0], name=\"raiz\")\n",
        "    fig.show()\n",
        "\n",
        "TESTE_VELOCIDADE = False #@param {type:\"boolean\"}\n",
        "if TESTE_VELOCIDADE:\n",
        "    %timeit newton(a, loops, error)"
      ],
      "execution_count": 22,
      "outputs": [
        {
          "output_type": "stream",
          "name": "stdout",
          "text": [
            "\u001b[32mA raiz encontrada foi \u001b[34m4.965114231744277\u001b[\n",
            "\u001b[32mO programa rodou \u001b[34m4\u001b[32m vezes\u001b[\n",
            "\u001b[32mA diferença dos intervalos é \u001b[34m1.2932556795359997e-08\u001b[\n",
            "\n"
          ]
        },
        {
          "output_type": "display_data",
          "data": {
            "text/html": [
              "<html>\n",
              "<head><meta charset=\"utf-8\" /></head>\n",
              "<body>\n",
              "    <div>\n",
              "            <script src=\"https://cdnjs.cloudflare.com/ajax/libs/mathjax/2.7.5/MathJax.js?config=TeX-AMS-MML_SVG\"></script><script type=\"text/javascript\">if (window.MathJax) {MathJax.Hub.Config({SVG: {font: \"STIX-Web\"}});}</script>\n",
              "                <script type=\"text/javascript\">window.PlotlyConfig = {MathJaxConfig: 'local'};</script>\n",
              "        <script src=\"https://cdn.plot.ly/plotly-latest.min.js\"></script>    \n",
              "            <div id=\"4a021991-35f5-4cb3-8e24-579bcb5d0879\" class=\"plotly-graph-div\" style=\"height:500px; width:700px;\"></div>\n",
              "            <script type=\"text/javascript\">\n",
              "                \n",
              "                    window.PLOTLYENV=window.PLOTLYENV || {};\n",
              "                    \n",
              "                if (document.getElementById(\"4a021991-35f5-4cb3-8e24-579bcb5d0879\")) {\n",
              "                    Plotly.newPlot(\n",
              "                        '4a021991-35f5-4cb3-8e24-579bcb5d0879',\n",
              "                        [{\"name\": \"f(x)\", \"type\": \"scatter\", \"x\": [1.5, 1.6071428571428572, 1.7142857142857142, 1.8214285714285714, 1.9285714285714286, 2.0357142857142856, 2.142857142857143, 2.25, 2.357142857142857, 2.4642857142857144, 2.571428571428571, 2.678571428571429, 2.7857142857142856, 2.892857142857143, 3.0, 3.1071428571428568, 3.2142857142857144, 3.321428571428571, 3.4285714285714284, 3.5357142857142856, 3.642857142857143, 3.75, 3.857142857142857, 3.964285714285714, 4.071428571428571, 4.178571428571429, 4.285714285714286, 4.392857142857142, 4.5, 4.607142857142857, 4.7142857142857135, 4.821428571428571, 4.928571428571429, 5.035714285714286, 5.142857142857142, 5.25, 5.357142857142857, 5.4642857142857135, 5.571428571428571, 5.678571428571428, 5.785714285714286, 5.892857142857142, 6.0, 6.107142857142857, 6.214285714285714, 6.321428571428571, 6.428571428571428, 6.535714285714286, 6.642857142857142, 6.75], \"y\": [-0.47686983985157017, -0.4781118903821131, -0.47705054499490473, -0.47391983488518463, -0.46893001305186766, -0.4622699702259845, -0.45410940533432065, -0.4446007754381357, -0.4338810475528858, -0.4220732724783701, -0.4092879987235176, -0.39562454277262926, -0.38117213028916674, -0.36601092137017965, -0.35021293163213607, -0.33384285971196637, -0.31695883069178343, -0.29961306398966114, -0.2818524733909188, -0.26371920611462196, -0.24525112710948105, -0.22648225414399092, -0.20744314869024527, -0.1881612670929098, -0.1686612760584858, -0.14896533609002083, -0.12909335612409245, -0.10906322229599297, -0.08889100346175771, -0.06859113583860676, -0.048176588885420424, -0.02765901432931639, -0.007048880050725903, 0.013644409634610666, 0.0344124059146238, 0.055247518399181406, 0.07614292790212063, 0.09709250808485925, 0.1180907550612258, 0.1391327241546252, 0.1602139730808514, 0.1813305109036718, 0.20247875217666622, 0.22365547574437405, 0.2448577877293585, 0.2660830882798815, 0.28732904169610607, 0.3085935495915555, 0.32987472678143903, 0.3511708796207913]}, {\"name\": \"raiz\", \"type\": \"scatter\", \"x\": [4.965114231744277], \"y\": [0]}],\n",
              "                        {\"height\": 500, \"legend\": {\"tracegroupgap\": 0}, \"margin\": {\"t\": 60}, \"template\": {\"data\": {\"bar\": [{\"error_x\": {\"color\": \"#2a3f5f\"}, \"error_y\": {\"color\": \"#2a3f5f\"}, \"marker\": {\"line\": {\"color\": \"#E5ECF6\", \"width\": 0.5}}, \"type\": \"bar\"}], \"barpolar\": [{\"marker\": {\"line\": {\"color\": \"#E5ECF6\", \"width\": 0.5}}, \"type\": \"barpolar\"}], \"carpet\": [{\"aaxis\": {\"endlinecolor\": \"#2a3f5f\", \"gridcolor\": \"white\", \"linecolor\": \"white\", \"minorgridcolor\": \"white\", \"startlinecolor\": \"#2a3f5f\"}, \"baxis\": {\"endlinecolor\": \"#2a3f5f\", \"gridcolor\": \"white\", \"linecolor\": \"white\", \"minorgridcolor\": \"white\", \"startlinecolor\": \"#2a3f5f\"}, \"type\": \"carpet\"}], \"choropleth\": [{\"colorbar\": {\"outlinewidth\": 0, \"ticks\": \"\"}, \"type\": \"choropleth\"}], \"contour\": [{\"colorbar\": {\"outlinewidth\": 0, \"ticks\": \"\"}, \"colorscale\": [[0.0, \"#0d0887\"], [0.1111111111111111, \"#46039f\"], [0.2222222222222222, \"#7201a8\"], [0.3333333333333333, \"#9c179e\"], [0.4444444444444444, \"#bd3786\"], [0.5555555555555556, \"#d8576b\"], [0.6666666666666666, \"#ed7953\"], [0.7777777777777778, \"#fb9f3a\"], [0.8888888888888888, \"#fdca26\"], [1.0, \"#f0f921\"]], \"type\": \"contour\"}], \"contourcarpet\": [{\"colorbar\": {\"outlinewidth\": 0, \"ticks\": \"\"}, \"type\": \"contourcarpet\"}], \"heatmap\": [{\"colorbar\": {\"outlinewidth\": 0, \"ticks\": \"\"}, \"colorscale\": [[0.0, \"#0d0887\"], [0.1111111111111111, \"#46039f\"], [0.2222222222222222, \"#7201a8\"], [0.3333333333333333, \"#9c179e\"], [0.4444444444444444, \"#bd3786\"], [0.5555555555555556, \"#d8576b\"], [0.6666666666666666, \"#ed7953\"], [0.7777777777777778, \"#fb9f3a\"], [0.8888888888888888, \"#fdca26\"], [1.0, \"#f0f921\"]], \"type\": \"heatmap\"}], \"heatmapgl\": [{\"colorbar\": {\"outlinewidth\": 0, \"ticks\": \"\"}, \"colorscale\": [[0.0, \"#0d0887\"], [0.1111111111111111, \"#46039f\"], [0.2222222222222222, \"#7201a8\"], [0.3333333333333333, \"#9c179e\"], [0.4444444444444444, \"#bd3786\"], [0.5555555555555556, \"#d8576b\"], [0.6666666666666666, \"#ed7953\"], [0.7777777777777778, \"#fb9f3a\"], [0.8888888888888888, \"#fdca26\"], [1.0, \"#f0f921\"]], \"type\": \"heatmapgl\"}], \"histogram\": [{\"marker\": {\"colorbar\": {\"outlinewidth\": 0, \"ticks\": \"\"}}, \"type\": \"histogram\"}], \"histogram2d\": [{\"colorbar\": {\"outlinewidth\": 0, \"ticks\": \"\"}, \"colorscale\": [[0.0, \"#0d0887\"], [0.1111111111111111, \"#46039f\"], [0.2222222222222222, \"#7201a8\"], [0.3333333333333333, \"#9c179e\"], [0.4444444444444444, \"#bd3786\"], [0.5555555555555556, \"#d8576b\"], [0.6666666666666666, \"#ed7953\"], [0.7777777777777778, \"#fb9f3a\"], [0.8888888888888888, \"#fdca26\"], [1.0, \"#f0f921\"]], \"type\": \"histogram2d\"}], \"histogram2dcontour\": [{\"colorbar\": {\"outlinewidth\": 0, \"ticks\": \"\"}, \"colorscale\": [[0.0, \"#0d0887\"], [0.1111111111111111, \"#46039f\"], [0.2222222222222222, \"#7201a8\"], [0.3333333333333333, \"#9c179e\"], [0.4444444444444444, \"#bd3786\"], [0.5555555555555556, \"#d8576b\"], [0.6666666666666666, \"#ed7953\"], [0.7777777777777778, \"#fb9f3a\"], [0.8888888888888888, \"#fdca26\"], [1.0, \"#f0f921\"]], \"type\": \"histogram2dcontour\"}], \"mesh3d\": [{\"colorbar\": {\"outlinewidth\": 0, \"ticks\": \"\"}, \"type\": \"mesh3d\"}], \"parcoords\": [{\"line\": {\"colorbar\": {\"outlinewidth\": 0, \"ticks\": \"\"}}, \"type\": \"parcoords\"}], \"pie\": [{\"automargin\": true, \"type\": \"pie\"}], \"scatter\": [{\"marker\": {\"colorbar\": {\"outlinewidth\": 0, \"ticks\": \"\"}}, \"type\": \"scatter\"}], \"scatter3d\": [{\"line\": {\"colorbar\": {\"outlinewidth\": 0, \"ticks\": \"\"}}, \"marker\": {\"colorbar\": {\"outlinewidth\": 0, \"ticks\": \"\"}}, \"type\": \"scatter3d\"}], \"scattercarpet\": [{\"marker\": {\"colorbar\": {\"outlinewidth\": 0, \"ticks\": \"\"}}, \"type\": \"scattercarpet\"}], \"scattergeo\": [{\"marker\": {\"colorbar\": {\"outlinewidth\": 0, \"ticks\": \"\"}}, \"type\": \"scattergeo\"}], \"scattergl\": [{\"marker\": {\"colorbar\": {\"outlinewidth\": 0, \"ticks\": \"\"}}, \"type\": \"scattergl\"}], \"scattermapbox\": [{\"marker\": {\"colorbar\": {\"outlinewidth\": 0, \"ticks\": \"\"}}, \"type\": \"scattermapbox\"}], \"scatterpolar\": [{\"marker\": {\"colorbar\": {\"outlinewidth\": 0, \"ticks\": \"\"}}, \"type\": \"scatterpolar\"}], \"scatterpolargl\": [{\"marker\": {\"colorbar\": {\"outlinewidth\": 0, \"ticks\": \"\"}}, \"type\": \"scatterpolargl\"}], \"scatterternary\": [{\"marker\": {\"colorbar\": {\"outlinewidth\": 0, \"ticks\": \"\"}}, \"type\": \"scatterternary\"}], \"surface\": [{\"colorbar\": {\"outlinewidth\": 0, \"ticks\": \"\"}, \"colorscale\": [[0.0, \"#0d0887\"], [0.1111111111111111, \"#46039f\"], [0.2222222222222222, \"#7201a8\"], [0.3333333333333333, \"#9c179e\"], [0.4444444444444444, \"#bd3786\"], [0.5555555555555556, \"#d8576b\"], [0.6666666666666666, \"#ed7953\"], [0.7777777777777778, \"#fb9f3a\"], [0.8888888888888888, \"#fdca26\"], [1.0, \"#f0f921\"]], \"type\": \"surface\"}], \"table\": [{\"cells\": {\"fill\": {\"color\": \"#EBF0F8\"}, \"line\": {\"color\": \"white\"}}, \"header\": {\"fill\": {\"color\": \"#C8D4E3\"}, \"line\": {\"color\": \"white\"}}, \"type\": \"table\"}]}, \"layout\": {\"annotationdefaults\": {\"arrowcolor\": \"#2a3f5f\", \"arrowhead\": 0, \"arrowwidth\": 1}, \"coloraxis\": {\"colorbar\": {\"outlinewidth\": 0, \"ticks\": \"\"}}, \"colorscale\": {\"diverging\": [[0, \"#8e0152\"], [0.1, \"#c51b7d\"], [0.2, \"#de77ae\"], [0.3, \"#f1b6da\"], [0.4, \"#fde0ef\"], [0.5, \"#f7f7f7\"], [0.6, \"#e6f5d0\"], [0.7, \"#b8e186\"], [0.8, \"#7fbc41\"], [0.9, \"#4d9221\"], [1, \"#276419\"]], \"sequential\": [[0.0, \"#0d0887\"], [0.1111111111111111, \"#46039f\"], [0.2222222222222222, \"#7201a8\"], [0.3333333333333333, \"#9c179e\"], [0.4444444444444444, \"#bd3786\"], [0.5555555555555556, \"#d8576b\"], [0.6666666666666666, \"#ed7953\"], [0.7777777777777778, \"#fb9f3a\"], [0.8888888888888888, \"#fdca26\"], [1.0, \"#f0f921\"]], \"sequentialminus\": [[0.0, \"#0d0887\"], [0.1111111111111111, \"#46039f\"], [0.2222222222222222, \"#7201a8\"], [0.3333333333333333, \"#9c179e\"], [0.4444444444444444, \"#bd3786\"], [0.5555555555555556, \"#d8576b\"], [0.6666666666666666, \"#ed7953\"], [0.7777777777777778, \"#fb9f3a\"], [0.8888888888888888, \"#fdca26\"], [1.0, \"#f0f921\"]]}, \"colorway\": [\"#636efa\", \"#EF553B\", \"#00cc96\", \"#ab63fa\", \"#FFA15A\", \"#19d3f3\", \"#FF6692\", \"#B6E880\", \"#FF97FF\", \"#FECB52\"], \"font\": {\"color\": \"#2a3f5f\"}, \"geo\": {\"bgcolor\": \"white\", \"lakecolor\": \"white\", \"landcolor\": \"#E5ECF6\", \"showlakes\": true, \"showland\": true, \"subunitcolor\": \"white\"}, \"hoverlabel\": {\"align\": \"left\"}, \"hovermode\": \"closest\", \"mapbox\": {\"style\": \"light\"}, \"paper_bgcolor\": \"white\", \"plot_bgcolor\": \"#E5ECF6\", \"polar\": {\"angularaxis\": {\"gridcolor\": \"white\", \"linecolor\": \"white\", \"ticks\": \"\"}, \"bgcolor\": \"#E5ECF6\", \"radialaxis\": {\"gridcolor\": \"white\", \"linecolor\": \"white\", \"ticks\": \"\"}}, \"scene\": {\"xaxis\": {\"backgroundcolor\": \"#E5ECF6\", \"gridcolor\": \"white\", \"gridwidth\": 2, \"linecolor\": \"white\", \"showbackground\": true, \"ticks\": \"\", \"zerolinecolor\": \"white\"}, \"yaxis\": {\"backgroundcolor\": \"#E5ECF6\", \"gridcolor\": \"white\", \"gridwidth\": 2, \"linecolor\": \"white\", \"showbackground\": true, \"ticks\": \"\", \"zerolinecolor\": \"white\"}, \"zaxis\": {\"backgroundcolor\": \"#E5ECF6\", \"gridcolor\": \"white\", \"gridwidth\": 2, \"linecolor\": \"white\", \"showbackground\": true, \"ticks\": \"\", \"zerolinecolor\": \"white\"}}, \"shapedefaults\": {\"line\": {\"color\": \"#2a3f5f\"}}, \"ternary\": {\"aaxis\": {\"gridcolor\": \"white\", \"linecolor\": \"white\", \"ticks\": \"\"}, \"baxis\": {\"gridcolor\": \"white\", \"linecolor\": \"white\", \"ticks\": \"\"}, \"bgcolor\": \"#E5ECF6\", \"caxis\": {\"gridcolor\": \"white\", \"linecolor\": \"white\", \"ticks\": \"\"}}, \"title\": {\"x\": 0.05}, \"xaxis\": {\"automargin\": true, \"gridcolor\": \"white\", \"linecolor\": \"white\", \"ticks\": \"\", \"title\": {\"standoff\": 15}, \"zerolinecolor\": \"white\", \"zerolinewidth\": 2}, \"yaxis\": {\"automargin\": true, \"gridcolor\": \"white\", \"linecolor\": \"white\", \"ticks\": \"\", \"title\": {\"standoff\": 15}, \"zerolinecolor\": \"white\", \"zerolinewidth\": 2}}}, \"width\": 700, \"xaxis\": {\"anchor\": \"y\", \"domain\": [0.0, 1.0]}, \"yaxis\": {\"anchor\": \"x\", \"domain\": [0.0, 1.0], \"zeroline\": true, \"zerolinecolor\": \"#000000\"}},\n",
              "                        {\"responsive\": true}\n",
              "                    ).then(function(){\n",
              "                            \n",
              "var gd = document.getElementById('4a021991-35f5-4cb3-8e24-579bcb5d0879');\n",
              "var x = new MutationObserver(function (mutations, observer) {{\n",
              "        var display = window.getComputedStyle(gd).display;\n",
              "        if (!display || display === 'none') {{\n",
              "            console.log([gd, 'removed!']);\n",
              "            Plotly.purge(gd);\n",
              "            observer.disconnect();\n",
              "        }}\n",
              "}});\n",
              "\n",
              "// Listen for the removal of the full notebook cells\n",
              "var notebookContainer = gd.closest('#notebook-container');\n",
              "if (notebookContainer) {{\n",
              "    x.observe(notebookContainer, {childList: true});\n",
              "}}\n",
              "\n",
              "// Listen for the clearing of the current output cell\n",
              "var outputEl = gd.closest('.output');\n",
              "if (outputEl) {{\n",
              "    x.observe(outputEl, {childList: true});\n",
              "}}\n",
              "\n",
              "                        })\n",
              "                };\n",
              "                \n",
              "            </script>\n",
              "        </div>\n",
              "</body>\n",
              "</html>"
            ]
          },
          "metadata": {}
        },
        {
          "output_type": "stream",
          "name": "stdout",
          "text": [
            "10000 loops, best of 5: 35 µs per loop\n"
          ]
        }
      ]
    },
    {
      "cell_type": "markdown",
      "metadata": {
        "id": "0s1G7JtMv7K8"
      },
      "source": [
        "### $\\color{#97a100}{\\text{Interação Linear}}$"
      ]
    },
    {
      "cell_type": "markdown",
      "metadata": {
        "id": "K_tOe8_6ouX1"
      },
      "source": [
        "#### $\\color{#00b6ff}{\\text{Descrição 3.8.1}}$"
      ]
    },
    {
      "cell_type": "markdown",
      "metadata": {
        "id": "u7M_cIYno2vY"
      },
      "source": [
        "Seja $f(x)$ uma função contínua no intervalo $[a, b]$ e $\\xi$ um número pertencente a este intervalo tal que $f(\\xi)=0$\n",
        "\n",
        "Por um artifício albébrico pode-se transformar $f(x)=0$ em $x=F(x)$\n",
        "Onde $F(x)$ é chamada a função de interação\n",
        "\n",
        "Sendo $x_0$ uma primeira aproximalçao de raiz $\\xi$, calcula-se $F(x_0)$. Faz-se então, $x_1=F(x_0);x_2=F(x_1);x_3=F(x_2)$ e assim sucessivamente, ou seja:\n",
        "\n",
        "\\\\\n",
        "\n",
        "$$\n",
        "x_{n+1} =F(x_n),\\qquad n=0, 1, 2, ...\n",
        "$$\n",
        "\n",
        "\\\\\n",
        "\n",
        "Se a sequencia $\\{x_0, x_1, x_2,...\\}$ é convergente, isto é, se existe\n",
        "\n",
        "\\\\\n",
        "\n",
        "$$\n",
        "\\lim_{n\\rightarrow\\infty}x_n=\\xi\\quad\\text{e}\\quad F(x)\\quad\\text{é contínua}\n",
        "$$\n",
        "\n",
        "\\\\\n",
        "\n",
        "$$\n",
        "\\lim_{n\\rightarrow\\infty}x_{n+1}=F(\\lim_{n\\rightarrow\\infty}x_n)\n",
        "$$\n",
        "\n",
        "\\\\\n",
        "\n",
        "$$\\xi=F(\\xi)$$\n",
        "\n",
        "\\\\\n",
        "\n",
        "Onde $\\xi$ é uma raiz de $f(\\xi)=0$.\n",
        "\n",
        "$\\color{gray}{\\text{BARROSO (1983)}}$"
      ]
    },
    {
      "cell_type": "markdown",
      "metadata": {
        "id": "QHCWwxY0AH49"
      },
      "source": [
        "#### $\\color{#00b6ff}{Programa}$"
      ]
    },
    {
      "cell_type": "code",
      "metadata": {
        "id": "SehRul_ntjyp",
        "cellView": "form"
      },
      "source": [
        "#@markdown > $\\color{gray}{\\text{in_linear(a, b, n=100, e=0.1)}}$\n",
        "def in_linear(a, n=100, e=0.1):\n",
        "    for l in range(n):\n",
        "        raiz = a if l == 0 else g(raiz)\n",
        "        error = 1 if l == 0 else abs((raiz-r2)/raiz)\n",
        "        if error < e:\n",
        "            break\n",
        "        r2 = raiz\n",
        "    return raiz, l, error"
      ],
      "execution_count": 13,
      "outputs": []
    },
    {
      "cell_type": "code",
      "metadata": {
        "colab": {
          "base_uri": "https://localhost:8080/",
          "height": 585
        },
        "cellView": "form",
        "id": "sAjBH6X1j3Fi",
        "outputId": "14c8650c-6297-4c08-81a4-b6804b5ca97f"
      },
      "source": [
        "import numpy as np\n",
        "\n",
        "f = lambda x: np.exp(x)+x-2 #@param\n",
        "g = lambda x: np.log(2-x) #@param\n",
        "x = np.linspace(0, 1.9, 100)\n",
        "\n",
        "RUM = True #@param {type:\"boolean\"}\n",
        "a = 0.5 #@param {type:\"number\"}\n",
        "loops = 50 #@param {type:\"slider\", min:1, max:100}\n",
        "error = 0.0249000001 #@param {type:\"slider\", min:1e-10, max:0.1, step:1e-4}\n",
        "\n",
        "if RUM:\n",
        "    linear = in_linear(a, loops, error)\n",
        "    print(f'\\033[32mA raiz encontrada foi \\033[34m{linear[0]}\\033[')\n",
        "    print(f'\\033[32mO programa rodou \\033[34m{linear[1]}\\033[32m vezes\\033[')\n",
        "    print(f'\\033[32mA diferença dos intervalos é \\033[34m{linear[2]}\\033[')\n",
        "\n",
        "PLOTAR_GRAFICO = True #@param {type:\"boolean\"}\n",
        "if PLOTAR_GRAFICO:\n",
        "    import plotly.express as px\n",
        "    fig = px.line()\n",
        "    print()\n",
        "    fig.update_layout(width=700,height=500)\n",
        "    fig.update_yaxes(zeroline=True, zerolinecolor='#000000')\n",
        "    fig.add_scatter(x=x, y=f(x), name=\"f(x)\")\n",
        "    fig.add_scatter(x=x, y=g(x), name=\"g(x)\")\n",
        "    fig.add_scatter(\n",
        "        x=[in_linear(a, loops, error)[0]],\n",
        "        y=[f(in_linear(a, loops, error)[0])],\n",
        "        name=\"raiz\"\n",
        "    )\n",
        "    fig.show()\n",
        "TESTE_VELOCIDADE = False #@param {type:\"boolean\"}\n",
        "if TESTE_VELOCIDADE:\n",
        "    %timeit in_linear(a, loops, error)"
      ],
      "execution_count": 24,
      "outputs": [
        {
          "output_type": "stream",
          "name": "stdout",
          "text": [
            "\u001b[32mA raiz encontrada foi \u001b[34m0.44690601430835464\u001b[\n",
            "\u001b[32mO programa rodou \u001b[34m6\u001b[32m vezes\u001b[\n",
            "\u001b[32mA diferença dos intervalos é \u001b[34m0.023211509348717654\u001b[\n",
            "\n"
          ]
        },
        {
          "output_type": "display_data",
          "data": {
            "text/html": [
              "<html>\n",
              "<head><meta charset=\"utf-8\" /></head>\n",
              "<body>\n",
              "    <div>\n",
              "            <script src=\"https://cdnjs.cloudflare.com/ajax/libs/mathjax/2.7.5/MathJax.js?config=TeX-AMS-MML_SVG\"></script><script type=\"text/javascript\">if (window.MathJax) {MathJax.Hub.Config({SVG: {font: \"STIX-Web\"}});}</script>\n",
              "                <script type=\"text/javascript\">window.PlotlyConfig = {MathJaxConfig: 'local'};</script>\n",
              "        <script src=\"https://cdn.plot.ly/plotly-latest.min.js\"></script>    \n",
              "            <div id=\"205c1c5b-3e78-4c3d-ad4d-a290692ac68e\" class=\"plotly-graph-div\" style=\"height:500px; width:700px;\"></div>\n",
              "            <script type=\"text/javascript\">\n",
              "                \n",
              "                    window.PLOTLYENV=window.PLOTLYENV || {};\n",
              "                    \n",
              "                if (document.getElementById(\"205c1c5b-3e78-4c3d-ad4d-a290692ac68e\")) {\n",
              "                    Plotly.newPlot(\n",
              "                        '205c1c5b-3e78-4c3d-ad4d-a290692ac68e',\n",
              "                        [{\"name\": \"f(x)\", \"type\": \"scatter\", \"x\": [0.0, 0.01919191919191919, 0.03838383838383838, 0.05757575757575757, 0.07676767676767676, 0.09595959595959595, 0.11515151515151514, 0.13434343434343432, 0.15353535353535352, 0.17272727272727273, 0.1919191919191919, 0.21111111111111108, 0.2303030303030303, 0.2494949494949495, 0.26868686868686864, 0.28787878787878785, 0.30707070707070705, 0.32626262626262625, 0.34545454545454546, 0.3646464646464646, 0.3838383838383838, 0.403030303030303, 0.42222222222222217, 0.44141414141414137, 0.4606060606060606, 0.4797979797979798, 0.498989898989899, 0.5181818181818182, 0.5373737373737373, 0.5565656565656565, 0.5757575757575757, 0.5949494949494949, 0.6141414141414141, 0.6333333333333333, 0.6525252525252525, 0.6717171717171717, 0.6909090909090909, 0.71010101010101, 0.7292929292929292, 0.7484848484848484, 0.7676767676767676, 0.7868686868686868, 0.806060606060606, 0.8252525252525252, 0.8444444444444443, 0.8636363636363635, 0.8828282828282827, 0.9020202020202019, 0.9212121212121211, 0.9404040404040404, 0.9595959595959596, 0.9787878787878788, 0.997979797979798, 1.0171717171717172, 1.0363636363636364, 1.0555555555555556, 1.0747474747474746, 1.0939393939393938, 1.113131313131313, 1.1323232323232322, 1.1515151515151514, 1.1707070707070706, 1.1898989898989898, 1.209090909090909, 1.2282828282828282, 1.2474747474747474, 1.2666666666666666, 1.2858585858585858, 1.305050505050505, 1.3242424242424242, 1.3434343434343434, 1.3626262626262626, 1.3818181818181818, 1.4010101010101008, 1.42020202020202, 1.4393939393939392, 1.4585858585858584, 1.4777777777777776, 1.4969696969696968, 1.516161616161616, 1.5353535353535352, 1.5545454545454545, 1.5737373737373737, 1.5929292929292929, 1.612121212121212, 1.6313131313131313, 1.6505050505050505, 1.6696969696969697, 1.6888888888888887, 1.7080808080808079, 1.727272727272727, 1.7464646464646463, 1.7656565656565655, 1.7848484848484847, 1.8040404040404039, 1.823232323232323, 1.8424242424242423, 1.8616161616161615, 1.8808080808080807, 1.9], \"y\": [-1.0, -0.9614308129013038, -0.9224861472910764, -0.8831587274216071, -0.8434411365610714, -0.8033258142616468, -0.7628050535746864, -0.7218709982119353, -0.6805156396517367, -0.638730814189163, -0.5965081999289903, -0.5538393137204007, -0.5107155080322905, -0.4671279677680291, -0.4230677070184967, -0.3785255657522051, -0.33349220644128197, -0.2879581106220761, -0.24191357538911573, -0.1953487098211304, -0.14825343133781788, -0.10061746198601718, -0.05243032465391462, -0.0036813392118943966, 0.04564038142139282, 0.09554593528918698, 0.1460466354844865, 0.19715401431712332, 0.248879827561586, 0.30123605878715587, 0.35423492377194554, 0.40788887500247384, 0.46221060626042565, 0.5172130572982958, 0.5729094186056294, 0.629313136267621, 0.6864379169178596, 0.744297732787047, 0.8029068268495414, 0.8622797180696313, 0.922431206749466, 0.9833763799806139, 1.0451306172012598, 1.1077095958610816, 1.1711292971959004, 1.2354060121142245, 1.3005563471978618, 1.3665972308188037, 1.4335459193746418, 1.5014200036448075, 1.5702374152699754, 1.6400164333570286, 1.7107756912119996, 1.7825341832034836, 1.8553112717590459, 1.9291266944971985, 2.0040005714975706, 2.0799534127119728, 2.1570061255190414, 2.235180022425288, 2.3144968289153773, 2.394978691454508, 2.4766481856458684, 2.559528324546159, 2.643642567142244, 2.7290148269920627, 2.8156694810329705, 2.903631378560771, 2.99292585038273, 3.08357871814795, 3.175616303858547, 3.269065439565124, 3.363953477250117, 3.4603082989026532, 3.558158326788634, 3.65753253391982, 3.7584604547257827, 3.860972195932651, 3.9650984476526467, 4.070870494688522, 4.178320228057034, 4.287480156735711, 4.398383419637253, 4.511063797815947, 4.625555726910619, 4.741894309828696, 4.860115329676044, 4.980255262937359, 5.102351292911953, 5.226441323409892, 5.352563992713524, 5.4807586878095425, 5.611065558896836, 5.743525534175456, 5.878180334922149, 6.0150724908580155, 6.154245355813961, 6.295743123699685, 6.4396108447821145, 6.585894442279269]}, {\"name\": \"g(x)\", \"type\": \"scatter\", \"x\": [0.0, 0.01919191919191919, 0.03838383838383838, 0.05757575757575757, 0.07676767676767676, 0.09595959595959595, 0.11515151515151514, 0.13434343434343432, 0.15353535353535352, 0.17272727272727273, 0.1919191919191919, 0.21111111111111108, 0.2303030303030303, 0.2494949494949495, 0.26868686868686864, 0.28787878787878785, 0.30707070707070705, 0.32626262626262625, 0.34545454545454546, 0.3646464646464646, 0.3838383838383838, 0.403030303030303, 0.42222222222222217, 0.44141414141414137, 0.4606060606060606, 0.4797979797979798, 0.498989898989899, 0.5181818181818182, 0.5373737373737373, 0.5565656565656565, 0.5757575757575757, 0.5949494949494949, 0.6141414141414141, 0.6333333333333333, 0.6525252525252525, 0.6717171717171717, 0.6909090909090909, 0.71010101010101, 0.7292929292929292, 0.7484848484848484, 0.7676767676767676, 0.7868686868686868, 0.806060606060606, 0.8252525252525252, 0.8444444444444443, 0.8636363636363635, 0.8828282828282827, 0.9020202020202019, 0.9212121212121211, 0.9404040404040404, 0.9595959595959596, 0.9787878787878788, 0.997979797979798, 1.0171717171717172, 1.0363636363636364, 1.0555555555555556, 1.0747474747474746, 1.0939393939393938, 1.113131313131313, 1.1323232323232322, 1.1515151515151514, 1.1707070707070706, 1.1898989898989898, 1.209090909090909, 1.2282828282828282, 1.2474747474747474, 1.2666666666666666, 1.2858585858585858, 1.305050505050505, 1.3242424242424242, 1.3434343434343434, 1.3626262626262626, 1.3818181818181818, 1.4010101010101008, 1.42020202020202, 1.4393939393939392, 1.4585858585858584, 1.4777777777777776, 1.4969696969696968, 1.516161616161616, 1.5353535353535352, 1.5545454545454545, 1.5737373737373737, 1.5929292929292929, 1.612121212121212, 1.6313131313131313, 1.6505050505050505, 1.6696969696969697, 1.6888888888888887, 1.7080808080808079, 1.727272727272727, 1.7464646464646463, 1.7656565656565655, 1.7848484848484847, 1.8040404040404039, 1.823232323232323, 1.8424242424242423, 1.8616161616161615, 1.8808080808080807, 1.9], \"y\": [0.6931471805599453, 0.6835048830677106, 0.6737687057226346, 0.6639368024601441, 0.654007272222675, 0.6439781567534755, 0.6338474382786535, 0.6236130370706043, 0.6132728088854597, 0.6028245422666595, 0.5922659557061651, 0.581594694654198, 0.5708083283677011, 0.5599043465869705, 0.5488801560290895, 0.5377330766859151, 0.5264603379133928, 0.5150590742979273, 0.5035263212843791, 0.4918590105489995, 0.480053965099237, 0.46810789408083636, 0.4560173872709958, 0.44377890923452534, 0.4313887931179561, 0.4188432340543406, 0.40613828214906894, 0.3932698350143462, 0.38023362981702613, 0.36702523480123184, 0.3536400402435784, 0.3400732487948073, 0.32631986515719497, 0.31237468504215243, 0.2982322833469334, 0.2838870014832293, 0.26933293378358436, 0.2545639129039037, 0.2395734941317502, 0.2243549385005068, 0.20890119459866657, 0.19320487895134786, 0.1772582548374078, 0.16105320939002873, 0.1445812288111077, 0.127833371509885, 0.11080023895364458, 0.0934719439925739, 0.0758380763915046, 0.05788766526766161, 0.03960913809504588, 0.02099027589183583, 0.0020181641562371953, -0.017320860942630547, -0.0370412716803491, -0.05715841383994864, -0.07768857845450515, -0.0986490810698393, -0.12005834949351878, -0.14193602114438006, -0.16430305129127615, -0.18718183367620725, -0.210596335262121, -0.2345722471378324, -0.259137153962115, -0.284320724749076, -0.31015492830383945, -0.3366742772320628, -0.3639161051952919, -0.3919208830004071, -0.4207325802389528, -0.45039908058742245, -0.48097266061630956, -0.5125105441309098, -0.5450755468090689, -0.5787368293822008, -0.6135707820578333, -0.6496620686202063, -0.6871048661039825, -0.7260043457177201, -0.7664784536454947, -0.8086600676817894, -0.8526996290926236, -0.8987683811819525, -0.9470623905409086, -0.997807589546144, -1.0512661680709112, -1.1077447722313822, -1.1676051601550603, -1.2312782550162027, -1.2992829841302602, -1.3722520039968509, -1.450967571462325, -1.5364127774192098, -1.6298467840653068, -1.7329189692051208, -1.8478489358790977, -1.97772401730051, -2.12702031866297, -2.302585092994045]}, {\"name\": \"raiz\", \"type\": \"scatter\", \"x\": [0.44690601430835464], \"y\": [0.01037336312911652]}],\n",
              "                        {\"height\": 500, \"legend\": {\"tracegroupgap\": 0}, \"margin\": {\"t\": 60}, \"template\": {\"data\": {\"bar\": [{\"error_x\": {\"color\": \"#2a3f5f\"}, \"error_y\": {\"color\": \"#2a3f5f\"}, \"marker\": {\"line\": {\"color\": \"#E5ECF6\", \"width\": 0.5}}, \"type\": \"bar\"}], \"barpolar\": [{\"marker\": {\"line\": {\"color\": \"#E5ECF6\", \"width\": 0.5}}, \"type\": \"barpolar\"}], \"carpet\": [{\"aaxis\": {\"endlinecolor\": \"#2a3f5f\", \"gridcolor\": \"white\", \"linecolor\": \"white\", \"minorgridcolor\": \"white\", \"startlinecolor\": \"#2a3f5f\"}, \"baxis\": {\"endlinecolor\": \"#2a3f5f\", \"gridcolor\": \"white\", \"linecolor\": \"white\", \"minorgridcolor\": \"white\", \"startlinecolor\": \"#2a3f5f\"}, \"type\": \"carpet\"}], \"choropleth\": [{\"colorbar\": {\"outlinewidth\": 0, \"ticks\": \"\"}, \"type\": \"choropleth\"}], \"contour\": [{\"colorbar\": {\"outlinewidth\": 0, \"ticks\": \"\"}, \"colorscale\": [[0.0, \"#0d0887\"], [0.1111111111111111, \"#46039f\"], [0.2222222222222222, \"#7201a8\"], [0.3333333333333333, \"#9c179e\"], [0.4444444444444444, \"#bd3786\"], [0.5555555555555556, \"#d8576b\"], [0.6666666666666666, \"#ed7953\"], [0.7777777777777778, \"#fb9f3a\"], [0.8888888888888888, \"#fdca26\"], [1.0, \"#f0f921\"]], \"type\": \"contour\"}], \"contourcarpet\": [{\"colorbar\": {\"outlinewidth\": 0, \"ticks\": \"\"}, \"type\": \"contourcarpet\"}], \"heatmap\": [{\"colorbar\": {\"outlinewidth\": 0, \"ticks\": \"\"}, \"colorscale\": [[0.0, \"#0d0887\"], [0.1111111111111111, \"#46039f\"], [0.2222222222222222, \"#7201a8\"], [0.3333333333333333, \"#9c179e\"], [0.4444444444444444, \"#bd3786\"], [0.5555555555555556, \"#d8576b\"], [0.6666666666666666, \"#ed7953\"], [0.7777777777777778, \"#fb9f3a\"], [0.8888888888888888, \"#fdca26\"], [1.0, \"#f0f921\"]], \"type\": \"heatmap\"}], \"heatmapgl\": [{\"colorbar\": {\"outlinewidth\": 0, \"ticks\": \"\"}, \"colorscale\": [[0.0, \"#0d0887\"], [0.1111111111111111, \"#46039f\"], [0.2222222222222222, \"#7201a8\"], [0.3333333333333333, \"#9c179e\"], [0.4444444444444444, \"#bd3786\"], [0.5555555555555556, \"#d8576b\"], [0.6666666666666666, \"#ed7953\"], [0.7777777777777778, \"#fb9f3a\"], [0.8888888888888888, \"#fdca26\"], [1.0, \"#f0f921\"]], \"type\": \"heatmapgl\"}], \"histogram\": [{\"marker\": {\"colorbar\": {\"outlinewidth\": 0, \"ticks\": \"\"}}, \"type\": \"histogram\"}], \"histogram2d\": [{\"colorbar\": {\"outlinewidth\": 0, \"ticks\": \"\"}, \"colorscale\": [[0.0, \"#0d0887\"], [0.1111111111111111, \"#46039f\"], [0.2222222222222222, \"#7201a8\"], [0.3333333333333333, \"#9c179e\"], [0.4444444444444444, \"#bd3786\"], [0.5555555555555556, \"#d8576b\"], [0.6666666666666666, \"#ed7953\"], [0.7777777777777778, \"#fb9f3a\"], [0.8888888888888888, \"#fdca26\"], [1.0, \"#f0f921\"]], \"type\": \"histogram2d\"}], \"histogram2dcontour\": [{\"colorbar\": {\"outlinewidth\": 0, \"ticks\": \"\"}, \"colorscale\": [[0.0, \"#0d0887\"], [0.1111111111111111, \"#46039f\"], [0.2222222222222222, \"#7201a8\"], [0.3333333333333333, \"#9c179e\"], [0.4444444444444444, \"#bd3786\"], [0.5555555555555556, \"#d8576b\"], [0.6666666666666666, \"#ed7953\"], [0.7777777777777778, \"#fb9f3a\"], [0.8888888888888888, \"#fdca26\"], [1.0, \"#f0f921\"]], \"type\": \"histogram2dcontour\"}], \"mesh3d\": [{\"colorbar\": {\"outlinewidth\": 0, \"ticks\": \"\"}, \"type\": \"mesh3d\"}], \"parcoords\": [{\"line\": {\"colorbar\": {\"outlinewidth\": 0, \"ticks\": \"\"}}, \"type\": \"parcoords\"}], \"pie\": [{\"automargin\": true, \"type\": \"pie\"}], \"scatter\": [{\"marker\": {\"colorbar\": {\"outlinewidth\": 0, \"ticks\": \"\"}}, \"type\": \"scatter\"}], \"scatter3d\": [{\"line\": {\"colorbar\": {\"outlinewidth\": 0, \"ticks\": \"\"}}, \"marker\": {\"colorbar\": {\"outlinewidth\": 0, \"ticks\": \"\"}}, \"type\": \"scatter3d\"}], \"scattercarpet\": [{\"marker\": {\"colorbar\": {\"outlinewidth\": 0, \"ticks\": \"\"}}, \"type\": \"scattercarpet\"}], \"scattergeo\": [{\"marker\": {\"colorbar\": {\"outlinewidth\": 0, \"ticks\": \"\"}}, \"type\": \"scattergeo\"}], \"scattergl\": [{\"marker\": {\"colorbar\": {\"outlinewidth\": 0, \"ticks\": \"\"}}, \"type\": \"scattergl\"}], \"scattermapbox\": [{\"marker\": {\"colorbar\": {\"outlinewidth\": 0, \"ticks\": \"\"}}, \"type\": \"scattermapbox\"}], \"scatterpolar\": [{\"marker\": {\"colorbar\": {\"outlinewidth\": 0, \"ticks\": \"\"}}, \"type\": \"scatterpolar\"}], \"scatterpolargl\": [{\"marker\": {\"colorbar\": {\"outlinewidth\": 0, \"ticks\": \"\"}}, \"type\": \"scatterpolargl\"}], \"scatterternary\": [{\"marker\": {\"colorbar\": {\"outlinewidth\": 0, \"ticks\": \"\"}}, \"type\": \"scatterternary\"}], \"surface\": [{\"colorbar\": {\"outlinewidth\": 0, \"ticks\": \"\"}, \"colorscale\": [[0.0, \"#0d0887\"], [0.1111111111111111, \"#46039f\"], [0.2222222222222222, \"#7201a8\"], [0.3333333333333333, \"#9c179e\"], [0.4444444444444444, \"#bd3786\"], [0.5555555555555556, \"#d8576b\"], [0.6666666666666666, \"#ed7953\"], [0.7777777777777778, \"#fb9f3a\"], [0.8888888888888888, \"#fdca26\"], [1.0, \"#f0f921\"]], \"type\": \"surface\"}], \"table\": [{\"cells\": {\"fill\": {\"color\": \"#EBF0F8\"}, \"line\": {\"color\": \"white\"}}, \"header\": {\"fill\": {\"color\": \"#C8D4E3\"}, \"line\": {\"color\": \"white\"}}, \"type\": \"table\"}]}, \"layout\": {\"annotationdefaults\": {\"arrowcolor\": \"#2a3f5f\", \"arrowhead\": 0, \"arrowwidth\": 1}, \"coloraxis\": {\"colorbar\": {\"outlinewidth\": 0, \"ticks\": \"\"}}, \"colorscale\": {\"diverging\": [[0, \"#8e0152\"], [0.1, \"#c51b7d\"], [0.2, \"#de77ae\"], [0.3, \"#f1b6da\"], [0.4, \"#fde0ef\"], [0.5, \"#f7f7f7\"], [0.6, \"#e6f5d0\"], [0.7, \"#b8e186\"], [0.8, \"#7fbc41\"], [0.9, \"#4d9221\"], [1, \"#276419\"]], \"sequential\": [[0.0, \"#0d0887\"], [0.1111111111111111, \"#46039f\"], [0.2222222222222222, \"#7201a8\"], [0.3333333333333333, \"#9c179e\"], [0.4444444444444444, \"#bd3786\"], [0.5555555555555556, \"#d8576b\"], [0.6666666666666666, \"#ed7953\"], [0.7777777777777778, \"#fb9f3a\"], [0.8888888888888888, \"#fdca26\"], [1.0, \"#f0f921\"]], \"sequentialminus\": [[0.0, \"#0d0887\"], [0.1111111111111111, \"#46039f\"], [0.2222222222222222, \"#7201a8\"], [0.3333333333333333, \"#9c179e\"], [0.4444444444444444, \"#bd3786\"], [0.5555555555555556, \"#d8576b\"], [0.6666666666666666, \"#ed7953\"], [0.7777777777777778, \"#fb9f3a\"], [0.8888888888888888, \"#fdca26\"], [1.0, \"#f0f921\"]]}, \"colorway\": [\"#636efa\", \"#EF553B\", \"#00cc96\", \"#ab63fa\", \"#FFA15A\", \"#19d3f3\", \"#FF6692\", \"#B6E880\", \"#FF97FF\", \"#FECB52\"], \"font\": {\"color\": \"#2a3f5f\"}, \"geo\": {\"bgcolor\": \"white\", \"lakecolor\": \"white\", \"landcolor\": \"#E5ECF6\", \"showlakes\": true, \"showland\": true, \"subunitcolor\": \"white\"}, \"hoverlabel\": {\"align\": \"left\"}, \"hovermode\": \"closest\", \"mapbox\": {\"style\": \"light\"}, \"paper_bgcolor\": \"white\", \"plot_bgcolor\": \"#E5ECF6\", \"polar\": {\"angularaxis\": {\"gridcolor\": \"white\", \"linecolor\": \"white\", \"ticks\": \"\"}, \"bgcolor\": \"#E5ECF6\", \"radialaxis\": {\"gridcolor\": \"white\", \"linecolor\": \"white\", \"ticks\": \"\"}}, \"scene\": {\"xaxis\": {\"backgroundcolor\": \"#E5ECF6\", \"gridcolor\": \"white\", \"gridwidth\": 2, \"linecolor\": \"white\", \"showbackground\": true, \"ticks\": \"\", \"zerolinecolor\": \"white\"}, \"yaxis\": {\"backgroundcolor\": \"#E5ECF6\", \"gridcolor\": \"white\", \"gridwidth\": 2, \"linecolor\": \"white\", \"showbackground\": true, \"ticks\": \"\", \"zerolinecolor\": \"white\"}, \"zaxis\": {\"backgroundcolor\": \"#E5ECF6\", \"gridcolor\": \"white\", \"gridwidth\": 2, \"linecolor\": \"white\", \"showbackground\": true, \"ticks\": \"\", \"zerolinecolor\": \"white\"}}, \"shapedefaults\": {\"line\": {\"color\": \"#2a3f5f\"}}, \"ternary\": {\"aaxis\": {\"gridcolor\": \"white\", \"linecolor\": \"white\", \"ticks\": \"\"}, \"baxis\": {\"gridcolor\": \"white\", \"linecolor\": \"white\", \"ticks\": \"\"}, \"bgcolor\": \"#E5ECF6\", \"caxis\": {\"gridcolor\": \"white\", \"linecolor\": \"white\", \"ticks\": \"\"}}, \"title\": {\"x\": 0.05}, \"xaxis\": {\"automargin\": true, \"gridcolor\": \"white\", \"linecolor\": \"white\", \"ticks\": \"\", \"title\": {\"standoff\": 15}, \"zerolinecolor\": \"white\", \"zerolinewidth\": 2}, \"yaxis\": {\"automargin\": true, \"gridcolor\": \"white\", \"linecolor\": \"white\", \"ticks\": \"\", \"title\": {\"standoff\": 15}, \"zerolinecolor\": \"white\", \"zerolinewidth\": 2}}}, \"width\": 700, \"xaxis\": {\"anchor\": \"y\", \"domain\": [0.0, 1.0]}, \"yaxis\": {\"anchor\": \"x\", \"domain\": [0.0, 1.0], \"zeroline\": true, \"zerolinecolor\": \"#000000\"}},\n",
              "                        {\"responsive\": true}\n",
              "                    ).then(function(){\n",
              "                            \n",
              "var gd = document.getElementById('205c1c5b-3e78-4c3d-ad4d-a290692ac68e');\n",
              "var x = new MutationObserver(function (mutations, observer) {{\n",
              "        var display = window.getComputedStyle(gd).display;\n",
              "        if (!display || display === 'none') {{\n",
              "            console.log([gd, 'removed!']);\n",
              "            Plotly.purge(gd);\n",
              "            observer.disconnect();\n",
              "        }}\n",
              "}});\n",
              "\n",
              "// Listen for the removal of the full notebook cells\n",
              "var notebookContainer = gd.closest('#notebook-container');\n",
              "if (notebookContainer) {{\n",
              "    x.observe(notebookContainer, {childList: true});\n",
              "}}\n",
              "\n",
              "// Listen for the clearing of the current output cell\n",
              "var outputEl = gd.closest('.output');\n",
              "if (outputEl) {{\n",
              "    x.observe(outputEl, {childList: true});\n",
              "}}\n",
              "\n",
              "                        })\n",
              "                };\n",
              "                \n",
              "            </script>\n",
              "        </div>\n",
              "</body>\n",
              "</html>"
            ]
          },
          "metadata": {}
        }
      ]
    },
    {
      "cell_type": "markdown",
      "metadata": {
        "id": "b15OhwVPo16t"
      },
      "source": [
        "### $\\color{#97a100}{\\text{Secante}}$"
      ]
    },
    {
      "cell_type": "markdown",
      "metadata": {
        "id": "jKhZx8cWpC61"
      },
      "source": [
        "#### $\\color{#00b6ff}{\\text{Descrição}}$"
      ]
    },
    {
      "cell_type": "markdown",
      "metadata": {
        "id": "5IwfA7rTpQhU"
      },
      "source": [
        "Uma grande desvantagem do método de Newton é a necissidade de obter $f'(x)$ e calcular seu valor numérico a cada iteração.\n",
        "\n",
        "Uma forma de se contornar este problema é subtituir a derivada $f'(x_k)$ pelo quociente das diferenças:\n",
        "\n",
        "$ $\n",
        "\n",
        "$$\n",
        "f'(x_k)\\approx\\frac{f(x_k)-f(x_{k-1})}{x_k-x_{k-1}}\n",
        "$$\n",
        "\n",
        "$ $\n",
        "\n",
        "Onde $x_k$ e $x_{k-1}$ são duas aproximações para a raiz.\n",
        "\n",
        "Neste caso, a função de interação fica\n",
        "\n",
        "$ $\n",
        "\n",
        "$$\n",
        "\\psi(x_k)=x_k-\\frac{f(x_k)}{\\frac{f(x_k)-f(x_{k-1})}{x_k-x_{k-1}}}=x_k-\\frac{f(x_k)}{f(x_k)-f(x_{k-1})}(x_k-x_{k-1})\n",
        "$$\n",
        "\n",
        "Ou ainda,\n",
        "\n",
        "$$\\psi(x_k)=\\frac{x_{k-1}f(x_k)-x_kf(x_{k-1})}{f(x_k)-f(x_{k-1})}$$\n",
        "\n",
        "$ $ \n",
        "\n",
        "Observamos que são necessárias duas aproximações para se iniciar o método.\n",
        "\n",
        "$\\color{gray}{\\text{MÁRCIA (1996)}}$"
      ]
    },
    {
      "cell_type": "markdown",
      "metadata": {
        "id": "rSi4oU4UpG89"
      },
      "source": [
        "#### $\\color{#00b6ff}{Programa}$"
      ]
    },
    {
      "cell_type": "code",
      "metadata": {
        "cellView": "form",
        "id": "4jbGibUl1p_Q"
      },
      "source": [
        "#@markdown > $\\color{gray}{\\text{secante(a, b, n=100, e=0.001)}}$\n",
        "def secante(a, b, n=100, e=0.1):\n",
        "\n",
        "    qd = lambda x: (f(b)-f(a))/(b-a)\n",
        "    \n",
        "    for i in range(n):\n",
        "        x = a if i == 0 else x-f(x)/qd(x)\n",
        "        error = abs(x-er)/x if i != 0 else 1; er = x\n",
        "        if error <= e:\n",
        "            break\n",
        "    \n",
        "    return x, i, error"
      ],
      "execution_count": 36,
      "outputs": []
    },
    {
      "cell_type": "code",
      "metadata": {
        "colab": {
          "base_uri": "https://localhost:8080/",
          "height": 585
        },
        "cellView": "form",
        "id": "v51AKnYw6WsG",
        "outputId": "1372b86b-790c-4879-bd8e-25605ba6067f"
      },
      "source": [
        "import numpy as np\n",
        "\n",
        "f = lambda x: x*np.sin(x) #@param\n",
        "\n",
        "RUM = True #@param {type:\"boolean\"}\n",
        "a = 3 #@param {type:\"number\"}\n",
        "b = 3.15 #@param {type:\"number\"}\n",
        "loops = 50 #@param {type:\"slider\", min:1, max:100}\n",
        "error = 1e-10 #@param {type:\"slider\", min:1e-10, max:0.1, step:1e-4}\n",
        "\n",
        "if RUM:\n",
        "    secant = secante(a, b, loops, error)\n",
        "    print(f'\\033[32mA raiz encontrada foi \\033[34m{secant[0]}\\033[')\n",
        "    print(f'\\033[32mO programa rodou \\033[34m{secant[1]}\\033[32m vezes\\033[')\n",
        "    print(f'\\033[32mA diferença dos intervalos é \\033[34m{secant[2]}\\033[')\n",
        "\n",
        "PLOTAR_GRAFICO = True #@param {type:\"boolean\"}\n",
        "if PLOTAR_GRAFICO:\n",
        "    raiz = secante(a, b, loops, error)[0]\n",
        "    incremento = secante(a, b, loops, error)[1]\n",
        "    import plotly.express as px\n",
        "    x = np.linspace(raiz-incremento, raiz+incremento, 100)\n",
        "    fig = px.line()\n",
        "    print()\n",
        "    fig.update_layout(width=700,height=500)\n",
        "    fig.update_yaxes(zeroline=True, zerolinecolor='#000000')\n",
        "    fig.add_scatter(x=x, y=f(x), name=\"f(x)\")\n",
        "    fig.add_scatter(\n",
        "        x=[raiz],\n",
        "        y=[f(raiz)],\n",
        "        name=\"raiz\"\n",
        "    )\n",
        "    fig.show()\n",
        "TESTE_VELOCIDADE = False #@param {type:\"boolean\"}\n",
        "if TESTE_VELOCIDADE:\n",
        "    %timeit secante(a, b, loops, error)"
      ],
      "execution_count": 55,
      "outputs": [
        {
          "output_type": "stream",
          "name": "stdout",
          "text": [
            "\u001b[32mA raiz encontrada foi \u001b[34m3.1415926535849055\u001b[\n",
            "\u001b[32mO programa rodou \u001b[34m7\u001b[32m vezes\u001b[\n",
            "\u001b[32mA diferença dos intervalos é \u001b[34m3.426559984231112e-11\u001b[\n",
            "\n"
          ]
        },
        {
          "output_type": "display_data",
          "data": {
            "text/html": [
              "<html>\n",
              "<head><meta charset=\"utf-8\" /></head>\n",
              "<body>\n",
              "    <div>\n",
              "            <script src=\"https://cdnjs.cloudflare.com/ajax/libs/mathjax/2.7.5/MathJax.js?config=TeX-AMS-MML_SVG\"></script><script type=\"text/javascript\">if (window.MathJax) {MathJax.Hub.Config({SVG: {font: \"STIX-Web\"}});}</script>\n",
              "                <script type=\"text/javascript\">window.PlotlyConfig = {MathJaxConfig: 'local'};</script>\n",
              "        <script src=\"https://cdn.plot.ly/plotly-latest.min.js\"></script>    \n",
              "            <div id=\"f54104ac-5f40-41e8-ba3b-f1c2cc9f2c5a\" class=\"plotly-graph-div\" style=\"height:500px; width:700px;\"></div>\n",
              "            <script type=\"text/javascript\">\n",
              "                \n",
              "                    window.PLOTLYENV=window.PLOTLYENV || {};\n",
              "                    \n",
              "                if (document.getElementById(\"f54104ac-5f40-41e8-ba3b-f1c2cc9f2c5a\")) {\n",
              "                    Plotly.newPlot(\n",
              "                        'f54104ac-5f40-41e8-ba3b-f1c2cc9f2c5a',\n",
              "                        [{\"name\": \"f(x)\", \"type\": \"scatter\", \"x\": [-3.8584073464150945, -3.716993205000953, -3.5755790635868117, -3.43416492217267, -3.292750780758529, -3.1513366393443873, -3.009922497930246, -2.868508356516105, -2.727094215101963, -2.585680073687822, -2.44426593227368, -2.302851790859539, -2.1614376494453977, -2.0200235080312563, -1.8786093666171149, -1.7371952252029734, -1.595781083788832, -1.4543669423746906, -1.3129528009605491, -1.1715386595464077, -1.0301245181322662, -0.8887103767181248, -0.7472962353039834, -0.6058820938898419, -0.46446795247570094, -0.3230538110615595, -0.18163966964741807, -0.04022552823327663, 0.1011886131808648, 0.2426027545950067, 0.3840168960091477, 0.5254310374232896, 0.6668451788374306, 0.8082593202515715, 0.9496734616657134, 1.0910876030798544, 1.2325017444939963, 1.3739158859081373, 1.5153300273222792, 1.6567441687364202, 1.798158310150562, 1.939572451564703, 2.080986592978845, 2.222400734392986, 2.363814875807128, 2.505229017221269, 2.6466431586354107, 2.7880573000495517, 2.9294714414636926, 3.0708855828778345, 3.2122997242919755, 3.3537138657061174, 3.4951280071202584, 3.6365421485344003, 3.7779562899485413, 3.919370431362683, 4.060784572776824, 4.202198714190966, 4.343612855605108, 4.485026997019248, 4.62644113843339, 4.767855279847532, 4.909269421261674, 5.050683562675814, 5.192097704089956, 5.3335118455040975, 5.474925986918238, 5.6163401283323795, 5.757754269746521, 5.899168411160663, 6.040582552574803, 6.181996693988945, 6.323410835403087, 6.464824976817229, 6.606239118231369, 6.747653259645511, 6.889067401059653, 7.030481542473795, 7.171895683887935, 7.313309825302077, 7.454723966716219, 7.596138108130359, 7.737552249544501, 7.8789663909586425, 8.020380532372783, 8.161794673786925, 8.303208815201067, 8.44462295661521, 8.586037098029351, 8.72745123944349, 8.868865380857631, 9.010279522271773, 9.151693663685915, 9.293107805100057, 9.434521946514199, 9.57593608792834, 9.717350229342479, 9.85876437075662, 10.000178512170763, 10.141592653584905], \"y\": [-2.5349219190070595, -2.0226794882559798, -1.5034987825739066, -0.9904685806467649, -0.49583280003976876, -0.030706093416657598, 0.3951727962581151, 0.7736445033386999, 1.0982850873577545, 1.3645116824642742, 1.5696360904322897, 1.7128660039813328, 1.7952548830444623, 1.8196028011935852, 1.7903118014600303, 1.7132004210184621, 1.5952830360364503, 1.4445205181017147, 1.2695493625015746, 1.0793969309720153, 0.883190736678305, 0.6898697812842247, 0.5079058321093775, 0.34504220561151205, 0.20805711064905857, 0.10255791467535942, 0.03281184596454376, 0.0016176567860574924, 0.010221671065117358, 0.05828045314055288, 0.14387109146170354, 0.2635488234925984, 0.4124504673491522, 0.5844409032545973, 0.7722986943129466, 0.9679358802728224, 1.1626460464424335, 1.3473739862944993, 1.512999660587021, 1.6506287239997597, 1.7518816538914908, 1.809173481640623, 1.8159762970623319, 1.7670570675552217, 1.658683877966152, 1.4887944419788282, 1.2571216439772115, 0.9652719205852068, 0.6167534586307334, 0.21695244330346816, -0.2269430934183152, -0.7060709302578924, -1.2100715878309893, -1.7273110011673283, -2.24514417156104, -2.750213907505859, -3.2287777663333546, -3.6670554660091623, -4.051588372738972, -4.369602202939739, -4.609363821579144, -4.7605229818408725, -4.814430037367074, -4.764421066525818, -4.606062471528749, -4.3373479418804495, -3.9588416847213304, -3.4737630026654003, -2.8880086171123946, -2.2101105625060913, -1.4511289824329574, -0.6244807073769825, 0.2542939495315963, 1.1678222148692783, 2.097242269225863, 3.0225922657378583, 3.923236937691422, 4.7783227175894565, 5.567251420050688, 6.270161886679791, 6.868408571339236, 7.345025872651852, 7.685167105138154, 7.876507343449619, 7.9095999721081744, 7.778177616527296, 7.479389204649077, 7.013966191586485, 6.38631244643708, 5.604513920600911, 4.680265956226234, 3.628717914348232, 2.468236664994915, 1.220092344592216, -0.09192839264574024, -1.4419746647454768, -2.80264061485513, -4.1455215966987105, -5.441806008132297, -6.662890463032828]}, {\"name\": \"raiz\", \"type\": \"scatter\", \"x\": [3.1415926535849055], \"y\": [1.5355377009748055e-11]}],\n",
              "                        {\"height\": 500, \"legend\": {\"tracegroupgap\": 0}, \"margin\": {\"t\": 60}, \"template\": {\"data\": {\"bar\": [{\"error_x\": {\"color\": \"#2a3f5f\"}, \"error_y\": {\"color\": \"#2a3f5f\"}, \"marker\": {\"line\": {\"color\": \"#E5ECF6\", \"width\": 0.5}}, \"type\": \"bar\"}], \"barpolar\": [{\"marker\": {\"line\": {\"color\": \"#E5ECF6\", \"width\": 0.5}}, \"type\": \"barpolar\"}], \"carpet\": [{\"aaxis\": {\"endlinecolor\": \"#2a3f5f\", \"gridcolor\": \"white\", \"linecolor\": \"white\", \"minorgridcolor\": \"white\", \"startlinecolor\": \"#2a3f5f\"}, \"baxis\": {\"endlinecolor\": \"#2a3f5f\", \"gridcolor\": \"white\", \"linecolor\": \"white\", \"minorgridcolor\": \"white\", \"startlinecolor\": \"#2a3f5f\"}, \"type\": \"carpet\"}], \"choropleth\": [{\"colorbar\": {\"outlinewidth\": 0, \"ticks\": \"\"}, \"type\": \"choropleth\"}], \"contour\": [{\"colorbar\": {\"outlinewidth\": 0, \"ticks\": \"\"}, \"colorscale\": [[0.0, \"#0d0887\"], [0.1111111111111111, \"#46039f\"], [0.2222222222222222, \"#7201a8\"], [0.3333333333333333, \"#9c179e\"], [0.4444444444444444, \"#bd3786\"], [0.5555555555555556, \"#d8576b\"], [0.6666666666666666, \"#ed7953\"], [0.7777777777777778, \"#fb9f3a\"], [0.8888888888888888, \"#fdca26\"], [1.0, \"#f0f921\"]], \"type\": \"contour\"}], \"contourcarpet\": [{\"colorbar\": {\"outlinewidth\": 0, \"ticks\": \"\"}, \"type\": \"contourcarpet\"}], \"heatmap\": [{\"colorbar\": {\"outlinewidth\": 0, \"ticks\": \"\"}, \"colorscale\": [[0.0, \"#0d0887\"], [0.1111111111111111, \"#46039f\"], [0.2222222222222222, \"#7201a8\"], [0.3333333333333333, \"#9c179e\"], [0.4444444444444444, \"#bd3786\"], [0.5555555555555556, \"#d8576b\"], [0.6666666666666666, \"#ed7953\"], [0.7777777777777778, \"#fb9f3a\"], [0.8888888888888888, \"#fdca26\"], [1.0, \"#f0f921\"]], \"type\": \"heatmap\"}], \"heatmapgl\": [{\"colorbar\": {\"outlinewidth\": 0, \"ticks\": \"\"}, \"colorscale\": [[0.0, \"#0d0887\"], [0.1111111111111111, \"#46039f\"], [0.2222222222222222, \"#7201a8\"], [0.3333333333333333, \"#9c179e\"], [0.4444444444444444, \"#bd3786\"], [0.5555555555555556, \"#d8576b\"], [0.6666666666666666, \"#ed7953\"], [0.7777777777777778, \"#fb9f3a\"], [0.8888888888888888, \"#fdca26\"], [1.0, \"#f0f921\"]], \"type\": \"heatmapgl\"}], \"histogram\": [{\"marker\": {\"colorbar\": {\"outlinewidth\": 0, \"ticks\": \"\"}}, \"type\": \"histogram\"}], \"histogram2d\": [{\"colorbar\": {\"outlinewidth\": 0, \"ticks\": \"\"}, \"colorscale\": [[0.0, \"#0d0887\"], [0.1111111111111111, \"#46039f\"], [0.2222222222222222, \"#7201a8\"], [0.3333333333333333, \"#9c179e\"], [0.4444444444444444, \"#bd3786\"], [0.5555555555555556, \"#d8576b\"], [0.6666666666666666, \"#ed7953\"], [0.7777777777777778, \"#fb9f3a\"], [0.8888888888888888, \"#fdca26\"], [1.0, \"#f0f921\"]], \"type\": \"histogram2d\"}], \"histogram2dcontour\": [{\"colorbar\": {\"outlinewidth\": 0, \"ticks\": \"\"}, \"colorscale\": [[0.0, \"#0d0887\"], [0.1111111111111111, \"#46039f\"], [0.2222222222222222, \"#7201a8\"], [0.3333333333333333, \"#9c179e\"], [0.4444444444444444, \"#bd3786\"], [0.5555555555555556, \"#d8576b\"], [0.6666666666666666, \"#ed7953\"], [0.7777777777777778, \"#fb9f3a\"], [0.8888888888888888, \"#fdca26\"], [1.0, \"#f0f921\"]], \"type\": \"histogram2dcontour\"}], \"mesh3d\": [{\"colorbar\": {\"outlinewidth\": 0, \"ticks\": \"\"}, \"type\": \"mesh3d\"}], \"parcoords\": [{\"line\": {\"colorbar\": {\"outlinewidth\": 0, \"ticks\": \"\"}}, \"type\": \"parcoords\"}], \"pie\": [{\"automargin\": true, \"type\": \"pie\"}], \"scatter\": [{\"marker\": {\"colorbar\": {\"outlinewidth\": 0, \"ticks\": \"\"}}, \"type\": \"scatter\"}], \"scatter3d\": [{\"line\": {\"colorbar\": {\"outlinewidth\": 0, \"ticks\": \"\"}}, \"marker\": {\"colorbar\": {\"outlinewidth\": 0, \"ticks\": \"\"}}, \"type\": \"scatter3d\"}], \"scattercarpet\": [{\"marker\": {\"colorbar\": {\"outlinewidth\": 0, \"ticks\": \"\"}}, \"type\": \"scattercarpet\"}], \"scattergeo\": [{\"marker\": {\"colorbar\": {\"outlinewidth\": 0, \"ticks\": \"\"}}, \"type\": \"scattergeo\"}], \"scattergl\": [{\"marker\": {\"colorbar\": {\"outlinewidth\": 0, \"ticks\": \"\"}}, \"type\": \"scattergl\"}], \"scattermapbox\": [{\"marker\": {\"colorbar\": {\"outlinewidth\": 0, \"ticks\": \"\"}}, \"type\": \"scattermapbox\"}], \"scatterpolar\": [{\"marker\": {\"colorbar\": {\"outlinewidth\": 0, \"ticks\": \"\"}}, \"type\": \"scatterpolar\"}], \"scatterpolargl\": [{\"marker\": {\"colorbar\": {\"outlinewidth\": 0, \"ticks\": \"\"}}, \"type\": \"scatterpolargl\"}], \"scatterternary\": [{\"marker\": {\"colorbar\": {\"outlinewidth\": 0, \"ticks\": \"\"}}, \"type\": \"scatterternary\"}], \"surface\": [{\"colorbar\": {\"outlinewidth\": 0, \"ticks\": \"\"}, \"colorscale\": [[0.0, \"#0d0887\"], [0.1111111111111111, \"#46039f\"], [0.2222222222222222, \"#7201a8\"], [0.3333333333333333, \"#9c179e\"], [0.4444444444444444, \"#bd3786\"], [0.5555555555555556, \"#d8576b\"], [0.6666666666666666, \"#ed7953\"], [0.7777777777777778, \"#fb9f3a\"], [0.8888888888888888, \"#fdca26\"], [1.0, \"#f0f921\"]], \"type\": \"surface\"}], \"table\": [{\"cells\": {\"fill\": {\"color\": \"#EBF0F8\"}, \"line\": {\"color\": \"white\"}}, \"header\": {\"fill\": {\"color\": \"#C8D4E3\"}, \"line\": {\"color\": \"white\"}}, \"type\": \"table\"}]}, \"layout\": {\"annotationdefaults\": {\"arrowcolor\": \"#2a3f5f\", \"arrowhead\": 0, \"arrowwidth\": 1}, \"coloraxis\": {\"colorbar\": {\"outlinewidth\": 0, \"ticks\": \"\"}}, \"colorscale\": {\"diverging\": [[0, \"#8e0152\"], [0.1, \"#c51b7d\"], [0.2, \"#de77ae\"], [0.3, \"#f1b6da\"], [0.4, \"#fde0ef\"], [0.5, \"#f7f7f7\"], [0.6, \"#e6f5d0\"], [0.7, \"#b8e186\"], [0.8, \"#7fbc41\"], [0.9, \"#4d9221\"], [1, \"#276419\"]], \"sequential\": [[0.0, \"#0d0887\"], [0.1111111111111111, \"#46039f\"], [0.2222222222222222, \"#7201a8\"], [0.3333333333333333, \"#9c179e\"], [0.4444444444444444, \"#bd3786\"], [0.5555555555555556, \"#d8576b\"], [0.6666666666666666, \"#ed7953\"], [0.7777777777777778, \"#fb9f3a\"], [0.8888888888888888, \"#fdca26\"], [1.0, \"#f0f921\"]], \"sequentialminus\": [[0.0, \"#0d0887\"], [0.1111111111111111, \"#46039f\"], [0.2222222222222222, \"#7201a8\"], [0.3333333333333333, \"#9c179e\"], [0.4444444444444444, \"#bd3786\"], [0.5555555555555556, \"#d8576b\"], [0.6666666666666666, \"#ed7953\"], [0.7777777777777778, \"#fb9f3a\"], [0.8888888888888888, \"#fdca26\"], [1.0, \"#f0f921\"]]}, \"colorway\": [\"#636efa\", \"#EF553B\", \"#00cc96\", \"#ab63fa\", \"#FFA15A\", \"#19d3f3\", \"#FF6692\", \"#B6E880\", \"#FF97FF\", \"#FECB52\"], \"font\": {\"color\": \"#2a3f5f\"}, \"geo\": {\"bgcolor\": \"white\", \"lakecolor\": \"white\", \"landcolor\": \"#E5ECF6\", \"showlakes\": true, \"showland\": true, \"subunitcolor\": \"white\"}, \"hoverlabel\": {\"align\": \"left\"}, \"hovermode\": \"closest\", \"mapbox\": {\"style\": \"light\"}, \"paper_bgcolor\": \"white\", \"plot_bgcolor\": \"#E5ECF6\", \"polar\": {\"angularaxis\": {\"gridcolor\": \"white\", \"linecolor\": \"white\", \"ticks\": \"\"}, \"bgcolor\": \"#E5ECF6\", \"radialaxis\": {\"gridcolor\": \"white\", \"linecolor\": \"white\", \"ticks\": \"\"}}, \"scene\": {\"xaxis\": {\"backgroundcolor\": \"#E5ECF6\", \"gridcolor\": \"white\", \"gridwidth\": 2, \"linecolor\": \"white\", \"showbackground\": true, \"ticks\": \"\", \"zerolinecolor\": \"white\"}, \"yaxis\": {\"backgroundcolor\": \"#E5ECF6\", \"gridcolor\": \"white\", \"gridwidth\": 2, \"linecolor\": \"white\", \"showbackground\": true, \"ticks\": \"\", \"zerolinecolor\": \"white\"}, \"zaxis\": {\"backgroundcolor\": \"#E5ECF6\", \"gridcolor\": \"white\", \"gridwidth\": 2, \"linecolor\": \"white\", \"showbackground\": true, \"ticks\": \"\", \"zerolinecolor\": \"white\"}}, \"shapedefaults\": {\"line\": {\"color\": \"#2a3f5f\"}}, \"ternary\": {\"aaxis\": {\"gridcolor\": \"white\", \"linecolor\": \"white\", \"ticks\": \"\"}, \"baxis\": {\"gridcolor\": \"white\", \"linecolor\": \"white\", \"ticks\": \"\"}, \"bgcolor\": \"#E5ECF6\", \"caxis\": {\"gridcolor\": \"white\", \"linecolor\": \"white\", \"ticks\": \"\"}}, \"title\": {\"x\": 0.05}, \"xaxis\": {\"automargin\": true, \"gridcolor\": \"white\", \"linecolor\": \"white\", \"ticks\": \"\", \"title\": {\"standoff\": 15}, \"zerolinecolor\": \"white\", \"zerolinewidth\": 2}, \"yaxis\": {\"automargin\": true, \"gridcolor\": \"white\", \"linecolor\": \"white\", \"ticks\": \"\", \"title\": {\"standoff\": 15}, \"zerolinecolor\": \"white\", \"zerolinewidth\": 2}}}, \"width\": 700, \"xaxis\": {\"anchor\": \"y\", \"domain\": [0.0, 1.0]}, \"yaxis\": {\"anchor\": \"x\", \"domain\": [0.0, 1.0], \"zeroline\": true, \"zerolinecolor\": \"#000000\"}},\n",
              "                        {\"responsive\": true}\n",
              "                    ).then(function(){\n",
              "                            \n",
              "var gd = document.getElementById('f54104ac-5f40-41e8-ba3b-f1c2cc9f2c5a');\n",
              "var x = new MutationObserver(function (mutations, observer) {{\n",
              "        var display = window.getComputedStyle(gd).display;\n",
              "        if (!display || display === 'none') {{\n",
              "            console.log([gd, 'removed!']);\n",
              "            Plotly.purge(gd);\n",
              "            observer.disconnect();\n",
              "        }}\n",
              "}});\n",
              "\n",
              "// Listen for the removal of the full notebook cells\n",
              "var notebookContainer = gd.closest('#notebook-container');\n",
              "if (notebookContainer) {{\n",
              "    x.observe(notebookContainer, {childList: true});\n",
              "}}\n",
              "\n",
              "// Listen for the clearing of the current output cell\n",
              "var outputEl = gd.closest('.output');\n",
              "if (outputEl) {{\n",
              "    x.observe(outputEl, {childList: true});\n",
              "}}\n",
              "\n",
              "                        })\n",
              "                };\n",
              "                \n",
              "            </script>\n",
              "        </div>\n",
              "</body>\n",
              "</html>"
            ]
          },
          "metadata": {}
        }
      ]
    },
    {
      "cell_type": "markdown",
      "metadata": {
        "id": "R2ocoPDh0t9h"
      },
      "source": [
        "# <center>$\\color{#ff6b00}{\\text{Contatos}}$<center>\n"
      ]
    },
    {
      "cell_type": "code",
      "metadata": {
        "colab": {
          "base_uri": "https://localhost:8080/",
          "height": 128
        },
        "id": "-BSy6gbmqMQG",
        "cellView": "form",
        "outputId": "a147387c-8d24-421d-a7b2-bba558f1291f"
      },
      "source": [
        "#@title\n",
        "\n",
        "%%html\n",
        "\n",
        "<table style=\"white-space: nowrap; width: 0px;\" border=\"0\" cellspacing=\"0\">\n",
        "  <tbody>\n",
        "    <tr>\n",
        "      <td style=\"vertical-align: 0px;\">\n",
        "        <img style=\"border-right: 3px solid #ff6b00; padding-right: 13px; height: 90px;\" src=\"https://i.pinimg.com/280x280_RS/79/42/c4/7942c414d01e7c8f8c179f905a5a86eb.jpg\"/></td>\n",
        "        <td style=\"white-space: nowrap; font-family: Helvetica, Arial; padding-left: 11px; font-size: 12px; vertical-align: middle; width: 560px;\">\n",
        "        <h1 style=\"white-space: nowrap; font-size: 14px; color: #ff6b00; line-height: 1; margin: 0 0 8px 0;\">\n",
        "          <b>CLEBSON DOS SANTOS MARQUES</b>\n",
        "        </h1>\n",
        "\n",
        "        <span style=\"color: #808080; data-contrast: none;\">\n",
        "          Estudante do Curso de Licenciatura em F&iacute;sica pela Universidade Estadual Vale do Acara&uacute;<br />\n",
        "        </span>\n",
        "        <span style=\"white-space: nowrap; font-size: 12px; color: #ff6b00; line-height: 1px; margin: 0 0 8px 0;\" data-contrast=\"none\">\n",
        "          <b>Tel.:</b>\n",
        "        </span>\n",
        "        <span style=\"color: #808080; data-contrast: none;\">(88) 9 9412 2413\n",
        "          <br /><a style=\"color: #808080; data-contrast: none; text-decoration: none;\" href=\"mailto:klebersantosy@gmail.com\">klebersantosy@gmail.com</a><br />\n",
        "          <a style=\"color: #808080; data-contrast: none; text-decoration: none;\" href=\"http://lattes.cnpq.br/9411163467458250\">http://lattes.cnpq.br/9411163467458250</a>\n",
        "        </span>\n",
        "\n",
        "        <div style=\"white-space: nowrap; margin-top: 8px;\">\n",
        "          <a style=\"white-space: nowrap; display: inline-block;\" href=\"https://api.whatsapp.com/send?phone=558894122413\">\n",
        "            <img style=\"white-space: nowrap; width: 20px; height: 20px;\" src=\"https://icon-library.com/images/icon-whatsapp-png/icon-whatsapp-png-2.jpg\" />\n",
        "          </a> <a style=\"white-space: nowrap; display: inline-block;\" href=\"https://t.me/clebson_marques\">\n",
        "            <img style=\"white-space: nowrap; width: 20px; height: 20px;\" src=\"https://www.freepnglogos.com/uploads/telegram-png/telegram-communications-icons-24.png\" />\n",
        "          </a> <a style=\"white-space: nowrap; display: inline-block;\" href=\"https://www.passeidireto.com/perfil/371127-klebson-marques/\">\n",
        "            <img style=\"white-space: nowrap; width: 20px; height: 20px;\" src=\"https://img.utdstc.com/icon/f63/09d/f6309d71c42e9f12c4aaf4800260f4c2ae9637ab4b148c381e8378e80ccce0e6:200\" />\n",
        "          </a> <a style=\"white-space: nowrap; display: inline-block;\" href=\"https://github.com/kleber293\">\n",
        "            <img style=\"white-space: nowrap; width: 26px; height: 20px; object-fit: cover;\" src=\"http://pngimg.com/uploads/github/github_PNG69.png\" /></a>\n",
        "        </div>\n",
        "      </td>\n",
        "    </tr>\n",
        "  </tbody>\n",
        "</table>"
      ],
      "execution_count": 4,
      "outputs": [
        {
          "output_type": "display_data",
          "data": {
            "text/html": [
              "\n",
              "<table style=\"white-space: nowrap; width: 0px;\" border=\"0\" cellspacing=\"0\">\n",
              "  <tbody>\n",
              "    <tr>\n",
              "      <td style=\"vertical-align: 0px;\">\n",
              "        <img style=\"border-right: 3px solid #ff6b00; padding-right: 13px; height: 90px;\" src=\"https://i.pinimg.com/280x280_RS/79/42/c4/7942c414d01e7c8f8c179f905a5a86eb.jpg\"/></td>\n",
              "        <td style=\"white-space: nowrap; font-family: Helvetica, Arial; padding-left: 11px; font-size: 12px; vertical-align: middle; width: 560px;\">\n",
              "        <h1 style=\"white-space: nowrap; font-size: 14px; color: #ff6b00; line-height: 1; margin: 0 0 8px 0;\">\n",
              "          <b>CLEBSON DOS SANTOS MARQUES</b>\n",
              "        </h1>\n",
              "\n",
              "        <span style=\"color: #808080; data-contrast: none;\">\n",
              "          Estudante do Curso de Licenciatura em F&iacute;sica pela Universidade Estadual Vale do Acara&uacute;<br />\n",
              "        </span>\n",
              "        <span style=\"white-space: nowrap; font-size: 12px; color: #ff6b00; line-height: 1px; margin: 0 0 8px 0;\" data-contrast=\"none\">\n",
              "          <b>Tel.:</b>\n",
              "        </span>\n",
              "        <span style=\"color: #808080; data-contrast: none;\">(88) 9 9412 2413\n",
              "          <br /><a style=\"color: #808080; data-contrast: none; text-decoration: none;\" href=\"mailto:klebersantosy@gmail.com\">klebersantosy@gmail.com</a><br />\n",
              "          <a style=\"color: #808080; data-contrast: none; text-decoration: none;\" href=\"http://lattes.cnpq.br/9411163467458250\">http://lattes.cnpq.br/9411163467458250</a>\n",
              "        </span>\n",
              "\n",
              "        <div style=\"white-space: nowrap; margin-top: 8px;\">\n",
              "          <a style=\"white-space: nowrap; display: inline-block;\" href=\"https://api.whatsapp.com/send?phone=558894122413\">\n",
              "            <img style=\"white-space: nowrap; width: 20px; height: 20px;\" src=\"https://icon-library.com/images/icon-whatsapp-png/icon-whatsapp-png-2.jpg\" />\n",
              "          </a> <a style=\"white-space: nowrap; display: inline-block;\" href=\"https://t.me/clebson_marques\">\n",
              "            <img style=\"white-space: nowrap; width: 20px; height: 20px;\" src=\"https://www.freepnglogos.com/uploads/telegram-png/telegram-communications-icons-24.png\" />\n",
              "          </a> <a style=\"white-space: nowrap; display: inline-block;\" href=\"https://www.passeidireto.com/perfil/371127-klebson-marques/\">\n",
              "            <img style=\"white-space: nowrap; width: 20px; height: 20px;\" src=\"https://img.utdstc.com/icon/f63/09d/f6309d71c42e9f12c4aaf4800260f4c2ae9637ab4b148c381e8378e80ccce0e6:200\" />\n",
              "          </a> <a style=\"white-space: nowrap; display: inline-block;\" href=\"https://github.com/kleber293\">\n",
              "            <img style=\"white-space: nowrap; width: 26px; height: 20px; object-fit: cover;\" src=\"http://pngimg.com/uploads/github/github_PNG69.png\" /></a>\n",
              "        </div>\n",
              "      </td>\n",
              "    </tr>\n",
              "  </tbody>\n",
              "</table>"
            ],
            "text/plain": [
              "<IPython.core.display.HTML object>"
            ]
          },
          "metadata": {}
        }
      ]
    }
  ]
}