{
  "nbformat": 4,
  "nbformat_minor": 0,
  "metadata": {
    "colab": {
      "name": "Calculo_Numerico.ipynb",
      "provenance": [],
      "collapsed_sections": [
        "0okkjS6imtMS",
        "mh2NUnuLEkEc",
        "hQrn7HvPIQ8n",
        "R2ocoPDh0t9h"
      ],
      "toc_visible": true,
      "authorship_tag": "ABX9TyMUfYnrDwpmUVEm1nvAMlmc",
      "include_colab_link": true
    },
    "kernelspec": {
      "name": "python3",
      "display_name": "Python 3"
    },
    "language_info": {
      "name": "python"
    }
  },
  "cells": [
    {
      "cell_type": "markdown",
      "metadata": {
        "id": "view-in-github",
        "colab_type": "text"
      },
      "source": [
        "<a href=\"https://colab.research.google.com/github/kleber293/calculo_numerico/blob/main/Calculo_Numerico.ipynb\" target=\"_parent\"><img src=\"https://colab.research.google.com/assets/colab-badge.svg\" alt=\"Open In Colab\"/></a>"
      ]
    },
    {
      "cell_type": "markdown",
      "metadata": {
        "id": "0okkjS6imtMS"
      },
      "source": [
        "# <div align=\"center\">$\\color{Turquoise}{\\text{Conversões}}$</div>"
      ]
    },
    {
      "cell_type": "code",
      "metadata": {
        "colab": {
          "base_uri": "https://localhost:8080/"
        },
        "id": "th9OS5ICtJVU",
        "cellView": "form",
        "outputId": "76f2488b-6e34-4fef-975b-5828dfba6499"
      },
      "source": [
        "#@markdown # $\\color{turquoise}{\\text{Vídeo de apresentação}}$\n",
        "#@markdown > $\\color{gray}{\\text{Este vídeo apresenta a função e as suas funcionalidades}}$\n",
        "from IPython.display import YouTubeVideo\n",
        "YouTubeVideo('HBa5ATDFg04', width=500, height=333)"
      ],
      "execution_count": null,
      "outputs": [
        {
          "output_type": "execute_result",
          "data": {
            "text/html": [
              "\n",
              "        <iframe\n",
              "            width=\"500\"\n",
              "            height=\"333\"\n",
              "            src=\"https://www.youtube.com/embed/HBa5ATDFg04\"\n",
              "            frameborder=\"0\"\n",
              "            allowfullscreen\n",
              "        ></iframe>\n",
              "        "
            ],
            "text/plain": [
              "<IPython.lib.display.YouTubeVideo at 0x7f7b449ea110>"
            ],
            "image/jpeg": "[encoded data removed]"
          },
          "metadata": {},
          "execution_count": 4
        }
      ]
    },
    {
      "cell_type": "code",
      "metadata": {
        "id": "DJhQJGUxtjyL",
        "cellView": "form"
      },
      "source": [
        "#@markdown # $\\color{Turquoise}{\\text{Binário ⇆ Decimal}}$\n",
        "#@markdown > $\\color{gray}{\\text{convert_bxd}}$\n",
        "def convert_bxd(num, bin=False, dec=False):\n",
        "    \n",
        "    def saida(v1, b1, v2, b2):\n",
        "        print(f'(\\033[1;32m{v1}\\033[){b1}', end='')\n",
        "        print(' \\u27F6 ', end='')\n",
        "        print(f'(\\033[1;32m{v2}\\033[){b2}')\n",
        "\n",
        "    def dec_inteiro(val):\n",
        "        bn, bnr, val = list(), str(), int(val)\n",
        "        bn.append(val % 2)\n",
        "        while True:\n",
        "            d = val // 2\n",
        "            if d == 1 or d == 0:\n",
        "                bn.append(d)\n",
        "                break\n",
        "            bn.append(d % 2)\n",
        "            val = d\n",
        "        for x in reversed(bn):\n",
        "            bnr += str(x)\n",
        "        return bnr\n",
        "\n",
        "    conf = num\n",
        "    \n",
        "    if bin:\n",
        "        con = True\n",
        "        for v in str(num):\n",
        "            con *= v in '10.'\n",
        "        if bool(con):\n",
        "            if isinstance(num, float):\n",
        "                b, sm = str(num).find('.')-1, 0\n",
        "                for i in str(num).replace('.', ''):\n",
        "                    sm += int(i)*2**(b)\n",
        "                    b -= 1\n",
        "                saida(conf, '\\u2082', sm, '\\u2081\\u2080')\n",
        "            else:\n",
        "                c, s = 0, 0\n",
        "                for n in str(num):\n",
        "                    c += 1\n",
        "                    s += int(n)*2**(len(str(num))-c)\n",
        "                saida(conf, '\\u2082', s, '\\u2081\\u2080')\n",
        "        else: \n",
        "            print('\\033[1;31mO valor digitado não é um número Binário!\\033[m')\n",
        "\n",
        "    elif dec:\n",
        "        if isinstance(num, float):\n",
        "            bm, st = list(), str()\n",
        "            cm = 0 if int(num) == 0 else dec_inteiro(num)\n",
        "            while True:\n",
        "                if num > 1:\n",
        "                    num -= int(num)\n",
        "                num *= 2\n",
        "                bm.append(num)\n",
        "                if num % 1 == 0:\n",
        "                    break\n",
        "            for x in bm:\n",
        "                st += f'{str(int(x))}'\n",
        "            saida(conf, '\\u2081\\u2080', f'{cm}.{st}', '\\u2082')\n",
        "        else:\n",
        "            saida(conf,'\\u2081\\u2080', dec_inteiro(num), '\\u2082')"
      ],
      "execution_count": null,
      "outputs": []
    },
    {
      "cell_type": "code",
      "metadata": {
        "id": "CKA5oT9it4a9",
        "colab": {
          "base_uri": "https://localhost:8080/"
        },
        "cellView": "form",
        "outputId": "0ab2e8ab-fad3-4d88-886b-195e3226dfd3"
      },
      "source": [
        "#@markdown ### Convertendo um número **Binário** em **Decimal**\n",
        "Numero_Binario =  10111#@param\n",
        "convert_bxd(Numero_Binario, bin=True)"
      ],
      "execution_count": null,
      "outputs": [
        {
          "output_type": "stream",
          "name": "stdout",
          "text": [
            "(\u001b[1;32m10111\u001b[)₂ ⟶ (\u001b[1;32m23\u001b[)₁₀\n"
          ]
        }
      ]
    },
    {
      "cell_type": "code",
      "metadata": {
        "id": "yN69942r1Zds",
        "colab": {
          "base_uri": "https://localhost:8080/"
        },
        "cellView": "form",
        "outputId": "411f8ed5-991e-425a-8b5e-005e5e26164f"
      },
      "source": [
        "#@markdown ### Convertendo um número **Decimal** em **Binário**\n",
        "Numero_Decimal =  13.25#@param\n",
        "convert_bxd(Numero_Decimal, dec=True)"
      ],
      "execution_count": null,
      "outputs": [
        {
          "output_type": "stream",
          "name": "stdout",
          "text": [
            "(\u001b[1;32m13.25\u001b[)₁₀ ⟶ (\u001b[1;32m1101.01\u001b[)₂\n"
          ]
        }
      ]
    },
    {
      "cell_type": "markdown",
      "metadata": {
        "id": "mh2NUnuLEkEc"
      },
      "source": [
        "# <div align=\"center\">$\\color{Turquoise}{\\text{Resolução numérica de sistemas lineares}}$</div>"
      ]
    },
    {
      "cell_type": "markdown",
      "metadata": {
        "id": "u2ACRTABnNin"
      },
      "source": [
        "## $\\color{Turquoise}{\\text{Métodos Exatos}}$\n",
        "<HR width=100% color=\"Turquoise\t\" align=left noshade>"
      ]
    },
    {
      "cell_type": "markdown",
      "metadata": {
        "id": "cmZT80eJyLfQ"
      },
      "source": [
        "### $\\color{Turquoise}{\\text{Método de Gauss}}$"
      ]
    },
    {
      "cell_type": "code",
      "metadata": {
        "id": "KgJgLGT6SfR6",
        "cellView": "form"
      },
      "source": [
        "\n",
        "#@markdown > $\\color{gray}{\\text{eliminacao_gauss(hea)}}$\n",
        "\n",
        "def eliminacao_gauss(hea):\n",
        "    import numpy as np\n",
        "    \n",
        "    arr = np.array(hea, dtype=np.float64, copy=True)\n",
        "    \n",
        "    def max_diagonal(arr):\n",
        "        \n",
        "        def permutation(arr, shift, end):\n",
        "            arr = np.insert(arr, end, arr[shift], axis=0)\n",
        "            finale = shift + 1 if shift > end else shift \n",
        "            arr = np.delete(arr, finale, axis=0)\n",
        "            return arr \n",
        "\n",
        "        for i in range(len(arr)):\n",
        "            arr = permutation(\n",
        "                arr,\n",
        "                np.where(arr[i:, i] == max(arr[i:, i], key=abs))[0][0] + i,\n",
        "                i\n",
        "            )\n",
        "        return arr\n",
        "\n",
        "    arr = max_diagonal(arr)\n",
        "\n",
        "    for cm in range(len(arr[0])-2): # coluna da linha da matriz\n",
        "        for l, k in zip(range(cm, len(arr)-1), range(len(arr))): # linha\n",
        "            for c in range(len(arr[0])): # coluna da linha\n",
        "                if not c:\n",
        "                    v1, v2 = arr[cm][cm], arr[cm+k+1][cm]\n",
        "                arr[cm+k+1][c] = v1*arr[cm+k+1][c]-v2*arr[cm][c]\n",
        "        arr = max_diagonal(arr)\n",
        "\n",
        "    return arr        "
      ],
      "execution_count": null,
      "outputs": []
    },
    {
      "cell_type": "code",
      "metadata": {
        "colab": {
          "base_uri": "https://localhost:8080/"
        },
        "id": "8ZSab6ZEJfKR",
        "cellView": "form",
        "outputId": "69c3c4d7-2be3-4173-ae22-c787f5cfa1ef"
      },
      "source": [
        "matriz_gauss =  [[1, 1, 2, 4], [2, -1, -1, 0], [1, -1, -1, -1]]#@param\n",
        "#@markdown > $\\color{gray}{\\text{matriz = eliminacao_gauss(matriz_gauss)}}$\n",
        "matriz = eliminacao_gauss(matriz_gauss)\n",
        "print(f'\\033[32m{matriz}'); print()\n",
        "testar_velocidade = True #@param {type:\"boolean\"}\n",
        "if testar_velocidade:\n",
        "    %timeit eliminacao_gauss(matriz_gauss)"
      ],
      "execution_count": null,
      "outputs": [
        {
          "output_type": "stream",
          "name": "stdout",
          "text": [
            "\u001b[32m[[ 2. -1. -1.  0.]\n",
            " [ 0.  3.  5.  8.]\n",
            " [ 0.  0.  2.  2.]]\n",
            "\n",
            "1000 loops, best of 5: 419 µs per loop\n"
          ]
        }
      ]
    },
    {
      "cell_type": "markdown",
      "metadata": {
        "id": "AiFmztPNJDwj"
      },
      "source": [
        "### $\\color{Turquoise}{\\text{Matriz resultado do Método de Gauss}}$\n"
      ]
    },
    {
      "cell_type": "code",
      "metadata": {
        "id": "4-hMYMpcl4S6",
        "cellView": "form"
      },
      "source": [
        "#@markdown > $\\color{gray}{\\text{resultados(hea)}}$\n",
        "\n",
        "def resultado(hea):\n",
        "    '''Entre apenas com uma matriz triangular inferior'''\n",
        "    import numpy as np\n",
        "    \n",
        "    arr = np.array(hea, dtype=np.float64, copy=True); mt = []\n",
        "    for x in reversed(range(len(arr))):\n",
        "        n = 0; s = []\n",
        "        for i, k in zip(range(x+1, len(arr)), range(1, len(arr))):\n",
        "            s.append(arr[x][i])\n",
        "            n += s[k-1]*mt[k-1]\n",
        "\n",
        "        mt.insert(0, (arr[x][len(arr)]-n)/arr.diagonal()[x])\n",
        "\n",
        "    return mt"
      ],
      "execution_count": null,
      "outputs": []
    },
    {
      "cell_type": "code",
      "metadata": {
        "colab": {
          "base_uri": "https://localhost:8080/"
        },
        "id": "zeiJmNBSKGNB",
        "cellView": "form",
        "outputId": "c6e45669-ad5e-408b-c8e7-09f222638645"
      },
      "source": [
        "matriz_resultados =  matriz#@param\n",
        "#@markdown > $\\color{gray}{\\text{resultado(matriz_resultados)}}$\n",
        "print(f'\\033[32mM = {resultado(matriz_resultados)}\\u1D40'); print()\n",
        "testar_velocidade = True #@param {type:\"boolean\"}\n",
        "if testar_velocidade:\n",
        "    %timeit resultado(matriz_resultados)"
      ],
      "execution_count": null,
      "outputs": [
        {
          "output_type": "stream",
          "name": "stdout",
          "text": [
            "\u001b[32mM = [1.0, 1.0, 1.0]ᵀ\n",
            "\n",
            "The slowest run took 5.89 times longer than the fastest. This could mean that an intermediate result is being cached.\n",
            "10000 loops, best of 5: 12.3 µs per loop\n"
          ]
        }
      ]
    },
    {
      "cell_type": "markdown",
      "metadata": {
        "id": "m1u7WhDBSxFg"
      },
      "source": [
        "### $\\color{Turquoise}{\\text{Método de Gauss Jordan}}$\n"
      ]
    },
    {
      "cell_type": "code",
      "metadata": {
        "id": "muuk30as4uZ7",
        "cellView": "form"
      },
      "source": [
        "#@markdown > $\\color{gray}{\\text{gauss_jordan(hea)}}$\n",
        "\n",
        "def gauss_jordan(hea):\n",
        "\n",
        "    import numpy as np\n",
        "\n",
        "    def simple(arr):\n",
        "        diag = arr.diagonal()\n",
        "        for i, x in zip(range(len(diag)), diag):\n",
        "            arr[i] = arr[i]/x\n",
        "        return arr\n",
        "\n",
        "    arr = np.array(hea, dtype=np.float64,  copy=True)\n",
        "\n",
        "    for _ in range(2): \n",
        "        bl = []\n",
        "        for i, k in zip(arr, range(len(arr))):\n",
        "            if not k-1 < 0:\n",
        "                bl.append([i[x] for x in range(k)])\n",
        "        bl = np.hstack(bl)\n",
        "\n",
        "        if len(np.where(bl > 0)[0]) != 0:\n",
        "            arr = eliminacao_gauss(arr)\n",
        "        else:\n",
        "            break\n",
        "\n",
        "    for cm in reversed(range(1, len(arr[0])-1)): # coluna da linha da matriz\n",
        "        for l, k in zip(reversed(range(cm)), range(1, len(arr))): # linha\n",
        "            for c in range(len(arr[0])): # coluna da linha\n",
        "                if not c:\n",
        "                    v1, v2 = arr[cm][cm], arr[cm-k][cm]\n",
        "\n",
        "                arr[cm-k][c] = v1*arr[cm-k][c]-v2*arr[cm][c]\n",
        "            simple(arr)\n",
        "    return arr"
      ],
      "execution_count": null,
      "outputs": []
    },
    {
      "cell_type": "code",
      "metadata": {
        "colab": {
          "base_uri": "https://localhost:8080/"
        },
        "id": "oD5DwgUj4zrq",
        "cellView": "form",
        "outputId": "c4ae7920-dba5-4959-a55b-3171be00f39a"
      },
      "source": [
        "matriz_gauss_jordan = [[1, 1, 2, 4], [2, -1, -1, 0], [1, -1, -1, -1]]#@param\n",
        "#@markdown > $\\color{gray}{\\text{gauss_jordan(matriz_gauss_jordan)}}$\n",
        "arr = gauss_jordan(matriz_gauss_jordan)\n",
        "print(f'\\033[32m{arr}'); print()\n",
        "testar_velocidade = True #@param {type:\"boolean\"}\n",
        "if testar_velocidade:\n",
        "    %timeit gauss_jordan(matriz_gauss_jordan)"
      ],
      "execution_count": null,
      "outputs": [
        {
          "output_type": "stream",
          "name": "stdout",
          "text": [
            "\u001b[32m[[1. 0. 0. 1.]\n",
            " [0. 1. 0. 1.]\n",
            " [0. 0. 1. 1.]]\n",
            "\n",
            "1000 loops, best of 5: 544 µs per loop\n"
          ]
        }
      ]
    },
    {
      "cell_type": "markdown",
      "metadata": {
        "id": "7jr4NM4XqDGO"
      },
      "source": [
        "## $\\color{Turquoise}{Métodos Abertos}$\n",
        "<HR width=100% color=\"Turquoise\t\" align=left noshade>"
      ]
    },
    {
      "cell_type": "markdown",
      "metadata": {
        "id": "piA1ykK0jtNT"
      },
      "source": [
        "#### $\\color{#7FFFD4}{\\text{O processo interativo}}$\n",
        "#### $$\\color{#7FFFD4}{x^{(k+1)}=Bx^{(k)}+d}$$\n",
        "#### $\\color{#7FFFD4}{\\text{Converge para a solução }}$$\\color{#00FFFF}{\\text{se e somente se}}$\n",
        "#### $$\\color{#7FFFD4}{max\\{|\\lambda_i|\\}<1,\\qquad\\lambda_i\\:\\text{autovalores de}\\:B}$$\n",
        "\n",
        "###### $\\color{gray}{Fonte:}$ [Aqui](https://youtu.be/0KhoP01Ir9g)"
      ]
    },
    {
      "cell_type": "markdown",
      "metadata": {
        "id": "OyZvVfI-y1xg"
      },
      "source": [
        "### $\\color{Turquoise}{\\text{Critérios de convergência}}$\n"
      ]
    },
    {
      "cell_type": "code",
      "metadata": {
        "id": "24FTYomyiSuZ",
        "cellView": "form"
      },
      "source": [
        "#@markdown > $\\color{gray}{\\text{convergencia(arr)}}$\n",
        "\n",
        "def convergencia(arr):\n",
        "    \"\"\"\n",
        "        Retorna uma str afirmando ou negando se a matriz converge\n",
        "    \"\"\"\n",
        "    \n",
        "    def interacao(arr):\n",
        "        \"\"\"\n",
        "            Retorna uma matriz quadrada gerada pelo processo de interação \n",
        "        \"\"\"\n",
        "        arr = np.array(arr, dtype=np.float64, copy=True)\n",
        "\n",
        "        if len(arr[0]) == len(arr)+1:\n",
        "            arr = np.delete(arr, -1, 1)\n",
        "\n",
        "        for j in range(len(arr)): # colunas\n",
        "            for i in range(len(arr[0])): #linhas\n",
        "                if j != i:\n",
        "                    arr[j][i] = -1*arr[j][i]/arr.diagonal()[j]\n",
        "            arr[j][j] = 0\n",
        "        return arr\n",
        "\n",
        "    # ---------------\n",
        "    \n",
        "    import numpy as np\n",
        "\n",
        "    arr = np.array(arr, dtype=np.float64, copy=True)\n",
        "    arr = interacao(arr)\n",
        "    \n",
        "    if len(arr[0]) == len(arr):\n",
        "        auto_v = np.linalg.eigvals(arr)\n",
        "        \n",
        "        if np.max(abs(auto_v)) < 1:\n",
        "            msg = '\\033[32mA matriz converge\\033[' # mensagem em verde\n",
        "        else:\n",
        "            msg = '\\033[31mA matriz diverge\\033[' # mensagem em vermelho\n",
        "    else:\n",
        "        msg = f'\\033[31mErro! M[{len(arr[0])}][{len(arr)}]\\033[' # mensagem de erro em vermelho\n",
        "\n",
        "    return f'{msg}\\n{abs(auto_v)}'\n",
        "\n",
        "# convergencia([[15, 5, -5, 30], [4, -20, 1, 23], [2, -2, 8, -10]])\n",
        "# convergencia([[3, 4, -2, 13], [-1, 3, 5, 0], [-4, 4, 2, 2]])"
      ],
      "execution_count": null,
      "outputs": []
    },
    {
      "cell_type": "code",
      "metadata": {
        "colab": {
          "base_uri": "https://localhost:8080/"
        },
        "cellView": "form",
        "id": "v3iZQDTdbyYw",
        "outputId": "83d2b7a5-673e-4a85-e518-83c85662fde5"
      },
      "source": [
        "Matriz_1 = True #@param {type:\"boolean\"}\n",
        "if Matriz_1:\n",
        "    Matriz_01 =  [[2, -1, 1], [1, 2, 3]]#@param\n",
        "    print(convergencia(Matriz_01))\n",
        "Matriz_2 = False #@param {type:\"boolean\"}\n",
        "if Matriz_2:\n",
        "    Matriz_02 =  [[1, 1, 2, 4], [2, -1, -1, 0], [1, -1, -1, -1]]#@param\n",
        "    print(convergencia(Matriz_02))"
      ],
      "execution_count": null,
      "outputs": [
        {
          "output_type": "stream",
          "name": "stdout",
          "text": [
            "\u001b[32mA matriz converge\u001b[\n",
            "[0.5 0.5]\n"
          ]
        }
      ]
    },
    {
      "cell_type": "markdown",
      "metadata": {
        "id": "MBvipitciSJC"
      },
      "source": [
        "### $\\color{Turquoise}{\\text{Método de Jacobi}}$\n"
      ]
    },
    {
      "cell_type": "code",
      "metadata": {
        "id": "yaxfm3_s9Jw_",
        "cellView": "form"
      },
      "source": [
        "#@markdown > $\\color{gray}{\\text{m_jacobi(hea, ci=[0, 0, 0], ni=10, tc=2, trc=False, permu=True)}}$\n",
        "\n",
        "def m_jacobi(hea, ci=[0, 0, 0], ni=10, tc=2, trc=False, permu=True):\n",
        "\n",
        "    import numpy as np\n",
        "\n",
        "    def trunc(arr1, arr2, tr=2):\n",
        "        '''\n",
        "            Retorna um booleano se arr1 == arr2, para o descimal definido\n",
        "        '''\n",
        "\n",
        "        def truncv(values, decs=0):\n",
        "            values = np.array(values)\n",
        "            return np.trunc(values*10**decs)/(10**decs)\n",
        "\n",
        "        arr1, arr2 = truncv(arr1, decs=tr), truncv(arr2, decs=tr)\n",
        "\n",
        "        comp = np.all([arr1==arr2, [True for _ in range(len(arr1))]]) \n",
        "        return comp\n",
        "\n",
        "    def v(arr, cond, line=0):\n",
        "        '''\n",
        "            Retorna uma matriz solução\n",
        "        '''\n",
        "        \n",
        "        def max_diagonal(arr):\n",
        "                \n",
        "            def permutation(arr, shift, end):\n",
        "                arr = np.insert(arr, end, arr[shift], axis=0)\n",
        "                finale = shift + 1 if shift > end else shift \n",
        "                arr = np.delete(arr, finale, axis=0)\n",
        "                return arr \n",
        "\n",
        "            for i in range(len(arr)):\n",
        "                arr = permutation(\n",
        "                    arr,\n",
        "                    np.where(arr[i:, i] == max(arr[i:, i], key=abs))[0][0] + i,\n",
        "                    i\n",
        "                )\n",
        "            return arr\n",
        "        if permu:\n",
        "            arr = max_diagonal(arr)\n",
        "\n",
        "        n, rs = [arr[line][-1]], 0\n",
        "        n.append(\n",
        "            [x*i for x, i, c in zip(arr[line], cond, range(len(arr[0])))\n",
        "            if c != line]\n",
        "        )\n",
        "        for k in n[1]:\n",
        "            rs += k\n",
        "        x = (n[0]-rs)/arr[line][line]\n",
        "\n",
        "        return x\n",
        "\n",
        "    \n",
        "    ci = [ci]; arr = np.array(hea, dtype=np.float64, copy=True)\n",
        "\n",
        "    for j in range(ni):\n",
        "        ci.append([])\n",
        "        for i in range(len(arr)):\n",
        "            ci[j+1].append(v(arr, ci[j], line=i))\n",
        "        \n",
        "        if trc:\n",
        "            if trunc(ci[j], ci[j+1], tr=tc):\n",
        "                break\n",
        "    \n",
        "    return ci"
      ],
      "execution_count": null,
      "outputs": []
    },
    {
      "cell_type": "code",
      "metadata": {
        "colab": {
          "base_uri": "https://localhost:8080/"
        },
        "id": "ICUBvDaN-wtu",
        "cellView": "form",
        "outputId": "41b3396f-f3f0-4f64-9939-5a6026addd5a"
      },
      "source": [
        "import numpy as np\n",
        "\n",
        "matriz_m_jacobi = [[2, -1, 1], [1, 2, 3]]#@param\n",
        "condicoes_iniciais =  [0, 0]#@param\n",
        "loops = 10 #@param {type:\"slider\", min:0, max:150, step:1}\n",
        "trun = False #@param {type:\"boolean\"}\n",
        "permutacao = False #@param {type:\"boolean\"}\n",
        "truncamento_decimal = 3 #@param {type:\"slider\", min:1, max:10, step:1}\n",
        "#@markdown > $\\color{gray}{\\text{matriz_j = m_jacobi(matriz_m_jacobi, ci=condicoes_iniciais, ni=loops, tc = truncamento_decimal, trc=trun, permu=permutacao)}}$\n",
        "matriz_j = np.array(m_jacobi(matriz_m_jacobi, ci=condicoes_iniciais, ni=loops, tc = truncamento_decimal, trc=trun, permu=permutacao), dtype=np.float64)\n",
        "# print(f'\\033[32m{matriz_j}'); print()\n",
        "print(f'\\033[32m{matriz_j}'); print()\n",
        "testar_velocidade = False #@param {type:\"boolean\"}\n",
        "if testar_velocidade:\n",
        "    %timeit m_jacobi(matriz_m_jacobi, ci=condicoes_iniciais, ni=loops, tc = truncamento_decimal, trc=trun, permu=permutacao)"
      ],
      "execution_count": null,
      "outputs": [
        {
          "output_type": "stream",
          "name": "stdout",
          "text": [
            "\u001b[32m[[0.         0.        ]\n",
            " [0.5        1.5       ]\n",
            " [1.25       1.25      ]\n",
            " [1.125      0.875     ]\n",
            " [0.9375     0.9375    ]\n",
            " [0.96875    1.03125   ]\n",
            " [1.015625   1.015625  ]\n",
            " [1.0078125  0.9921875 ]\n",
            " [0.99609375 0.99609375]\n",
            " [0.99804688 1.00195312]\n",
            " [1.00097656 1.00097656]]\n",
            "\n"
          ]
        }
      ]
    },
    {
      "cell_type": "markdown",
      "metadata": {
        "id": "Lo7Qes7b9Ofa"
      },
      "source": [
        "### $\\color{Turquoise}{\\text{Método de Gauss Seidel}}$\n"
      ]
    },
    {
      "cell_type": "code",
      "metadata": {
        "id": "f3LZTlcc0r63",
        "cellView": "form"
      },
      "source": [
        "#@markdown > $\\color{gray}{\\text{gauss_saidel(hea, ci=[0, 0, 0], ni=10, tc=2, trc=False, permu=True)}}$\n",
        "\n",
        "def gauss_saidel(hea, ci=[0, 0, 0], ni=10, tc=2, trc=False, permu=True):\n",
        "\n",
        "    import numpy as np\n",
        "\n",
        "    def trunc(arr1, arr2, tr=2):\n",
        "        '''\n",
        "            Retorna um booleano se arr1 == arr2\n",
        "        '''\n",
        "\n",
        "        def truncv(values, decs=0):\n",
        "            values = np.array(values)\n",
        "            return np.trunc(values*10**decs)/(10**decs)\n",
        "\n",
        "        arr1, arr2 = truncv(arr1, decs=tr), truncv(arr2, decs=tr)\n",
        "\n",
        "        comp = np.all([arr1==arr2, [True for _ in range(len(arr1))]]) \n",
        "        return comp\n",
        "\n",
        "    def v(arr, cond, line=0):\n",
        "        '''\n",
        "            Retorna uma matriz solução\n",
        "        '''\n",
        "        \n",
        "        def max_diagonal(arr):\n",
        "                \n",
        "            def permutation(arr, shift, end):\n",
        "                arr = np.insert(arr, end, arr[shift], axis=0)\n",
        "                finale = shift + 1 if shift > end else shift \n",
        "                arr = np.delete(arr, finale, axis=0)\n",
        "                return arr \n",
        "\n",
        "            for i in range(len(arr)):\n",
        "                arr = permutation(\n",
        "                    arr,\n",
        "                    np.where(arr[i:, i] == max(arr[i:, i], key=abs))[0][0] + i,\n",
        "                    i\n",
        "                )\n",
        "            return arr\n",
        "        if permu:\n",
        "            arr = max_diagonal(arr)\n",
        "\n",
        "        n, rs = [arr[line][-1]], 0\n",
        "        n.append(\n",
        "            [x*i for x, i, c in zip(arr[line], cond, range(len(arr[0])))\n",
        "            if c != line]\n",
        "        )\n",
        "        for k in n[1]:\n",
        "            rs += k\n",
        "        x = (n[0]-rs)/arr[line][line]\n",
        "\n",
        "        return x\n",
        "\n",
        "    \n",
        "    arr = np.array(hea, dtype=np.float64, copy=True)\n",
        "    hist = np.array([ci], dtype=np.float64, copy=True)\n",
        "\n",
        "    for j in range(1, ni+1):\n",
        "        for i in range(len(arr)):\n",
        "            ci[i] = v(arr, ci, line=i)\n",
        "        \n",
        "        hist = np.append(hist, [ci], axis=0)\n",
        "\n",
        "        if trc:\n",
        "            if trunc(hist[j-1], hist[j], tr=tc):\n",
        "                break\n",
        "    return hist"
      ],
      "execution_count": null,
      "outputs": []
    },
    {
      "cell_type": "code",
      "metadata": {
        "colab": {
          "base_uri": "https://localhost:8080/"
        },
        "id": "HSBnLVR1A42E",
        "cellView": "form",
        "outputId": "c2a6e1ef-208d-4715-b5eb-5660b9c0d3bb"
      },
      "source": [
        "import numpy as np\n",
        "\n",
        "matriz_g_saidel = [[2, -1, 1], [1, 2, 3]]#@param\n",
        "condicoes_iniciais2 =  [0, 0]#@param\n",
        "loops2 = 10 #@param {type:\"slider\", min:0, max:150, step:1}\n",
        "trun2 = False #@param {type:\"boolean\"}\n",
        "permutacao2 = False #@param {type: \"boolean\"}\n",
        "truncamento_decimal2 = 3 #@param {type:\"slider\", min:1, max:10, step:1}\n",
        "#@markdown > $\\color{gray}{\\text{matriz_j = gauss_saidel(matriz_g_saidel, ci=condicoes_iniciais2, ni=loops2, tc = truncamento_decimal2, trc=trun2, permu=permutacao2)}}$\n",
        "matriz_j = np.array(gauss_saidel(matriz_g_saidel, ci=condicoes_iniciais2, ni=loops2, tc = truncamento_decimal2, trc=trun2, permu=permutacao2))\n",
        "# print(f'\\033[32m{matriz_j}'); print()\n",
        "print(f'\\033[32m{matriz_j}'); print()\n",
        "testar_velocidade = False #@param {type:\"boolean\"}\n",
        "if testar_velocidade:\n",
        "    %timeit gauss_saidel(matriz_g_saidel, ci=condicoes_iniciais2, ni=loops2, tc = truncamento_decimal2, trc=trun2, permu=permutacao2)"
      ],
      "execution_count": null,
      "outputs": [
        {
          "output_type": "stream",
          "name": "stdout",
          "text": [
            "\u001b[32m[[0.         0.        ]\n",
            " [0.5        1.25      ]\n",
            " [1.125      0.9375    ]\n",
            " [0.96875    1.015625  ]\n",
            " [1.0078125  0.99609375]\n",
            " [0.99804688 1.00097656]\n",
            " [1.00048828 0.99975586]\n",
            " [0.99987793 1.00006104]\n",
            " [1.00003052 0.99998474]\n",
            " [0.99999237 1.00000381]\n",
            " [1.00000191 0.99999905]]\n",
            "\n"
          ]
        }
      ]
    },
    {
      "cell_type": "markdown",
      "metadata": {
        "id": "kiNZR7WlHAMp"
      },
      "source": [
        "# <div align=\"center\">$\\color{Turquoise}{\\text{Resolução numérica de equações}}$</div>"
      ]
    },
    {
      "cell_type": "markdown",
      "metadata": {
        "id": "WqBNFSBp8vG-"
      },
      "source": [
        "REFERÊNCIA\n",
        "\n",
        "\n",
        "BARROSO, Leônidas Conceição. $\\textbf{Cálculo numérico}$. São Paulo: Harper & Row doBrasil, 1983"
      ]
    },
    {
      "cell_type": "markdown",
      "metadata": {
        "id": "Q4sdAN1zFFlo"
      },
      "source": [
        "### $\\color{turquoise}{\\text{Teorema 3.1:}}$"
      ]
    },
    {
      "cell_type": "markdown",
      "metadata": {
        "id": "lvcLBPG-FsCi"
      },
      "source": [
        "Se uma função contínua $f(x)$ assume valores de sinais opostos nos pontos extremos do intervalo $[a,\\:b]$, isto é $f(a)\\cdot f(b)<0$, então o intervalo conterá, no mínimo, uma raiz da equação $f(x)=0$."
      ]
    },
    {
      "cell_type": "markdown",
      "metadata": {
        "id": "v7clA7aBeiyC"
      },
      "source": [
        "### $\\color{turquoise}{\\text{Bibliográfia Bissecção}}$"
      ]
    },
    {
      "cell_type": "markdown",
      "metadata": {
        "id": "My-iTEweWOOJ"
      },
      "source": [
        "#### $\\color{turquoise}{\\text{Descrição 3.4.1}}$"
      ]
    },
    {
      "cell_type": "markdown",
      "metadata": {
        "id": "Egh2ZhTXWbGO"
      },
      "source": [
        "Seja $f(x)$ uma função contínua no intervalo $[a,b]$ e $f(a)\\cdot f(b)<0$.\n",
        "\n",
        "$ $\n",
        "\n",
        "Dividindo o intervalo $[a,b]$ ao meio, obtém-se $x_0$, havendo, pois, dois subintervalos, $[a,x_0]$ e $[x_0,b]$, a ser considerados.\n",
        "\n",
        "$ $\n",
        "\n",
        "Se $f(x_0)=0$, então $\\xi=x_0$; caso contrário, a raiz estará no subintervalo onde a função tem sinais opostos nos pontos extremos, ou seja, se $f(a)\\cdot f(x_0)<0$, então $\\xi\\in(a,x_0)$; senão $f(a)\\cdot f(x_0)>0$ e $\\xi\\in(x_0, b)$.\n",
        "\n",
        "$ $\n",
        "\n",
        "O novo intervalo $[a_1, b_1]$ que contém $\\xi$ é diviidido ao meio e obtém-se o ponto $x_1$. O processo se repete até que se obtenha uma aproximação para a raiz exata $\\xi$, com a tolerância $\\epsilon$ desejada.\n",
        "\n",
        "$ $\n",
        "\n",
        "$\\color{gray}{\\text{BARROSO (1983)}}$"
      ]
    },
    {
      "cell_type": "markdown",
      "metadata": {
        "id": "hQrn7HvPIQ8n"
      },
      "source": [
        "### $\\color{Turquoise}{\\text{Bissecção}}$\n"
      ]
    },
    {
      "cell_type": "code",
      "metadata": {
        "id": "C0-dParQISg2",
        "cellView": "form"
      },
      "source": [
        "#@markdown > $\\color{gray}{\\text{bisseccao(x1, x2, n=100, e=.01)}}$\n",
        "\n",
        "def bisseccao(x1, x2, n=100, e=.001):\n",
        "\n",
        "    c = {\n",
        "        'vm': '\\033[31m',\n",
        "        'v': '\\033[32m',\n",
        "        'a': '\\033[34m',\n",
        "        'n': '\\033[' \n",
        "    }\n",
        "\n",
        "    if f(x1)*f(x2) < 0:\n",
        "        for l in range(n):    \n",
        "            if f(x1) == 0 or f(x2) == 0 or max(x1, x2) - min(x1, x2) <= e:\n",
        "                break\n",
        "            elif f((x1+x2)/2) * f(x1) > 0:\n",
        "                x1 = (x1+x2)/2\n",
        "            else:\n",
        "                x2 = (x1+x2)/2\n",
        "        msg = f\"\"\"{c['v']} Com {c['a']}{l}{c['v']} loops, a raiz se encontra\\\n",
        " no intervalo {c['a']}[{x1}, {x2}]{c['v']} e é aproximadamente{c['a']}\\\n",
        " {(max(x1, x2) + min(x1, x2))/2}{c['v']}\n",
        "        \"\"\"\n",
        "        point = (max(x1, x2) + min(x1, x2))/2\n",
        "    elif f(x1) == 0 or f(x2) == 0:\n",
        "        ini = x1 if f(x1) == 0 else x2\n",
        "        point = ini\n",
        "        msg = f\"{c['v']}A condição {c['a']}{ini}{c['v']} já é uma raiz da função\"\n",
        "    else:\n",
        "        msg = f\"\"\"\n",
        "{c['vm']}O intervalo {c['a']}[{x1}, {x2}]{c['vm']}\\\n",
        " não contem raiz\n",
        "        \"\"\"\n",
        "        point = 0\n",
        "    return [msg, point]\n",
        "\n"
      ],
      "execution_count": 147,
      "outputs": []
    },
    {
      "cell_type": "code",
      "metadata": {
        "colab": {
          "base_uri": "https://localhost:8080/",
          "height": 316
        },
        "id": "wa_YCMTOrYbD",
        "cellView": "form",
        "outputId": "661e4cea-6f1a-4656-9ef1-92a9cfe92dda"
      },
      "source": [
        "f = lambda x: x**3-10 #@param\n",
        "RODAR = True #@param {type:\"boolean\"}\n",
        "loops = 4 #@param {type:\"slider\", min:1, max:100}\n",
        "error = 0.1001 #@param {type:\"slider\", min:0.0001, max:0.2, step:0.001}\n",
        "x1 = 2 #@param {type:\"number\"}\n",
        "x2 =  3 #@param {type:\"number\"}\n",
        "\n",
        "if RODAR:\n",
        "    print(bisseccao(x1, x2, n=loops, e=error)[0])\n",
        "\n",
        "MINIMO_DE_INTERACOES = False #@param {type:\"boolean\"}\n",
        "if MINIMO_DE_INTERACOES:\n",
        "    print(f'\\033[33mAs interações devem ser maiores que {np.log((x2-x1)/error)/np.log(2)-1}\\033[')\n",
        "\n",
        "GRAFICOS = True #@param {type:\"boolean\"}\n",
        "if GRAFICOS:\n",
        "    import numpy as np\n",
        "    import matplotlib.pyplot as plt\n",
        "    print()\n",
        "    x = np.linspace(-5, 5)\n",
        "    fx = x**3-10 #@param\n",
        "    plt.axhline(y=0, color=\"gray\", linestyle=\"-\")\n",
        "    plt.plot(x, fx)\n",
        "    plt.plot(bisseccao(x1, x2, n=loops, e=error)[1], 0, 'ro')\n",
        "    plt.show\n",
        "\n",
        "TESTAR_A_VELOCIDADE = False #@param {type:\"boolean\"}\n",
        "if TESTAR_A_VELOCIDADE:\n",
        "    %timeit bisseccao(x1, x2, n=loops, e=error)[0]"
      ],
      "execution_count": 153,
      "outputs": [
        {
          "output_type": "stream",
          "name": "stdout",
          "text": [
            "\u001b[32m Com \u001b[34m3\u001b[32m loops, a raiz se encontra no intervalo \u001b[34m[2.125, 2.1875]\u001b[32m e é aproximadamente\u001b[34m 2.15625\u001b[32m\n",
            "        \n",
            "\n"
          ]
        },
        {
          "output_type": "display_data",
          "data": {
            "image/png": "[encoded data removed]",
            "text/plain": [
              "<Figure size 432x288 with 1 Axes>"
            ]
          },
          "metadata": {
            "needs_background": "light"
          }
        }
      ]
    },
    {
      "cell_type": "markdown",
      "metadata": {
        "id": "z6ixDKpSfcFi"
      },
      "source": [
        "### $\\color{turquoise}{\\text{Bibliográfia Corda}}$"
      ]
    },
    {
      "cell_type": "markdown",
      "metadata": {
        "id": "s_Wnu6PD8NXb"
      },
      "source": [
        "#### $\\color{turquoise}{\\text{Descrção 3.5.1}}$"
      ]
    },
    {
      "cell_type": "markdown",
      "metadata": {
        "id": "JL1Ci03L8d3f"
      },
      "source": [
        "Seja $f(x)$ uma função contínua que tenha derivada segunda com sinal constante no intervalo $[a, b]$, sendo que $f(a)\\cdot f(b)<0$ e que existe somente um número $\\xi\\in[a, b]$ tal que $f(\\xi)=0$\n",
        "\n",
        "$ $\n",
        "\n",
        "No método das cordas, ao invés de se dividir o intervalo $[a, b]$ ao meio, ele é dividido em partes proporcionais à razão $-f(a)/f(b)$\n",
        "\n",
        "$ $\n",
        "\n",
        "$\\frac{h_1}{b-a}=\\frac{-f(a)}{-f(a)+f(b)}$\n",
        "\n",
        "$ $\n",
        "\n",
        "Isto conduz a um valor aproximado da raiz\n",
        "\n",
        "$ $\n",
        "\n",
        "$x_1=a+h_1$\n",
        "\n",
        "$ $\n",
        "\n",
        "$x_1=a-\\frac{f(a)}{f(b)-f(a)}(b-a)$\n",
        "\n",
        "$ $\n",
        "\n",
        "Ao se aplicar este procedimento ao novo intervalo que contém $\\xi([a, x_1] ou [x_1, b])$, obtém-se uma nova aproximação $x_2$ da raiz\n",
        "\n",
        "$ $\n",
        "\n",
        "$\\color{gray}{\\text{BARROSO (1983)}}$"
      ]
    },
    {
      "cell_type": "markdown",
      "metadata": {
        "id": "XEmAfP2ltXcC"
      },
      "source": [
        "### $\\color{Turquoise}{\\text{Corda}}$"
      ]
    },
    {
      "cell_type": "code",
      "metadata": {
        "cellView": "form",
        "id": "UWTxE_jP_lrf"
      },
      "source": [
        "#@markdown > $\\color{gray}{\\text{corda(x1, x2, n=100, e=.01)}}$\n",
        "\n",
        "def corda(x1, x2, n=100, e=.001):\n",
        "\n",
        "    c = {\n",
        "        'vm': '\\033[31m',\n",
        "        'v': '\\033[32m',\n",
        "        'a': '\\033[34m',\n",
        "        'n': '\\033[' \n",
        "    }\n",
        "\n",
        "    if f(x1)*f(x2) < 0:\n",
        "        for l in range(n):    \n",
        "            if f(x1) == 0 or f(x2) == 0 or max(x1, x2) - min(x1, x2) <= e:\n",
        "                break\n",
        "            elif f((x1+x2)/2) * f(x1) > 0:\n",
        "                x1 = (x1+x2)/2\n",
        "            else:\n",
        "                x2 = (x1+x2)/2\n",
        "        msg = f\"\"\"{c['v']} Com {c['a']}{l}{c['v']} loops, a raiz se encontra\\\n",
        " no intervalo {c['a']}[{x1}, {x2}]{c['v']} e é aproximadamente{c['a']}\\\n",
        " {(max(x1, x2) + min(x1, x2))/2}{c['v']}\n",
        "        \"\"\"\n",
        "        point = (max(x1, x2) + min(x1, x2))/2\n",
        "    elif f(x1) == 0 or f(x2) == 0:\n",
        "        ini = x1 if f(x1) == 0 else x2\n",
        "        point = ini\n",
        "        msg = f\"{c['v']}A condição {c['a']}{ini}{c['v']} já é uma raiz da função\"\n",
        "    else:\n",
        "        msg = f\"\"\"\n",
        "{c['vm']}O intervalo {c['a']}[{x1}, {x2}]{c['vm']}\\\n",
        " não contem raiz\n",
        "        \"\"\"\n",
        "        point = 0\n",
        "    return [msg, point]\n"
      ],
      "execution_count": null,
      "outputs": []
    },
    {
      "cell_type": "code",
      "metadata": {
        "cellView": "form",
        "id": "DML4kSrBArxn"
      },
      "source": [
        "f = lambda x: x**3-10 #@param\n",
        "RODAR = True #@param {type:\"boolean\"}\n",
        "loops = 4 #@param {type:\"slider\", min:1, max:100}\n",
        "error = 0.1001 #@param {type:\"slider\", min:0.0001, max:0.2, step:0.001}\n",
        "x1 = 2 #@param {type:\"number\"}\n",
        "x2 =  3 #@param {type:\"number\"}\n",
        "\n",
        "if RODAR:\n",
        "    print(bisseccao(x1, x2, n=loops, e=error)[0])\n",
        "\n",
        "MINIMO_DE_INTERACOES = False #@param {type:\"boolean\"}\n",
        "if MINIMO_DE_INTERACOES:\n",
        "    print(f'\\033[33mAs interações devem ser maiores que {np.log((x2-x1)/error)/np.log(2)-1}\\033[')\n",
        "\n",
        "GRAFICOS = True #@param {type:\"boolean\"}\n",
        "if GRAFICOS:\n",
        "    import numpy as np\n",
        "    import matplotlib.pyplot as plt\n",
        "    print()\n",
        "    x = np.linspace(-5, 5)\n",
        "    fx = x**3-10 #@param\n",
        "    plt.axhline(y=0, color=\"gray\", linestyle=\"-\")\n",
        "    plt.plot(x, fx)\n",
        "    plt.plot(bisseccao(x1, x2, n=loops, e=error)[1], 0, 'ro')\n",
        "    plt.show\n",
        "\n",
        "TESTAR_A_VELOCIDADE = False #@param {type:\"boolean\"}\n",
        "if TESTAR_A_VELOCIDADE:\n",
        "    %timeit bisseccao(x1, x2, n=loops, e=error)[0]"
      ],
      "execution_count": null,
      "outputs": []
    },
    {
      "cell_type": "markdown",
      "metadata": {
        "id": "pjpyruo4v60C"
      },
      "source": [
        "### $\\color{turquoise}{\\text{Bibliográfia Pégaso}}$"
      ]
    },
    {
      "cell_type": "markdown",
      "metadata": {
        "id": "Dpd4EeQMv60H"
      },
      "source": [
        "### $\\color{Turquoise}{\\text{Pégaso}}$"
      ]
    },
    {
      "cell_type": "code",
      "metadata": {
        "cellView": "form",
        "id": "2Hc9zH8s_w0o"
      },
      "source": [
        "#@markdown > $\\color{gray}{\\text{bisseccao(x1, x2, n=100, e=.01)}}$\n"
      ],
      "execution_count": null,
      "outputs": []
    },
    {
      "cell_type": "markdown",
      "metadata": {
        "id": "fvUe1avbv6bk"
      },
      "source": [
        "### $\\color{turquoise}{\\text{Bibliográfia Newton}}$"
      ]
    },
    {
      "cell_type": "markdown",
      "metadata": {
        "id": "x8O6pxKhv6bx"
      },
      "source": [
        "### $\\color{Turquoise}{\\text{Newton}}$"
      ]
    },
    {
      "cell_type": "code",
      "metadata": {
        "cellView": "form",
        "id": "4K3_rrFA_yvp"
      },
      "source": [
        "#@markdown > $\\color{gray}{\\text{bisseccao(x1, x2, n=100, e=.01)}}$\n"
      ],
      "execution_count": null,
      "outputs": []
    },
    {
      "cell_type": "markdown",
      "metadata": {
        "id": "LN1ilkfXv7K7"
      },
      "source": [
        "### $\\color{turquoise}{\\text{Bibliográfia Interação Linear}}$"
      ]
    },
    {
      "cell_type": "markdown",
      "metadata": {
        "id": "0s1G7JtMv7K8"
      },
      "source": [
        "### $\\color{Turquoise}{\\text{Interação Linear}}$"
      ]
    },
    {
      "cell_type": "code",
      "metadata": {
        "cellView": "form",
        "id": "SehRul_ntjyp"
      },
      "source": [
        "#@markdown > $\\color{gray}{\\text{newton(x1, x2, n=100, e=.01)}}$\n",
        "\n"
      ],
      "execution_count": null,
      "outputs": []
    },
    {
      "cell_type": "markdown",
      "metadata": {
        "id": "R2ocoPDh0t9h"
      },
      "source": [
        "# <HR width=100% color=\"Turquoise\t\" align=left noshade>\n",
        "# <div align=\"center\">$\\color{Turquoise}{\\text{Contatos}}$</div>\n"
      ]
    },
    {
      "cell_type": "code",
      "metadata": {
        "colab": {
          "base_uri": "https://localhost:8080/",
          "height": 128
        },
        "id": "-BSy6gbmqMQG",
        "cellView": "form",
        "outputId": "e3d5213f-fec6-4a80-8bc2-6320befc26d5"
      },
      "source": [
        "#@title\n",
        "\n",
        "%%html\n",
        "\n",
        "<table style=\"white-space: nowrap; width: 0px;\" border=\"0\" cellspacing=\"0\">\n",
        "  <tbody>\n",
        "    <tr>\n",
        "      <td style=\"vertical-align: 0px;\">\n",
        "        <img style=\"border-right: 3px solid #30D5C8; padding-right: 13px; height: 90px;\" src=\"https://i.pinimg.com/280x280_RS/79/42/c4/7942c414d01e7c8f8c179f905a5a86eb.jpg\"/></td>\n",
        "        <td style=\"white-space: nowrap; font-family: Helvetica, Arial; padding-left: 11px; font-size: 12px; vertical-align: middle; width: 560px;\">\n",
        "        <h1 style=\"white-space: nowrap; font-size: 14px; color: #30D5C8; line-height: 1; margin: 0 0 8px 0;\">\n",
        "          <b>CLEBSON DOS SANTOS MARQUES</b>\n",
        "        </h1>\n",
        "\n",
        "        <span style=\"color: #808080; data-contrast: none;\">\n",
        "          Estudante do Curso de Licenciatura em F&iacute;sica pela Universidade Estadual Vale do Acara&uacute;<br />\n",
        "        </span>\n",
        "        <span style=\"white-space: nowrap; font-size: 12px; color: #30D5C8; line-height: 1px; margin: 0 0 8px 0;\" data-contrast=\"none\">\n",
        "          <b>Tel.:</b>\n",
        "        </span>\n",
        "        <span style=\"color: #808080; data-contrast: none;\">(88) 9 9412 2413\n",
        "          <br /><a style=\"color: #808080; data-contrast: none; text-decoration: none;\" href=\"mailto:klebersantosy@gmail.com\">klebersantosy@gmail.com</a><br />\n",
        "          <a style=\"color: #808080; data-contrast: none; text-decoration: none;\" href=\"http://lattes.cnpq.br/9411163467458250\">http://lattes.cnpq.br/9411163467458250</a>\n",
        "        </span>\n",
        "\n",
        "        <div style=\"white-space: nowrap; margin-top: 8px;\">\n",
        "          <a style=\"white-space: nowrap; display: inline-block;\" href=\"https://api.whatsapp.com/send?phone=558894122413\">\n",
        "            <img style=\"white-space: nowrap; width: 20px; height: 20px;\" src=\"https://icon-library.com/images/icon-whatsapp-png/icon-whatsapp-png-2.jpg\" />\n",
        "          </a> <a style=\"white-space: nowrap; display: inline-block;\" href=\"https://t.me/clebson_marques\">\n",
        "            <img style=\"white-space: nowrap; width: 20px; height: 20px;\" src=\"https://www.freepnglogos.com/uploads/telegram-png/telegram-communications-icons-24.png\" />\n",
        "          </a> <a style=\"white-space: nowrap; display: inline-block;\" href=\"https://www.passeidireto.com/perfil/371127-klebson-marques/\">\n",
        "            <img style=\"white-space: nowrap; width: 20px; height: 20px;\" src=\"https://img.utdstc.com/icon/f63/09d/f6309d71c42e9f12c4aaf4800260f4c2ae9637ab4b148c381e8378e80ccce0e6:200\" />\n",
        "          </a> <a style=\"white-space: nowrap; display: inline-block;\" href=\"https://github.com/kleber293\">\n",
        "            <img style=\"white-space: nowrap; width: 26px; height: 20px; object-fit: cover;\" src=\"http://pngimg.com/uploads/github/github_PNG69.png\" /></a>\n",
        "        </div>\n",
        "      </td>\n",
        "    </tr>\n",
        "  </tbody>\n",
        "</table>"
      ],
      "execution_count": null,
      "outputs": [
        {
          "output_type": "display_data",
          "data": {
            "text/html": [
              "\n",
              "<table style=\"white-space: nowrap; width: 0px;\" border=\"0\" cellspacing=\"0\">\n",
              "  <tbody>\n",
              "    <tr>\n",
              "      <td style=\"vertical-align: 0px;\">\n",
              "        <img style=\"border-right: 3px solid #30D5C8; padding-right: 13px; height: 90px;\" src=\"https://i.pinimg.com/280x280_RS/79/42/c4/7942c414d01e7c8f8c179f905a5a86eb.jpg\"/></td>\n",
              "        <td style=\"white-space: nowrap; font-family: Helvetica, Arial; padding-left: 11px; font-size: 12px; vertical-align: middle; width: 560px;\">\n",
              "        <h1 style=\"white-space: nowrap; font-size: 14px; color: #30D5C8; line-height: 1; margin: 0 0 8px 0;\">\n",
              "          <b>CLEBSON DOS SANTOS MARQUES</b>\n",
              "        </h1>\n",
              "\n",
              "        <span style=\"color: #808080; data-contrast: none;\">\n",
              "          Estudante do Curso de Licenciatura em F&iacute;sica pela Universidade Estadual Vale do Acara&uacute;<br />\n",
              "        </span>\n",
              "        <span style=\"white-space: nowrap; font-size: 12px; color: #30D5C8; line-height: 1px; margin: 0 0 8px 0;\" data-contrast=\"none\">\n",
              "          <b>Tel.:</b>\n",
              "        </span>\n",
              "        <span style=\"color: #808080; data-contrast: none;\">(88) 9 9412 2413\n",
              "          <br /><a style=\"color: #808080; data-contrast: none; text-decoration: none;\" href=\"mailto:klebersantosy@gmail.com\">klebersantosy@gmail.com</a><br />\n",
              "          <a style=\"color: #808080; data-contrast: none; text-decoration: none;\" href=\"http://lattes.cnpq.br/9411163467458250\">http://lattes.cnpq.br/9411163467458250</a>\n",
              "        </span>\n",
              "\n",
              "        <div style=\"white-space: nowrap; margin-top: 8px;\">\n",
              "          <a style=\"white-space: nowrap; display: inline-block;\" href=\"https://api.whatsapp.com/send?phone=558894122413\">\n",
              "            <img style=\"white-space: nowrap; width: 20px; height: 20px;\" src=\"https://icon-library.com/images/icon-whatsapp-png/icon-whatsapp-png-2.jpg\" />\n",
              "          </a> <a style=\"white-space: nowrap; display: inline-block;\" href=\"https://t.me/clebson_marques\">\n",
              "            <img style=\"white-space: nowrap; width: 20px; height: 20px;\" src=\"https://www.freepnglogos.com/uploads/telegram-png/telegram-communications-icons-24.png\" />\n",
              "          </a> <a style=\"white-space: nowrap; display: inline-block;\" href=\"https://www.passeidireto.com/perfil/371127-klebson-marques/\">\n",
              "            <img style=\"white-space: nowrap; width: 20px; height: 20px;\" src=\"https://img.utdstc.com/icon/f63/09d/f6309d71c42e9f12c4aaf4800260f4c2ae9637ab4b148c381e8378e80ccce0e6:200\" />\n",
              "          </a> <a style=\"white-space: nowrap; display: inline-block;\" href=\"https://github.com/kleber293\">\n",
              "            <img style=\"white-space: nowrap; width: 26px; height: 20px; object-fit: cover;\" src=\"http://pngimg.com/uploads/github/github_PNG69.png\" /></a>\n",
              "        </div>\n",
              "      </td>\n",
              "    </tr>\n",
              "  </tbody>\n",
              "</table>"
            ],
            "text/plain": [
              "<IPython.core.display.HTML object>"
            ]
          },
          "metadata": {}
        }
      ]
    },
    {
      "cell_type": "markdown",
      "metadata": {
        "id": "LYHtqiZ_zq1Y"
      },
      "source": [
        "# <HR width=100% color=\"Turquoise\" align=left noshade>"
      ]
    }
  ]
}