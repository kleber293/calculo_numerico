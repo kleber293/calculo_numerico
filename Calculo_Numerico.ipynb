{
  "nbformat": 4,
  "nbformat_minor": 0,
  "metadata": {
    "colab": {
      "name": "Calculo_Numerico.ipynb",
      "provenance": [],
      "collapsed_sections": [
        "fqX9bcUiDDpc",
        "FEkk8pt_J5hH",
        "Clj1aVzjFQ7G",
        "FswsPMDlFV-z",
        "cmZT80eJyLfQ",
        "AiFmztPNJDwj",
        "m1u7WhDBSxFg",
        "jkviYKCCJiks",
        "_5eOlQbKJs-f",
        "MBvipitciSJC",
        "Lo7Qes7b9Ofa",
        "Q4sdAN1zFFlo",
        "My-iTEweWOOJ",
        "QyZoFWgS3vvS",
        "s_Wnu6PD8NXb",
        "Vb12DHLw6gH7",
        "cH4sV6v0pYAy",
        "bhi6k6TAADQ-",
        "kOHYl6DyFSdA",
        "tiBiGromAGBO",
        "K_tOe8_6ouX1",
        "QHCWwxY0AH49"
      ],
      "toc_visible": true,
      "authorship_tag": "ABX9TyP354mru2ltiLu8nz+Rn8JV",
      "include_colab_link": true
    },
    "kernelspec": {
      "name": "python3",
      "display_name": "Python 3"
    },
    "language_info": {
      "name": "python"
    }
  },
  "cells": [
    {
      "cell_type": "markdown",
      "metadata": {
        "id": "view-in-github",
        "colab_type": "text"
      },
      "source": [
        "<a href=\"https://colab.research.google.com/github/kleber293/calculo_numerico/blob/main/Calculo_Numerico.ipynb\" target=\"_parent\"><img src=\"https://colab.research.google.com/assets/colab-badge.svg\" alt=\"Open In Colab\"/></a>"
      ]
    },
    {
      "cell_type": "markdown",
      "metadata": {
        "id": "0okkjS6imtMS"
      },
      "source": [
        "# <div align=\"center\">$\\color{#ff6b00}{\\text{Conversões}}$</div>"
      ]
    },
    {
      "cell_type": "markdown",
      "metadata": {
        "id": "fqX9bcUiDDpc"
      },
      "source": [
        "## $\\color{#97a100}{\\text{Vídeo de apresentação}}$"
      ]
    },
    {
      "cell_type": "code",
      "metadata": {
        "colab": {
          "base_uri": "https://localhost:8080/",
          "height": 354
        },
        "id": "th9OS5ICtJVU",
        "cellView": "form",
        "outputId": "67f0f719-ad21-4bc7-c891-515a3ca2728b"
      },
      "source": [
        "#@markdown > $\\color{gray}{\\text{Este vídeo apresenta a função e as suas funcionalidades}}$\n",
        "from IPython.display import YouTubeVideo\n",
        "YouTubeVideo('HBa5ATDFg04', width=500, height=333)"
      ],
      "execution_count": null,
      "outputs": [
        {
          "output_type": "execute_result",
          "data": {
            "text/html": [
              "\n",
              "        <iframe\n",
              "            width=\"500\"\n",
              "            height=\"333\"\n",
              "            src=\"https://www.youtube.com/embed/HBa5ATDFg04\"\n",
              "            frameborder=\"0\"\n",
              "            allowfullscreen\n",
              "        ></iframe>\n",
              "        "
            ],
            "text/plain": [
              "<IPython.lib.display.YouTubeVideo at 0x7f820c9de850>"
            ],
            "image/jpeg": "[encoded data removed]"
          },
          "metadata": {},
          "execution_count": 315
        }
      ]
    },
    {
      "cell_type": "markdown",
      "metadata": {
        "id": "yJDah9hBDMn5"
      },
      "source": [
        "## $\\color{#97a100}{\\text{Binário ⇆ Decimal}}$\n"
      ]
    },
    {
      "cell_type": "markdown",
      "metadata": {
        "id": "FEkk8pt_J5hH"
      },
      "source": [
        "### $\\color{#00b6ff}{\\text{Função}}$"
      ]
    },
    {
      "cell_type": "code",
      "metadata": {
        "id": "DJhQJGUxtjyL",
        "cellView": "form"
      },
      "source": [
        "#@markdown > $\\color{gray}{\\text{convert_bxd}}$\n",
        "def convert_bxd(num, bin=False, dec=False):\n",
        "    \n",
        "    def saida(v1, b1, v2, b2):\n",
        "        print(f'(\\033[1;32m{v1}\\033[){b1}', end='')\n",
        "        print(' \\u27F6 ', end='')\n",
        "        print(f'(\\033[1;32m{v2}\\033[){b2}')\n",
        "\n",
        "    def dec_inteiro(val):\n",
        "        bn, bnr, val = list(), str(), int(val)\n",
        "        bn.append(val % 2)\n",
        "        while True:\n",
        "            d = val // 2\n",
        "            if d == 1 or d == 0:\n",
        "                bn.append(d)\n",
        "                break\n",
        "            bn.append(d % 2)\n",
        "            val = d\n",
        "        for x in reversed(bn):\n",
        "            bnr += str(x)\n",
        "        return bnr\n",
        "\n",
        "    conf = num\n",
        "    \n",
        "    if bin:\n",
        "        con = True\n",
        "        for v in str(num):\n",
        "            con *= v in '10.'\n",
        "        if bool(con):\n",
        "            if isinstance(num, float):\n",
        "                b, sm = str(num).find('.')-1, 0\n",
        "                for i in str(num).replace('.', ''):\n",
        "                    sm += int(i)*2**(b)\n",
        "                    b -= 1\n",
        "                saida(conf, '\\u2082', sm, '\\u2081\\u2080')\n",
        "            else:\n",
        "                c, s = 0, 0\n",
        "                for n in str(num):\n",
        "                    c += 1\n",
        "                    s += int(n)*2**(len(str(num))-c)\n",
        "                saida(conf, '\\u2082', s, '\\u2081\\u2080')\n",
        "        else: \n",
        "            print('\\033[1;31mO valor digitado não é um número Binário!\\033[m')\n",
        "\n",
        "    elif dec:\n",
        "        if isinstance(num, float):\n",
        "            bm, st = list(), str()\n",
        "            cm = 0 if int(num) == 0 else dec_inteiro(num)\n",
        "            while True:\n",
        "                if num > 1:\n",
        "                    num -= int(num)\n",
        "                num *= 2\n",
        "                bm.append(num)\n",
        "                if num % 1 == 0:\n",
        "                    break\n",
        "            for x in bm:\n",
        "                st += f'{str(int(x))}'\n",
        "            saida(conf, '\\u2081\\u2080', f'{cm}.{st}', '\\u2082')\n",
        "        else:\n",
        "            saida(conf,'\\u2081\\u2080', dec_inteiro(num), '\\u2082')"
      ],
      "execution_count": null,
      "outputs": []
    },
    {
      "cell_type": "markdown",
      "metadata": {
        "id": "Clj1aVzjFQ7G"
      },
      "source": [
        "### $\\color{#00b6ff}{\\text{Convertendo um número $\\textbf{Binário}$ em $\\textbf{Decimal}$}}$\n"
      ]
    },
    {
      "cell_type": "code",
      "metadata": {
        "id": "CKA5oT9it4a9",
        "colab": {
          "base_uri": "https://localhost:8080/"
        },
        "outputId": "c8fcd3da-fa13-479c-8f56-c02edf03a4a6"
      },
      "source": [
        "Numero_Binario =  10111#@param\n",
        "convert_bxd(Numero_Binario, bin=True)"
      ],
      "execution_count": null,
      "outputs": [
        {
          "output_type": "stream",
          "name": "stdout",
          "text": [
            "(\u001b[1;32m10111\u001b[)₂ ⟶ (\u001b[1;32m23\u001b[)₁₀\n"
          ]
        }
      ]
    },
    {
      "cell_type": "markdown",
      "metadata": {
        "id": "FswsPMDlFV-z"
      },
      "source": [
        "### $\\color{#00b6ff}{\\text{Convertendo um número $\\textbf{Decimal}$ em $\\textbf{Binário}$}}$\n"
      ]
    },
    {
      "cell_type": "code",
      "metadata": {
        "id": "yN69942r1Zds",
        "colab": {
          "base_uri": "https://localhost:8080/"
        },
        "outputId": "f2414946-0309-4e85-90ea-db40415643f8"
      },
      "source": [
        "Numero_Decimal =  13.25#@param\n",
        "convert_bxd(Numero_Decimal, dec=True)"
      ],
      "execution_count": null,
      "outputs": [
        {
          "output_type": "stream",
          "name": "stdout",
          "text": [
            "(\u001b[1;32m13.25\u001b[)₁₀ ⟶ (\u001b[1;32m1101.01\u001b[)₂\n"
          ]
        }
      ]
    },
    {
      "cell_type": "markdown",
      "metadata": {
        "id": "mh2NUnuLEkEc"
      },
      "source": [
        "# <div align=\"center\">$\\color{#ff6b00}{\\text{Resolução numérica de sistemas lineares}}$</div>"
      ]
    },
    {
      "cell_type": "markdown",
      "metadata": {
        "id": "u2ACRTABnNin"
      },
      "source": [
        "## $\\color{#97a100}{\\text{Métodos Exatos}}$"
      ]
    },
    {
      "cell_type": "markdown",
      "metadata": {
        "id": "cmZT80eJyLfQ"
      },
      "source": [
        "### $\\color{#00b6ff}{\\text{Método de Gauss}}$"
      ]
    },
    {
      "cell_type": "code",
      "metadata": {
        "id": "KgJgLGT6SfR6",
        "cellView": "form"
      },
      "source": [
        "\n",
        "#@markdown > $\\color{gray}{\\text{eliminacao_gauss(hea)}}$\n",
        "\n",
        "def eliminacao_gauss(hea):\n",
        "    import numpy as np\n",
        "    \n",
        "    arr = np.array(hea, dtype=np.float64, copy=True)\n",
        "    \n",
        "    def max_diagonal(arr):\n",
        "        \n",
        "        def permutation(arr, shift, end):\n",
        "            arr = np.insert(arr, end, arr[shift], axis=0)\n",
        "            finale = shift + 1 if shift > end else shift \n",
        "            arr = np.delete(arr, finale, axis=0)\n",
        "            return arr \n",
        "\n",
        "        for i in range(len(arr)):\n",
        "            arr = permutation(\n",
        "                arr,\n",
        "                np.where(arr[i:, i] == max(arr[i:, i], key=abs))[0][0] + i,\n",
        "                i\n",
        "            )\n",
        "        return arr\n",
        "\n",
        "    arr = max_diagonal(arr)\n",
        "\n",
        "    for cm in range(len(arr[0])-2): # coluna da linha da matriz\n",
        "        for l, k in zip(range(cm, len(arr)-1), range(len(arr))): # linha\n",
        "            for c in range(len(arr[0])): # coluna da linha\n",
        "                if not c:\n",
        "                    v1, v2 = arr[cm][cm], arr[cm+k+1][cm]\n",
        "                arr[cm+k+1][c] = v1*arr[cm+k+1][c]-v2*arr[cm][c]\n",
        "        arr = max_diagonal(arr)\n",
        "\n",
        "    return arr        "
      ],
      "execution_count": null,
      "outputs": []
    },
    {
      "cell_type": "code",
      "metadata": {
        "colab": {
          "base_uri": "https://localhost:8080/"
        },
        "id": "8ZSab6ZEJfKR",
        "cellView": "form",
        "outputId": "13530ad2-7c66-42e5-a606-fb6eb9cfc8c4"
      },
      "source": [
        "matriz_gauss =  [[1, 1, 2, 4], [2, -1, -1, 0], [1, -1, -1, -1]]#@param\n",
        "#@markdown > $\\color{gray}{\\text{matriz = eliminacao_gauss(matriz_gauss)}}$\n",
        "matriz = eliminacao_gauss(matriz_gauss)\n",
        "print(f'\\033[32m{matriz}'); print()\n",
        "testar_velocidade = False #@param {type:\"boolean\"}\n",
        "if testar_velocidade:\n",
        "    %timeit eliminacao_gauss(matriz_gauss)"
      ],
      "execution_count": null,
      "outputs": [
        {
          "output_type": "stream",
          "name": "stdout",
          "text": [
            "\u001b[32m[[ 2. -1. -1.  0.]\n",
            " [ 0.  3.  5.  8.]\n",
            " [ 0.  0.  2.  2.]]\n",
            "\n"
          ]
        }
      ]
    },
    {
      "cell_type": "markdown",
      "metadata": {
        "id": "AiFmztPNJDwj"
      },
      "source": [
        "### $\\color{#00b6ff}{\\text{Matriz resultado do Método de Gauss}}$\n"
      ]
    },
    {
      "cell_type": "code",
      "metadata": {
        "id": "4-hMYMpcl4S6",
        "cellView": "form"
      },
      "source": [
        "#@markdown > $\\color{gray}{\\text{resultados(hea)}}$\n",
        "\n",
        "def resultado(hea):\n",
        "    '''Entre apenas com uma matriz triangular inferior'''\n",
        "    import numpy as np\n",
        "    \n",
        "    arr = np.array(hea, dtype=np.float64, copy=True); mt = []\n",
        "    for x in reversed(range(len(arr))):\n",
        "        n = 0; s = []\n",
        "        for i, k in zip(range(x+1, len(arr)), range(1, len(arr))):\n",
        "            s.append(arr[x][i])\n",
        "            n += s[k-1]*mt[k-1]\n",
        "\n",
        "        mt.insert(0, (arr[x][len(arr)]-n)/arr.diagonal()[x])\n",
        "\n",
        "    return mt"
      ],
      "execution_count": null,
      "outputs": []
    },
    {
      "cell_type": "code",
      "metadata": {
        "colab": {
          "base_uri": "https://localhost:8080/"
        },
        "id": "zeiJmNBSKGNB",
        "cellView": "form",
        "outputId": "8b37cd29-2a22-44f5-d7f9-8e4f0de13b8c"
      },
      "source": [
        "matriz_resultados =  matriz#@param\n",
        "#@markdown > $\\color{gray}{\\text{resultado(matriz_resultados)}}$\n",
        "print(f'\\033[32mM = {resultado(matriz_resultados)}\\u1D40'); print()\n",
        "testar_velocidade = False #@param {type:\"boolean\"}\n",
        "if testar_velocidade:\n",
        "    %timeit resultado(matriz_resultados)"
      ],
      "execution_count": null,
      "outputs": [
        {
          "output_type": "stream",
          "name": "stdout",
          "text": [
            "\u001b[32mM = [1.0, 1.0, 1.0]ᵀ\n",
            "\n"
          ]
        }
      ]
    },
    {
      "cell_type": "markdown",
      "metadata": {
        "id": "m1u7WhDBSxFg"
      },
      "source": [
        "### $\\color{#00b6ff}{\\text{Método de Gauss Jordan}}$\n"
      ]
    },
    {
      "cell_type": "code",
      "metadata": {
        "id": "muuk30as4uZ7",
        "cellView": "form"
      },
      "source": [
        "#@markdown > $\\color{gray}{\\text{gauss_jordan(hea)}}$\n",
        "\n",
        "def gauss_jordan(hea):\n",
        "\n",
        "    import numpy as np\n",
        "\n",
        "    def simple(arr):\n",
        "        diag = arr.diagonal()\n",
        "        for i, x in zip(range(len(diag)), diag):\n",
        "            arr[i] = arr[i]/x\n",
        "        return arr\n",
        "\n",
        "    arr = np.array(hea, dtype=np.float64,  copy=True)\n",
        "\n",
        "    for _ in range(2): \n",
        "        bl = []\n",
        "        for i, k in zip(arr, range(len(arr))):\n",
        "            if not k-1 < 0:\n",
        "                bl.append([i[x] for x in range(k)])\n",
        "        bl = np.hstack(bl)\n",
        "\n",
        "        if len(np.where(bl > 0)[0]) != 0:\n",
        "            arr = eliminacao_gauss(arr)\n",
        "        else:\n",
        "            break\n",
        "\n",
        "    for cm in reversed(range(1, len(arr[0])-1)): # coluna da linha da matriz\n",
        "        for l, k in zip(reversed(range(cm)), range(1, len(arr))): # linha\n",
        "            for c in range(len(arr[0])): # coluna da linha\n",
        "                if not c:\n",
        "                    v1, v2 = arr[cm][cm], arr[cm-k][cm]\n",
        "\n",
        "                arr[cm-k][c] = v1*arr[cm-k][c]-v2*arr[cm][c]\n",
        "            simple(arr)\n",
        "    return arr"
      ],
      "execution_count": null,
      "outputs": []
    },
    {
      "cell_type": "code",
      "metadata": {
        "colab": {
          "base_uri": "https://localhost:8080/"
        },
        "id": "oD5DwgUj4zrq",
        "cellView": "form",
        "outputId": "4984a19a-c198-4076-f10e-b2fd6d14ae8b"
      },
      "source": [
        "matriz_gauss_jordan = [[1, 1, 2, 4], [2, -1, -1, 0], [1, -1, -1, -1]]#@param\n",
        "#@markdown > $\\color{gray}{\\text{gauss_jordan(matriz_gauss_jordan)}}$\n",
        "arr = gauss_jordan(matriz_gauss_jordan)\n",
        "print(f'\\033[32m{arr}'); print()\n",
        "testar_velocidade = False #@param {type:\"boolean\"}\n",
        "if testar_velocidade:\n",
        "    %timeit gauss_jordan(matriz_gauss_jordan)"
      ],
      "execution_count": null,
      "outputs": [
        {
          "output_type": "stream",
          "name": "stdout",
          "text": [
            "\u001b[32m[[1. 0. 0. 1.]\n",
            " [0. 1. 0. 1.]\n",
            " [0. 0. 1. 1.]]\n",
            "\n"
          ]
        }
      ]
    },
    {
      "cell_type": "markdown",
      "metadata": {
        "id": "7jr4NM4XqDGO"
      },
      "source": [
        "## $\\color{#97a100}{Métodos Abertos}$"
      ]
    },
    {
      "cell_type": "markdown",
      "metadata": {
        "id": "OyZvVfI-y1xg"
      },
      "source": [
        "### $\\color{#00b6ff}{\\text{Critérios de convergência}}$\n"
      ]
    },
    {
      "cell_type": "markdown",
      "metadata": {
        "id": "jkviYKCCJiks"
      },
      "source": [
        "#### $\\color{#0097ff}{\\text{Descrição}}$"
      ]
    },
    {
      "cell_type": "markdown",
      "metadata": {
        "id": "piA1ykK0jtNT"
      },
      "source": [
        "O processo interativo\n",
        "$$x^{(k+1)}=Bx^{(k)}+d$$\n",
        "Converge para a solução $\\textbf{se e somente se}$\n",
        "$$max\\{|\\lambda_i|\\}<1,\\qquad\\lambda_i\\:\\text{autovalores de}\\:B$$\n",
        "\n",
        "$\\color{gray}{Fonte:}$ [Aqui](https://youtu.be/0KhoP01Ir9g)"
      ]
    },
    {
      "cell_type": "markdown",
      "metadata": {
        "id": "_5eOlQbKJs-f"
      },
      "source": [
        "#### $\\color{#0097ff}{\\text{Programa}}$"
      ]
    },
    {
      "cell_type": "code",
      "metadata": {
        "id": "24FTYomyiSuZ",
        "cellView": "form"
      },
      "source": [
        "#@markdown > $\\color{gray}{\\text{convergencia(arr)}}$\n",
        "\n",
        "def convergencia(arr):\n",
        "    \"\"\"\n",
        "        Retorna uma str afirmando ou negando se a matriz converge\n",
        "    \"\"\"\n",
        "    \n",
        "    def interacao(arr):\n",
        "        \"\"\"\n",
        "            Retorna uma matriz quadrada gerada pelo processo de interação \n",
        "        \"\"\"\n",
        "        arr = np.array(arr, dtype=np.float64, copy=True)\n",
        "\n",
        "        if len(arr[0]) == len(arr)+1:\n",
        "            arr = np.delete(arr, -1, 1)\n",
        "\n",
        "        for j in range(len(arr)): # colunas\n",
        "            for i in range(len(arr[0])): #linhas\n",
        "                if j != i:\n",
        "                    arr[j][i] = -1*arr[j][i]/arr.diagonal()[j]\n",
        "            arr[j][j] = 0\n",
        "        return arr\n",
        "\n",
        "    # ---------------\n",
        "    \n",
        "    import numpy as np\n",
        "\n",
        "    arr = np.array(arr, dtype=np.float64, copy=True)\n",
        "    arr = interacao(arr)\n",
        "    \n",
        "    if len(arr[0]) == len(arr):\n",
        "        auto_v = np.linalg.eigvals(arr)\n",
        "        \n",
        "        if np.max(abs(auto_v)) < 1:\n",
        "            msg = '\\033[32mA matriz converge\\033[' # mensagem em verde\n",
        "        else:\n",
        "            msg = '\\033[31mA matriz diverge\\033[' # mensagem em vermelho\n",
        "    else:\n",
        "        msg = f'\\033[31mErro! M[{len(arr[0])}][{len(arr)}]\\033[' # mensagem de erro em vermelho\n",
        "\n",
        "    return f'{msg}\\n{abs(auto_v)}'\n",
        "\n",
        "# convergencia([[15, 5, -5, 30], [4, -20, 1, 23], [2, -2, 8, -10]])\n",
        "# convergencia([[3, 4, -2, 13], [-1, 3, 5, 0], [-4, 4, 2, 2]])"
      ],
      "execution_count": null,
      "outputs": []
    },
    {
      "cell_type": "code",
      "metadata": {
        "colab": {
          "base_uri": "https://localhost:8080/"
        },
        "cellView": "form",
        "id": "v3iZQDTdbyYw",
        "outputId": "c1ff7a27-3bb4-4870-b957-a428f712ad30"
      },
      "source": [
        "Matriz_1 = True #@param {type:\"boolean\"}\n",
        "if Matriz_1:\n",
        "    Matriz_01 =  [[2, -1, 1], [1, 2, 3]]#@param\n",
        "    print(convergencia(Matriz_01))\n",
        "Matriz_2 = False #@param {type:\"boolean\"}\n",
        "if Matriz_2:\n",
        "    Matriz_02 =  [[1, 1, 2, 4], [2, -1, -1, 0], [1, -1, -1, -1]]#@param\n",
        "    print(convergencia(Matriz_02))"
      ],
      "execution_count": null,
      "outputs": [
        {
          "output_type": "stream",
          "name": "stdout",
          "text": [
            "\u001b[32mA matriz converge\u001b[\n",
            "[0.5 0.5]\n"
          ]
        }
      ]
    },
    {
      "cell_type": "markdown",
      "metadata": {
        "id": "MBvipitciSJC"
      },
      "source": [
        "### $\\color{#00b6ff}{\\text{Método de Jacobi}}$\n"
      ]
    },
    {
      "cell_type": "code",
      "metadata": {
        "id": "yaxfm3_s9Jw_",
        "cellView": "form"
      },
      "source": [
        "#@markdown > $\\color{gray}{\\text{m_jacobi(hea, ci=[0, 0, 0], ni=10, tc=2, trc=False, permu=True)}}$\n",
        "\n",
        "def m_jacobi(hea, ci=[0, 0, 0], ni=10, tc=2, trc=False, permu=True):\n",
        "\n",
        "    import numpy as np\n",
        "\n",
        "    def trunc(arr1, arr2, tr=2):\n",
        "        '''\n",
        "            Retorna um booleano se arr1 == arr2, para o descimal definido\n",
        "        '''\n",
        "\n",
        "        def truncv(values, decs=0):\n",
        "            values = np.array(values)\n",
        "            return np.trunc(values*10**decs)/(10**decs)\n",
        "\n",
        "        arr1, arr2 = truncv(arr1, decs=tr), truncv(arr2, decs=tr)\n",
        "\n",
        "        comp = np.all([arr1==arr2, [True for _ in range(len(arr1))]]) \n",
        "        return comp\n",
        "\n",
        "    def v(arr, cond, line=0):\n",
        "        '''\n",
        "            Retorna uma matriz solução\n",
        "        '''\n",
        "        \n",
        "        def max_diagonal(arr):\n",
        "                \n",
        "            def permutation(arr, shift, end):\n",
        "                arr = np.insert(arr, end, arr[shift], axis=0)\n",
        "                finale = shift + 1 if shift > end else shift \n",
        "                arr = np.delete(arr, finale, axis=0)\n",
        "                return arr \n",
        "\n",
        "            for i in range(len(arr)):\n",
        "                arr = permutation(\n",
        "                    arr,\n",
        "                    np.where(arr[i:, i] == max(arr[i:, i], key=abs))[0][0] + i,\n",
        "                    i\n",
        "                )\n",
        "            return arr\n",
        "        if permu:\n",
        "            arr = max_diagonal(arr)\n",
        "\n",
        "        n, rs = [arr[line][-1]], 0\n",
        "        n.append(\n",
        "            [x*i for x, i, c in zip(arr[line], cond, range(len(arr[0])))\n",
        "            if c != line]\n",
        "        )\n",
        "        for k in n[1]:\n",
        "            rs += k\n",
        "        x = (n[0]-rs)/arr[line][line]\n",
        "\n",
        "        return x\n",
        "\n",
        "    \n",
        "    ci = [ci]; arr = np.array(hea, dtype=np.float64, copy=True)\n",
        "\n",
        "    for j in range(ni):\n",
        "        ci.append([])\n",
        "        for i in range(len(arr)):\n",
        "            ci[j+1].append(v(arr, ci[j], line=i))\n",
        "        \n",
        "        if trc:\n",
        "            if trunc(ci[j], ci[j+1], tr=tc):\n",
        "                break\n",
        "    \n",
        "    return ci"
      ],
      "execution_count": null,
      "outputs": []
    },
    {
      "cell_type": "code",
      "metadata": {
        "colab": {
          "base_uri": "https://localhost:8080/"
        },
        "id": "ICUBvDaN-wtu",
        "cellView": "form",
        "outputId": "7fd4e653-e1a0-4c5a-dcff-04fbb4ee79c8"
      },
      "source": [
        "import numpy as np\n",
        "\n",
        "matriz_m_jacobi = [[2, -1, 1], [1, 2, 3]]#@param\n",
        "condicoes_iniciais =  [0, 0]#@param\n",
        "loops = 10 #@param {type:\"slider\", min:0, max:150, step:1}\n",
        "trun = False #@param {type:\"boolean\"}\n",
        "permutacao = False #@param {type:\"boolean\"}\n",
        "truncamento_decimal = 3 #@param {type:\"slider\", min:1, max:10, step:1}\n",
        "#@markdown > $\\color{gray}{\\text{matriz_j = m_jacobi(matriz_m_jacobi, ci=condicoes_iniciais, ni=loops, tc = truncamento_decimal, trc=trun, permu=permutacao)}}$\n",
        "matriz_j = np.array(m_jacobi(matriz_m_jacobi, ci=condicoes_iniciais, ni=loops, tc = truncamento_decimal, trc=trun, permu=permutacao), dtype=np.float64)\n",
        "# print(f'\\033[32m{matriz_j}'); print()\n",
        "print(f'\\033[32m{matriz_j}'); print()\n",
        "testar_velocidade = False #@param {type:\"boolean\"}\n",
        "if testar_velocidade:\n",
        "    %timeit m_jacobi(matriz_m_jacobi, ci=condicoes_iniciais, ni=loops, tc = truncamento_decimal, trc=trun, permu=permutacao)"
      ],
      "execution_count": null,
      "outputs": [
        {
          "output_type": "stream",
          "name": "stdout",
          "text": [
            "\u001b[32m[[0.         0.        ]\n",
            " [0.5        1.5       ]\n",
            " [1.25       1.25      ]\n",
            " [1.125      0.875     ]\n",
            " [0.9375     0.9375    ]\n",
            " [0.96875    1.03125   ]\n",
            " [1.015625   1.015625  ]\n",
            " [1.0078125  0.9921875 ]\n",
            " [0.99609375 0.99609375]\n",
            " [0.99804688 1.00195312]\n",
            " [1.00097656 1.00097656]]\n",
            "\n"
          ]
        }
      ]
    },
    {
      "cell_type": "markdown",
      "metadata": {
        "id": "Lo7Qes7b9Ofa"
      },
      "source": [
        "### $\\color{#00b6ff}{\\text{Método de Gauss Seidel}}$\n"
      ]
    },
    {
      "cell_type": "code",
      "metadata": {
        "id": "f3LZTlcc0r63",
        "cellView": "form"
      },
      "source": [
        "#@markdown > $\\color{gray}{\\text{gauss_saidel(hea, ci=[0, 0, 0], ni=10, tc=2, trc=False, permu=True)}}$\n",
        "\n",
        "def gauss_saidel(hea, ci=[0, 0, 0], ni=10, tc=2, trc=False, permu=True):\n",
        "\n",
        "    import numpy as np\n",
        "\n",
        "    def trunc(arr1, arr2, tr=2):\n",
        "        '''\n",
        "            Retorna um booleano se arr1 == arr2\n",
        "        '''\n",
        "\n",
        "        def truncv(values, decs=0):\n",
        "            values = np.array(values)\n",
        "            return np.trunc(values*10**decs)/(10**decs)\n",
        "\n",
        "        arr1, arr2 = truncv(arr1, decs=tr), truncv(arr2, decs=tr)\n",
        "\n",
        "        comp = np.all([arr1==arr2, [True for _ in range(len(arr1))]]) \n",
        "        return comp\n",
        "\n",
        "    def v(arr, cond, line=0):\n",
        "        '''\n",
        "            Retorna uma matriz solução\n",
        "        '''\n",
        "        \n",
        "        def max_diagonal(arr):\n",
        "                \n",
        "            def permutation(arr, shift, end):\n",
        "                arr = np.insert(arr, end, arr[shift], axis=0)\n",
        "                finale = shift + 1 if shift > end else shift \n",
        "                arr = np.delete(arr, finale, axis=0)\n",
        "                return arr \n",
        "\n",
        "            for i in range(len(arr)):\n",
        "                arr = permutation(\n",
        "                    arr,\n",
        "                    np.where(arr[i:, i] == max(arr[i:, i], key=abs))[0][0] + i,\n",
        "                    i\n",
        "                )\n",
        "            return arr\n",
        "        if permu:\n",
        "            arr = max_diagonal(arr)\n",
        "\n",
        "        n, rs = [arr[line][-1]], 0\n",
        "        n.append(\n",
        "            [x*i for x, i, c in zip(arr[line], cond, range(len(arr[0])))\n",
        "            if c != line]\n",
        "        )\n",
        "        for k in n[1]:\n",
        "            rs += k\n",
        "        x = (n[0]-rs)/arr[line][line]\n",
        "\n",
        "        return x\n",
        "\n",
        "    \n",
        "    arr = np.array(hea, dtype=np.float64, copy=True)\n",
        "    hist = np.array([ci], dtype=np.float64, copy=True)\n",
        "\n",
        "    for j in range(1, ni+1):\n",
        "        for i in range(len(arr)):\n",
        "            ci[i] = v(arr, ci, line=i)\n",
        "        \n",
        "        hist = np.append(hist, [ci], axis=0)\n",
        "\n",
        "        if trc:\n",
        "            if trunc(hist[j-1], hist[j], tr=tc):\n",
        "                break\n",
        "    return hist"
      ],
      "execution_count": null,
      "outputs": []
    },
    {
      "cell_type": "code",
      "metadata": {
        "colab": {
          "base_uri": "https://localhost:8080/"
        },
        "id": "HSBnLVR1A42E",
        "cellView": "form",
        "outputId": "a3501a07-6da5-4060-d551-afa12e4a2d7e"
      },
      "source": [
        "import numpy as np\n",
        "\n",
        "matriz_g_saidel = [[2, -1, 1], [1, 2, 3]]#@param\n",
        "condicoes_iniciais2 =  [0, 0]#@param\n",
        "loops2 = 10 #@param {type:\"slider\", min:0, max:150, step:1}\n",
        "trun2 = False #@param {type:\"boolean\"}\n",
        "permutacao2 = False #@param {type: \"boolean\"}\n",
        "truncamento_decimal2 = 3 #@param {type:\"slider\", min:1, max:10, step:1}\n",
        "#@markdown > $\\color{gray}{\\text{matriz_j = gauss_saidel(matriz_g_saidel, ci=condicoes_iniciais2, ni=loops2, tc = truncamento_decimal2, trc=trun2, permu=permutacao2)}}$\n",
        "matriz_j = np.array(gauss_saidel(matriz_g_saidel, ci=condicoes_iniciais2, ni=loops2, tc = truncamento_decimal2, trc=trun2, permu=permutacao2))\n",
        "# print(f'\\033[32m{matriz_j}'); print()\n",
        "print(f'\\033[32m{matriz_j}'); print()\n",
        "testar_velocidade = False #@param {type:\"boolean\"}\n",
        "if testar_velocidade:\n",
        "    %timeit gauss_saidel(matriz_g_saidel, ci=condicoes_iniciais2, ni=loops2, tc = truncamento_decimal2, trc=trun2, permu=permutacao2)"
      ],
      "execution_count": null,
      "outputs": [
        {
          "output_type": "stream",
          "name": "stdout",
          "text": [
            "\u001b[32m[[0.         0.        ]\n",
            " [0.5        1.25      ]\n",
            " [1.125      0.9375    ]\n",
            " [0.96875    1.015625  ]\n",
            " [1.0078125  0.99609375]\n",
            " [0.99804688 1.00097656]\n",
            " [1.00048828 0.99975586]\n",
            " [0.99987793 1.00006104]\n",
            " [1.00003052 0.99998474]\n",
            " [0.99999237 1.00000381]\n",
            " [1.00000191 0.99999905]]\n",
            "\n"
          ]
        }
      ]
    },
    {
      "cell_type": "markdown",
      "metadata": {
        "id": "kiNZR7WlHAMp"
      },
      "source": [
        "# <div align=\"center\">$\\color{#ff6b00}{\\text{Resolução numérica de equações}}$</div>"
      ]
    },
    {
      "cell_type": "markdown",
      "metadata": {
        "id": "WqBNFSBp8vG-"
      },
      "source": [
        "REFERÊNCIA\n",
        "\n",
        "\n",
        "> $\\color{gray}{\\text{BARROSO, Leônidas Conceição. $\\textbf{Cálculo numérico}$. São Paulo: Harper & Row doBrasil, 1983}}$"
      ]
    },
    {
      "cell_type": "markdown",
      "metadata": {
        "id": "Q4sdAN1zFFlo"
      },
      "source": [
        "### $\\color{#97a100}{\\text{Teorema 3.1: Teorema de Bolzano}}$"
      ]
    },
    {
      "cell_type": "markdown",
      "metadata": {
        "id": "lvcLBPG-FsCi"
      },
      "source": [
        "Se uma função contínua $f(x)$ assume valores de sinais opostos nos pontos extremos do intervalo $[a,\\:b]$, isto é $f(a)\\cdot f(b)<0$, então o intervalo conterá, no mínimo, uma raiz da equação $f(x)=0$.}\n",
        "\n",
        "$\\color{gray}{\\text{BARROSO (1983)}}$"
      ]
    },
    {
      "cell_type": "markdown",
      "metadata": {
        "id": "hQrn7HvPIQ8n"
      },
      "source": [
        "### $\\color{#97a100}{\\text{Bissecção}}$\n"
      ]
    },
    {
      "cell_type": "markdown",
      "metadata": {
        "id": "My-iTEweWOOJ"
      },
      "source": [
        "#### $\\color{#00b6ff}{\\text{Descrição 3.4.1}}$"
      ]
    },
    {
      "cell_type": "markdown",
      "metadata": {
        "id": "Egh2ZhTXWbGO"
      },
      "source": [
        "Seja $f(x)$ uma função contínua no intervalo $[a,b]$ e $f(a)\\cdot f(b)<0$.\n",
        "\n",
        "\n",
        "Dividindo o intervalo $[a,b]$ ao meio, obtém-se $x_0$, havendo, pois, dois subintervalos, $[a,x_0]$ e $[x_0,b]$, a ser considerados.\n",
        "\n",
        "\n",
        "Se $f(x_0)=0$, então $\\xi=x_0$; caso contrário, a raiz estará no subintervalo onde a função tem sinais opostos nos pontos extremos, ou seja, se $f(a)\\cdot f(x_0)<0$, então $\\xi\\in(a,x_0)$; senão $f(a)\\cdot f(x_0)>0$ e $\\xi\\in(x_0, b)$.\n",
        "\n",
        "\n",
        "O novo intervalo $[a_1, b_1]$ que contém $\\xi$ é diviidido ao meio e obtém-se o ponto $x_1$. O processo se repete até que se obtenha uma aproximação para a raiz exata $\\xi$, com a tolerância $\\epsilon$ desejada.\n",
        "\n",
        "\n",
        "$\\color{gray}{\\text{BARROSO (1983)}}$"
      ]
    },
    {
      "cell_type": "markdown",
      "metadata": {
        "id": "QyZoFWgS3vvS"
      },
      "source": [
        "#### $\\color{#00b6ff}{Programa}$"
      ]
    },
    {
      "cell_type": "code",
      "metadata": {
        "id": "C0-dParQISg2",
        "cellView": "form"
      },
      "source": [
        "#@markdown > $\\color{gray}{\\text{bisseccao(a, b, n=100, e=0.001)}}$\n",
        "\n",
        "def bisseccao(a, b, n=100, e=0.001):\n",
        "\n",
        "    for l in range(n):\n",
        "        xi = a if l == 0 else x\n",
        "        x = (a+b)/2\n",
        "        if f(a) == 0 or f(b) == 0 or abs((x-xi)/x) < e:\n",
        "            raiz = a if f(a) == 0 else raiz\n",
        "            raiz = b if f(b) == 0 else raiz\n",
        "            break\n",
        "\n",
        "        else:\n",
        "            a = x if f(x) * f(a) > 0 else a \n",
        "            b = x if f(x) * f(b) > 0 else b\n",
        "            raiz = x\n",
        "\n",
        "    return (raiz, l, abs((x-xi)/x))"
      ],
      "execution_count": null,
      "outputs": []
    },
    {
      "cell_type": "code",
      "metadata": {
        "colab": {
          "base_uri": "https://localhost:8080/",
          "height": 333
        },
        "id": "07H1U02UKgnB",
        "cellView": "form",
        "outputId": "f0404927-d6cd-4aa7-b737-4f89b8cb32a4"
      },
      "source": [
        "import numpy as np\n",
        "f = lambda x: np.exp(-x)+x/5-1 #@param\n",
        "\n",
        "RUM = True #@param {type:\"boolean\"}\n",
        "if RUM:\n",
        "    a =  4#@param {type:\"number\"}\n",
        "    b = 6 #@param {type:\"number\"}\n",
        "    error = 1e-10 #@param {type:\"slider\", min:1e-10, max:0.1, step:0.0001}\n",
        "    loops = 72 #@param {type:\"slider\", min:1, max:100}\n",
        "    bissec = bisseccao(a, b, loops, error)\n",
        "    print(f'\\033[32mA raiz encontrada foi \\033[34m{bissec[0]}\\033[')\n",
        "    print(f'\\033[32mO programa rodou \\033[34m{bissec[1]}\\033[32m vezes\\033[')\n",
        "    print(f'\\033[32mA diferença dos intervalos é \\033[34m{bissec[2]}\\033[')\n",
        "\n",
        "PLOTAR_GRAFICO = True #@param {type:\"boolean\"}\n",
        "if PLOTAR_GRAFICO:\n",
        "    import matplotlib.pyplot as plt\n",
        "    x = np.linspace(a-a/2, b+b/2)\n",
        "    y = np.exp(-x)+x/5-1 #@param\n",
        "    print()\n",
        "    plt.axhline(y=0, color=\"gray\", linestyle=\"-\")\n",
        "    plt.plot(x, y)\n",
        "    plt.plot(bisseccao(a, b, loops, error)[0], 0, 'ro')\n",
        "    plt.show\n",
        "\n",
        "TESTE_VELOCIDADE = False #@param {type:\"boolean\"}\n",
        "if TESTE_VELOCIDADE:\n",
        "    %timeit corda(a, b, loops, error)"
      ],
      "execution_count": null,
      "outputs": [
        {
          "output_type": "stream",
          "name": "stdout",
          "text": [
            "\u001b[32mA raiz encontrada foi \u001b[34m4.965114231221378\u001b[\n",
            "\u001b[32mO programa rodou \u001b[34m31\u001b[32m vezes\u001b[\n",
            "\u001b[32mA diferença dos intervalos é \u001b[34m9.378662112865781e-11\u001b[\n",
            "\n"
          ]
        },
        {
          "output_type": "display_data",
          "data": {
            "image/png": "[encoded data removed]",
            "text/plain": [
              "<Figure size 432x288 with 1 Axes>"
            ]
          },
          "metadata": {
            "needs_background": "light"
          }
        }
      ]
    },
    {
      "cell_type": "markdown",
      "metadata": {
        "id": "XEmAfP2ltXcC"
      },
      "source": [
        "### $\\color{#97a100}{\\text{Corda}}$"
      ]
    },
    {
      "cell_type": "markdown",
      "metadata": {
        "id": "s_Wnu6PD8NXb"
      },
      "source": [
        "#### $\\color{#00b6ff}{\\text{Descrção 3.5.1}}$"
      ]
    },
    {
      "cell_type": "markdown",
      "metadata": {
        "id": "JL1Ci03L8d3f"
      },
      "source": [
        "Seja $f(x)$ uma função contínua que tenha derivada segunda com sinal constante no intervalo $[a, b]$, sendo que $f(a)\\cdot f(b)<0$ e que existe somente um número $\\xi\\in[a, b]$ tal que $f(\\xi)=0$\n",
        "\n",
        "No método das cordas, ao invés de se dividir o intervalo $[a, b]$ ao meio, ele é dividido em partes proporcionais à razão $-f(a)/f(b)$\n",
        "\n",
        "\\\\\n",
        "\n",
        "$\\frac{h_1}{b-a}=\\frac{-f(a)}{-f(a)+f(b)}$\n",
        "\n",
        "\\\\\n",
        "\n",
        "Isto conduz a um valor aproximado da raiz\n",
        "\n",
        "\\\\\n",
        "\n",
        "$x_1=a+h_1$\n",
        "\n",
        "\\\\\n",
        "\n",
        "$x_1=a-\\frac{f(a)}{f(b)-f(a)}(b-a)$\n",
        "\n",
        "\\\\\n",
        "\n",
        "Ao se aplicar este procedimento ao novo intervalo que contém $\\xi([a, x_1] ou [x_1, b])$, obtém-se uma nova aproximação $x_2$ da raiz\n",
        "\n",
        "\n",
        "$\\color{gray}{\\text{BARROSO (1983)}}$"
      ]
    },
    {
      "cell_type": "markdown",
      "metadata": {
        "id": "Vb12DHLw6gH7"
      },
      "source": [
        "#### $\\color{#00b6ff}{Programa}$"
      ]
    },
    {
      "cell_type": "code",
      "metadata": {
        "id": "UWTxE_jP_lrf",
        "cellView": "form"
      },
      "source": [
        "#@markdown > $\\color{gray}{\\text{corda(a, b, n=100, e=0.001)}}$\n",
        "\n",
        "def corda(a, b, n=100, e=0.001):\n",
        "\n",
        "    for l in range(n):    \n",
        "        xi = a if l == 0 else x\n",
        "        x = a-f(a)*(b-a)/(f(b)-f(a)) \n",
        "\n",
        "        if f(a) == 0 or f(b) == 0 or abs((x-xi)/x) < e:\n",
        "            raiz = a if f(a) == 0 else raiz\n",
        "            raiz = b if f(b) == 0 else raiz\n",
        "            break\n",
        "\n",
        "        else:\n",
        "            a = x if f(x) * f(a) > 0 else a \n",
        "            b = x if f(x) * f(b) > 0 else b\n",
        "            raiz = x\n",
        "\n",
        "    return (raiz, l, abs((x-xi)/x))"
      ],
      "execution_count": null,
      "outputs": []
    },
    {
      "cell_type": "code",
      "metadata": {
        "colab": {
          "base_uri": "https://localhost:8080/",
          "height": 282
        },
        "id": "uzO5QHo1cRsC",
        "cellView": "form",
        "outputId": "da8a2733-25ed-441c-c04e-50c23f5b109e"
      },
      "source": [
        "import numpy as np\n",
        "f = lambda x: np.exp(-x)+x/5-1 #@param\n",
        "\n",
        "RUM = False #@param {type:\"boolean\"}\n",
        "if RUM:\n",
        "    a =  4#@param {type:\"number\"}\n",
        "    b = 5 #@param {type:\"number\"}\n",
        "    error = 0.0001000001 #@param {type:\"slider\", min:1e-10, max:1e-1, step:0.0001}\n",
        "    loops = 30 #@param {type:\"slider\", min:1, max:100}\n",
        "    cord = corda(a, b, loops, error)\n",
        "    print(f'\\033[32mA raiz encontrada foi \\033[34m{cord[0]}\\033[')\n",
        "    print(f'\\033[32mO programa rodou \\033[34m{cord[1]}\\033[32m vezes\\033[')\n",
        "    print(f'\\033[32mA diferença dos intervalos é \\033[34m{cord[2]}\\033[')\n",
        "\n",
        "PLOTAR_GRAFICO = True #@param {type:\"boolean\"}\n",
        "if PLOTAR_GRAFICO:\n",
        "    import matplotlib.pyplot as plt\n",
        "    x = np.linspace(a-a/2, b+b/2)\n",
        "    y =  np.exp(-x)+x/5-1#@param\n",
        "    print()\n",
        "    plt.axhline(y=0, color=\"gray\", linestyle=\"-\")\n",
        "    plt.plot(x, y)\n",
        "    plt.plot(corda(a, b, loops, error)[0], 0, 'ro')\n",
        "    plt.show\n",
        "\n",
        "TESTE_VELOCIDADE = False #@param {type:\"boolean\"}\n",
        "if TESTE_VELOCIDADE:\n",
        "    %timeit corda(a, b, loops, error)\n"
      ],
      "execution_count": null,
      "outputs": [
        {
          "output_type": "stream",
          "name": "stdout",
          "text": [
            "\n"
          ]
        },
        {
          "output_type": "display_data",
          "data": {
            "image/png": "[encoded data removed]",
            "text/plain": [
              "<Figure size 432x288 with 1 Axes>"
            ]
          },
          "metadata": {
            "needs_background": "light"
          }
        }
      ]
    },
    {
      "cell_type": "markdown",
      "metadata": {
        "id": "Dpd4EeQMv60H"
      },
      "source": [
        "### $\\color{#97a100}{\\text{Pégaso}}$"
      ]
    },
    {
      "cell_type": "markdown",
      "metadata": {
        "id": "cH4sV6v0pYAy"
      },
      "source": [
        "#### $\\color{#00b6ff}{\\text{Descição 3.6.2}}$"
      ]
    },
    {
      "cell_type": "markdown",
      "metadata": {
        "id": "nQ19e8o1qTVL"
      },
      "source": [
        "Seja $f(x)$ uma função contínua no intervalo $[x_0, x_1]$ e $f(x_0)\\cdot f(x_1)<0$. Como existe uma raiz neste intervalo, as sucessivas aproximações $x_2, x_3, x_4,...$ desta raiz podem ser obtidas pela formação de recorrência abaixo:\n",
        "\n",
        "\\\\\n",
        "\n",
        "$x_{n+1}=x_n-\\frac{f(x_n)(x_n-x_{n-1})}{f(x_n)-f(x_{n-1})}\\qquad n=1, 2, 3, ...$\n",
        "\n",
        "\\\\\n",
        "\n",
        "onde as aproximalções da interação seguinte são escolhas do seguinte modo:\n",
        "\n",
        "\\\\\n",
        "\n",
        "se $f(x_{n+1})\\cdot f(x_n)<0$, então $\\qquad[x_{n-1},f({x_{n-1}})]$ é trocado por $[x_n, f(x_n)]$\n",
        "\n",
        "\\\\\n",
        "\n",
        "se $f(x_{n+1})\\cdot f(x_n)>0$, então $\\qquad[x_{n-1},f({x_{n-1}})]$ é trocado por $[x_{n-1}, f(x_{n-1})\\cdot f(x_n)/(f(x_n)+f(x_{n+1}))]$\n",
        "\n",
        "\\\\\n",
        "\n",
        "Em ambos os casos, $[x_n, f(x_n)]$ é trocado por $[x_{n+1}, f(x_{n+1})]$ e esta escolha garante que os valores da função usado a cada interação tenha sempre sinais opostos.\n",
        "\n",
        "\n",
        "A filosofia fo método Pégaso é reduzir o valor $(x_{n-1})$ por um fator $f(x_n)/(f(x_n)+f(x_n+1))$ de modo a evitar a retenção de um ponto, como o ponto $[c,f(c)]$ no método das cordas, e com isto obter um método de convergência mais rápida.\n",
        "\n",
        "\n",
        "$\\color{gray}{\\text{BARROSO (1983)}}$"
      ]
    },
    {
      "cell_type": "markdown",
      "metadata": {
        "id": "bhi6k6TAADQ-"
      },
      "source": [
        "#### $\\color{#00b6ff}{Programa}$"
      ]
    },
    {
      "cell_type": "code",
      "metadata": {
        "id": "2Hc9zH8s_w0o",
        "cellView": "form"
      },
      "source": [
        "#@markdown > $\\color{gray}{\\text{pegaso(a, b, n=100, e=0.1)}}$\n",
        "\n",
        "def pegaso(a, b, n=100, e=0.1):\n",
        "    # a = f(b)/(f(b)+f(b+1))\n",
        "    x = [\n",
        "         a,  # .............................. 0\n",
        "         f(a),  # ........................... 1\n",
        "         b,  # .............................. 2\n",
        "         f(b),  # ........................... 3\n",
        "         b - (f(b)*(b-a)) / (f(b)-f(a)),  # . 4\n",
        "         f(b - (f(b)*(b-a)) / (f(b)-f(a)))  # 5\n",
        "    ]\n",
        "    for l in range(n):\n",
        "\n",
        "        if x[5] * x[3] < 0:\n",
        "            x[0] = x[2]\n",
        "            x[1] = f(x[0])\n",
        "            \n",
        "        elif x[5] * x[3] > 0:\n",
        "            x[1] = (x[1]*x[3])/(x[3]+x[5])\n",
        "\n",
        "        x[2] = x[4]\n",
        "        x[3] = f(x[2])\n",
        "        x[4] = x[2] - (x[3]*(x[2]-x[0]))/(x[3]-x[1])\n",
        "        x[5] = f(x[4])\n",
        "\n",
        "        if abs((x[4]-x[2])/x[4]) < e:\n",
        "            break\n",
        "\n",
        "    return x[4], l, abs((x[4]-x[2])/x[4])"
      ],
      "execution_count": null,
      "outputs": []
    },
    {
      "cell_type": "code",
      "metadata": {
        "colab": {
          "base_uri": "https://localhost:8080/",
          "height": 333
        },
        "cellView": "form",
        "id": "3hZEHdk6SSW7",
        "outputId": "b56efc29-bf3a-4929-e4f6-5d005d4a745a"
      },
      "source": [
        "import numpy as np\n",
        "f = lambda x: x*np.sin(x) #@param\n",
        "\n",
        "RUM = True #@param {type:\"boolean\"}\n",
        "a =  10 #@param {type:\"number\"}\n",
        "b =  14 #@param {type:\"number\"}\n",
        "error = 1e-10 #@param {type:\"slider\", min:1e-10, max:1e-1, step:0.0001}\n",
        "loops = 48 #@param {type:\"slider\", min:1, max:100}\n",
        "\n",
        "if RUM:\n",
        "    pegas = pegaso(a, b, loops, error)\n",
        "    print(f'\\033[32mA raiz encontrada foi \\033[34m{pegas[0]}\\033[')\n",
        "    print(f'\\033[32mO programa rodou \\033[34m{pegas[1]}\\033[32m vezes\\033[')\n",
        "    print(f'\\033[32mA diferença dos intervalos é \\033[34m{pegas[2]}\\033[')\n",
        "\n",
        "PLOTAR_GRAFICO = True #@param {type:\"boolean\"}\n",
        "if PLOTAR_GRAFICO:\n",
        "    import matplotlib.pyplot as plt\n",
        "    x = np.linspace(a-a/2, b+b/2)\n",
        "    y = x*np.sin(x) #@param\n",
        "    print()\n",
        "    plt.axhline(y=0, color=\"gray\", linestyle=\"-\")\n",
        "    plt.plot(x, y)\n",
        "    plt.plot(pegaso(a, b, loops, error)[0], 0, 'ro')\n",
        "    plt.show\n",
        "\n",
        "TESTE_VELOCIDADE = False #@param {type:\"boolean\"}\n",
        "if TESTE_VELOCIDADE:\n",
        "    %timeit pegaso(a, b, loops, error)"
      ],
      "execution_count": null,
      "outputs": [
        {
          "output_type": "stream",
          "name": "stdout",
          "text": [
            "\u001b[32mA raiz encontrada foi \u001b[34m12.566370614359172\u001b[\n",
            "\u001b[32mO programa rodou \u001b[34m5\u001b[32m vezes\u001b[\n",
            "\u001b[32mA diferença dos intervalos é \u001b[34m4.2507759922795294e-12\u001b[\n",
            "\n"
          ]
        },
        {
          "output_type": "display_data",
          "data": {
            "image/png": "[encoded data removed]",
            "text/plain": [
              "<Figure size 432x288 with 1 Axes>"
            ]
          },
          "metadata": {
            "needs_background": "light"
          }
        }
      ]
    },
    {
      "cell_type": "markdown",
      "metadata": {
        "id": "x8O6pxKhv6bx"
      },
      "source": [
        "\n",
        "\n",
        "### $\\color{#97a100}{\\text{Newton}}$"
      ]
    },
    {
      "cell_type": "markdown",
      "metadata": {
        "id": "kOHYl6DyFSdA"
      },
      "source": [
        "#### $\\color{#00b6ff}{\\text{Descrição 3.7.1}}$"
      ]
    },
    {
      "cell_type": "markdown",
      "metadata": {
        "id": "SoikczDwGqmZ"
      },
      "source": [
        "Seja $f(x)$ uma função contínuua no intervalo $[a,b]$ e $\\xi$ o seu único zero neste intervalo; as derivadas $f'(x)(f'(x)\\neq0)$ e $f''(x)$ devem também ser contínuas. Encontra-se uma aproximação $x_n$ para a raiz $\\xi$ e é feita uma expansão em série de Taylor para $f(x)=0$:\n",
        "\n",
        "\\\\\n",
        "\n",
        "$$\n",
        "f(x)\\doteq f(x_n)+f'(x_n)(x-x_n)\n",
        "$$\n",
        "\n",
        "\\\\\n",
        "\n",
        "$$\n",
        "f(x_{n+1})\\doteq 0 =f(x_n)+f'(x_n)(x_{n+1}-x_n)\n",
        "$$\n",
        "\n",
        "\\\\\n",
        "\n",
        "$$\n",
        "\\frac{-f(x_n)}{f'(x_n)}=x_{n+1}-x_n\n",
        "$$\n",
        "\n",
        "\\\\\n",
        "\n",
        "$$\n",
        "x_{x+1}=x_n-\\frac{f(x_n)}{f'(x_n)}\\qquad n=0,1,2,...\n",
        "$$\n",
        "\n",
        "\\\\\n",
        "\n",
        "Onde x_{n+1} é uma aproximação de $\\xi$\n",
        "\n",
        "$\\color{gray}{\\text{BARROSO (1983)}}$"
      ]
    },
    {
      "cell_type": "markdown",
      "metadata": {
        "id": "tiBiGromAGBO"
      },
      "source": [
        "#### $\\color{#00b6ff}{Programa}$"
      ]
    },
    {
      "cell_type": "code",
      "metadata": {
        "id": "4K3_rrFA_yvp",
        "cellView": "form"
      },
      "source": [
        "#@markdown > $\\color{gray}{\\text{newton(a, n=100, e=0.01)}}$\n",
        "def newton(a, n=100, e=0.01):\n",
        "    \n",
        "    df = lambda a, h=e:(f(a + h)-f(a-h))/(2*h)\n",
        "\n",
        "    for i in range(n):\n",
        "        x = a if i == 0 else x-f(x)/df(x)\n",
        "        error = abs(x-er)/x if i != 0 else 1; er = x\n",
        "        if error <= e:\n",
        "            break\n",
        "    \n",
        "    return x, i, error"
      ],
      "execution_count": null,
      "outputs": []
    },
    {
      "cell_type": "code",
      "metadata": {
        "colab": {
          "base_uri": "https://localhost:8080/",
          "height": 333
        },
        "id": "f2iLCcO8uDNK",
        "cellView": "form",
        "outputId": "752810dc-f078-4e6c-b88a-efd4560dbaf4"
      },
      "source": [
        "import numpy as np\n",
        "f = lambda x: np.exp(-x)+x/5-1 #@param\n",
        "\n",
        "RUM = True #@param {type:\"boolean\"}\n",
        "if RUM:\n",
        "    a =  3#@param {type:\"number\"}\n",
        "    error = 0.0001000001 #@param {type:\"slider\", min:1e-10, max:1e-1, step:0.0001}\n",
        "    loops = 30 #@param {type:\"slider\", min:1, max:100}\n",
        "    newto = newton(a, loops, error)\n",
        "    print(f'\\033[32mA raiz encontrada foi \\033[34m{newto[0]}\\033[')\n",
        "    print(f'\\033[32mO programa rodou \\033[34m{newto[1]}\\033[32m vezes\\033[')\n",
        "    print(f'\\033[32mA diferença dos intervalos é \\033[34m{newto[2]}\\033[')\n",
        "\n",
        "PLOTAR_GRAFICO = True #@param {type:\"boolean\"}\n",
        "if PLOTAR_GRAFICO:\n",
        "    b = a+a/2 if a >= 0 else a-a/2\n",
        "    import matplotlib.pyplot as plt\n",
        "    x = np.linspace(a-a/2, b+b/2)\n",
        "    y =  np.exp(-x)+x/5-1#@param\n",
        "    print()\n",
        "    plt.axhline(y=0, color=\"gray\", linestyle=\"-\")\n",
        "    plt.plot(x, y)\n",
        "    plt.plot(newton(a, loops, error)[0], 0, 'ro')\n",
        "    plt.show\n",
        "\n",
        "TESTE_VELOCIDADE = False #@param {type:\"boolean\"}\n",
        "if TESTE_VELOCIDADE:\n",
        "    %timeit newton(a, loops, error)"
      ],
      "execution_count": null,
      "outputs": [
        {
          "output_type": "stream",
          "name": "stdout",
          "text": [
            "\u001b[32mA raiz encontrada foi \u001b[34m4.965114231744277\u001b[\n",
            "\u001b[32mO programa rodou \u001b[34m4\u001b[32m vezes\u001b[\n",
            "\u001b[32mA diferença dos intervalos é \u001b[34m1.2932556795359997e-08\u001b[\n",
            "\n"
          ]
        },
        {
          "output_type": "display_data",
          "data": {
            "image/png": "[encoded data removed]",
            "text/plain": [
              "<Figure size 432x288 with 1 Axes>"
            ]
          },
          "metadata": {
            "needs_background": "light"
          }
        }
      ]
    },
    {
      "cell_type": "markdown",
      "metadata": {
        "id": "0s1G7JtMv7K8"
      },
      "source": [
        "### $\\color{#97a100}{\\text{Interação Linear}}$"
      ]
    },
    {
      "cell_type": "markdown",
      "metadata": {
        "id": "K_tOe8_6ouX1"
      },
      "source": [
        "#### $\\color{#00b6ff}{\\text{Descrição 3.8.1}}$"
      ]
    },
    {
      "cell_type": "markdown",
      "metadata": {
        "id": "u7M_cIYno2vY"
      },
      "source": [
        "Seja $f(x)$ uma função contínua no intervalo $[a, b]$ e $\\xi$ um número pertencente a este intervalo tal que $f(\\xi)=0$\n",
        "\n",
        "Por um artifício albébrico pode-se transformar $f(x)=0$ em $x=F(x)$\n",
        "Onde $F(x)$ é chamada a função de interação\n",
        "\n",
        "Sendo $x_0$ uma primeira aproximalçao de raiz $\\xi$, calcula-se $F(x_0)$. Faz-se então, $x_1=F(x_0);x_2=F(x_1);x_3=F(x_2)$ e assim sucessivamente, ou seja:\n",
        "\n",
        "\\\\\n",
        "\n",
        "$$\n",
        "x_{n+1} =F(x_n),\\qquad n=0, 1, 2, ...\n",
        "$$\n",
        "\n",
        "\\\\\n",
        "\n",
        "Se a sequencia $\\{x_0, x_1, x_2,...\\}$ é convergente, isto é, se existe\n",
        "\n",
        "\\\\\n",
        "\n",
        "$$\n",
        "\\lim_{n\\rightarrow\\infty}x_n=\\xi\\quad\\text{e}\\quad F(x)\\quad\\text{é contínua}\n",
        "$$\n",
        "\n",
        "\\\\\n",
        "\n",
        "$$\n",
        "\\lim_{n\\rightarrow\\infty}x_{n+1}=F(\\lim_{n\\rightarrow\\infty}x_n)\n",
        "$$\n",
        "\n",
        "\\\\\n",
        "\n",
        "$$\\xi=F(\\xi)$$\n",
        "\n",
        "\\\\\n",
        "\n",
        "Onde $\\xi$ é uma raiz de $f(\\xi)=0$.\n",
        "\n",
        "$\\color{gray}{\\text{BARROSO (1983)}}$"
      ]
    },
    {
      "cell_type": "markdown",
      "metadata": {
        "id": "QHCWwxY0AH49"
      },
      "source": [
        "#### $\\color{#00b6ff}{Programa}$"
      ]
    },
    {
      "cell_type": "code",
      "metadata": {
        "id": "SehRul_ntjyp"
      },
      "source": [
        "#@markdown > $\\color{gray}{\\text{in_linear(a, b, n=100, e=.01)}}$\n",
        "\n",
        "def in_linear(a, b, n=100, e=.01):\n",
        "    "
      ],
      "execution_count": null,
      "outputs": []
    },
    {
      "cell_type": "markdown",
      "metadata": {
        "id": "R2ocoPDh0t9h"
      },
      "source": [
        "# <center>$\\color{#ff6b00}{\\text{Contatos}}$<center>\n"
      ]
    },
    {
      "cell_type": "code",
      "metadata": {
        "colab": {
          "base_uri": "https://localhost:8080/",
          "height": 128
        },
        "id": "-BSy6gbmqMQG",
        "cellView": "form",
        "outputId": "7c8f70c8-5373-48ac-be56-9405b6fb4661"
      },
      "source": [
        "#@title\n",
        "\n",
        "%%html\n",
        "\n",
        "<table style=\"white-space: nowrap; width: 0px;\" border=\"0\" cellspacing=\"0\">\n",
        "  <tbody>\n",
        "    <tr>\n",
        "      <td style=\"vertical-align: 0px;\">\n",
        "        <img style=\"border-right: 3px solid #ff6b00; padding-right: 13px; height: 90px;\" src=\"https://i.pinimg.com/280x280_RS/79/42/c4/7942c414d01e7c8f8c179f905a5a86eb.jpg\"/></td>\n",
        "        <td style=\"white-space: nowrap; font-family: Helvetica, Arial; padding-left: 11px; font-size: 12px; vertical-align: middle; width: 560px;\">\n",
        "        <h1 style=\"white-space: nowrap; font-size: 14px; color: #ff6b00; line-height: 1; margin: 0 0 8px 0;\">\n",
        "          <b>CLEBSON DOS SANTOS MARQUES</b>\n",
        "        </h1>\n",
        "\n",
        "        <span style=\"color: #808080; data-contrast: none;\">\n",
        "          Estudante do Curso de Licenciatura em F&iacute;sica pela Universidade Estadual Vale do Acara&uacute;<br />\n",
        "        </span>\n",
        "        <span style=\"white-space: nowrap; font-size: 12px; color: #ff6b00; line-height: 1px; margin: 0 0 8px 0;\" data-contrast=\"none\">\n",
        "          <b>Tel.:</b>\n",
        "        </span>\n",
        "        <span style=\"color: #808080; data-contrast: none;\">(88) 9 9412 2413\n",
        "          <br /><a style=\"color: #808080; data-contrast: none; text-decoration: none;\" href=\"mailto:klebersantosy@gmail.com\">klebersantosy@gmail.com</a><br />\n",
        "          <a style=\"color: #808080; data-contrast: none; text-decoration: none;\" href=\"http://lattes.cnpq.br/9411163467458250\">http://lattes.cnpq.br/9411163467458250</a>\n",
        "        </span>\n",
        "\n",
        "        <div style=\"white-space: nowrap; margin-top: 8px;\">\n",
        "          <a style=\"white-space: nowrap; display: inline-block;\" href=\"https://api.whatsapp.com/send?phone=558894122413\">\n",
        "            <img style=\"white-space: nowrap; width: 20px; height: 20px;\" src=\"https://icon-library.com/images/icon-whatsapp-png/icon-whatsapp-png-2.jpg\" />\n",
        "          </a> <a style=\"white-space: nowrap; display: inline-block;\" href=\"https://t.me/clebson_marques\">\n",
        "            <img style=\"white-space: nowrap; width: 20px; height: 20px;\" src=\"https://www.freepnglogos.com/uploads/telegram-png/telegram-communications-icons-24.png\" />\n",
        "          </a> <a style=\"white-space: nowrap; display: inline-block;\" href=\"https://www.passeidireto.com/perfil/371127-klebson-marques/\">\n",
        "            <img style=\"white-space: nowrap; width: 20px; height: 20px;\" src=\"https://img.utdstc.com/icon/f63/09d/f6309d71c42e9f12c4aaf4800260f4c2ae9637ab4b148c381e8378e80ccce0e6:200\" />\n",
        "          </a> <a style=\"white-space: nowrap; display: inline-block;\" href=\"https://github.com/kleber293\">\n",
        "            <img style=\"white-space: nowrap; width: 26px; height: 20px; object-fit: cover;\" src=\"http://pngimg.com/uploads/github/github_PNG69.png\" /></a>\n",
        "        </div>\n",
        "      </td>\n",
        "    </tr>\n",
        "  </tbody>\n",
        "</table>"
      ],
      "execution_count": 3,
      "outputs": [
        {
          "output_type": "display_data",
          "data": {
            "text/html": [
              "\n",
              "<table style=\"white-space: nowrap; width: 0px;\" border=\"0\" cellspacing=\"0\">\n",
              "  <tbody>\n",
              "    <tr>\n",
              "      <td style=\"vertical-align: 0px;\">\n",
              "        <img style=\"border-right: 3px solid #ff6b00; padding-right: 13px; height: 90px;\" src=\"https://i.pinimg.com/280x280_RS/79/42/c4/7942c414d01e7c8f8c179f905a5a86eb.jpg\"/></td>\n",
              "        <td style=\"white-space: nowrap; font-family: Helvetica, Arial; padding-left: 11px; font-size: 12px; vertical-align: middle; width: 560px;\">\n",
              "        <h1 style=\"white-space: nowrap; font-size: 14px; color: #ff6b00; line-height: 1; margin: 0 0 8px 0;\">\n",
              "          <b>CLEBSON DOS SANTOS MARQUES</b>\n",
              "        </h1>\n",
              "\n",
              "        <span style=\"color: #808080; data-contrast: none;\">\n",
              "          Estudante do Curso de Licenciatura em F&iacute;sica pela Universidade Estadual Vale do Acara&uacute;<br />\n",
              "        </span>\n",
              "        <span style=\"white-space: nowrap; font-size: 12px; color: #ff6b00; line-height: 1px; margin: 0 0 8px 0;\" data-contrast=\"none\">\n",
              "          <b>Tel.:</b>\n",
              "        </span>\n",
              "        <span style=\"color: #808080; data-contrast: none;\">(88) 9 9412 2413\n",
              "          <br /><a style=\"color: #808080; data-contrast: none; text-decoration: none;\" href=\"mailto:klebersantosy@gmail.com\">klebersantosy@gmail.com</a><br />\n",
              "          <a style=\"color: #808080; data-contrast: none; text-decoration: none;\" href=\"http://lattes.cnpq.br/9411163467458250\">http://lattes.cnpq.br/9411163467458250</a>\n",
              "        </span>\n",
              "\n",
              "        <div style=\"white-space: nowrap; margin-top: 8px;\">\n",
              "          <a style=\"white-space: nowrap; display: inline-block;\" href=\"https://api.whatsapp.com/send?phone=558894122413\">\n",
              "            <img style=\"white-space: nowrap; width: 20px; height: 20px;\" src=\"https://icon-library.com/images/icon-whatsapp-png/icon-whatsapp-png-2.jpg\" />\n",
              "          </a> <a style=\"white-space: nowrap; display: inline-block;\" href=\"https://t.me/clebson_marques\">\n",
              "            <img style=\"white-space: nowrap; width: 20px; height: 20px;\" src=\"https://www.freepnglogos.com/uploads/telegram-png/telegram-communications-icons-24.png\" />\n",
              "          </a> <a style=\"white-space: nowrap; display: inline-block;\" href=\"https://www.passeidireto.com/perfil/371127-klebson-marques/\">\n",
              "            <img style=\"white-space: nowrap; width: 20px; height: 20px;\" src=\"https://img.utdstc.com/icon/f63/09d/f6309d71c42e9f12c4aaf4800260f4c2ae9637ab4b148c381e8378e80ccce0e6:200\" />\n",
              "          </a> <a style=\"white-space: nowrap; display: inline-block;\" href=\"https://github.com/kleber293\">\n",
              "            <img style=\"white-space: nowrap; width: 26px; height: 20px; object-fit: cover;\" src=\"http://pngimg.com/uploads/github/github_PNG69.png\" /></a>\n",
              "        </div>\n",
              "      </td>\n",
              "    </tr>\n",
              "  </tbody>\n",
              "</table>"
            ],
            "text/plain": [
              "<IPython.core.display.HTML object>"
            ]
          },
          "metadata": {}
        }
      ]
    }
  ]
}