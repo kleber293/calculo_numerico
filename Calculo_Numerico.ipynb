{
  "nbformat": 4,
  "nbformat_minor": 0,
  "metadata": {
    "colab": {
      "name": "Calculo_Numerico.ipynb",
      "provenance": [],
      "collapsed_sections": [],
      "authorship_tag": "ABX9TyMXfdnxJVTe5582LsbZBJ37",
      "include_colab_link": true
    },
    "kernelspec": {
      "name": "python3",
      "display_name": "Python 3"
    },
    "language_info": {
      "name": "python"
    }
  },
  "cells": [
    {
      "cell_type": "markdown",
      "metadata": {
        "id": "view-in-github",
        "colab_type": "text"
      },
      "source": [
        "<a href=\"https://colab.research.google.com/github/kleber293/calculo_numerico/blob/main/Calculo_Numerico.ipynb\" target=\"_parent\"><img src=\"https://colab.research.google.com/assets/colab-badge.svg\" alt=\"Open In Colab\"/></a>"
      ]
    },
    {
      "cell_type": "markdown",
      "metadata": {
        "id": "0okkjS6imtMS"
      },
      "source": [
        "<HR width=100% color=\"Turquoise\t\" align=left noshade>"
      ]
    },
    {
      "cell_type": "code",
      "metadata": {
        "id": "DJhQJGUxtjyL",
        "cellView": "form"
      },
      "source": [
        "#@markdown # Binário ⇆ Decimal\n",
        "def Convert_BxD(num, bin=False, dec=False):\n",
        "    \n",
        "    def saida(v1, b1, v2, b2):\n",
        "        print(f'(\\033[1;32m{v1}\\033[){b1}', end='')\n",
        "        print(' \\u27F6 ', end='')\n",
        "        print(f'(\\033[1;32m{v2}\\033[){b2}')\n",
        "\n",
        "    def dec_inteiro(val):\n",
        "        bn, bnr, val = list(), str(), int(val)\n",
        "        bn.append(val % 2)\n",
        "        while True:\n",
        "            d = val // 2\n",
        "            if d == 1 or d == 0:\n",
        "                bn.append(d)\n",
        "                break\n",
        "            bn.append(d % 2)\n",
        "            val = d\n",
        "        for x in reversed(bn):\n",
        "            bnr += str(x)\n",
        "        return bnr\n",
        "\n",
        "    conf = num\n",
        "    \n",
        "    if bin:\n",
        "        con = True\n",
        "        for v in str(num):\n",
        "            con *= v in '10.'\n",
        "        if bool(con):\n",
        "            if isinstance(num, float):\n",
        "                b, sm = str(num).find('.')-1, 0\n",
        "                for i in str(num).replace('.', ''):\n",
        "                    sm += int(i)*2**(b)\n",
        "                    b -= 1\n",
        "                saida(conf, '\\u2082', sm, '\\u2081\\u2080')\n",
        "            else:\n",
        "                c, s = 0, 0\n",
        "                for n in str(num):\n",
        "                    c += 1\n",
        "                    s += int(n)*2**(len(str(num))-c)\n",
        "                saida(conf, '\\u2082', s, '\\u2081\\u2080')\n",
        "        else: \n",
        "            print('\\033[1;31mO valor digitado não é um número Binário!\\033[m')\n",
        "\n",
        "    elif dec:\n",
        "        if isinstance(num, float):\n",
        "            bm, st = list(), str()\n",
        "            cm = 0 if int(num) == 0 else dec_inteiro(num)\n",
        "            while True:\n",
        "                if num > 1:\n",
        "                    num -= int(num)\n",
        "                num *= 2\n",
        "                bm.append(num)\n",
        "                if num % 1 == 0:\n",
        "                    break\n",
        "            for x in bm:\n",
        "                st += f'{str(int(x))}'\n",
        "            saida(conf, '\\u2081\\u2080', f'{cm}.{st}', '\\u2082')\n",
        "        else:\n",
        "            saida(conf,'\\u2081\\u2080', dec_inteiro(num), '\\u2082')"
      ],
      "execution_count": 35,
      "outputs": []
    },
    {
      "cell_type": "code",
      "metadata": {
        "id": "CKA5oT9it4a9",
        "cellView": "form",
        "colab": {
          "base_uri": "https://localhost:8080/"
        },
        "outputId": "68a95f23-f535-48e1-bcce-a4010e5b9b1b"
      },
      "source": [
        "#@markdown ### Convertendo um número **Binário** em **Decimal**\n",
        "Numero_Binario =  10111#@param\n",
        "Convert_BxD(Numero_Binario, bin=True)"
      ],
      "execution_count": 36,
      "outputs": [
        {
          "output_type": "stream",
          "name": "stdout",
          "text": [
            "(\u001b[1;32m10111\u001b[)₂ ⟶ (\u001b[1;32m23\u001b[)₁₀\n"
          ]
        }
      ]
    },
    {
      "cell_type": "code",
      "metadata": {
        "cellView": "form",
        "id": "yN69942r1Zds",
        "colab": {
          "base_uri": "https://localhost:8080/"
        },
        "outputId": "99ec85f2-5d10-43b5-eea3-556fa96a530f"
      },
      "source": [
        "#@markdown ### Convertendo um número **Decimal** em **Binário**\n",
        "Numero_Decimal =  13.25#@param\n",
        "Convert_BxD(Numero_Decimal, dec=True)"
      ],
      "execution_count": 37,
      "outputs": [
        {
          "output_type": "stream",
          "name": "stdout",
          "text": [
            "(\u001b[1;32m13.25\u001b[)₁₀ ⟶ (\u001b[1;32m1101.01\u001b[)₂\n"
          ]
        }
      ]
    },
    {
      "cell_type": "markdown",
      "metadata": {
        "id": "u2ACRTABnNin"
      },
      "source": [
        "<HR width=100% color=\"Turquoise\t\" align=left noshade>"
      ]
    },
    {
      "cell_type": "code",
      "metadata": {
        "id": "KgJgLGT6SfR6",
        "cellView": "form"
      },
      "source": [
        "#@markdown # Método de eliminação de Gauss ou Eliminação Gaussiana\n",
        "#@markdown > $\\color{gray}{\\text{Gauss triângulação }}$\n",
        "\n",
        "def eliminacao_gauss(hea):\n",
        "    import numpy as np\n",
        "    \n",
        "    arr = np.array(hea, copy=True)\n",
        "    \n",
        "    def max_diagonal(arr):\n",
        "        \n",
        "        def permutation(arr, shift, end):\n",
        "            arr = np.insert(arr, end, arr[shift], axis=0)\n",
        "            finale = shift + 1 if shift > end else shift \n",
        "            arr = np.delete(arr, finale, axis=0)\n",
        "            return arr \n",
        "\n",
        "        for i in range(len(arr)):\n",
        "            arr = permutation(\n",
        "                arr,\n",
        "                np.where(arr[i:, i] == max(arr[i:, i], key=abs))[0][0] + i,\n",
        "                i\n",
        "            )\n",
        "        return arr\n",
        "\n",
        "    arr = max_diagonal(arr)\n",
        "\n",
        "    for cm in range(len(arr[0])-2): # coluna da linha da matriz\n",
        "        for l in range(len(arr)-1-cm): # linha\n",
        "            for c in range(len(arr[0])): # coluna da linha\n",
        "                if not c:\n",
        "                    v1, v2 = arr[cm][cm], arr[l+cm+1][cm]\n",
        "\n",
        "                ms = v2*arr[cm][c] - v1*arr[l+cm+1][c]\n",
        "\n",
        "                arr[l+cm+1][c] = ms\n",
        "\n",
        "        arr = max_diagonal(arr)\n",
        "    return arr        "
      ],
      "execution_count": 38,
      "outputs": []
    },
    {
      "cell_type": "code",
      "metadata": {
        "id": "37rutuoUlahd",
        "cellView": "form"
      },
      "source": [
        "m1 = [[1, 1, 1, 1], [4, 4, 2, 2], [2, 1, -1, 0]] #@param"
      ],
      "execution_count": 78,
      "outputs": []
    },
    {
      "cell_type": "code",
      "metadata": {
        "cellView": "form",
        "id": "4-hMYMpcl4S6"
      },
      "source": [
        "#@markdown # Mostrando resultados de uma matriz triângular\n",
        "def resultado(arr):\n",
        "    '''Entre apenas com uma matriz triangular inferior'''\n",
        "    c, l = len(arr), len(arr[0])\n",
        "    \n",
        "    for x in range(1, len(arr)+1):\n",
        "        m1[len(m1)-x][len(m1)]/m1[len(m1)-1][len(m1)-x]\n",
        "\n",
        "    msg = f'M\\u1D40 = {_}'\n",
        "\n",
        "    return msg "
      ],
      "execution_count": 79,
      "outputs": []
    },
    {
      "cell_type": "code",
      "metadata": {
        "colab": {
          "base_uri": "https://localhost:8080/"
        },
        "id": "hh5SKoBpEY5-",
        "outputId": "80fca404-462b-4cb3-ce62-63ea590dd313"
      },
      "source": [
        "import numpy as np\n",
        "\n",
        "mm = np.array([[1, 2,  3,  4],[0, 5,  6,  7],[0, 0, 8, 9]])\n",
        "for i, k in zip(range(len(mm)), mm):\n",
        "    print(i, k)"
      ],
      "execution_count": 191,
      "outputs": [
        {
          "output_type": "stream",
          "name": "stdout",
          "text": [
            "0 [1 2 3 4]\n",
            "1 [0 5 6 7]\n",
            "2 [0 0 8 9]\n"
          ]
        }
      ]
    },
    {
      "cell_type": "code",
      "metadata": {
        "colab": {
          "base_uri": "https://localhost:8080/"
        },
        "id": "CAC-Sxwa1PUh",
        "outputId": "562ca89f-a063-465d-b99e-493786f196e0"
      },
      "source": [
        "print(len(mm)-1, len(mm[0])-1)"
      ],
      "execution_count": 192,
      "outputs": [
        {
          "output_type": "stream",
          "name": "stdout",
          "text": [
            "2 3\n"
          ]
        }
      ]
    },
    {
      "cell_type": "code",
      "metadata": {
        "colab": {
          "base_uri": "https://localhost:8080/"
        },
        "id": "3QjcV5fYk_va",
        "outputId": "6df43c35-c875-485a-fcca-148354aa3da7"
      },
      "source": [
        "mt = [mm[len(mm)-1][len(mm[0])-1]/mm.diagonal()[-1]]\n",
        "for x in range(len(mm)-1, -1, -1):\n",
        "    s = []; print(f\"\\033[35m{x}\\033[\")\n",
        "    for i in range(x+1, len(mm)):        \n",
        "        s.append(mm[x][i])\n",
        "    print(s)"
      ],
      "execution_count": 193,
      "outputs": [
        {
          "output_type": "stream",
          "name": "stdout",
          "text": [
            "\u001b[35m2\u001b[\n",
            "[]\n",
            "\u001b[35m1\u001b[\n",
            "[6]\n",
            "\u001b[35m0\u001b[\n",
            "[2, 3]\n"
          ]
        }
      ]
    },
    {
      "cell_type": "markdown",
      "metadata": {
        "id": "m1u7WhDBSxFg"
      },
      "source": [
        "<HR width=100% color=\"Turquoise\t\" align=left noshade>"
      ]
    },
    {
      "cell_type": "markdown",
      "metadata": {
        "id": "iNEaDHCmSh2P"
      },
      "source": [
        "# Método de eliminação de Gauss jordan\n",
        "\n",
        "> $\\color{gray}{\\text{método do pivotamento parcial}}$\n"
      ]
    },
    {
      "cell_type": "markdown",
      "metadata": {
        "id": "HbrRZFO6TllS"
      },
      "source": [
        "Exercício de texte:\n",
        "\n",
        "\\begin{bmatrix}\n",
        "2&3&1&-1&6.9\\\\\n",
        "-1&1&-4&1&-6.6\\\\\n",
        "1&1&1&1&10.2\\\\\n",
        "4&-5&1&-2&-12.3\n",
        "\\end{bmatrix}"
      ]
    },
    {
      "cell_type": "code",
      "metadata": {
        "colab": {
          "base_uri": "https://localhost:8080/"
        },
        "id": "muuk30as4uZ7",
        "outputId": "6da2576e-c4d1-4b56-a3c5-b1c6fbed4bbc"
      },
      "source": [
        "m2 = [[2, 3, 1, -1, 6.9],\n",
        "      [-1, 1, -4, 1, -6.6],\n",
        "      [1, 1, 1, 1, 10.2],\n",
        "      [4, -5, 1, -2, -12.3]]\n",
        "\n",
        "def gauss_jordan(hea):\n",
        "    import numpy as np\n",
        "    \n",
        "    arr = np.array(hea, copy=True)\n",
        "    \n",
        "    def max_diagonal(arr):\n",
        "        \n",
        "        def permutation(arr, shift, end):\n",
        "            arr = np.insert(arr, end, arr[shift], axis=0)\n",
        "            finale = shift + 1 if shift > end else shift \n",
        "            arr = np.delete(arr, finale, axis=0)\n",
        "            return arr \n",
        "\n",
        "        for i in range(len(arr)):\n",
        "            arr = permutation(\n",
        "                arr,\n",
        "                np.where(arr[i:, i] == max(arr[i:, i], key=abs))[0][0] + i,\n",
        "                i\n",
        "            )\n",
        "        return arr\n",
        "\n",
        "    arr = max_diagonal(arr)\n",
        "\n",
        "    for cm in range(len(arr[0])-2): # coluna da linha da matriz\n",
        "        for l in range(len(arr)-1-cm): # linha\n",
        "            for c in range(len(arr[0])): # coluna da linha\n",
        "                if not c:\n",
        "                    v1, v2 = arr[cm][cm], arr[l+cm+1][cm]\n",
        "\n",
        "                ms = v2*arr[cm][c] - v1*arr[l+cm+1][c]\n",
        "\n",
        "                arr[l+cm+1][c] = ms\n",
        "\n",
        "        arr = max_diagonal(arr)\n",
        "    return arr\n",
        "\n",
        "print(gauss_jordan(m2))"
      ],
      "execution_count": 46,
      "outputs": [
        {
          "output_type": "stream",
          "name": "stdout",
          "text": [
            "[[ 4.000000e+00 -5.000000e+00  1.000000e+00 -2.000000e+00 -1.230000e+01]\n",
            " [ 0.000000e+00 -2.200000e+01 -2.000000e+00  0.000000e+00 -5.220000e+01]\n",
            " [ 0.000000e+00  0.000000e+00  3.280000e+02 -4.400000e+01  7.992000e+02]\n",
            " [-0.000000e+00 -0.000000e+00  0.000000e+00  4.540800e+04  1.907136e+05]]\n"
          ]
        }
      ]
    },
    {
      "cell_type": "markdown",
      "metadata": {
        "id": "7jr4NM4XqDGO"
      },
      "source": [
        "<HR width=100% color=\"Turquoise\t\" align=left noshade>\n",
        "<p><h1><font color=\"Turquoise\">Contatos</font><h1></p>"
      ]
    },
    {
      "cell_type": "code",
      "metadata": {
        "colab": {
          "base_uri": "https://localhost:8080/",
          "height": 128
        },
        "id": "-BSy6gbmqMQG",
        "cellView": "form",
        "outputId": "554eb080-a221-49ae-a580-42703457399f"
      },
      "source": [
        "#@title\n",
        "%%html\n",
        "\n",
        "<table style=\"white-space: nowrap; width: 0px;\" border=\"0\" cellspacing=\"0\">\n",
        "  <tbody>\n",
        "    <tr>\n",
        "      <td style=\"vertical-align: 0px;\">\n",
        "        <img style=\"border-right: 3px solid #30D5C8; padding-right: 13px; height: 90px;\" src=\"https://i.pinimg.com/280x280_RS/79/42/c4/7942c414d01e7c8f8c179f905a5a86eb.jpg\"/></td>\n",
        "        <td style=\"white-space: nowrap; font-family: Helvetica, Arial; padding-left: 11px; font-size: 12px; vertical-align: middle; width: 560px;\">\n",
        "        <h1 style=\"white-space: nowrap; font-size: 14px; color: #30D5C8; line-height: 1; margin: 0 0 8px 0;\">\n",
        "          <b>CLEBSON DOS SANTOS MARQUES</b>\n",
        "        </h1>\n",
        "\n",
        "        <span style=\"color: #808080; data-contrast: none;\">\n",
        "          Estudante do Curso de Licenciatura em F&iacute;sica pela Universidade Estadual Vale do Acara&uacute;<br />\n",
        "        </span>\n",
        "        <span style=\"white-space: nowrap; font-size: 12px; color: #30D5C8; line-height: 1px; margin: 0 0 8px 0;\" data-contrast=\"none\">\n",
        "          <b>Tel.:</b>\n",
        "        </span>\n",
        "        <span style=\"color: #808080; data-contrast: none;\">(88) 9 9412 2413\n",
        "          <br /><a style=\"color: #808080; data-contrast: none; text-decoration: none;\" href=\"mailto:klebersantosy@gmail.com\">klebersantosy@gmail.com</a><br />\n",
        "          <a style=\"color: #808080; data-contrast: none; text-decoration: none;\" href=\"http://lattes.cnpq.br/9411163467458250\">http://lattes.cnpq.br/9411163467458250</a>\n",
        "        </span>\n",
        "\n",
        "        <div style=\"white-space: nowrap; margin-top: 8px;\">\n",
        "          <a style=\"white-space: nowrap; display: inline-block;\" href=\"https://api.whatsapp.com/send?phone=558894122413\">\n",
        "            <img style=\"white-space: nowrap; width: 20px; height: 20px;\" src=\"https://icon-library.com/images/icon-whatsapp-png/icon-whatsapp-png-2.jpg\" />\n",
        "          </a> <a style=\"white-space: nowrap; display: inline-block;\" href=\"https://t.me/clebson_marques\">\n",
        "            <img style=\"white-space: nowrap; width: 20px; height: 20px;\" src=\"https://www.freepnglogos.com/uploads/telegram-png/telegram-communications-icons-24.png\" />\n",
        "          </a> <a style=\"white-space: nowrap; display: inline-block;\" href=\"https://www.passeidireto.com/perfil/371127-klebson-marques/\">\n",
        "            <img style=\"white-space: nowrap; width: 20px; height: 20px;\" src=\"https://img.utdstc.com/icon/f63/09d/f6309d71c42e9f12c4aaf4800260f4c2ae9637ab4b148c381e8378e80ccce0e6:200\" />\n",
        "          </a> <a style=\"white-space: nowrap; display: inline-block;\" href=\"https://github.com/kleber293\">\n",
        "            <img style=\"white-space: nowrap; width: 20px; height: 20px;\" src=\"https://toppng.com/uploads/preview/octocat-filled-icon-github-icon-svg-11553443886f4krecogcv.png\" /></a>\n",
        "        </div>\n",
        "      </td>\n",
        "    </tr>\n",
        "  </tbody>\n",
        "</table>"
      ],
      "execution_count": 47,
      "outputs": [
        {
          "output_type": "display_data",
          "data": {
            "text/html": [
              "\n",
              "<table style=\"white-space: nowrap; width: 0px;\" border=\"0\" cellspacing=\"0\">\n",
              "  <tbody>\n",
              "    <tr>\n",
              "      <td style=\"vertical-align: 0px;\">\n",
              "        <img style=\"border-right: 3px solid #30D5C8; padding-right: 13px; height: 90px;\" src=\"https://i.pinimg.com/280x280_RS/79/42/c4/7942c414d01e7c8f8c179f905a5a86eb.jpg\"/></td>\n",
              "        <td style=\"white-space: nowrap; font-family: Helvetica, Arial; padding-left: 11px; font-size: 12px; vertical-align: middle; width: 560px;\">\n",
              "        <h1 style=\"white-space: nowrap; font-size: 14px; color: #30D5C8; line-height: 1; margin: 0 0 8px 0;\">\n",
              "          <b>CLEBSON DOS SANTOS MARQUES</b>\n",
              "        </h1>\n",
              "\n",
              "        <span style=\"color: #808080; data-contrast: none;\">\n",
              "          Estudante do Curso de Licenciatura em F&iacute;sica pela Universidade Estadual Vale do Acara&uacute;<br />\n",
              "        </span>\n",
              "        <span style=\"white-space: nowrap; font-size: 12px; color: #30D5C8; line-height: 1px; margin: 0 0 8px 0;\" data-contrast=\"none\">\n",
              "          <b>Tel.:</b>\n",
              "        </span>\n",
              "        <span style=\"color: #808080; data-contrast: none;\">(88) 9 9412 2413\n",
              "          <br /><a style=\"color: #808080; data-contrast: none; text-decoration: none;\" href=\"mailto:klebersantosy@gmail.com\">klebersantosy@gmail.com</a><br />\n",
              "          <a style=\"color: #808080; data-contrast: none; text-decoration: none;\" href=\"http://lattes.cnpq.br/9411163467458250\">http://lattes.cnpq.br/9411163467458250</a>\n",
              "        </span>\n",
              "\n",
              "        <div style=\"white-space: nowrap; margin-top: 8px;\">\n",
              "          <a style=\"white-space: nowrap; display: inline-block;\" href=\"https://api.whatsapp.com/send?phone=558894122413\">\n",
              "            <img style=\"white-space: nowrap; width: 20px; height: 20px;\" src=\"https://icon-library.com/images/icon-whatsapp-png/icon-whatsapp-png-2.jpg\" />\n",
              "          </a> <a style=\"white-space: nowrap; display: inline-block;\" href=\"https://t.me/clebson_marques\">\n",
              "            <img style=\"white-space: nowrap; width: 20px; height: 20px;\" src=\"https://www.freepnglogos.com/uploads/telegram-png/telegram-communications-icons-24.png\" />\n",
              "          </a> <a style=\"white-space: nowrap; display: inline-block;\" href=\"https://www.passeidireto.com/perfil/371127-klebson-marques/\">\n",
              "            <img style=\"white-space: nowrap; width: 20px; height: 20px;\" src=\"https://img.utdstc.com/icon/f63/09d/f6309d71c42e9f12c4aaf4800260f4c2ae9637ab4b148c381e8378e80ccce0e6:200\" />\n",
              "          </a> <a style=\"white-space: nowrap; display: inline-block;\" href=\"https://github.com/kleber293\">\n",
              "            <img style=\"white-space: nowrap; width: 20px; height: 20px;\" src=\"https://toppng.com/uploads/preview/octocat-filled-icon-github-icon-svg-11553443886f4krecogcv.png\" /></a>\n",
              "        </div>\n",
              "      </td>\n",
              "    </tr>\n",
              "  </tbody>\n",
              "</table>"
            ],
            "text/plain": [
              "<IPython.core.display.HTML object>"
            ]
          },
          "metadata": {}
        }
      ]
    }
  ]
}