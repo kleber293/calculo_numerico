{
  "nbformat": 4,
  "nbformat_minor": 0,
  "metadata": {
    "colab": {
      "name": "Calculo_Numerico.ipynb",
      "provenance": [],
      "collapsed_sections": [],
      "authorship_tag": "ABX9TyPUTj8rqA/s/v6UKD5aTuZm",
      "include_colab_link": true
    },
    "kernelspec": {
      "name": "python3",
      "display_name": "Python 3"
    },
    "language_info": {
      "name": "python"
    }
  },
  "cells": [
    {
      "cell_type": "markdown",
      "metadata": {
        "id": "view-in-github",
        "colab_type": "text"
      },
      "source": [
        "<a href=\"https://colab.research.google.com/github/kleber293/calculo_numerico/blob/main/Calculo_Numerico.ipynb\" target=\"_parent\"><img src=\"https://colab.research.google.com/assets/colab-badge.svg\" alt=\"Open In Colab\"/></a>"
      ]
    },
    {
      "cell_type": "markdown",
      "metadata": {
        "id": "0okkjS6imtMS"
      },
      "source": [
        "<HR width=100% color=\"Turquoise\t\" align=left noshade>"
      ]
    },
    {
      "cell_type": "code",
      "metadata": {
        "id": "DJhQJGUxtjyL",
        "cellView": "form"
      },
      "source": [
        "#@markdown # Binário ⇆ Decimal\n",
        "def Convert_BxD(num, bin=False, dec=False):\n",
        "    \n",
        "    def saida(v1, b1, v2, b2):\n",
        "        print(f'(\\033[1;32m{v1}\\033[){b1}', end='')\n",
        "        print(' \\u27F6 ', end='')\n",
        "        print(f'(\\033[1;32m{v2}\\033[){b2}')\n",
        "\n",
        "    def dec_inteiro(val):\n",
        "        bn, bnr, val = list(), str(), int(val)\n",
        "        bn.append(val % 2)\n",
        "        while True:\n",
        "            d = val // 2\n",
        "            if d == 1 or d == 0:\n",
        "                bn.append(d)\n",
        "                break\n",
        "            bn.append(d % 2)\n",
        "            val = d\n",
        "        for x in reversed(bn):\n",
        "            bnr += str(x)\n",
        "        return bnr\n",
        "\n",
        "    conf = num\n",
        "    \n",
        "    if bin:\n",
        "        con = True\n",
        "        for v in str(num):\n",
        "            con *= v in '10.'\n",
        "        if bool(con):\n",
        "            if isinstance(num, float):\n",
        "                b, sm = str(num).find('.')-1, 0\n",
        "                for i in str(num).replace('.', ''):\n",
        "                    sm += int(i)*2**(b)\n",
        "                    b -= 1\n",
        "                saida(conf, '\\u2082', sm, '\\u2081\\u2080')\n",
        "            else:\n",
        "                c, s = 0, 0\n",
        "                for n in str(num):\n",
        "                    c += 1\n",
        "                    s += int(n)*2**(len(str(num))-c)\n",
        "                saida(conf, '\\u2082', s, '\\u2081\\u2080')\n",
        "        else: \n",
        "            print('\\033[1;31mO valor digitado não é um número Binário!\\033[m')\n",
        "\n",
        "    elif dec:\n",
        "        if isinstance(num, float):\n",
        "            bm, st = list(), str()\n",
        "            cm = 0 if int(num) == 0 else dec_inteiro(num)\n",
        "            while True:\n",
        "                if num > 1:\n",
        "                    num -= int(num)\n",
        "                num *= 2\n",
        "                bm.append(num)\n",
        "                if num % 1 == 0:\n",
        "                    break\n",
        "            for x in bm:\n",
        "                st += f'{str(int(x))}'\n",
        "            saida(conf, '\\u2081\\u2080', f'{cm}.{st}', '\\u2082')\n",
        "        else:\n",
        "            saida(conf,'\\u2081\\u2080', dec_inteiro(num), '\\u2082')"
      ],
      "execution_count": null,
      "outputs": []
    },
    {
      "cell_type": "code",
      "metadata": {
        "colab": {
          "base_uri": "https://localhost:8080/"
        },
        "id": "CKA5oT9it4a9",
        "cellView": "form",
        "outputId": "83f20df3-02b1-44a9-858e-ed65a517a1b2"
      },
      "source": [
        "#@markdown ### Convertendo um número **Binário** em **Decimal**\n",
        "Numero_Binario =  10111#@param\n",
        "Convert_BxD(Numero_Binario, bin=True)"
      ],
      "execution_count": null,
      "outputs": [
        {
          "output_type": "stream",
          "name": "stdout",
          "text": [
            "(\u001b[1;32m10111\u001b[)₂ ⟶ (\u001b[1;32m23\u001b[)₁₀\n"
          ]
        }
      ]
    },
    {
      "cell_type": "code",
      "metadata": {
        "colab": {
          "base_uri": "https://localhost:8080/"
        },
        "cellView": "form",
        "id": "yN69942r1Zds",
        "outputId": "03051bb6-e275-46d2-da95-269d2f79d58a"
      },
      "source": [
        "#@markdown ### Convertendo um número **Decimal** em **Binário**\n",
        "Numero_Decimal =  13.25#@param\n",
        "Convert_BxD(Numero_Decimal, dec=True)"
      ],
      "execution_count": null,
      "outputs": [
        {
          "output_type": "stream",
          "name": "stdout",
          "text": [
            "(\u001b[1;32m13.25\u001b[)₁₀ ⟶ (\u001b[1;32m1101.01\u001b[)₂\n"
          ]
        }
      ]
    },
    {
      "cell_type": "markdown",
      "metadata": {
        "id": "u2ACRTABnNin"
      },
      "source": [
        "<HR width=100% color=\"Turquoise\t\" align=left noshade>"
      ]
    },
    {
      "cell_type": "markdown",
      "metadata": {
        "id": "Q4tLTbZbZIxx"
      },
      "source": [
        "# Método de eliminação de Gauss ou Eliminação Gaussiana\n",
        "\n",
        "> $\\color{gray}{\\text{Gauss triângulação }}$\n",
        "\n",
        "Base: [Aqui](https://www.ufrgs.br/reamat/CalculoNumerico/livro-sci/sdsl-eliminacao_gaussiana.html):"
      ]
    },
    {
      "cell_type": "markdown",
      "metadata": {
        "id": "UyzWy5bMafL4"
      },
      "source": [
        "Exercício de texte:\n",
        "\n",
        "\\begin{bmatrix}\n",
        "1&1&1&1\\\\\n",
        "4&4&2&2\\\\\n",
        "2&1&-1&0\n",
        "\\end{bmatrix}"
      ]
    },
    {
      "cell_type": "markdown",
      "metadata": {
        "id": "m1u7WhDBSxFg"
      },
      "source": [
        "<HR width=100% color=\"Turquoise\t\" align=left noshade>"
      ]
    },
    {
      "cell_type": "markdown",
      "metadata": {
        "id": "iNEaDHCmSh2P"
      },
      "source": [
        "# Método de eliminação de Gauss jordan\n",
        "\n",
        "> $\\color{gray}{\\text{método do pivotamento parcial}}$\n",
        "\n",
        "Base: [Aqui](https://www.ufrgs.br/reamat/CalculoNumerico/livro-sci/sdsl-eliminacao_gaussiana.html):"
      ]
    },
    {
      "cell_type": "markdown",
      "metadata": {
        "id": "HbrRZFO6TllS"
      },
      "source": [
        "Exercício de texte:\n",
        "\n",
        "\\begin{bmatrix}\n",
        "1&1&1&1\\\\\n",
        "4&4&2&2\\\\\n",
        "2&1&-1&0\n",
        "\\end{bmatrix}"
      ]
    },
    {
      "cell_type": "code",
      "metadata": {
        "id": "DeILhIq-O_TK"
      },
      "source": [
        "m = [[1, 1, 1, 1],\n",
        "     [4, 4, 2, 2],\n",
        "     [2, 1, -1, 0]]"
      ],
      "execution_count": 466,
      "outputs": []
    },
    {
      "cell_type": "code",
      "metadata": {
        "id": "KgJgLGT6SfR6"
      },
      "source": [
        "def pivotamento(hea):\n",
        "    import numpy as np\n",
        "    \n",
        "    arr = np.array(hea, copy=True)\n",
        "    \n",
        "    def max_diagonal(arr):\n",
        "        \n",
        "        def permutation(arr, shift, end):\n",
        "            arr = np.insert(arr, end, arr[shift], axis=0)\n",
        "            finale = shift + 1 if shift > end else shift \n",
        "            arr = np.delete(arr, finale, axis=0)\n",
        "            return arr \n",
        "\n",
        "        for i in range(len(arr)):\n",
        "            arr = permutation(\n",
        "                arr,\n",
        "                np.where(arr[i:, i] == max(arr[i:, i], key=abs))[0][0] + i,\n",
        "                i\n",
        "            )\n",
        "        return arr\n",
        "\n",
        "    arr = max_diagonal(arr)\n",
        "    \n",
        "    print(arr)"
      ],
      "execution_count": 471,
      "outputs": []
    },
    {
      "cell_type": "code",
      "metadata": {
        "colab": {
          "base_uri": "https://localhost:8080/"
        },
        "id": "Vy45p_oxOOGt",
        "outputId": "8b4edab1-1bb9-4dab-9c09-d7c57ae892da"
      },
      "source": [
        "print(m, '\\n')\n",
        "\n",
        "pivotamento(m)"
      ],
      "execution_count": 472,
      "outputs": [
        {
          "output_type": "stream",
          "name": "stdout",
          "text": [
            "[[1, 1, 1, 1], [4, 4, 2, 2], [2, 1, -1, 0]] \n",
            "\n",
            "[[ 4  4  2  2]\n",
            " [ 1  1  1  1]\n",
            " [ 2  1 -1  0]]\n"
          ]
        }
      ]
    }
  ]
}