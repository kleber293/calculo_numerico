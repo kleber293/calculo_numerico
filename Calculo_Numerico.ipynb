{
  "nbformat": 4,
  "nbformat_minor": 0,
  "metadata": {
    "colab": {
      "name": "Calculo_Numerico.ipynb",
      "provenance": [],
      "collapsed_sections": [],
      "authorship_tag": "ABX9TyPGGpi1OU7mjLbJZ1ni+BPV",
      "include_colab_link": true
    },
    "kernelspec": {
      "name": "python3",
      "display_name": "Python 3"
    },
    "language_info": {
      "name": "python"
    }
  },
  "cells": [
    {
      "cell_type": "markdown",
      "metadata": {
        "id": "view-in-github",
        "colab_type": "text"
      },
      "source": [
        "<a href=\"https://colab.research.google.com/github/kleber293/calculo_numerico/blob/main/Calculo_Numerico.ipynb\" target=\"_parent\"><img src=\"https://colab.research.google.com/assets/colab-badge.svg\" alt=\"Open In Colab\"/></a>"
      ]
    },
    {
      "cell_type": "markdown",
      "metadata": {
        "id": "0okkjS6imtMS"
      },
      "source": [
        "# $\\color{Turquoise}{Conversões}$\n",
        "<HR width=100% color=\"Turquoise\t\" align=left noshade>"
      ]
    },
    {
      "cell_type": "code",
      "metadata": {
        "colab": {
          "base_uri": "https://localhost:8080/",
          "height": 354
        },
        "cellView": "form",
        "id": "th9OS5ICtJVU",
        "outputId": "5815ef7d-c3d6-443f-98d5-4ebc1f26e70c"
      },
      "source": [
        "#@markdown # $\\color{turquoise}{\\text{Vídeo de apresentação}}$\n",
        "#@markdown > $\\color{gray}{\\text{Este vídeo apresenta a função e as suas funcionalidades}}$\n",
        "from IPython.display import YouTubeVideo\n",
        "YouTubeVideo('HBa5ATDFg04', width=500, height=333)"
      ],
      "execution_count": null,
      "outputs": [
        {
          "output_type": "execute_result",
          "data": {
            "text/html": [
              "\n",
              "        <iframe\n",
              "            width=\"500\"\n",
              "            height=\"333\"\n",
              "            src=\"https://www.youtube.com/embed/HBa5ATDFg04\"\n",
              "            frameborder=\"0\"\n",
              "            allowfullscreen\n",
              "        ></iframe>\n",
              "        "
            ],
            "text/plain": [
              "<IPython.lib.display.YouTubeVideo at 0x7f66fa7afed0>"
            ],
            "image/jpeg": "[encoded data removed]"
          },
          "metadata": {},
          "execution_count": 3
        }
      ]
    },
    {
      "cell_type": "code",
      "metadata": {
        "id": "DJhQJGUxtjyL",
        "cellView": "form"
      },
      "source": [
        "#@markdown # $\\color{Turquoise}{\\text{Binário ⇆ Decimal}}$\n",
        "#@markdown > $\\color{gray}{\\text{convert_bxd}}$\n",
        "def convert_bxd(num, bin=False, dec=False):\n",
        "    \n",
        "    def saida(v1, b1, v2, b2):\n",
        "        print(f'(\\033[1;32m{v1}\\033[){b1}', end='')\n",
        "        print(' \\u27F6 ', end='')\n",
        "        print(f'(\\033[1;32m{v2}\\033[){b2}')\n",
        "\n",
        "    def dec_inteiro(val):\n",
        "        bn, bnr, val = list(), str(), int(val)\n",
        "        bn.append(val % 2)\n",
        "        while True:\n",
        "            d = val // 2\n",
        "            if d == 1 or d == 0:\n",
        "                bn.append(d)\n",
        "                break\n",
        "            bn.append(d % 2)\n",
        "            val = d\n",
        "        for x in reversed(bn):\n",
        "            bnr += str(x)\n",
        "        return bnr\n",
        "\n",
        "    conf = num\n",
        "    \n",
        "    if bin:\n",
        "        con = True\n",
        "        for v in str(num):\n",
        "            con *= v in '10.'\n",
        "        if bool(con):\n",
        "            if isinstance(num, float):\n",
        "                b, sm = str(num).find('.')-1, 0\n",
        "                for i in str(num).replace('.', ''):\n",
        "                    sm += int(i)*2**(b)\n",
        "                    b -= 1\n",
        "                saida(conf, '\\u2082', sm, '\\u2081\\u2080')\n",
        "            else:\n",
        "                c, s = 0, 0\n",
        "                for n in str(num):\n",
        "                    c += 1\n",
        "                    s += int(n)*2**(len(str(num))-c)\n",
        "                saida(conf, '\\u2082', s, '\\u2081\\u2080')\n",
        "        else: \n",
        "            print('\\033[1;31mO valor digitado não é um número Binário!\\033[m')\n",
        "\n",
        "    elif dec:\n",
        "        if isinstance(num, float):\n",
        "            bm, st = list(), str()\n",
        "            cm = 0 if int(num) == 0 else dec_inteiro(num)\n",
        "            while True:\n",
        "                if num > 1:\n",
        "                    num -= int(num)\n",
        "                num *= 2\n",
        "                bm.append(num)\n",
        "                if num % 1 == 0:\n",
        "                    break\n",
        "            for x in bm:\n",
        "                st += f'{str(int(x))}'\n",
        "            saida(conf, '\\u2081\\u2080', f'{cm}.{st}', '\\u2082')\n",
        "        else:\n",
        "            saida(conf,'\\u2081\\u2080', dec_inteiro(num), '\\u2082')"
      ],
      "execution_count": null,
      "outputs": []
    },
    {
      "cell_type": "code",
      "metadata": {
        "id": "CKA5oT9it4a9",
        "colab": {
          "base_uri": "https://localhost:8080/"
        },
        "cellView": "form",
        "outputId": "c49bcb0b-b58f-45e8-c5dd-dce02e2255a1"
      },
      "source": [
        "#@markdown ### Convertendo um número **Binário** em **Decimal**\n",
        "Numero_Binario =  10111#@param\n",
        "convert_bxd(Numero_Binario, bin=True)"
      ],
      "execution_count": null,
      "outputs": [
        {
          "output_type": "stream",
          "name": "stdout",
          "text": [
            "(\u001b[1;32m10111\u001b[)₂ ⟶ (\u001b[1;32m23\u001b[)₁₀\n"
          ]
        }
      ]
    },
    {
      "cell_type": "code",
      "metadata": {
        "id": "yN69942r1Zds",
        "colab": {
          "base_uri": "https://localhost:8080/"
        },
        "cellView": "form",
        "outputId": "c827df00-8565-4170-a722-c023d530e913"
      },
      "source": [
        "#@markdown ### Convertendo um número **Decimal** em **Binário**\n",
        "Numero_Decimal =  13.25#@param\n",
        "convert_bxd(Numero_Decimal, dec=True)"
      ],
      "execution_count": null,
      "outputs": [
        {
          "output_type": "stream",
          "name": "stdout",
          "text": [
            "(\u001b[1;32m13.25\u001b[)₁₀ ⟶ (\u001b[1;32m1101.01\u001b[)₂\n"
          ]
        }
      ]
    },
    {
      "cell_type": "markdown",
      "metadata": {
        "id": "u2ACRTABnNin"
      },
      "source": [
        "# $\\color{Turquoise}{\\text{Métodos Exatos}}$\n",
        "<HR width=100% color=\"Turquoise\t\" align=left noshade>"
      ]
    },
    {
      "cell_type": "code",
      "metadata": {
        "id": "KgJgLGT6SfR6",
        "cellView": "form"
      },
      "source": [
        "#@markdown # $\\color{Turquoise}{\\text{Método de Gauss}}$\n",
        "#@markdown > $\\color{gray}{\\text{eliminacao_gauss(hea)}}$\n",
        "\n",
        "def eliminacao_gauss(hea):\n",
        "    import numpy as np\n",
        "    \n",
        "    arr = np.array(hea, dtype=np.float64, copy=True)\n",
        "    \n",
        "    def max_diagonal(arr):\n",
        "        \n",
        "        def permutation(arr, shift, end):\n",
        "            arr = np.insert(arr, end, arr[shift], axis=0)\n",
        "            finale = shift + 1 if shift > end else shift \n",
        "            arr = np.delete(arr, finale, axis=0)\n",
        "            return arr \n",
        "\n",
        "        for i in range(len(arr)):\n",
        "            arr = permutation(\n",
        "                arr,\n",
        "                np.where(arr[i:, i] == max(arr[i:, i], key=abs))[0][0] + i,\n",
        "                i\n",
        "            )\n",
        "        return arr\n",
        "\n",
        "    arr = max_diagonal(arr)\n",
        "\n",
        "    for cm in range(len(arr[0])-2): # coluna da linha da matriz\n",
        "        for l, k in zip(range(cm, len(arr)-1), range(len(arr))): # linha\n",
        "            for c in range(len(arr[0])): # coluna da linha\n",
        "                if not c:\n",
        "                    v1, v2 = arr[cm][cm], arr[cm+k+1][cm]\n",
        "                arr[cm+k+1][c] = v1*arr[cm+k+1][c]-v2*arr[cm][c]\n",
        "        arr = max_diagonal(arr)\n",
        "\n",
        "    return arr        "
      ],
      "execution_count": null,
      "outputs": []
    },
    {
      "cell_type": "code",
      "metadata": {
        "colab": {
          "base_uri": "https://localhost:8080/"
        },
        "id": "8ZSab6ZEJfKR",
        "cellView": "form",
        "outputId": "b300948d-410e-4b41-9fb5-e745fc050aec"
      },
      "source": [
        "matriz_gauss =  [[1, 0.9, 0.8, 0.4, 0.1, 0, 1], [0.9, 1, 0.8, 0.5, 0.2, 0.1, 0.9], [0.8, 0.8, 1, 0.7, 0.4, 0.2, 0.8], [0.4, 0.5, 0.7, 1, 0.6, 0.3, 0.7], [0.1, 0.2, 0.4, 0.6, 1, 0.5, 0.6], [0, 0.1, 0.2, 0.3, 0.5, 1, 0.5]]#@param\n",
        "#@markdown > $\\color{gray}{\\text{matriz = eliminacao_gauss(matriz_gauss)}}$\n",
        "matriz = eliminacao_gauss(matriz_gauss)\n",
        "print(f'\\033[32m{matriz}'); print()\n",
        "testar_velocidade = True #@param {type:\"boolean\"}\n",
        "if testar_velocidade:\n",
        "    %timeit eliminacao_gauss(matriz_gauss)"
      ],
      "execution_count": null,
      "outputs": [
        {
          "output_type": "stream",
          "name": "stdout",
          "text": [
            "\u001b[32m[[1.00000000e+00 9.00000000e-01 8.00000000e-01 4.00000000e-01\n",
            "  1.00000000e-01 0.00000000e+00 1.00000000e+00]\n",
            " [0.00000000e+00 1.90000000e-01 8.00000000e-02 1.40000000e-01\n",
            "  1.10000000e-01 1.00000000e-01 0.00000000e+00]\n",
            " [0.00000000e+00 0.00000000e+00 6.20000000e-02 6.10000000e-02\n",
            "  5.20000000e-02 3.00000000e-02 0.00000000e+00]\n",
            " [0.00000000e+00 0.00000000e+00 0.00000000e+00 4.95900000e-03\n",
            "  2.47000000e-03 8.36000000e-04 3.53400000e-03]\n",
            " [0.00000000e+00 0.00000000e+00 0.00000000e+00 0.00000000e+00\n",
            "  3.46025720e-05 1.60255120e-05 2.04795300e-05]\n",
            " [0.00000000e+00 0.00000000e+00 0.00000000e+00 0.00000000e+00\n",
            "  0.00000000e+00 1.47955539e-09 5.80263947e-10]]\n",
            "\n",
            "1000 loops, best of 5: 1.72 ms per loop\n"
          ]
        }
      ]
    },
    {
      "cell_type": "markdown",
      "metadata": {
        "id": "AiFmztPNJDwj"
      },
      "source": [
        "# <HR width=100% color=\"Turquoise\t\" align=left noshade>"
      ]
    },
    {
      "cell_type": "code",
      "metadata": {
        "id": "4-hMYMpcl4S6",
        "cellView": "form"
      },
      "source": [
        "#@markdown # $\\color{Turquoise}{\\text{Matriz resultado do Método de Gauss}}$\n",
        "#@markdown > $\\color{gray}{\\text{resultados(hea)}}$\n",
        "\n",
        "def resultado(hea):\n",
        "    '''Entre apenas com uma matriz triangular inferior'''\n",
        "    import numpy as np\n",
        "    \n",
        "    arr = np.array(hea, dtype=np.float64, copy=True); mt = []\n",
        "    for x in reversed(range(len(arr))):\n",
        "        n = 0; s = []\n",
        "        for i, k in zip(range(x+1, len(arr)), range(1, len(arr))):\n",
        "            s.append(arr[x][i])\n",
        "            n += s[k-1]*mt[k-1]\n",
        "\n",
        "        mt.insert(0, (arr[x][len(arr)]-n)/arr.diagonal()[x])\n",
        "\n",
        "    return mt"
      ],
      "execution_count": null,
      "outputs": []
    },
    {
      "cell_type": "code",
      "metadata": {
        "colab": {
          "base_uri": "https://localhost:8080/"
        },
        "id": "zeiJmNBSKGNB",
        "cellView": "form",
        "outputId": "7dbceeaf-9e0e-4967-90b7-e7713121eaf7"
      },
      "source": [
        "matriz_resultados =  matriz#@param\n",
        "#@markdown > $\\color{gray}{\\text{resultado(matriz_resultados)}}$\n",
        "print(f'\\033[32mM = {resultado(matriz_resultados)}\\u1D40'); print()\n",
        "testar_velocidade = True #@param {type:\"boolean\"}\n",
        "if testar_velocidade:\n",
        "    %timeit resultado(matriz_resultados)"
      ],
      "execution_count": null,
      "outputs": [
        {
          "output_type": "stream",
          "name": "stdout",
          "text": [
            "\u001b[32mM = [1.8828207847295868, -0.36178861788617905, -0.9688936019794984, 0.44220572640509, 0.41021562389536975, 0.3921880523153058]ᵀ\n",
            "\n",
            "10000 loops, best of 5: 33.2 µs per loop\n"
          ]
        }
      ]
    },
    {
      "cell_type": "markdown",
      "metadata": {
        "id": "m1u7WhDBSxFg"
      },
      "source": [
        "# <HR width=100% color=\"Turquoise\t\" align=left noshade>"
      ]
    },
    {
      "cell_type": "code",
      "metadata": {
        "id": "muuk30as4uZ7",
        "cellView": "form"
      },
      "source": [
        "#@markdown # $\\color{Turquoise}{\\text{Método de Gauss Jordan}}$\n",
        "#@markdown > $\\color{gray}{\\text{gauss_jordan(hea)}}$\n",
        "\n",
        "def gauss_jordan(hea):\n",
        "\n",
        "    import numpy as np\n",
        "\n",
        "    def simple(arr):\n",
        "        diag = arr.diagonal()\n",
        "        for i, x in zip(range(len(diag)), diag):\n",
        "            arr[i] = arr[i]/x\n",
        "        return arr\n",
        "\n",
        "    arr = np.array(hea, dtype=np.float64,  copy=True)\n",
        "\n",
        "    for _ in range(2): \n",
        "        bl = []\n",
        "        for i, k in zip(arr, range(len(arr))):\n",
        "            if not k-1 < 0:\n",
        "                bl.append([i[x] for x in range(k)])\n",
        "        bl = np.hstack(bl)\n",
        "\n",
        "        if len(np.where(bl > 0)[0]) != 0:\n",
        "            arr = eliminacao_gauss(arr)\n",
        "        else:\n",
        "            break\n",
        "\n",
        "    for cm in reversed(range(1, len(arr[0])-1)): # coluna da linha da matriz\n",
        "        for l, k in zip(reversed(range(cm)), range(1, len(arr))): # linha\n",
        "            for c in range(len(arr[0])): # coluna da linha\n",
        "                if not c:\n",
        "                    v1, v2 = arr[cm][cm], arr[cm-k][cm]\n",
        "\n",
        "                arr[cm-k][c] = v1*arr[cm-k][c]-v2*arr[cm][c]\n",
        "            simple(arr)\n",
        "    return arr"
      ],
      "execution_count": null,
      "outputs": []
    },
    {
      "cell_type": "code",
      "metadata": {
        "colab": {
          "base_uri": "https://localhost:8080/"
        },
        "id": "oD5DwgUj4zrq",
        "cellView": "form",
        "outputId": "b1b8c55c-9b97-45d6-c2fc-0e5ea9741d2c"
      },
      "source": [
        "matriz_gauss_jordan = [[1, 0.9, 0.8, 0.4, 0.1, 0, 1], [0.9, 1, 0.8, 0.5, 0.2, 0.1, 0.9], [0.8, 0.8, 1, 0.7, 0.4, 0.2, 0.8], [0.4, 0.5, 0.7, 1, 0.6, 0.3, 0.7], [0.1, 0.2, 0.4, 0.6, 1, 0.5, 0.6], [0, 0.1, 0.2, 0.3, 0.5, 1, 0.5]]#@param\n",
        "#@markdown > $\\color{gray}{\\text{gauss_jordan(matriz_gauss_jordan)}}$\n",
        "arr = gauss_jordan(matriz_gauss_jordan)\n",
        "print(f'\\033[32m{arr}'); print()\n",
        "testar_velocidade = True #@param {type:\"boolean\"}\n",
        "if testar_velocidade:\n",
        "    %timeit gauss_jordan(matriz_gauss_jordan)"
      ],
      "execution_count": null,
      "outputs": [
        {
          "output_type": "stream",
          "name": "stdout",
          "text": [
            "\u001b[32m[[ 1.          0.          0.          0.          0.          0.\n",
            "   1.88282078]\n",
            " [ 0.          1.          0.          0.          0.          0.\n",
            "  -0.36178862]\n",
            " [ 0.          0.          1.          0.          0.          0.\n",
            "  -0.9688936 ]\n",
            " [ 0.          0.          0.          1.          0.          0.\n",
            "   0.44220573]\n",
            " [ 0.          0.          0.          0.          1.          0.\n",
            "   0.41021562]\n",
            " [ 0.          0.          0.          0.          0.          1.\n",
            "   0.39218805]]\n",
            "\n",
            "100 loops, best of 5: 2.22 ms per loop\n"
          ]
        }
      ]
    },
    {
      "cell_type": "markdown",
      "metadata": {
        "id": "7jr4NM4XqDGO"
      },
      "source": [
        "# $\\color{Turquoise}{Métodos Abertos}$\n",
        "<HR width=100% color=\"Turquoise\t\" align=left noshade>"
      ]
    },
    {
      "cell_type": "code",
      "metadata": {
        "colab": {
          "base_uri": "https://localhost:8080/",
          "height": 354
        },
        "cellView": "form",
        "id": "EojqQ0QXvYyj",
        "outputId": "71d2933b-70f8-4ef0-940d-38ca674d007d"
      },
      "source": [
        "#@markdown # $\\color{turquoise}{\\text{Vídeo de apresentação}}$\n",
        "#@markdown > $\\color{gray}{\\text{Este vídeo apresenta a função e as suas funcionalidades}}$\n",
        "from IPython.display import YouTubeVideo\n",
        "YouTubeVideo('0X4c8f73pQQ', width=500, height=333)"
      ],
      "execution_count": null,
      "outputs": [
        {
          "output_type": "execute_result",
          "data": {
            "text/html": [
              "\n",
              "        <iframe\n",
              "            width=\"500\"\n",
              "            height=\"333\"\n",
              "            src=\"https://www.youtube.com/embed/0X4c8f73pQQ\"\n",
              "            frameborder=\"0\"\n",
              "            allowfullscreen\n",
              "        ></iframe>\n",
              "        "
            ],
            "text/plain": [
              "<IPython.lib.display.YouTubeVideo at 0x7f66fa3568d0>"
            ],
            "image/jpeg": "[encoded data removed]"
          },
          "metadata": {},
          "execution_count": 4
        }
      ]
    },
    {
      "cell_type": "markdown",
      "metadata": {
        "id": "piA1ykK0jtNT"
      },
      "source": [
        "#### $\\color{Turquoise}{\\text{O processo interativo}}$\n",
        "#### $$\\color{#7FFFD4}{x^{(k+1)}=Bx^{(k)}+d}$$\n",
        "#### $\\color{Turquoise}{\\text{Converge para a solução }}$$\\color{#00FFFF}{\\text{se e somente se}}$\n",
        "#### $$\\color{#7FFFD4}{max\\{|\\lambda_i|\\}<1,\\qquad\\lambda_i\\:\\text{autovalores de}\\:B}$$\n",
        "\n",
        "###### $\\color{gray}{Fonte:}$ [Aqui](https://youtu.be/0KhoP01Ir9g)"
      ]
    },
    {
      "cell_type": "code",
      "metadata": {
        "id": "24FTYomyiSuZ",
        "cellView": "form"
      },
      "source": [
        "#@markdown # $\\color{Turquoise}{\\text{Critérios de convergência}}$\n",
        "#@markdown > $\\color{gray}{\\text{convergencia(arr)}}$\n",
        "\n",
        "def convergencia(arr):\n",
        "    \"\"\"\n",
        "        Retorna uma str afirmando ou negando se a matriz converge\n",
        "    \"\"\"\n",
        "    \n",
        "    def interacao(arr):\n",
        "        \"\"\"\n",
        "            Retorna uma matriz quadrada gerada pelo processo de interação \n",
        "        \"\"\"\n",
        "        arr = np.array(arr, dtype=np.float64, copy=True)\n",
        "\n",
        "        if len(arr[0]) == len(arr)+1:\n",
        "            arr = np.delete(arr, -1, 1)\n",
        "\n",
        "        for j in range(len(arr)): # colunas\n",
        "            for i in range(len(arr[0])): #linhas\n",
        "                if j != i:\n",
        "                    arr[j][i] = -1*arr[j][i]/arr.diagonal()[j]\n",
        "            arr[j][j] = 0\n",
        "        return arr\n",
        "\n",
        "    # ---------------\n",
        "    \n",
        "    import numpy as np\n",
        "\n",
        "    arr = np.array(arr, dtype=np.float64, copy=True)\n",
        "    arr = interacao(arr)\n",
        "    \n",
        "    if len(arr[0]) == len(arr):\n",
        "        auto_v = np.linalg.eigvals(arr)\n",
        "        \n",
        "        if np.max(abs(auto_v)) < 1:\n",
        "            msg = '\\033[32mA matriz converge\\033[' # mensagem em verde\n",
        "        else:\n",
        "            msg = '\\033[31mA matriz diverge\\033[' # mensagem em vermelho\n",
        "    else:\n",
        "        msg = f'\\033[31mErro! M[{len(arr[0])}][{len(arr)}]\\033[' # mensagem de erro em vermelho\n",
        "\n",
        "    return f'{msg}\\n{abs(auto_v)}'\n",
        "\n",
        "# convergencia([[15, 5, -5, 30], [4, -20, 1, 23], [2, -2, 8, -10]])\n",
        "# convergencia([[3, 4, -2, 13], [-1, 3, 5, 0], [-4, 4, 2, 2]])"
      ],
      "execution_count": null,
      "outputs": []
    },
    {
      "cell_type": "code",
      "metadata": {
        "colab": {
          "base_uri": "https://localhost:8080/"
        },
        "cellView": "form",
        "id": "v3iZQDTdbyYw",
        "outputId": "34a54729-c567-46d8-c179-7c992bc9a9c1"
      },
      "source": [
        "Matriz_1 = True #@param {type:\"boolean\"}\n",
        "if Matriz_1:\n",
        "    Matriz_01 = [[15, 5, -5, 30], [4, -20, 1, 23], [2, -2, 8, -10]] #@param\n",
        "    print(convergencia(Matriz_01))\n",
        "Matriz_2 = False #@param {type:\"boolean\"}\n",
        "if Matriz_2:\n",
        "    Matriz_02 =  [[1, 0.9, 0.8, 0.4, 0.1, 0, 1], [0.9, 1, 0.8, 0.5, 0.2, 0.1, 0.9], [0.8, 0.8, 1, 0.7, 0.4, 0.2, 0.8], [0.4, 0.5, 0.7, 1, 0.6, 0.3, 0.7], [0.1, 0.2, 0.4, 0.6, 1, 0.5, 0.6], [0, 0.1, 0.2, 0.3, 0.5, 1, 0.5]]#@param\n",
        "    print(convergencia(Matriz_02))"
      ],
      "execution_count": null,
      "outputs": [
        {
          "output_type": "stream",
          "name": "stdout",
          "text": [
            "\u001b[32mA matriz converge\u001b[\n",
            "[0.39428305 0.39428305 0.13401165]\n"
          ]
        }
      ]
    },
    {
      "cell_type": "markdown",
      "metadata": {
        "id": "MBvipitciSJC"
      },
      "source": [
        "# <HR width=100% color=\"Turquoise\t\" align=left noshade>"
      ]
    },
    {
      "cell_type": "code",
      "metadata": {
        "id": "yaxfm3_s9Jw_",
        "cellView": "form"
      },
      "source": [
        "#@markdown # $\\color{Turquoise}{\\text{Método de Jacobi}}$\n",
        "#@markdown > $\\color{gray}{\\text{m_jacobi(hea, ci=[0, 0, 0], ni=10, tc=2, trc=False, permu=True)}}$\n",
        "\n",
        "def m_jacobi(hea, ci=[0, 0, 0], ni=10, tc=2, trc=False, permu=True):\n",
        "\n",
        "    import numpy as np\n",
        "\n",
        "    def trunc(arr1, arr2, tr=2):\n",
        "        '''\n",
        "            Retorna um booleano se arr1 == arr2, para o descimal definido\n",
        "        '''\n",
        "\n",
        "        def truncv(values, decs=0):\n",
        "            values = np.array(values)\n",
        "            return np.trunc(values*10**decs)/(10**decs)\n",
        "\n",
        "        arr1, arr2 = truncv(arr1, decs=tr), truncv(arr2, decs=tr)\n",
        "\n",
        "        comp = np.all([arr1==arr2, [True for _ in range(len(arr1))]]) \n",
        "        return comp\n",
        "\n",
        "    def v(arr, cond, line=0):\n",
        "        '''\n",
        "            Retorna uma matriz solução\n",
        "        '''\n",
        "        \n",
        "        def max_diagonal(arr):\n",
        "                \n",
        "            def permutation(arr, shift, end):\n",
        "                arr = np.insert(arr, end, arr[shift], axis=0)\n",
        "                finale = shift + 1 if shift > end else shift \n",
        "                arr = np.delete(arr, finale, axis=0)\n",
        "                return arr \n",
        "\n",
        "            for i in range(len(arr)):\n",
        "                arr = permutation(\n",
        "                    arr,\n",
        "                    np.where(arr[i:, i] == max(arr[i:, i], key=abs))[0][0] + i,\n",
        "                    i\n",
        "                )\n",
        "            return arr\n",
        "        if permu:\n",
        "            arr = max_diagonal(arr)\n",
        "\n",
        "        n, rs = [arr[line][-1]], 0\n",
        "        n.append(\n",
        "            [x*i for x, i, c in zip(arr[line], cond, range(len(arr[0])))\n",
        "            if c != line]\n",
        "        )\n",
        "        for k in n[1]:\n",
        "            rs += k\n",
        "        x = (n[0]-rs)/arr[line][line]\n",
        "\n",
        "        return x\n",
        "\n",
        "    \n",
        "    ci = [ci]; arr = np.array(hea, dtype=np.float64, copy=True)\n",
        "\n",
        "    for j in range(ni):\n",
        "        ci.append([])\n",
        "        for i in range(len(arr)):\n",
        "            ci[j+1].append(v(arr, ci[j], line=i))\n",
        "        \n",
        "        if trc:\n",
        "            if trunc(ci[j], ci[j+1], tr=tc):\n",
        "                break\n",
        "    \n",
        "    return ci"
      ],
      "execution_count": null,
      "outputs": []
    },
    {
      "cell_type": "code",
      "metadata": {
        "colab": {
          "base_uri": "https://localhost:8080/"
        },
        "id": "ICUBvDaN-wtu",
        "cellView": "form",
        "outputId": "ae08a0d5-84bf-4abc-919d-487a791457bc"
      },
      "source": [
        "import numpy as np\n",
        "\n",
        "matriz_m_jacobi = [[1, 0.9, 0.8, 0.4, 0.1, 0, 1], [0.9, 1, 0.8, 0.5, 0.2, 0.1, 0.9], [0.8, 0.8, 1, 0.7, 0.4, 0.2, 0.8], [0.4, 0.5, 0.7, 1, 0.6, 0.3, 0.7], [0.1, 0.2, 0.4, 0.6, 1, 0.5, 0.6], [0, 0.1, 0.2, 0.3, 0.5, 1, 0.5]]#@param\n",
        "condicoes_iniciais =  [0, 0, 0, 0, 0, 0]#@param\n",
        "loops = 150 #@param {type:\"slider\", min:0, max:150, step:1}\n",
        "trun = True #@param {type:\"boolean\"}\n",
        "permutacao = True #@param {type:\"boolean\"}\n",
        "truncamento_decimal = 2 #@param {type:\"slider\", min:1, max:10, step:1}\n",
        "#@markdown > $\\color{gray}{\\text{matriz_j = m_jacobi(matriz_m_jacobi, ci=condicoes_iniciais, ni=loops, tc = truncamento_decimal, trc=trun, permu=permutacao)}}$\n",
        "matriz_j = np.array(m_jacobi(matriz_m_jacobi, ci=condicoes_iniciais, ni=loops, tc = truncamento_decimal, trc=trun, permu=permutacao), dtype=np.float64)\n",
        "# print(f'\\033[32m{matriz_j}'); print()\n",
        "print(f'\\033[32m{matriz_j}'); print()\n",
        "testar_velocidade = True #@param {type:\"boolean\"}\n",
        "if testar_velocidade:\n",
        "    %timeit m_jacobi(matriz_m_jacobi, ci=condicoes_iniciais, ni=loops, tc = truncamento_decimal, trc=trun, permu=permutacao)"
      ],
      "execution_count": null,
      "outputs": [
        {
          "output_type": "stream",
          "name": "stdout",
          "text": [
            "\u001b[32m[[ 0.00000000e+00  0.00000000e+00  0.00000000e+00  0.00000000e+00\n",
            "   0.00000000e+00  0.00000000e+00]\n",
            " [ 1.00000000e+00  9.00000000e-01  8.00000000e-01  7.00000000e-01\n",
            "   6.00000000e-01  5.00000000e-01]\n",
            " [-7.90000000e-01 -1.16000000e+00 -1.55000000e+00 -1.22000000e+00\n",
            "  -6.70000000e-01 -2.60000000e-01]\n",
            " [ 3.83900000e+00  3.62100000e+00  3.53400000e+00  3.16100000e+00\n",
            "   2.39300000e+00  1.62700000e+00]\n",
            " [-6.58980000e+00 -7.60410000e+00 -8.66330000e+00 -7.04380000e+00\n",
            "  -4.63180000e+00 -2.71370000e+00]\n",
            " [ 1.80550300e+01  1.84810900e+01  1.94812400e+01  1.67954700e+01\n",
            "   1.18282500e+01  7.42211000e+00]\n",
            " [-3.91189860e+01 -4.24401150e+01 -4.64014470e+01 -3.87230080e+01\n",
            "  -2.64825540e+01 -1.61971230e+01]\n",
            " [ 9.44547197e+01  9.95059721e+01  1.06985833e+02  9.07973341e+01\n",
            "   6.28928667e+01  3.88824803e+01]\n",
            " [-2.16752261e+02 -2.31563402e+02 -2.50860330e+02 -2.11125421e+02\n",
            "  -1.45460640e+02 -8.95333973e+01]\n",
            " [ 5.09091558e+02  5.40273477e+02  5.83331261e+02  4.92921240e+02\n",
            "   3.40373990e+02  2.09896353e+02]\n",
            " [-1.18311703e+03 -1.25947246e+03 -1.36186576e+03 -1.14859854e+03\n",
            "  -7.92397276e+02 -4.88256967e+02]\n",
            " [ 2.76269697e+03  2.93680236e+03  3.17350088e+03  2.67890454e+03\n",
            "   1.84884011e+03  1.13959860e+03]\n",
            " [-6.43736866e+03 -6.84750813e+03 -7.40148841e+03 -6.24541424e+03\n",
            "  -4.30957254e+03 -2.65597183e+03]\n",
            " [ 1.50140710e+04  1.59659413e+04  1.72555148e+04  1.45629785e+04\n",
            "   1.00496683e+04  6.19395904e+03]\n",
            " [-3.50029173e+04 -3.72269945e+04 -4.02359539e+04 -3.39547481e+04\n",
            "  -2.34309679e+04 -1.44409248e+04]\n",
            " [ 8.16190543e+04  8.67999488e+04  9.38136252e+04  7.91713901e+04\n",
            "   5.46339835e+04  3.36722986e+04]\n",
            " [-1.90301808e+05 -2.02386871e+05 -2.18742429e+05 -1.84598513e+05\n",
            "  -1.27385729e+05 -7.85106287e+04]\n",
            " [ 4.43721105e+05  4.71893936e+05  5.10027120e+05  4.30419185e+05\n",
            "   2.97019549e+05  1.83060091e+05]\n",
            " [-1.03459487e+06 -1.10028930e+06 -1.18920450e+06 -1.00358345e+06\n",
            "  -6.92542702e+05 -4.26829847e+05]\n",
            " [ 2.41231262e+06  2.56548313e+06  2.77279960e+06  2.34000102e+06\n",
            "   1.61476474e+06  9.95216716e+05]\n",
            " [-5.62465038e+06 -5.98179527e+06 -6.46518576e+06 -5.45604949e+06\n",
            "  -3.76505610e+06 -2.32049041e+06]\n",
            " [ 1.31146908e+07  1.39474199e+07  1.50745125e+07  1.27215693e+07\n",
            "   8.77877389e+06  5.41056008e+06]\n",
            " [-3.05787920e+07 -3.25204262e+07 -3.51484078e+07 -2.96621766e+07\n",
            "  -2.04689791e+07 -1.26155017e+07]\n",
            " [ 7.12988794e+07  7.58260742e+07  8.19535909e+07  6.91616540e+07\n",
            "   4.77263850e+07  2.94148672e+07]\n",
            " [-1.66243639e+08 -1.76799454e+08 -1.91086647e+08 -1.61260393e+08\n",
            "  -1.11280965e+08 -6.85850138e+07]\n",
            " [ 3.87621081e+08  4.12233484e+08  4.45546138e+08  3.76001919e+08\n",
            "   2.59467657e+08  1.59915875e+08]\n",
            " [-9.03794579e+08 -9.61181961e+08 -1.03885523e+09 -8.76702827e+08\n",
            "  -6.04986349e+08 -3.72866980e+08]\n",
            " [ 2.10732772e+09  2.24113469e+09  2.42224115e+09  2.04415938e+09\n",
            "   1.41061313e+09  8.69393266e+08]\n",
            " [-4.91353920e+09 -5.22552951e+09 -5.64780540e+09 -4.76625309e+09\n",
            "  -3.28904843e+09 -2.02711608e+09]\n",
            " [ 1.14566270e+10  1.21840774e+10  1.31686747e+10  1.11132081e+10\n",
            "   7.66889187e+09  4.72651417e+09]\n",
            " [-2.67127819e+10 -2.84089379e+10 -3.07046688e+10 -2.59120512e+10\n",
            "  -1.78811300e+10 -1.10205511e+10]\n",
            " [ 6.22847126e+10  6.62395454e+10  7.15923738e+10  6.04176931e+10\n",
            "   4.16924395e+10  2.56960079e+10]\n",
            " [-1.45225811e+11 -1.54447076e+11 -1.66927969e+11 -1.40872585e+11\n",
            "  -9.72119497e+10 -5.99139570e+10]\n",
            " [ 3.38614972e+11  3.60115684e+11  3.89216691e+11  3.28464797e+11\n",
            "   2.26663714e+11  1.39698052e+11]\n",
            " [-7.89529758e+11 -8.39661774e+11 -9.07514979e+11 -7.65863158e+11\n",
            "  -5.28499215e+11 -3.25726203e+11]\n",
            " [ 1.84090276e+12  1.95779281e+12  2.11600236e+12  1.78572067e+12\n",
            "   1.23227232e+12  7.59477728e+11]\n",
            " [-4.29233091e+12 -4.56487695e+12 -4.93376540e+12 -4.16366587e+12\n",
            "  -2.87322105e+12 -1.77083211e+12]\n",
            " [ 1.00081900e+13  1.06436705e+13  1.15037872e+13  9.70818888e+12\n",
            "   6.69933022e+12  4.12895106e+12]\n",
            " [-2.33355418e+13 -2.48172564e+13 -2.68227429e+13 -2.26360458e+13\n",
            "  -1.56204569e+13 -9.62724627e+12]\n",
            " [ 5.44101891e+13  5.78650209e+13  6.25411026e+13  5.27792130e+13\n",
            "   3.64213532e+13  2.24473164e+13]\n",
            " [-1.26865221e+14 -1.34920661e+14 -1.45823622e+14 -1.23062365e+14\n",
            "  -8.49216501e+13 -5.23391631e+13]\n",
            " [ 2.95804603e+14  3.14587025e+14  3.40008854e+14  2.86937693e+14\n",
            "   1.98007103e+14  1.22036325e+14]\n",
            " [-6.89711193e+14 -7.33505126e+14 -7.92779794e+14 -6.69036711e+14\n",
            "  -4.61682185e+14 -2.84545333e+14]\n",
            " [ 1.60816135e+15  1.71027324e+15  1.84848069e+15  1.55995581e+15\n",
            "   1.07647876e+15  6.63458577e+14]\n",
            " [-3.74966067e+15 -3.98774928e+15 -4.30999995e+15 -3.63726247e+15\n",
            "  -2.50996583e+15 -1.54694958e+15]\n",
            " [ 8.74287589e+15  9.29801392e+15  1.00493879e+16  8.48080325e+15\n",
            "   5.85234818e+15  3.60693658e+15]\n",
            " [-2.03852790e+16 -2.16796636e+16 -2.34316007e+16 -1.97742188e+16\n",
            "  -1.36455958e+16 -8.41009404e+15]\n",
            " [ 4.75312249e+16  5.05492696e+16  5.46341643e+16  4.61064496e+16\n",
            "   3.18166792e+16  1.96093500e+16]\n",
            " [-1.10825922e+17 -1.17862929e+17 -1.27387452e+17 -1.07503852e+17\n",
            "  -7.41851869e+16 -4.57220343e+16]\n",
            " [ 2.58406658e+17  2.74814458e+17  2.97022259e+17  2.50660772e+17\n",
            "   1.72973487e+17  1.06607532e+17]\n",
            " [-6.02512477e+17 -6.40769636e+17 -6.92550335e+17 -5.84451826e+17\n",
            "  -4.03312691e+17 -2.48570873e+17]\n",
            " [ 1.40484494e+18  1.49404704e+18  1.61478122e+18  1.36273392e+18\n",
            "   9.40381841e+17  5.79578924e+17]\n",
            " [-3.27559906e+18 -3.48358664e+18 -3.76509584e+18 -3.17741113e+18\n",
            "  -2.19263620e+18 -1.35137204e+18]\n",
            " [ 7.63753272e+18  8.12248584e+18  8.77886524e+18  7.40859337e+18\n",
            "   5.11244827e+18  3.15091927e+18]\n",
            " [-1.78080116e+19 -1.89387499e+19 -2.04691934e+19 -1.72742064e+19\n",
            "  -1.19204122e+19 -7.34682378e+18]\n",
            " [ 4.15219534e+19  4.41584332e+19  4.77268834e+19  4.02773094e+19\n",
            "   2.77941642e+19  1.71301817e+19]\n",
            " [-9.68144367e+19 -1.02961770e+20 -1.11282128e+20 -9.39123694e+19\n",
            "  -6.48061118e+19 -3.99414949e+19]\n",
            " [ 2.25736855e+20  2.40070252e+20  2.59470368e+20  2.18970265e+20\n",
            "   1.51104818e+20  9.31293693e+19]\n",
            " [-5.26338109e+20 -5.59758497e+20 -6.04992672e+20 -5.10560827e+20\n",
            "  -3.52322727e+20 -2.17144587e+20]\n",
            " [ 1.22723339e+21  1.30515785e+21  1.41062787e+21  1.19044637e+21\n",
            "   8.21491369e+20  5.06303996e+20]\n",
            " [-2.86147205e+21 -3.04316421e+21 -3.28908280e+21 -2.77569781e+21\n",
            "  -1.91542588e+21 -1.18052096e+21]\n",
            " [ 6.67193574e+21  7.09557727e+21  7.66897202e+21  6.47194070e+21\n",
            "   4.46609233e+21  2.75255526e+21]\n",
            " [-1.55565827e+22 -1.65443641e+22 -1.78813169e+22 -1.50902653e+22\n",
            "  -1.04133399e+22 -6.41798051e+21]\n",
            " [ 3.62724213e+22  3.85755766e+22  4.16928752e+22  3.51851350e+22\n",
            "   2.42802073e+22  1.49644493e+22]\n",
            " [-8.45743938e+22 -8.99445333e+22 -9.72129656e+22 -8.20392287e+22\n",
            "  -5.66128132e+22 -3.48917769e+22]\n",
            " [ 1.97197425e+23  2.09718682e+23  2.26666082e+23  1.91286321e+23\n",
            "   1.32000958e+23  8.13552217e+22]\n",
            " [-4.59794304e+23 -4.88989423e+23 -5.28504738e+23 -4.46011710e+23\n",
            "  -3.07779315e+23 -1.89691460e+23]\n",
            " [ 1.07207689e+24  1.14014953e+24  1.23228520e+24  1.03994078e+24\n",
            "   7.17631966e+23  4.42293060e+23]\n",
            " [-2.49970224e+24 -2.65842344e+24 -2.87325107e+24 -2.42477225e+24\n",
            "  -1.67326267e+24 -1.03127021e+24]\n",
            " [ 5.82841713e+24  6.19849856e+24  6.69940023e+24  5.65370703e+24\n",
            "   3.90145380e+24  2.40455557e+24]\n",
            " [-1.35897971e+25 -1.44526954e+25 -1.56206201e+25 -1.31824352e+25\n",
            "  -9.09680352e+24 -5.60656891e+24]\n",
            " [ 3.16865764e+25  3.36985487e+25  3.64217339e+25  3.07367534e+25\n",
            "   2.12105124e+25  1.30725259e+25]\n",
            " [-7.38818335e+25 -7.85730376e+25 -8.49225376e+25 -7.16671838e+25\n",
            "  -4.94553759e+25 -3.04804839e+25]\n",
            " [ 1.72266175e+26  1.83204396e+26  1.98009173e+26  1.67102399e+26\n",
            "   1.15312358e+26  7.10696544e+25]\n",
            " [-4.01663490e+26 -4.27167532e+26 -4.61687010e+26 -3.89623400e+26\n",
            "  -2.68867432e+26 -1.65709173e+26]\n",
            " [ 9.36536491e+26  9.96002853e+26  1.07649001e+27  9.08463281e+26\n",
            "   6.26903286e+26  3.86374892e+26]\n",
            " [-2.18367021e+27 -2.32232463e+27 -2.50999206e+27 -2.11821347e+27\n",
            "  -1.46171564e+27 -9.00888914e+26]\n",
            " [ 5.09154277e+27  5.41483559e+27  5.85240934e+27  4.93892090e+27\n",
            "   3.40820131e+27  2.10055273e+27]\n",
            " [-1.18716680e+28 -1.26254720e+28 -1.36457384e+28 -1.15158080e+28\n",
            "  -7.94671404e+27 -4.89774235e+27]\n",
            " [ 2.76805101e+28  2.94381130e+28  3.18170117e+28  2.68507712e+28\n",
            "   1.85289126e+28  1.14197943e+28]\n",
            " [-6.45411108e+28 -6.86392160e+28 -7.41859622e+28 -6.26064545e+28\n",
            "  -4.32028381e+28 -2.66269013e+28]\n",
            " [ 1.50486930e+29  1.60042254e+29  1.72975295e+29  1.45975999e+29\n",
            "   1.00733662e+29  6.20844695e+28]\n",
            " [-3.50882031e+29 -3.73161652e+29 -4.03316906e+29 -3.40364144e+29\n",
            "  -2.34875096e+29 -1.44758915e+29]\n",
            " [ 8.18132178e+29  8.70080335e+29  9.40391668e+29  7.93608204e+29\n",
            "   5.47645240e+29  3.37526337e+29]\n",
            " [-1.90759344e+30 -2.02871808e+30 -2.19265912e+30 -1.85041225e+30\n",
            "  -1.27691404e+30 -7.86991448e+29]\n",
            " [ 4.44782987e+30  4.73024947e+30  5.11250170e+30  4.31450366e+30\n",
            "   2.97730968e+30  1.83498433e+30]\n",
            " [-1.03707583e+31 -1.10292604e+31 -1.19205368e+31 -1.00598890e+31\n",
            "  -6.94202792e+30 -4.27853123e+30]\n",
            " [ 2.41809222e+31  2.57163151e+31  2.77944547e+31  2.34560854e+31\n",
            "   1.61863416e+31  9.97601405e+30]\n",
            " [-5.63813157e+31 -5.99613062e+31 -6.48067891e+31 -5.46912539e+31\n",
            "  -3.77407954e+31 -2.32605189e+31]\n",
            " [ 1.31461188e+32  1.39808453e+32  1.51106397e+32  1.27520565e+32\n",
            "   8.79981202e+31  5.42352623e+31]\n",
            " [-3.06520764e+32 -3.25983619e+32 -3.52326409e+32 -2.97332631e+32\n",
            "  -2.05180338e+32 -1.26457354e+32]\n",
            " [ 7.14697471e+32  7.60077933e+32  8.21499954e+32  6.93274011e+32\n",
            "   4.78407619e+32  2.94853602e+32]\n",
            " [-1.66642047e+33 -1.77223158e+33 -1.91544590e+33 -1.61646857e+33\n",
            "  -1.11547652e+33 -6.87493797e+32]\n",
            " [ 3.88550022e+33  4.13221411e+33  4.46613901e+33  3.76903016e+33\n",
            "   2.60089476e+33  1.60299117e+33]\n",
            " [-9.05960545e+33 -9.63485455e+33 -1.04134487e+34 -8.78803866e+33\n",
            "  -6.06436213e+33 -3.73760564e+33]\n",
            " [ 2.11237797e+34  2.24650562e+34  2.42804610e+34  2.04905825e+34\n",
            "   1.41399370e+34  8.71476786e+33]\n",
            " [-4.92531461e+34 -5.23805260e+34 -5.66134049e+34 -4.77767552e+34\n",
            "  -3.29693071e+34 -2.03197411e+34]\n",
            " [ 1.14840830e+35  1.22132769e+35  1.32002337e+35  1.11398411e+35\n",
            "   7.68727054e+34  4.73784137e+34]\n",
            " [-2.67767997e+35 -2.84770205e+35 -3.07782532e+35 -2.59741500e+35\n",
            "  -1.79239825e+35 -1.10469620e+35]\n",
            " [ 6.24339793e+35  6.63982900e+35  7.17639466e+35  6.05624855e+35\n",
            "   4.17923564e+35  2.57575890e+35]\n",
            " [-1.45573848e+36 -1.54817212e+36 -1.67328016e+36 -1.41210190e+36\n",
            "  -9.74449203e+35 -6.00575421e+35]\n",
            " [ 3.39426471e+36  3.60978709e+36  3.90149457e+36  3.29251971e+36\n",
            "   2.27206918e+36  1.40032841e+36]\n",
            " [-7.91421884e+36 -8.41674043e+36 -9.09689859e+36 -7.67698566e+36\n",
            "  -5.29765775e+36 -3.26506813e+36]\n",
            " [ 1.84531453e+37  1.96248470e+37  2.12107341e+37  1.79000018e+37\n",
            "   1.23522549e+37  7.61297833e+36]\n",
            " [-4.30261758e+37 -4.57581678e+37 -4.94558928e+37 -4.17364419e+37\n",
            "  -2.88010678e+37 -1.77507595e+37]\n",
            " [ 1.00321749e+38  1.06691783e+38  1.15313563e+38  9.73145477e+37\n",
            "   6.71538531e+37  4.13884618e+37]\n",
            " [-2.33914660e+38 -2.48767315e+38 -2.68870242e+38 -2.26902936e+38\n",
            "  -1.56578916e+38 -9.65031818e+37]\n",
            " [ 5.45405843e+38  5.80036957e+38  6.26909838e+38  5.29056995e+38\n",
            "   3.65086378e+38  2.25011119e+38]\n",
            " [-1.27169257e+39 -1.35244001e+39 -1.46173091e+39 -1.23357286e+39\n",
            "  -8.51251667e+38 -5.24645951e+38]\n",
            " [ 2.96513506e+39  3.15340940e+39  3.40823693e+39  2.87625346e+39\n",
            "   1.98481632e+39  1.22328788e+39]\n",
            " [-6.91364102e+39 -7.35262987e+39 -7.94679709e+39 -6.70640073e+39\n",
            "  -4.62788617e+39 -2.85227252e+39]\n",
            " [ 1.61201535e+40  1.71437194e+40  1.85291062e+40  1.56369428e+40\n",
            "   1.07905856e+40  6.65048571e+39]\n",
            " [-3.75864681e+40 -3.99730601e+40 -4.32032896e+40 -3.64597925e+40\n",
            "  -2.51598102e+40 -1.55065688e+40]\n",
            " [ 8.76382839e+40  9.32029682e+40  1.00734715e+41  8.50112768e+40\n",
            "   5.86637346e+40  3.61558068e+40]\n",
            " [-2.04341328e+41 -2.17316194e+41 -2.34877551e+41 -1.98216081e+41\n",
            "  -1.36782978e+41 -8.43024902e+40]\n",
            " [ 4.76451345e+41  5.06704121e+41  5.47650963e+41  4.62169447e+41\n",
            "   3.18929286e+41  1.96563443e+41]\n",
            " [-1.11091519e+42 -1.18145391e+42 -1.27692739e+42 -1.07761488e+42\n",
            "  -7.43629733e+41 -4.58316082e+41]\n",
            " [ 2.59025935e+42  2.75473057e+42  2.97734080e+42  2.51261486e+42\n",
            "   1.73388022e+42  1.06863020e+42]\n",
            " [-6.03956412e+42 -6.42305255e+42 -6.94210047e+42 -5.85852478e+42\n",
            "  -4.04279239e+42 -2.49166579e+42]\n",
            " [ 1.40821168e+43  1.49762755e+43  1.61865108e+43  1.36599974e+43\n",
            "   9.42635487e+42  5.80967897e+42]\n",
            " [-3.28344911e+43 -3.49193513e+43 -3.77411898e+43 -3.18502587e+43\n",
            "  -2.19789090e+43 -1.35461064e+43]\n",
            " [ 7.65583624e+43  8.14195156e+43  8.79990399e+43  7.42634823e+43\n",
            "   5.12470037e+43  3.15847052e+43]\n",
            " [-1.78506889e+44 -1.89841370e+44 -2.05182483e+44 -1.73156044e+44\n",
            "  -1.19489797e+44 -7.36443061e+43]\n",
            " [ 4.16214617e+44  4.42642599e+44  4.78412619e+44  4.03738349e+44\n",
            "   2.78607736e+44  1.71712346e+44]\n",
            " [-9.70464547e+44 -1.03208521e+45 -1.11548818e+45 -9.41374324e+44\n",
            "  -6.49614211e+44 -4.00372156e+44]\n",
            " [ 2.26277838e+45  2.40645586e+45  2.60092195e+45  2.19495032e+45\n",
            "   1.51466944e+45  9.33525560e+44]\n",
            " [-5.27599490e+45 -5.61099970e+45 -6.06442550e+45 -5.11784398e+45\n",
            "  -3.53167076e+45 -2.17664979e+45]\n",
            " [ 1.23017448e+46  1.30828569e+46  1.41400847e+46  1.19329931e+46\n",
            "   8.23460091e+45  5.07517364e+45]\n",
            " [-2.86832963e+46 -3.05045722e+46 -3.29696516e+46 -2.78234983e+46\n",
            "  -1.92001624e+46 -1.18335010e+46]\n",
            " [ 6.68792518e+46  7.11258198e+46  7.68735088e+46  6.48745085e+46\n",
            "   4.47679542e+46  2.75915183e+46]\n",
            " [-1.55938644e+47 -1.65840131e+47 -1.79241699e+47 -1.51264295e+47\n",
            "  -1.04382957e+47 -6.43336134e+46]\n",
            " [ 3.63593490e+47  3.86680238e+47  4.17927931e+47  3.52694570e+47\n",
            "   2.43383954e+47  1.50003120e+47]\n",
            " [-8.47770783e+47 -9.01600874e+47 -9.74459387e+47 -8.22358375e+47\n",
            "  -5.67484871e+47 -3.49753958e+47]\n",
            " [ 1.97670013e+48  2.10221277e+48  2.27209293e+48  1.91744743e+48\n",
            "   1.32317301e+48  8.15501913e+47]\n",
            " [-4.60896211e+48 -4.90161297e+48 -5.29771311e+48 -4.47080587e+48\n",
            "  -3.08516915e+48 -1.90146060e+48]\n",
            " [ 1.07464614e+49  1.14288192e+49  1.23523840e+49  1.04243302e+49\n",
            "   7.19351787e+48  4.43353026e+48]\n",
            " [-2.50569283e+49 -2.66479441e+49 -2.88013688e+49 -2.43058327e+49\n",
            "  -1.67727268e+49 -1.03374167e+49]\n",
            " [ 5.84238506e+49  6.21335340e+49  6.71545549e+49  5.66725627e+49\n",
            "   3.91080372e+49  2.41031814e+49]\n",
            " [-1.36223653e+50 -1.44873316e+50 -1.56580553e+50 -1.32140272e+50\n",
            "  -9.11860421e+49 -5.62000518e+49]\n",
            " [ 3.17625140e+50  3.37793080e+50  3.65090194e+50  3.08104147e+50\n",
            "   2.12613439e+50  1.31038545e+50]\n",
            " [-7.40588930e+50 -7.87613397e+50 -8.51260564e+50 -7.18389358e+50\n",
            "  -4.95738968e+50 -3.05535310e+50]\n",
            " [ 1.72679015e+51  1.83643449e+51  1.98483706e+51  1.67502864e+51\n",
            "   1.15588707e+51  7.12399744e+50]\n",
            " [-4.02626085e+51 -4.28191249e+51 -4.62793453e+51 -3.90557141e+51\n",
            "  -2.69511779e+51 -1.66106299e+51]\n",
            " [ 9.38780921e+51  9.98389796e+51  1.07906984e+52  9.10640433e+51\n",
            "   6.28405674e+51  3.87300848e+51]\n",
            " [-2.18890343e+52 -2.32789014e+52 -2.51600732e+52 -2.12328981e+52\n",
            "  -1.46521867e+52 -9.03047914e+51]\n",
            " [ 5.10374477e+52  5.42781237e+52  5.86643477e+52  4.95075714e+52\n",
            "   3.41636914e+52  2.10558676e+52]\n",
            " [-1.19001187e+53 -1.26557292e+53 -1.36784407e+53 -1.15434059e+53\n",
            "  -7.96575852e+52 -4.90947990e+52]\n",
            " [ 2.77468471e+53  2.95086621e+53  3.18932619e+53  2.69151197e+53\n",
            "   1.85733175e+53  1.14471621e+53]\n",
            " [-6.46957850e+53 -6.88037114e+53 -7.43637505e+53 -6.27564923e+53\n",
            "  -4.33063747e+53 -2.66907132e+53]\n",
            " [ 1.50847575e+54  1.60425799e+54  1.73389834e+54  1.46325834e+54\n",
            "   1.00975073e+54  6.22332563e+53]\n",
            " [-3.51722928e+54 -3.74055942e+54 -4.04283464e+54 -3.41179834e+54\n",
            "  -2.35437979e+54 -1.45105833e+54]]\n",
            "\n",
            "1 loop, best of 5: 257 ms per loop\n"
          ]
        }
      ]
    },
    {
      "cell_type": "markdown",
      "metadata": {
        "id": "Lo7Qes7b9Ofa"
      },
      "source": [
        "# <HR width=100% color=\"Turquoise\t\" align=left noshade>"
      ]
    },
    {
      "cell_type": "code",
      "metadata": {
        "id": "f3LZTlcc0r63",
        "cellView": "form"
      },
      "source": [
        "#@markdown # $\\color{Turquoise}{\\text{Método de Gauss Seidel}}$\n",
        "#@markdown > $\\color{gray}{\\text{gauss_saidel(hea, ci=[0, 0, 0], ni=10, tc=2, trc=False, permu=True)}}$\n",
        "\n",
        "def gauss_saidel(hea, ci=[0, 0, 0], ni=10, tc=2, trc=False, permu=True):\n",
        "\n",
        "    import numpy as np\n",
        "\n",
        "    def trunc(arr1, arr2, tr=2):\n",
        "        '''\n",
        "            Retorna um booleano se arr1 == arr2\n",
        "        '''\n",
        "\n",
        "        def truncv(values, decs=0):\n",
        "            values = np.array(values)\n",
        "            return np.trunc(values*10**decs)/(10**decs)\n",
        "\n",
        "        arr1, arr2 = truncv(arr1, decs=tr), truncv(arr2, decs=tr)\n",
        "\n",
        "        comp = np.all([arr1==arr2, [True for _ in range(len(arr1))]]) \n",
        "        return comp\n",
        "\n",
        "    def v(arr, cond, line=0):\n",
        "        '''\n",
        "            Retorna uma matriz solução\n",
        "        '''\n",
        "        \n",
        "        def max_diagonal(arr):\n",
        "                \n",
        "            def permutation(arr, shift, end):\n",
        "                arr = np.insert(arr, end, arr[shift], axis=0)\n",
        "                finale = shift + 1 if shift > end else shift \n",
        "                arr = np.delete(arr, finale, axis=0)\n",
        "                return arr \n",
        "\n",
        "            for i in range(len(arr)):\n",
        "                arr = permutation(\n",
        "                    arr,\n",
        "                    np.where(arr[i:, i] == max(arr[i:, i], key=abs))[0][0] + i,\n",
        "                    i\n",
        "                )\n",
        "            return arr\n",
        "        if permu:\n",
        "            arr = max_diagonal(arr)\n",
        "\n",
        "        n, rs = [arr[line][-1]], 0\n",
        "        n.append(\n",
        "            [x*i for x, i, c in zip(arr[line], cond, range(len(arr[0])))\n",
        "            if c != line]\n",
        "        )\n",
        "        for k in n[1]:\n",
        "            rs += k\n",
        "        x = (n[0]-rs)/arr[line][line]\n",
        "\n",
        "        return x\n",
        "\n",
        "    \n",
        "    arr = np.array(hea, dtype=np.float64, copy=True)\n",
        "    hist = np.array([ci], dtype=np.float64, copy=True)\n",
        "\n",
        "    for j in range(1, ni+1):\n",
        "        for i in range(len(arr)):\n",
        "            ci[i] = v(arr, ci, line=i)\n",
        "        \n",
        "        hist = np.append(hist, [ci], axis=0)\n",
        "\n",
        "        if trc:\n",
        "            if trunc(hist[j-1], hist[j], tr=tc):\n",
        "                break\n",
        "    return hist"
      ],
      "execution_count": null,
      "outputs": []
    },
    {
      "cell_type": "code",
      "metadata": {
        "colab": {
          "base_uri": "https://localhost:8080/"
        },
        "id": "HSBnLVR1A42E",
        "cellView": "form",
        "outputId": "831813dd-f173-45ce-ac92-f4cd660b75fd"
      },
      "source": [
        "import numpy as np\n",
        "\n",
        "matriz_g_saidel = [[1, 0.9, 0.8, 0.4, 0.1, 0, 1], [0.9, 1, 0.8, 0.5, 0.2, 0.1, 0.9], [0.8, 0.8, 1, 0.7, 0.4, 0.2, 0.8], [0.4, 0.5, 0.7, 1, 0.6, 0.3, 0.7], [0.1, 0.2, 0.4, 0.6, 1, 0.5, 0.6], [0, 0.1, 0.2, 0.3, 0.5, 1, 0.5]]#@param\n",
        "condicoes_iniciais2 =  [0, 0, 0, 0, 0, 0]#@param\n",
        "loops2 = 150 #@param {type:\"slider\", min:0, max:150, step:1}\n",
        "trun2 = True #@param {type:\"boolean\"}\n",
        "permutacao2 = True #@param {type: \"boolean\"}\n",
        "truncamento_decimal2 = 3 #@param {type:\"slider\", min:1, max:10, step:1}\n",
        "#@markdown > $\\color{gray}{\\text{matriz_j = gauss_saidel(matriz_g_saidel, ci=condicoes_iniciais2, ni=loops2, tc = truncamento_decimal2, trc=trun2, permu=permutacao2)}}$\n",
        "matriz_j = np.array(gauss_saidel(matriz_g_saidel, ci=condicoes_iniciais2, ni=loops2, tc = truncamento_decimal2, trc=trun2, permu=permutacao2))\n",
        "# print(f'\\033[32m{matriz_j}'); print()\n",
        "print(f'\\033[32m{matriz_j}'); print()\n",
        "testar_velocidade = True #@param {type:\"boolean\"}\n",
        "if testar_velocidade:\n",
        "    %timeit gauss_saidel(matriz_g_saidel, ci=condicoes_iniciais2, ni=loops2, tc = truncamento_decimal2, trc=trun2, permu=permutacao2)"
      ],
      "execution_count": null,
      "outputs": [
        {
          "output_type": "stream",
          "name": "stdout",
          "text": [
            "\u001b[32m[[ 0.          0.          0.          0.          0.          0.        ]\n",
            " [ 1.          0.          0.          0.3         0.32        0.25      ]\n",
            " [ 0.848      -0.1022     -0.18464     0.274148    0.3200072   0.3049    ]\n",
            " [ 1.09803208 -0.17208231 -0.32164629  0.28850641  0.32771793  0.3311266 ]\n",
            " [ 1.26401676 -0.2232075  -0.43191439  0.31236838  0.33802125  0.34598249]\n",
            " [ 1.38766878 -0.26175708 -0.52379222  0.33585809  0.34859533  0.35587906]\n",
            " [ 1.48541238 -0.29107338 -0.60118581  0.35628089  0.3584397   0.36324038]\n",
            " [ 1.56455837 -0.31330631 -0.66642222  0.37328943  0.36718046  0.36903801]\n",
            " [ 1.62907964 -0.3300185  -0.7212313   0.38721962  0.37473748  0.37371349]\n",
            " [ 1.68164009 -0.3424197  -0.76706774  0.3985447   0.38116346  0.37751038]\n",
            " [ 1.72429769 -0.35146982 -0.80521105  0.40771238  0.386566    0.38059248]\n",
            " [ 1.75875013 -0.35793491 -0.83679573  0.41510707  0.39106978  0.38308563]\n",
            " [ 1.7864282  -0.36242484 -0.86282267  0.42104946  0.39479873  0.38509282]\n",
            " [ 1.80854084 -0.36542238 -0.88416745  0.42580498  0.39786797  0.38670025]\n",
            " [ 1.82610531 -0.36730693 -0.90158943  0.42959308  0.40038065  0.38798033]\n",
            " [ 1.83997248 -0.36837439 -0.91574195  0.43259508  0.4024272   0.38899371]\n",
            " [ 1.85084976 -0.36885358 -0.92718313  0.43496064  0.40408575  0.38979091]\n",
            " [ 1.85932189 -0.36891976 -0.93638664  0.43681304  0.40542313  0.39041382]\n",
            " [ 1.86586956 -0.36870583 -0.94375214  0.43825356  0.40649602  0.39089693]\n",
            " [ 1.87088593 -0.3683113  -0.94961498  0.43936508  0.40735215  0.39126853]\n",
            " [ 1.87469092 -0.36780966 -0.95425513  0.4402152   0.4080315   0.39155168]\n",
            " [ 1.87754356 -0.36725417 -0.95790509  0.44085882  0.40856738  0.3917651 ]\n",
            " [ 1.87965256 -0.36668263 -0.96075709  0.4413403   0.40898738  0.3919239 ]\n",
            " [ 1.88118518 -0.36612101 -0.96296928  0.44169533  0.40931425  0.39204023]\n",
            " [ 1.88227478 -0.36558641 -0.96467117  0.44195249  0.40956666  0.3921238 ]\n",
            " [ 1.88302704 -0.36508936 -0.96596831  0.44213455  0.40975987  0.3921823 ]\n",
            " [ 1.88352527 -0.36463557 -0.96694635  0.44225951  0.40990627  0.39222184]\n",
            " [ 1.88383466 -0.36422731 -0.96767442  0.44234157  0.4100159   0.39224719]\n",
            " [ 1.88400589 -0.36386445 -0.96820805  0.4423918   0.41009684  0.39226209]\n",
            " [ 1.88407804 -0.36354528 -0.96859163  0.44241883  0.41015556  0.39226943]]\n",
            "\n",
            "1000 loops, best of 5: 1.67 ms per loop\n"
          ]
        }
      ]
    },
    {
      "cell_type": "markdown",
      "metadata": {
        "id": "R2ocoPDh0t9h"
      },
      "source": [
        "# $\\color{Turquoise}{\\text{Contatos}}$\n",
        "<HR width=100% color=\"Turquoise\t\" align=left noshade>"
      ]
    },
    {
      "cell_type": "code",
      "metadata": {
        "colab": {
          "base_uri": "https://localhost:8080/",
          "height": 128
        },
        "id": "-BSy6gbmqMQG",
        "cellView": "form",
        "outputId": "3a95eb19-41f2-483f-fdc5-b88a0f7a164a"
      },
      "source": [
        "#@title\n",
        "\n",
        "%%html\n",
        "\n",
        "<table style=\"white-space: nowrap; width: 0px;\" border=\"0\" cellspacing=\"0\">\n",
        "  <tbody>\n",
        "    <tr>\n",
        "      <td style=\"vertical-align: 0px;\">\n",
        "        <img style=\"border-right: 3px solid #30D5C8; padding-right: 13px; height: 90px;\" src=\"https://i.pinimg.com/280x280_RS/79/42/c4/7942c414d01e7c8f8c179f905a5a86eb.jpg\"/></td>\n",
        "        <td style=\"white-space: nowrap; font-family: Helvetica, Arial; padding-left: 11px; font-size: 12px; vertical-align: middle; width: 560px;\">\n",
        "        <h1 style=\"white-space: nowrap; font-size: 14px; color: #30D5C8; line-height: 1; margin: 0 0 8px 0;\">\n",
        "          <b>CLEBSON DOS SANTOS MARQUES</b>\n",
        "        </h1>\n",
        "\n",
        "        <span style=\"color: #808080; data-contrast: none;\">\n",
        "          Estudante do Curso de Licenciatura em F&iacute;sica pela Universidade Estadual Vale do Acara&uacute;<br />\n",
        "        </span>\n",
        "        <span style=\"white-space: nowrap; font-size: 12px; color: #30D5C8; line-height: 1px; margin: 0 0 8px 0;\" data-contrast=\"none\">\n",
        "          <b>Tel.:</b>\n",
        "        </span>\n",
        "        <span style=\"color: #808080; data-contrast: none;\">(88) 9 9412 2413\n",
        "          <br /><a style=\"color: #808080; data-contrast: none; text-decoration: none;\" href=\"mailto:klebersantosy@gmail.com\">klebersantosy@gmail.com</a><br />\n",
        "          <a style=\"color: #808080; data-contrast: none; text-decoration: none;\" href=\"http://lattes.cnpq.br/9411163467458250\">http://lattes.cnpq.br/9411163467458250</a>\n",
        "        </span>\n",
        "\n",
        "        <div style=\"white-space: nowrap; margin-top: 8px;\">\n",
        "          <a style=\"white-space: nowrap; display: inline-block;\" href=\"https://api.whatsapp.com/send?phone=558894122413\">\n",
        "            <img style=\"white-space: nowrap; width: 20px; height: 20px;\" src=\"https://icon-library.com/images/icon-whatsapp-png/icon-whatsapp-png-2.jpg\" />\n",
        "          </a> <a style=\"white-space: nowrap; display: inline-block;\" href=\"https://t.me/clebson_marques\">\n",
        "            <img style=\"white-space: nowrap; width: 20px; height: 20px;\" src=\"https://www.freepnglogos.com/uploads/telegram-png/telegram-communications-icons-24.png\" />\n",
        "          </a> <a style=\"white-space: nowrap; display: inline-block;\" href=\"https://www.passeidireto.com/perfil/371127-klebson-marques/\">\n",
        "            <img style=\"white-space: nowrap; width: 20px; height: 20px;\" src=\"https://img.utdstc.com/icon/f63/09d/f6309d71c42e9f12c4aaf4800260f4c2ae9637ab4b148c381e8378e80ccce0e6:200\" />\n",
        "          </a> <a style=\"white-space: nowrap; display: inline-block;\" href=\"https://github.com/kleber293\">\n",
        "            <img style=\"white-space: nowrap; width: 26px; height: 20px; object-fit: cover;\" src=\"http://pngimg.com/uploads/github/github_PNG69.png\" /></a>\n",
        "        </div>\n",
        "      </td>\n",
        "    </tr>\n",
        "  </tbody>\n",
        "</table>"
      ],
      "execution_count": null,
      "outputs": [
        {
          "output_type": "display_data",
          "data": {
            "text/html": [
              "\n",
              "<table style=\"white-space: nowrap; width: 0px;\" border=\"0\" cellspacing=\"0\">\n",
              "  <tbody>\n",
              "    <tr>\n",
              "      <td style=\"vertical-align: 0px;\">\n",
              "        <img style=\"border-right: 3px solid #30D5C8; padding-right: 13px; height: 90px;\" src=\"https://i.pinimg.com/280x280_RS/79/42/c4/7942c414d01e7c8f8c179f905a5a86eb.jpg\"/></td>\n",
              "        <td style=\"white-space: nowrap; font-family: Helvetica, Arial; padding-left: 11px; font-size: 12px; vertical-align: middle; width: 560px;\">\n",
              "        <h1 style=\"white-space: nowrap; font-size: 14px; color: #30D5C8; line-height: 1; margin: 0 0 8px 0;\">\n",
              "          <b>CLEBSON DOS SANTOS MARQUES</b>\n",
              "        </h1>\n",
              "\n",
              "        <span style=\"color: #808080; data-contrast: none;\">\n",
              "          Estudante do Curso de Licenciatura em F&iacute;sica pela Universidade Estadual Vale do Acara&uacute;<br />\n",
              "        </span>\n",
              "        <span style=\"white-space: nowrap; font-size: 12px; color: #30D5C8; line-height: 1px; margin: 0 0 8px 0;\" data-contrast=\"none\">\n",
              "          <b>Tel.:</b>\n",
              "        </span>\n",
              "        <span style=\"color: #808080; data-contrast: none;\">(88) 9 9412 2413\n",
              "          <br /><a style=\"color: #808080; data-contrast: none; text-decoration: none;\" href=\"mailto:klebersantosy@gmail.com\">klebersantosy@gmail.com</a><br />\n",
              "          <a style=\"color: #808080; data-contrast: none; text-decoration: none;\" href=\"http://lattes.cnpq.br/9411163467458250\">http://lattes.cnpq.br/9411163467458250</a>\n",
              "        </span>\n",
              "\n",
              "        <div style=\"white-space: nowrap; margin-top: 8px;\">\n",
              "          <a style=\"white-space: nowrap; display: inline-block;\" href=\"https://api.whatsapp.com/send?phone=558894122413\">\n",
              "            <img style=\"white-space: nowrap; width: 20px; height: 20px;\" src=\"https://icon-library.com/images/icon-whatsapp-png/icon-whatsapp-png-2.jpg\" />\n",
              "          </a> <a style=\"white-space: nowrap; display: inline-block;\" href=\"https://t.me/clebson_marques\">\n",
              "            <img style=\"white-space: nowrap; width: 20px; height: 20px;\" src=\"https://www.freepnglogos.com/uploads/telegram-png/telegram-communications-icons-24.png\" />\n",
              "          </a> <a style=\"white-space: nowrap; display: inline-block;\" href=\"https://www.passeidireto.com/perfil/371127-klebson-marques/\">\n",
              "            <img style=\"white-space: nowrap; width: 20px; height: 20px;\" src=\"https://img.utdstc.com/icon/f63/09d/f6309d71c42e9f12c4aaf4800260f4c2ae9637ab4b148c381e8378e80ccce0e6:200\" />\n",
              "          </a> <a style=\"white-space: nowrap; display: inline-block;\" href=\"https://github.com/kleber293\">\n",
              "            <img style=\"white-space: nowrap; width: 26px; height: 20px; object-fit: cover;\" src=\"http://pngimg.com/uploads/github/github_PNG69.png\" /></a>\n",
              "        </div>\n",
              "      </td>\n",
              "    </tr>\n",
              "  </tbody>\n",
              "</table>"
            ],
            "text/plain": [
              "<IPython.core.display.HTML object>"
            ]
          },
          "metadata": {}
        }
      ]
    }
  ]
}