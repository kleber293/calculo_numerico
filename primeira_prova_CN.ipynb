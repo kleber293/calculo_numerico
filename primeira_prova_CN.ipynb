{
  "nbformat": 4,
  "nbformat_minor": 0,
  "metadata": {
    "colab": {
      "name": "primeira_prova_CN.ipynb",
      "provenance": [],
      "collapsed_sections": [],
      "authorship_tag": "ABX9TyNIIU+Se6zR65UByNb4BPjn",
      "include_colab_link": true
    },
    "kernelspec": {
      "name": "python3",
      "display_name": "Python 3"
    },
    "language_info": {
      "name": "python"
    }
  },
  "cells": [
    {
      "cell_type": "markdown",
      "metadata": {
        "id": "view-in-github",
        "colab_type": "text"
      },
      "source": [
        "<a href=\"https://colab.research.google.com/github/kleber293/calculo_numerico/blob/main/primeira_prova_CN.ipynb\" target=\"_parent\"><img src=\"https://colab.research.google.com/assets/colab-badge.svg\" alt=\"Open In Colab\"/></a>"
      ]
    },
    {
      "cell_type": "markdown",
      "metadata": {
        "id": "GgaQI2Axz_1q"
      },
      "source": [
        "# Primeira questão"
      ]
    },
    {
      "cell_type": "markdown",
      "metadata": {
        "id": "_gMsc5hd0Fey"
      },
      "source": [
        "Use os métodos de **Gauss** e o de **Jordan** (os dois métodos devem ser usado) para determinar o vetor solução do seguinte sistema.\n",
        "\n",
        "$${\\begin{cases}\\begin{array}{l}8,7x_1&+&3x_2&+&9,3x_3&+&11x_4&=&&16,4\\\\24,5x_1&-&8,8x_2&+&11,5x_3&-&45,1x_4&=&-&49,7\\\\52,3x_1&-&84x_2&-&23,5x_3&+&11,4x_4&=&-&80,8\\\\21x_1&-&81x_2&-&13,2x_3&+&21,4x_4&=&-&106,30\\\\\\end{array}\\end{cases}}$$"
      ]
    },
    {
      "cell_type": "markdown",
      "metadata": {
        "id": "N4paYYw4lDl0"
      },
      "source": [
        "## Metodo de Gauss"
      ]
    },
    {
      "cell_type": "code",
      "metadata": {
        "id": "ic-kFNo_z3yS"
      },
      "source": [
        "# DEFINDO UMA MATRIZ COM O NOME GAUSS QUE RECEBE APENAS AS LISTAS\n",
        "# REFERENTES AS LINHAS DA MATRIZ \n",
        "def gauss(hea):\n",
        "    \n",
        "# VARIÁVEL\n",
        "\n",
        "    # IMPORTANDO UMA BIBLIOTECA PARA CÁLCULOS NUMÉRICOS\n",
        "    import numpy as np\n",
        "    \n",
        "    # TRANSFORMANDO AS LISTAS DE ENTRADA EM UMA ARRAY PARA QUE SEJA\n",
        "    # TRATADACOMO UMA MATRIZ \n",
        "    arr = np.array(hea, dtype=np.float64, copy=True)\n",
        "    \n",
        "    # DEFININDO UMA FUNÇÃO PARA QUE ORGANIZE A MATRIZ DE UMA FORMA\n",
        "    # A QUAL TENHA A MAIOR DIAGONAL POSSIVEL EM VALORES ABSOLUTOS\n",
        "    # QUE RECEBE A MATRIZ ARRAY MODIFICADA NA LINHA 10\n",
        "    def max_diagonal(arr):\n",
        "        \n",
        "        # DEFININDO UMA FUNÇÃO PARA PERMUTAR DE FORMA DINÂMICA AS\n",
        "        # LINHAS DAS MATRIZES E RECEBE COMO PARÂMETRO A MATRIZ arr,\n",
        "        # A LINHA QUE QUER MODIFICAR shift (INICIAL) E A LINHA A\n",
        "        # QUAL ELA DEVE IR end (FINAL)\n",
        "        def permutation(arr, shift, end):\n",
        "\n",
        "            # A LINHA INICIALS É INSERIDA NA LINHA FINAL\n",
        "            arr = np.insert(arr, end, arr[shift], axis=0)\n",
        "            \n",
        "            # CONDIÇÃO: E GRAVADO NA VARIÁVEL finale O NÚMERO DA\n",
        "            # LINHA INICIAL MAIS UM, SE A LINHA INICIAL ESTIVER A\n",
        "            # CIMA DA LINHA FINAL. CASO CONTRÁRIO, finale RECEBE\n",
        "            # APENA O NÚMERO DA LINHA INCIAL \n",
        "            finale = shift + 1 if shift > end else shift \n",
        "            \n",
        "            # REMOVE A LINHA finale, OU SEJA A LINHA EM QUE ELA SE\n",
        "            # ENCONTRAVA\n",
        "            arr = np.delete(arr, finale, axis=0)\n",
        "            \n",
        "            # FINAL DA FUNÇÃO permutation, RETORNANDO A MATRIZ MODIFICADA.\n",
        "            return arr \n",
        "\n",
        "        # LOOP DO TIPO for: RODANDO A FUNÇÃO PERMUTAÇÃO DE ACORDO COM\n",
        "        # O NÚMERO DE LINHAS DA MATRIZ arr\n",
        "        for i in range(len(arr)):\n",
        "            \n",
        "            # A MATRIZ err RECEBE A MATRIZ MODIFICADA PELA MERMUTAÇÃO\n",
        "            # AO PONTO DE SE OBTER A MAIOR DIAGONAL POSSÍVEL ABSOLUTA\n",
        "            # AO FINAL DO LOOP, RECEBENDO COMO PARÂMETRO A MATRIZ, A\n",
        "            # LINHA EM QUE O VALOR DO MAIOR NÚMERO ABSOLUTO SE ENTRA,\n",
        "            # E A LINHA EM QUE ELA DEVE IR.\n",
        "            # A COLUNA E A LINHA EM QUE ELA DEVE IR É ODIFICADA A CADA\n",
        "            # LOOP PELA VARIÁVEL i QUE PERCORRE A MATRIZ NO LOOP for\n",
        "            arr = permutation(\n",
        "                arr,\n",
        "                np.where(\n",
        "                    arr[i:, i] == max(arr[i:, i], key=abs))[0][0] + i,\n",
        "                    i\n",
        "            )\n",
        "\n",
        "        # FINAL DA FUNÇÃO max_diagonal, RETORNANDO A MATRIZ MODIFICADA\n",
        "        # COM A MAIOR DIAGONAL POSSÍVEL EM VALORES ABSOLUTOS \n",
        "        return arr\n",
        "\n",
        "    # AQUI A MATRIZ arr É PASSA PELA FUNÇÃO max_diagonal, E É TRANSFORMADA\n",
        "    # A PONTO DE SAIR COM A MAIOR DIAGONAL POSSIVEL EM TERMOS ABSOLUTOS\n",
        "    arr = max_diagonal(arr)\n",
        "\n",
        "    # NOTA: A ideia desse bloco abaixo é percorrer e modificar cada número\n",
        "    # da matriz separadametente e de forma dinâmica. Podendo receber\n",
        "    # matrizes de qualquer tamanho, até mesmo uma matriz 1000 x 1000 ou\n",
        "    # superiores\n",
        "\n",
        "    # INTERAÇÕES COM A MATRIZ: cm É UMA VARIÁVEL QUE PERCORRE AS COLUNAS\n",
        "    # DA LISTA POR MEIO DO LOOP for\n",
        "    for cm in range(len(arr[0])-2): # coluna da linha da matriz\n",
        "        \n",
        "        # l, k SÃO VARIAVEIS QUE PERCORREM cm E AS LINHAS DA MATRIZ A\n",
        "        # CADA NOVA INTERAÇÃO\n",
        "        for l, k in zip(range(cm, len(arr)-1), range(len(arr))): # linha\n",
        "            \n",
        "            # c RECEBE O VALOR DE CADA LINHA A CADA NOVA INTERAÇÃO, ASSIM\n",
        "            # COMO cm RECEBE O VALOR DE CADA COLUNA. \n",
        "            for c in range(len(arr[0])): # coluna da linha\n",
        "                \n",
        "                # CONDIÇÃO: SE c FOR 0 (FALSO), TRATE DA NEGAÇÃO DE c,\n",
        "                # OU SEJA, (VERDADEIRO),  \n",
        "                if not c:\n",
        "\n",
        "                    # DEFININDO A VARIÁVEL v1 COMO O VALOR DO NÚMERO QUE\n",
        "                    # SE ENCOTRA NA LINHA QUE RECEBE O NÚMERO DA COLUNA\n",
        "                    # E A COLUNA QUE RECEBE O NÚMERO DA COLUNA.\n",
        "                    # DEFININDO A VARIÁVEL v2 COMO O DO VALOR NÚMERO QUE\n",
        "                    # SE ENCONTRA NA LINHA QUE RECEBE COLUNA MAIS O VALOR\n",
        "                    #  DA # LINHA DA MATRIZ MAIS UM E A COLUNA RECEBE\n",
        "                    # O VALOR DA COLUNA \n",
        "                    v1, v2 = arr[cm][cm], arr[cm+k+1][cm]\n",
        "                \n",
        "                # FORA DA CONDIÇÃO: O VALOR DO NÚMERO QUE SE ENCONTRA\n",
        "                # NA LINHA cm+k+1 E COLUNA c RECEBE v1 VEZES O SEU VALOR\n",
        "                # MENOS V2 VEZES O VALOR DO NÚMERO QUE SE ENCONTRA NA\n",
        "                # LINHA COM O VALOR DA COLUNA ATUAL E COLUNA c \n",
        "                arr[cm+k+1][c] = v1*arr[cm+k+1][c]-v2*arr[cm][c]\n",
        "        \n",
        "        # A MATRIZ PASSA NOVAMENTE POR UMA TRANSFORMAÇÃO A PONTO DE SE\n",
        "        # OBTER A MAIOR DIAGONAL EM VALORES ABSOLUTOS\n",
        "        arr = max_diagonal(arr)\n",
        "\n",
        "\n",
        "    # A FUNÇÃO gauss TERMINA RETORNANDO UMA MATRIZ TRIANGULAR SUPERIOR.\n",
        "    return arr\n",
        "\n",
        "# ----\n",
        "\n",
        "# SEM OS COMENTÁRIOS A FUNÇÃO gauss TERIAS ESSA CARA:\n",
        "\n",
        "# def gauss(hea):\n",
        "#     import numpy as np\n",
        "#     \n",
        "#     arr = np.array(hea, dtype=np.float64, copy=True)\n",
        "#     \n",
        "#     def max_diagonal(arr):\n",
        "#         \n",
        "#         def permutation(arr, shift, end):\n",
        "#             arr = np.insert(arr, end, arr[shift], axis=0)\n",
        "#             finale = shift + 1 if shift > end else shift \n",
        "#             arr = np.delete(arr, finale, axis=0)\n",
        "#             return arr \n",
        "# \n",
        "#         for i in range(len(arr)):\n",
        "#             arr = permutation(\n",
        "#                 arr,\n",
        "#                 np.where(arr[i:, i] == max(arr[i:, i], key=abs)\n",
        "#                         )[0][0]+i,\n",
        "#                 i\n",
        "#             )\n",
        "#         return arr\n",
        "# \n",
        "#     arr = max_diagonal(arr)\n",
        "# \n",
        "#     for cm in range(len(arr[0])-2):\n",
        "#         for l, k in zip(range(cm, len(arr)-1), range(len(arr))):\n",
        "#             for c in range(len(arr[0])):\n",
        "#                 if not c:\n",
        "#                     v1, v2 = arr[cm][cm], arr[cm+k+1][cm]\n",
        "#                 arr[cm+k+1][c] = v1*arr[cm+k+1][c]-v2*arr[cm][c]\n",
        "#         arr = max_diagonal(arr)\n",
        "# \n",
        "#     return arr"
      ],
      "execution_count": 1,
      "outputs": []
    },
    {
      "cell_type": "code",
      "metadata": {
        "colab": {
          "base_uri": "https://localhost:8080/",
          "height": 0
        },
        "id": "3Krv-O9qM8FQ",
        "outputId": "4843be38-3bfd-4e60-8a61-9877eee93104"
      },
      "source": [
        "# RODANDO A FUNÇÃO PARA O PROBLEMA PROPOSTO E RETORNANDO A MATRIZ\n",
        "# TRIANGULAR SUPERIOR, ESSA MATRIZ SERÁ GRAVADA NA VARIÁVEL matriztt.\n",
        "\n",
        "matriztt = gauss(\n",
        "                [[8.7 ,  3  ,  9.3 ,  11  ,  16.4 ],\n",
        "                [24.5, -8.8,  11.5,  45.1, -49.7 ],\n",
        "                [52.3, -84 , -23.5,  11.4, -80.8 ],\n",
        "                [21  , -81 , -13.2,  21.5, -106.3]]\n",
        ")\n",
        "\n",
        "matriztt"
      ],
      "execution_count": 2,
      "outputs": [
        {
          "output_type": "execute_result",
          "data": {
            "text/plain": [
              "array([[ 5.23000000e+01, -8.40000000e+01, -2.35000000e+01,\n",
              "         1.14000000e+01, -8.08000000e+01],\n",
              "       [ 0.00000000e+00, -2.47230000e+03, -1.96860000e+02,\n",
              "         8.85050000e+02, -3.86269000e+03],\n",
              "       [-0.00000000e+00,  0.00000000e+00, -2.59585653e+06,\n",
              "        -6.55507228e+06,  7.70376061e+06],\n",
              "       [ 0.00000000e+00,  0.00000000e+00,  0.00000000e+00,\n",
              "        -4.95523939e+12,  1.29265655e+13]])"
            ]
          },
          "metadata": {},
          "execution_count": 2
        }
      ]
    },
    {
      "cell_type": "code",
      "metadata": {
        "id": "aXizVy-pRF1T"
      },
      "source": [
        "# PARA VIZUALIZAR O VETOR SOLUÇÃO, PRECISAREMOS DE OUTRA FUNÇÃO APENAS\n",
        "# PARA TRATAR DA MATRIZ TRIANGULAR SUPERIOR.\n",
        "\n",
        "# FUNÇÃO DENOMINADA DE RESULTADO, SERÁ ESTE FUNÇÃO QUE VAI ME POSSIBILITAR\n",
        "# VER O VETOR RESULTADOS\n",
        "def resultado(hea):\n",
        "    \n",
        "    # IMPORTANDO O PACOTE PARA CÁLCULO NUMÉRICO.\n",
        "    import numpy as np\n",
        "    \n",
        "    # TRANSFORMANDO A LISTA hea EM UMA MATRIZ DO TIPO ARRAY, E AO FINAL\n",
        "    # CRIANDO UMA VARIÁVEL mt DO TIPO LISTA\n",
        "    arr = np.array(hea, dtype=np.float64, copy=True); mt = []\n",
        "    \n",
        "    # RODANDO UM LOOP REVERSO FAZENDO A VARIÁVEL x PERCORRER O NÚMERO\n",
        "    # DE LINHAS DA MATRIZ arr\n",
        "    for x in reversed(range(len(arr))):\n",
        "        \n",
        "        # DEFINDO A VARIÁVEL s E n COMO LISTAS VAZIAS \n",
        "        n = 0; s = []\n",
        "\n",
        "        # RODANDO UM LOOP E FAZENDO AS VÁRIAVEIS i E k PERCORRER O\n",
        "        # NÚMERO DE LINHAS DA MATRIX, AO QUAL, SE DIFEREM APENAS\n",
        "        # PELO VALOR DE x QUE SERÁ SOMANDO AO INÍCIO DE i\n",
        "        for i, k in zip(range(x+1, len(arr)), range(1, len(arr))):\n",
        "            \n",
        "            # FAZENCO A VARIÁVEL RECEBER UM NÚMERO PERTENCENTE A MATRIZ\n",
        "            # NA POSIÇÃO DA LINHA x E COLUNA i  \n",
        "            s.append(arr[x][i])\n",
        "            \n",
        "            # A CADA LOOP n É SOMADO A AO NÚMERO PERTENCENTE A LISTA s\n",
        "            # NA POSIÇÃO k-1 VEZES O NÚMERO PERTENCENTE A LISTA mt NA\n",
        "            # POSIÇÃO k-1 \n",
        "            n += s[k-1]*mt[k-1]\n",
        "\n",
        "        # mt RECEBE INÍCIO DA LISTA A SEGUINTE OPERAÇÃO\n",
        "        # arr[x][len(arr)]-n)/arr.diagonal()[x] \n",
        "        mt.insert(0, (arr[x][len(arr)]-n)/arr.diagonal()[x])\n",
        "\n",
        "    # AO FINAL DA FUNÇÃO resultado É RETORNADO A LISTA mt, ESTE\n",
        "    # SERÁ O VETOR RESULTADO\n",
        "    return mt\n",
        "\n",
        "# NOTA: Por mais complexo que este programa pareça, ele é bem simples.\n",
        "# estou apenas varrendo a lista de baixo para cima, efetuando as\n",
        "# operações e salvando as variáveis encontradas.\n",
        "\n",
        "# ----\n",
        "\n",
        "# SEM OS COMENTÁRIOS ESSA FUNÇÃO TERIA ESSA CARA:\n",
        "\n",
        "# def resultado(hea):\n",
        "#\n",
        "#     import numpy as np\n",
        "#     \n",
        "#     arr = np.array(hea, dtype=np.float64, copy=True); mt = []\n",
        "#     for x in reversed(range(len(arr))):\n",
        "#         n = 0; s = []\n",
        "#         for i, k in zip(range(x+1, len(arr)), range(1, len(arr))):\n",
        "#             s.append(arr[x][i])\n",
        "#             n += s[k-1]*mt[k-1]\n",
        "# \n",
        "#         mt.insert(0, (arr[x][len(arr)]-n)/arr.diagonal()[x])\n",
        "#\n",
        "#    return mt"
      ],
      "execution_count": 3,
      "outputs": []
    },
    {
      "cell_type": "code",
      "metadata": {
        "colab": {
          "base_uri": "https://localhost:8080/",
          "height": 0
        },
        "id": "LJY76xChRxCh",
        "outputId": "bb725110-a0a7-4063-abf6-f64305d3e372"
      },
      "source": [
        "# PARA VIZUALIXAR O VETOR SOLUÇÃO DA MATRIZ, IMPRIMIMOS NA TELA\n",
        "# A SAIDA DA FUNÇÃO resultados. A ORDEM DOS RESULTADOS ESTÁ DE\n",
        "# ACORDO COM A ORDEM DAS VARIÁVEIS.\n",
        "\n",
        "print(resultado(matriztt))"
      ],
      "execution_count": 4,
      "outputs": [
        {
          "output_type": "stream",
          "name": "stdout",
          "text": [
            "[1.1966876152646817, 0.34029642180022973, 3.619705025817075, -2.6086662053002003]\n"
          ]
        }
      ]
    },
    {
      "cell_type": "markdown",
      "metadata": {
        "id": "sdCmneE4lKHz"
      },
      "source": [
        "## Metodo de Jordan"
      ]
    },
    {
      "cell_type": "code",
      "metadata": {
        "id": "fJ2RURg1lRcp"
      },
      "source": [
        "# CRIANDO A FUNÇÃO E A DENOMINANDO DE jordan\n",
        "def jordan(hea):\n",
        "\n",
        "    # IMPORTANDO A BIBLIOTECA PARA EFETUAR CÁLCULO NUMÉRICO\n",
        "    import numpy as np\n",
        "\n",
        "    # CRIANDO UMA FUNÇÃO QUE SERÁ USADA AO FINAL PARA SIMPLIFICAR\n",
        "    # OS RESULTADOS, ELA APENAS DIVIDE A DIAGONAL PRINCIPAL PELO\n",
        "    # RESULTADO NA ÚLTIMA LINHA A CADA LINHA.\n",
        "    def simple(arr):\n",
        "        \n",
        "        # EXTRAINDO A DIAGONAL, SE UTILIZANDO DE UMA FUNÇÃO INTERNA\n",
        "        # DO PYTHON DENOMINADA diagonal\n",
        "        diag = arr.diagonal()\n",
        "        \n",
        "        # RODANDO UM LOOP FOR, A INTENÇÃO É FAZER i E x CONTAR O NÚMERO\n",
        "        # A QUANTIDADE DE TERMOS NA LISTA diag E PERCORRER A LISTA diag\n",
        "        # SIMULTANEAMENTE\n",
        "        for i, x in zip(range(len(diag)), diag):\n",
        "        \n",
        "            # DIVIDINDO TODA A LINHA DA MATRIZ arr PELO VALOR DA DIAGONAL\n",
        "            # PRINCIPAL DAQUELA LINHA     \n",
        "            arr[i] = arr[i]/x\n",
        "        \n",
        "        # AO FINAL DA FUNÇÃO simple, SERÁ RETORNADO A NOVA MATRIZ\n",
        "        # SIMPLIFICADA\n",
        "        return arr\n",
        "\n",
        "    # A LISTA hea SERÁ TRANSFORMADA EM UMA MATRIZ DO TIPO arr\n",
        "    arr = np.array(hea, dtype=np.float64,  copy=True)\n",
        "\n",
        "    # RODANDO UM LOOP APENAS DUAS VEZES\n",
        "    for _ in range(2):\n",
        "\n",
        "        # DEFINDDO A VARIÁVEL bl COMO UMA LISTA VAZIA\n",
        "        bl = []\n",
        "\n",
        "        # RODANDO O LOOP E FAZENDO AS VARIÁVEIS i E k VARREREM\n",
        "        # A LISTA DE ACORDO COM O NÚMERO DE LINHAS E ARMAZENDO\n",
        "        # A POSSIÇÃO ATUAL EM k  \n",
        "        for i, k in zip(arr, range(len(arr))):\n",
        "            \n",
        "            # CONDIÇÃO: SE O LOOP NÃO ESTIVER NA PRIMERIA LINHA DA\n",
        "            # MATRIZ, REALIZE O QUE SE PEDE ABAIXO\n",
        "            if not k-1 < 0:\n",
        "                \n",
        "                # FAZENDO A VARIÁVEL bl RECEBER UMA LISTA CRIADA A\n",
        "                # PARTIR DO LOOP AO QUAL ESTÁ INSERIDA \n",
        "                bl.append([i[x] for x in range(k)])\n",
        "        \n",
        "        # ORDENANDO EM APENAS UMA LINHA A MATRIZ/LISTA bl\n",
        "        bl = np.hstack(bl)\n",
        "\n",
        "        # CONDIÇÃO: SE O PRIMEIRO TERMO DA PRIMEIRA LINHA FOR O, RODE\n",
        "        # A FUNÇÃO gauss E CONTINUE NO LOOP\n",
        "        if len(np.where(bl > 0)[0]) != 0:\n",
        "            \n",
        "            # RODANDO A FUNÇÃO gauss E ATUALIZANDO arr\n",
        "            arr = gauss(arr)\n",
        "        \n",
        "        # CASO CONTRÁRIO\n",
        "        else:\n",
        "\n",
        "            # PARE DE RODAR O LOOP\n",
        "            break\n",
        "\n",
        "    # NOTA: Percorrendo a matriz termo a termo e os trasformando de\n",
        "    # acordo com o método de gauss\n",
        "\n",
        "    # CRIANDO UM LOOP E ARMAZENANDO NA VARIÁVEL cm OS NÚMEROS DAS\n",
        "    # COLUNAS A CADA LOOP DE FORMA REVERSA \n",
        "    for cm in reversed(range(1, len(arr[0])-1)):\n",
        "        \n",
        "        # CRIANDO UM LOOP E VAZENDO AS VARIÁVEIS l E k RECEBER AS\n",
        "        # LINHAS DE FORMA REVERSA\n",
        "        for l, k in zip(reversed(range(cm)), range(1, len(arr))):\n",
        "            \n",
        "            # CRIANDO UM LOOP E FAZENDO c PERCORRER AS COLUNAS DE\n",
        "            # CADA LINHA\n",
        "            for c in range(len(arr[0])):\n",
        "\n",
        "                # CONDIÇÃO: SE NÃO FOR A PRIMEIRA VEZ QUE O LOOP ACIMA\n",
        "                # RODA, ENTÃO RODA O CÓDIGO ABAIXO\n",
        "                if not c:\n",
        "\n",
        "                    # DEFINIDO AS VARIAVEIS v1 E v2 COMO VALORES A SEREM\n",
        "                    # CALCULADOS A CADA NOVA INTERAÇÃO\n",
        "                    v1, v2 = arr[cm][cm], arr[cm-k][cm]\n",
        "\n",
        "                # EFETUANDO A OPENAÇÃO DE ESCALONAMENTO PARA CADA TERMO,\n",
        "                # POR ISSO DOS LOOP ACIMA\n",
        "                arr[cm-k][c] = v1*arr[cm-k][c]-v2*arr[cm][c]\n",
        "            \n",
        "            # AO FINAL DO TERCEIRO LOOP, SIMPLIFIQUE A MATRIZ COM A FUNÇÃO\n",
        "            # simple\n",
        "            simple(arr)\n",
        "\n",
        "    # AO FINAL DA FUNÇÃO jordan A MATRIZ MODIFICADA É RETORNADA.\n",
        "    return arr\n",
        "\n",
        "# ---\n",
        "\n",
        "# SEM COMENTÁRIOS A FUNÇÃO TERIA ESSA CARA\n",
        "\n",
        "# def jordan(hea):\n",
        "# \n",
        "#     import numpy as np\n",
        "# \n",
        "#     def simple(arr):\n",
        "#         diag = arr.diagonal()\n",
        "#         for i, x in zip(range(len(diag)), diag):\n",
        "#             arr[i] = arr[i]/x\n",
        "#         return arr\n",
        "# \n",
        "#     arr = np.array(hea, dtype=np.float64,  copy=True)\n",
        "# \n",
        "#     for _ in range(2): \n",
        "#         bl = []\n",
        "#         for i, k in zip(arr, range(len(arr))):\n",
        "#             if not k-1 < 0:\n",
        "#                 bl.append([i[x] for x in range(k)])\n",
        "#         bl = np.hstack(bl)\n",
        "# \n",
        "#         if len(np.where(bl > 0)[0]) != 0:\n",
        "#             arr = eliminacao_gauss(arr)\n",
        "#         else:\n",
        "#             break\n",
        "# \n",
        "#     for cm in reversed(range(1, len(arr[0])-1)):\n",
        "#         for l, k in zip(reversed(range(cm)), range(1, len(arr))):\n",
        "#             for c in range(len(arr[0])):\n",
        "#                 if not c:\n",
        "#                     v1, v2 = arr[cm][cm], arr[cm-k][cm]\n",
        "# \n",
        "#                 arr[cm-k][c] = v1*arr[cm-k][c]-v2*arr[cm][c]\n",
        "#             simple(arr)\n",
        "#     return arr"
      ],
      "execution_count": 5,
      "outputs": []
    },
    {
      "cell_type": "code",
      "metadata": {
        "colab": {
          "base_uri": "https://localhost:8080/",
          "height": 0
        },
        "id": "mSmVHy7Blnvp",
        "outputId": "ad18211a-faf8-42ab-a927-4fdb0f2f591e"
      },
      "source": [
        "# RODANDO A FUNÇÃO JORDAN PARA O PROBREMA PROPOSTO,\n",
        "# O VETOR RESULTADO ESTÁ NA ÚLTIMA COLUNA DA MATRIZ,\n",
        "# POR SIMPLICIDADE PREFIRO O DEIXAR ASSIM.\n",
        "\n",
        "jordan(\n",
        "        [[8.7 ,  3  ,  9.3 ,  11  ,  16.4 ],\n",
        "        [24.5, -8.8,  11.5,  45.1, -49.7 ],\n",
        "        [52.3, -84 , -23.5,  11.4, -80.8 ],\n",
        "        [21  , -81 , -13.2,  21.5, -106.3]]\n",
        ")"
      ],
      "execution_count": 6,
      "outputs": [
        {
          "output_type": "execute_result",
          "data": {
            "text/plain": [
              "array([[ 1.        ,  0.        ,  0.        ,  0.        ,  1.19668762],\n",
              "       [-0.        ,  1.        ,  0.        ,  0.        ,  0.34029642],\n",
              "       [ 0.        ,  0.        ,  1.        ,  0.        ,  3.61970503],\n",
              "       [-0.        , -0.        , -0.        ,  1.        , -2.60866621]])"
            ]
          },
          "metadata": {},
          "execution_count": 6
        }
      ]
    },
    {
      "cell_type": "markdown",
      "metadata": {
        "id": "goC-HAicnBcr"
      },
      "source": [
        "# Segunda questão"
      ]
    },
    {
      "cell_type": "markdown",
      "metadata": {
        "id": "c1g_AKDknGyv"
      },
      "source": [
        "Considerando $x^{(0)} = [1\\:3\\:1\\:3]^T$ e $\\epsilon < 10^{−2}$, use os métodos de Jacobi e o de Gauss-Seidel (os dois métodos devem ser usados) para obter a solução do sistema abaixo."
      ]
    },
    {
      "cell_type": "markdown",
      "metadata": {
        "id": "rf7JbJLwn0aM"
      },
      "source": [
        "$${\\begin{cases}\\begin{array}{l}&5x_1&-&x_2&+&2x_3&+&x_4&=&-&5\\\\&x_1&+&9x_2&-&3x_3&-&4x_4&=&-&26\\\\&&-&3x_2&-&7x_3&+&2x_4&=&-&7\\\\-&2x_1&+&2x_2&-&3x_3&+&10x_4&=&&33\\\\\\end{array}\\end{cases}}$$"
      ]
    },
    {
      "cell_type": "markdown",
      "metadata": {
        "id": "Tfv8-kpBpYNP"
      },
      "source": [
        "## Método de Jacobi"
      ]
    },
    {
      "cell_type": "code",
      "metadata": {
        "id": "gfij03WApUzP"
      },
      "source": [
        "# COMO JACOBI É UM MÉTODO ABERTO OU INTERATIVO, ISSO SE REFLETE EM MAIS\n",
        "# PARAMETROS PARA FUNÇÃO DENOMINADA DE jacobi\n",
        "def jacobi(hea, ci=[0, 0, 0], ni=100, tc=1e-2, trc=True, permu=True):\n",
        "\n",
        "    # IMPORTANDO O PACOTE NUMPY (PYTHON NUMÉRICO)\n",
        "    import numpy as np\n",
        "\n",
        "    # CRIANDO UMA FUNÇÃO PARA TRUNCAR O RESULTADO FINAL, ESTÁ FUNÇÃO\n",
        "    # ME RETORNA VERDADEIRO SE O ERRO RELÁTIVO FOR ATINGIDO\n",
        "    def trunc(arr1, arr2, tr):\n",
        "        comp = True\n",
        "        for i in range(len(arr1)):\n",
        "            comp *= abs((arr2[i]-arr1[i])/arr1[i]) < tc\n",
        "        return comp\n",
        "\n",
        "    # CRIANDO UMA FUNÇÃO DENOMIADA DE v, ESTÁ FUNÇÃO SERÁ CRUCIAL PARA\n",
        "    # O FUNCIONAMENTO DO MÉTODO\n",
        "    def v(arr, cond, line=0):\n",
        "        \n",
        "        # CRIANDO UMA MATRIZ DENOMINADA DE max_diagonal, ESTÁ FUNÇÃO JÁ\n",
        "        # FOI ABRODADA NOS METODOS DIRETOS NA QUESTÃO UM\n",
        "        def max_diagonal(arr):\n",
        "            def permutation(arr, shift, end):\n",
        "                arr = np.insert(arr, end, arr[shift], axis=0)\n",
        "                finale = shift + 1 if shift > end else shift \n",
        "                arr = np.delete(arr, finale, axis=0)\n",
        "                return arr \n",
        "            for i in range(len(arr)):\n",
        "                arr = permutation(\n",
        "                    arr,\n",
        "                    np.where(arr[i:, i] == max(arr[i:, i], key=abs)\n",
        "                    )[0][0] + i,\n",
        "                    i)\n",
        "            return arr\n",
        "\n",
        "        # SE O PARÂMETRO permu FOR DEFINIDO COMO True, RODE O CÓDIGO\n",
        "        # ABAIXO\n",
        "        if permu:\n",
        "\n",
        "            # arr É ATUALIZADO A PONTO DE SE OBTER A MAIOR DIAGONAL\n",
        "            # POSSÍVEL\n",
        "            arr = max_diagonal(arr)\n",
        "\n",
        "        # DEFINDO AS VARIÁVEIS n E rs\n",
        "        n, rs = [arr[line][-1]], 0\n",
        "\n",
        "        # n RECEBE UMA LISTA DE TERMOS CRIADAS A PARTIR DAD MATRIZ\n",
        "        # PRINCIPAL\n",
        "        n.append(\n",
        "            [x*i for x, i, c in zip(arr[line], cond, range(len(arr[0])))\n",
        "            if c != line]\n",
        "        )\n",
        "        \n",
        "        # RODANDO UM LOOP E FAZENDO k VARRER A LISTA n[1]\n",
        "        for k in n[1]:\n",
        "            rs += k\n",
        "        x = (n[0]-rs)/arr[line][line]\n",
        "\n",
        "        return x\n",
        "\n",
        "    # TRANSFORMANDO A LISTA hea EM UMA MATRIZ DO TIPO ARRAY\n",
        "    ci = [ci]; arr = np.array(hea, dtype=np.float64, copy=True)\n",
        "\n",
        "    # RODANDO UM LOOP E FAZENDO j VARRER A QUANTIDADE DEFINIDA EM ni\n",
        "    for j in range(ni):\n",
        "        ci.append([])\n",
        "        for i in range(len(arr)):\n",
        "            ci[j+1].append(v(arr, ci[j], line=i))\n",
        "        \n",
        "        # SE TRC FOR DEFINIDO COMO True, RODE O CÓDIGO ABAIXO.\n",
        "        if trc:\n",
        "            \n",
        "            # SE O ERRO DEFIDIDO FOR ATINGIDO, PARE O LOOP \n",
        "            if trunc(ci[j], ci[j+1], tr=tc):\n",
        "                break\n",
        "    \n",
        "    # AO FINAL DA FUNÇÃO jacobi É RETORNADO UMA LISTA DE LISTA CONTENDO\n",
        "    # O HISTÓRICO DE INTERAÇÕES E AO FINAL O RESULTADO ESPERADO  \n",
        "    return ci"
      ],
      "execution_count": 7,
      "outputs": []
    },
    {
      "cell_type": "code",
      "metadata": {
        "colab": {
          "base_uri": "https://localhost:8080/",
          "height": 0
        },
        "id": "Czv6q2XbppnP",
        "outputId": "8c5b4b05-012b-4b4e-e031-75c5ec1e2290"
      },
      "source": [
        "# IMPORTANDO A BIBLIOTECA NUMPY (PYTHON NUMÉRICO)\n",
        "import numpy as np\n",
        "\n",
        "# IMPRIMINDO A MATRIZ MODIFICADA PELO MÉTODO DE JACOBI\n",
        "print(np.array(jacobi(\n",
        "    [[5 , -1,  2, -1,  5],\n",
        "     [1 ,  9, -3,  4, 26],\n",
        "     [0 ,  3, -7,  2, -7],\n",
        "     [-2,  2, -3, 10, 33]],\n",
        "     ci = [1, 3, 1, 3],\n",
        "     tc = 0.01\n",
        ")))"
      ],
      "execution_count": 8,
      "outputs": [
        {
          "output_type": "stream",
          "name": "stdout",
          "text": [
            "[[1.         3.         1.         3.        ]\n",
            " [1.8        1.77777778 3.14285714 3.2       ]\n",
            " [0.7384127  2.31428571 2.67619048 4.24730159]\n",
            " [1.24184127 1.81121693 3.20535147 3.78768254]\n",
            " [0.8376393  2.13594255 2.85843084 4.14773031]\n",
            " [1.11336224 1.90519244 3.10046975 3.8978686 ]\n",
            " [0.92042431 2.06628585 2.93018779 4.07177489]\n",
            " [1.05553703 1.95367106 3.04891533 3.94988403]\n",
            " [0.96114489 2.03240809 2.96582589 4.03504779]\n",
            " [1.02716082 1.97734907 3.02390284 3.97549513]\n",
            " [0.9810077  2.0158408  2.98329106 4.0171332 ]\n",
            " [1.01327837 1.98892585 3.01168411 3.9880207 ]\n",
            " [0.99071566 2.00774346 2.99183128 4.00837574]\n",
            " [1.00649133 1.99458614 3.0057117  3.99414382]\n",
            " [0.99546131 2.00378538 2.99600658 4.00409455]\n",
            " [1.00317335 1.99735336 3.00279218 3.99713716]]\n"
          ]
        }
      ]
    },
    {
      "cell_type": "markdown",
      "metadata": {
        "id": "5OL6k57R0KNo"
      },
      "source": [
        "## Método de Gauss-Seidel"
      ]
    },
    {
      "cell_type": "code",
      "metadata": {
        "id": "6BB8ULBf0RtO"
      },
      "source": [
        "# A FUNÇÃO DE GAUSS-SEIDEL É BASTANTE SIMILAR A DE JACOBI, POR ISSO SE\n",
        "# UTILIZA DA MESMA FUNÇÃO, SALVO APENAS AO FINAL QUE MUDA A FORMA COM\n",
        "# OS TERMOS VÃO SE RELACIONAR\n",
        "def gauss_saidel(hea, ci=[0, 0, 0], ni=100, tc=1e-2, trc=True,permu=True):\n",
        "    \n",
        "    import numpy as np\n",
        "\n",
        "    def trunc(arr1, arr2, tr):\n",
        "        comp = True\n",
        "        for i in range(len(arr1)):\n",
        "            comp *= abs((arr2[i]-arr1[i])/arr1[i]) < tc\n",
        "        return comp\n",
        "\n",
        "    def v(arr, cond, line=0):\n",
        "        '''\n",
        "            Retorna uma matriz solução\n",
        "        '''\n",
        "        \n",
        "        def max_diagonal(arr):\n",
        "                \n",
        "            def permutation(arr, shift, end):\n",
        "                arr = np.insert(arr, end, arr[shift], axis=0)\n",
        "                finale = shift + 1 if shift > end else shift \n",
        "                arr = np.delete(arr, finale, axis=0)\n",
        "                return arr \n",
        "\n",
        "            for i in range(len(arr)):\n",
        "                arr = permutation(\n",
        "                    arr,\n",
        "                    np.where(arr[i:, i] == max(arr[i:, i], key=abs)\n",
        "                    )[0][0] + i,\n",
        "                    i\n",
        "                )\n",
        "            return arr\n",
        "        if permu:\n",
        "            arr = max_diagonal(arr)\n",
        "\n",
        "        n, rs = [arr[line][-1]], 0\n",
        "        n.append(\n",
        "            [x*i for x, i, c in zip(arr[line], cond, range(len(arr[0])))\n",
        "            if c != line]\n",
        "        )\n",
        "        for k in n[1]:\n",
        "            rs += k\n",
        "        x = (n[0]-rs)/arr[line][line]\n",
        "\n",
        "        return x\n",
        "\n",
        "    # AQUI OS VALORES SERÃO ARMAZENADOS EM UMA LISTA E SERÃO USADOS\n",
        "    # NA MESMA INTERAÇÃO\n",
        "    arr = np.array(hea, dtype=np.float64, copy=True)\n",
        "    \n",
        "    # PARA ISSO A VARIÁVEL hist FOI CRIADA E SERÁ RESPOSAVEL POR\n",
        "    # ARMAZENAR OS VALORES, ENQUANTO arr SERÁ MODIFICADA \n",
        "    hist = np.array([ci], dtype=np.float64, copy=True)\n",
        "\n",
        "    for j in range(1, ni+1):\n",
        "        for i in range(len(arr)):\n",
        "            ci[i] = v(arr, ci, line=i)\n",
        "        \n",
        "        hist = np.append(hist, [ci], axis=0)\n",
        "\n",
        "        # O TRUNCAMENTO IRÁ FUNCIONAR DA MESMA FORMA, MAS AGORA SERÁ\n",
        "        # APLICADO A VARIÁVEL hist\n",
        "        if trc:\n",
        "            if trunc(hist[j-1], hist[j], tr=tc):\n",
        "                break\n",
        "    \n",
        "    # AO FINAL DO PROGRAMA, hist É RETORNADA PARA QUE OS SEUS VALORES\n",
        "    # SEJAM ANALIZADOS\n",
        "    return hist"
      ],
      "execution_count": 9,
      "outputs": []
    },
    {
      "cell_type": "code",
      "metadata": {
        "colab": {
          "base_uri": "https://localhost:8080/",
          "height": 0
        },
        "id": "k1TcjJ1a0imd",
        "outputId": "1819ae1b-eb18-48fe-88f5-87999c248010"
      },
      "source": [
        "# IMPRIMINDO A MATRIZ MODIFICADA PELO MÉTODO DE SAIDEL\n",
        "\n",
        "print(gauss_saidel(\n",
        "    [[5 , -1,  2, -1,  5],\n",
        "     [1 ,  9, -3,  4, 26],\n",
        "     [0 ,  3, -7,  2, -7],\n",
        "     [-2,  2, -3, 10, 33]],\n",
        "     ci = [1, 3, 1, 3],\n",
        "     tc = 0.01\n",
        "\n",
        "))"
      ],
      "execution_count": 10,
      "outputs": [
        {
          "output_type": "stream",
          "name": "stdout",
          "text": [
            "[[1.         3.         1.         3.        ]\n",
            " [1.8        1.68888889 2.58095238 4.09650794]\n",
            " [1.12469841 1.80356966 2.94338927 4.04724253]\n",
            " [0.99280673 1.96093233 2.99675458 4.00540125]\n",
            " [0.99456489 1.99712154 3.00030959 3.99958155]\n",
            " [0.99921678 2.0003762  3.00004167 3.99978062]]\n"
          ]
        }
      ]
    },
    {
      "cell_type": "markdown",
      "metadata": {
        "id": "LSCEs1Wj1ZjC"
      },
      "source": [
        "# Terceira questão"
      ]
    },
    {
      "cell_type": "markdown",
      "metadata": {
        "id": "nE0ghBMZ1gD3"
      },
      "source": [
        "Seja o diagrama de um circuito.\n",
        "\n",
        "![WhatsApp Image 2021-10-12 at 3.50.26 PM.jpeg](data:image/jpeg;base64,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)"
      ]
    },
    {
      "cell_type": "markdown",
      "metadata": {
        "id": "wYkHx5ld29WA"
      },
      "source": [
        "A corrente que flui do nó $p$ para o nó $q$ de uma rede elétrica é $I_{pq} =\n",
        "\\frac{V_p − V_q}{R_{pq}}$, onde $I$ é dado em ampères e $R$ em ohms. $V_p$ e $V_q$ são voltagens nos nós $p$ e $q$, respectivamente, e $R_{pq}$ é a resistência no arco $pq$ (LEI DE OHM).\n",
        "\n",
        "\n",
        "A soma das correntes que chegam a cada nó é nula (LEI DE KIRCHOFF), assim,\n",
        "as equações que relacionam as voltagens podem ser obtidas.\n",
        "\n",
        "\n",
        "No nó $1$, temos a equação $I_A + I_{21} + I_{41} = 0$, ou seja,\n",
        "\n",
        "$$ \\frac{100 − V1}{2} + \\frac{V2 − V1}{1} + \\frac{V4 − V1}{2} = 0 $$\n",
        "\n",
        "\n",
        "ou\n",
        "\n",
        "$$ −4V_1 + 2V_2 + V_4 = −100. $$\n",
        "\n",
        "\n",
        "a) Obtenha as equações dos nós 2, 3 e 4;\n",
        "\n",
        "\n",
        "b) Resolva, por qualquer método, o sistema linear formado pelas equações dos\n",
        "nós $1, 2, 3$ e $4$, a fim de obter as voltagens em cada nó do circuito."
      ]
    },
    {
      "cell_type": "markdown",
      "metadata": {
        "id": "LIG6me9mUraH"
      },
      "source": [
        "## Item a)"
      ]
    },
    {
      "cell_type": "markdown",
      "metadata": {
        "id": "59YZRBHUUwRD"
      },
      "source": [
        "Equações:\n",
        "\n",
        "Nó 1 $\\qquad\\frac{100-V_1}{2}+\\frac{V_2-V_1}{1}+\\frac{V_4-V_1}{2}=0$\n",
        "\n",
        "\n",
        "Nó 2 $\\qquad\\frac{V_1-V_2}{1}+\\frac{V_3-V_2}{1}=0$\n",
        "\n",
        "\n",
        "Nó 3 $\\qquad\\frac{V_2-V_3}{1}+\\frac{V_4-V_3}{2}=0$\n",
        "\n",
        "\n",
        "Nó 4 $\\qquad\\frac{0-V_4}{5}+\\frac{V_3-V_4}{2}+\\frac{V_1-V_4}{2}=0$\n",
        "\n",
        "\\\\\n",
        "Após a analise do problema, as seguintes equações foram descorbertas. utilizaremos do método de Seidel para a solução deste sistema.\n",
        "\n",
        "\\\\\n",
        "\n",
        "$\\begin{array}{l}\n",
        "&-&4V_1&+&2V_2&&&+&V_4&=&-&100\\\\\n",
        "&&V_1&-&2V_2&+&V_3&&&=&&0\\\\\n",
        "&&&&2V_2&-&3V_3&+&V_4&=&&0\\\\\n",
        "&&5V_1&&&+&5V_3&-&12V_4&=&&0\n",
        "\\end{array}$"
      ]
    },
    {
      "cell_type": "code",
      "metadata": {
        "colab": {
          "base_uri": "https://localhost:8080/",
          "height": 0
        },
        "id": "4dSOB5JW5hqr",
        "outputId": "56c3c96f-21ca-43c6-86a3-c00e1c9f2136"
      },
      "source": [
        "# SE UTILIZANDO NO METODO DE GAUSS-SEIDEL, OS VELORES DE V1, V2, V3, V4\n",
        "# ESTÃO RETORNADOS NA ÚLTIMA COLUNA DA MATRIZ.\n",
        "\n",
        "jordan(\n",
        "    [[-4,  2,  0,   1, -100],\n",
        "     [ 1, -2,  1,   0,    0],\n",
        "     [ 0,  2, -3,   1,    0],\n",
        "     [ 5,  0,  5, -12,    0]]\n",
        ")"
      ],
      "execution_count": 11,
      "outputs": [
        {
          "output_type": "execute_result",
          "data": {
            "text/plain": [
              "array([[ 1.,  0.,  0.,  0., 76.],\n",
              "       [ 0.,  1.,  0.,  0., 72.],\n",
              "       [-0., -0.,  1., -0., 68.],\n",
              "       [-0., -0.,  0.,  1., 60.]])"
            ]
          },
          "metadata": {},
          "execution_count": 11
        }
      ]
    },
    {
      "cell_type": "markdown",
      "metadata": {
        "id": "SYWuGsZ-5hLO"
      },
      "source": [
        "# Quarta questão"
      ]
    },
    {
      "cell_type": "markdown",
      "metadata": {
        "id": "tOtflUtE5k1s"
      },
      "source": [
        "Utilize um método diferente em cada item para determinar os zeros das funções\n",
        "abaixo.\n",
        "\n",
        "\n",
        "a) $f(x) = \\sin x − \\ln x$, com $\\epsilon ≤ 10^{−3}$;\n",
        "\n",
        "\n",
        "b) $f(x) = 0,2x^3 − 3,006x^2 + 15,06x − 25,15$, com $\\epsilon ≤ 10^{−4}$;\n",
        "\n",
        "\n",
        "c) $f(x) = x^5 − 9x^4 + 7x^3 + 185x^2 − 729x + 1040$, com $\\epsilon ≤ 10^{−2}$;\n",
        "\n",
        "\n",
        "d) $f(x) = x^3 − e^{2x} + 3$, com $\\epsilon ≤ 10^{−3}$."
      ]
    },
    {
      "cell_type": "markdown",
      "metadata": {
        "id": "iWil0s5_6_yk"
      },
      "source": [
        "## Item a)\n",
        "\n",
        "$f(x) = \\sin x − \\ln x$, com $\\epsilon ≤ 10^{−3}$;"
      ]
    },
    {
      "cell_type": "code",
      "metadata": {
        "id": "MsdKOtgP7JNE"
      },
      "source": [
        "# CRIANDO UMA FUNÇÃO DENOMINADA DE BISSECÇÃO\n",
        "def bisseccao(a, b, n=100, e=0.001):\n",
        "    \n",
        "    # RODANDO UM LOOP E FAZENDO l VARRER DE 0 À 99 \n",
        "    for l in range(n):\n",
        "\n",
        "        # CONDIÇÃO: SE O LOOP RODAR PELA PRIMEIRA VEZ xi RECEBE A,\n",
        "        # CASO CONTRÁRIO DEVERÁ RECEBER x\n",
        "        xi = a if l == 0 else x\n",
        "        \n",
        "        # A CADA NOVA INTERAÇÃO A MEDIA DOS INTERVALOS É RETIRADA\n",
        "        x = (a+b)/2\n",
        "\n",
        "        # CONDIÇÃO: SE F(a) ou f(b) for um raiz do problema, a raiz\n",
        "        # recebe a ou b e para o loop.\n",
        "        # O LOOP TAMBÉM DEVE PARAR SE O ERRO RELATIVO FOR ALCANÇADO\n",
        "        if f(a) == 0 or f(b) == 0 or abs((xi-x)/x) < e:\n",
        "            raiz = a if f(a) == 0 else raiz\n",
        "            raiz = b if f(b) == 0 else raiz\n",
        "            break\n",
        "\n",
        "        # CASO CONTRÁRIO, OS INTERVALOS SERÃO ANALIZADOS PELO TEÓREMA\n",
        "        # DE BOLZANO E a OU b ASSUME O VALOR DE x\n",
        "        else:\n",
        "            a = x if f(x) * f(a) > 0 else a \n",
        "            b = x if f(x) * f(b) > 0 else b\n",
        "            raiz = x\n",
        "\n",
        "    # A FUNÇÃO SE ENCERRA, RETORNANDO A RAIZ, O NÚMERO DE LOOP E O\n",
        "    # ERRO RELÁTIVO\n",
        "    return (raiz, l, abs((xi-x)/x))\n",
        "\n",
        "# ---\n",
        "\n",
        "# SEM OS COMENTÁRIOS, A FUNÇÃO TERIA ESSA CARA.\n",
        "\n",
        "# def bisseccao(a, b, n=100, e=0.001):\n",
        "#      \n",
        "#     for l in range(n):\n",
        "#         xi = a if l == 0 else x\n",
        "#         x = (a+b)/2\n",
        "#         if f(a) == 0 or f(b) == 0 or abs((xi-x)/x) < e:\n",
        "#             raiz = a if f(a) == 0 else raiz\n",
        "#             raiz = b if f(b) == 0 else raiz\n",
        "#             break\n",
        "# \n",
        "#         else:\n",
        "#             a = x if f(x) * f(a) > 0 else a \n",
        "#             b = x if f(x) * f(b) > 0 else b\n",
        "#             raiz = x\n",
        "# \n",
        "#     return (raiz, l, abs((xi-x)/x))"
      ],
      "execution_count": 12,
      "outputs": []
    },
    {
      "cell_type": "code",
      "metadata": {
        "colab": {
          "base_uri": "https://localhost:8080/",
          "height": 0
        },
        "id": "ib9lOUlw7TIa",
        "outputId": "03560790-5aa9-4365-8dc0-25fbe5a0f3c6"
      },
      "source": [
        "# IMPORTANDO O NUMPY (PYTHON NUMÉRICO)\n",
        "import numpy as np\n",
        "\n",
        "# DEFINDO UMA FUNÇÃO f COM A FUNÇÃO DO PROBLEMA\n",
        "f = lambda x: np.sin(x)-np.log(x)\n",
        "\n",
        "# RETORNANDO APENAS A RAIZ ENCONTRADA\n",
        "bisseccao(1, 3, e=1e-3)[0]"
      ],
      "execution_count": 13,
      "outputs": [
        {
          "output_type": "execute_result",
          "data": {
            "text/plain": [
              "2.22265625"
            ]
          },
          "metadata": {},
          "execution_count": 13
        }
      ]
    },
    {
      "cell_type": "markdown",
      "metadata": {
        "id": "lCC3tsBI93aR"
      },
      "source": [
        "## Item b)\n",
        "\n",
        "$f(x) = 0,2x^3 − 3,006x^2 + 15,06x − 25,15$, com $\\epsilon ≤ 10^{−4}$;\n",
        "\n"
      ]
    },
    {
      "cell_type": "code",
      "metadata": {
        "id": "x5wlAfMm92yv"
      },
      "source": [
        "# CRIANDO A FUNÇÃO PARA O MÉTODO DAS CORDAS, DENOMINADO corda.\n",
        "# ESTE MÉTODO SEGUE OS MESMOS PASSOS DA FUNÇÃO bisseccao, SALVO APENAS\n",
        "# EM COMO O x É OBTIDO A CADA NOVA INTERAÇÃO\n",
        "def corda(a, b, n=100, e=0.001):\n",
        "\n",
        "    for l in range(n):    \n",
        "        xi = a if l == 0 else x\n",
        "\n",
        "        # NESTE PONTO A FUNÇÃO MUDA E x É OBTIDO DE ACORDO COM A FORMULÁ\n",
        "        # DO MÉTODO DAS CORDAS\n",
        "        x = a-f(a)*(b-a)/(f(b)-f(a)) \n",
        "\n",
        "        if f(a) == 0 or f(b) == 0 or abs((x-xi)/x) < e:\n",
        "            raiz = a if f(a) == 0 else raiz\n",
        "            raiz = b if f(b) == 0 else raiz\n",
        "            break\n",
        "\n",
        "        else:\n",
        "            a = x if f(x) * f(a) > 0 else a \n",
        "            b = x if f(x) * f(b) > 0 else b\n",
        "            raiz = x\n",
        "\n",
        "    return (raiz, l, abs((x-xi)/x))\n",
        "\n",
        "# ---\n",
        "\n",
        "# SEM OS COMENTÁRIOS, A FUNÇÃO TERIA ESSA CARA.\n",
        "\n",
        "# def corda(a, b, n=100, e=0.001):\n",
        "# \n",
        "#     for l in range(n):    \n",
        "#         xi = a if l == 0 else x\n",
        "#         x = a-f(a)*(b-a)/(f(b)-f(a)) \n",
        "# \n",
        "#         if f(a) == 0 or f(b) == 0 or abs((x-xi)/x) < e:\n",
        "#             raiz = a if f(a) == 0 else raiz\n",
        "#             raiz = b if f(b) == 0 else raiz\n",
        "#             break\n",
        "# \n",
        "#         else:\n",
        "#             a = x if f(x) * f(a) > 0 else a \n",
        "#             b = x if f(x) * f(b) > 0 else b\n",
        "#             raiz = x\n",
        "# \n",
        "#     return (raiz, l, abs((x-xi)/x))"
      ],
      "execution_count": 14,
      "outputs": []
    },
    {
      "cell_type": "code",
      "metadata": {
        "colab": {
          "base_uri": "https://localhost:8080/",
          "height": 0
        },
        "id": "RvkOOjoe-WJQ",
        "outputId": "bb35212f-6545-4301-c781-b96ceedb8fe0"
      },
      "source": [
        "# IMPORTANDO O NUMPY (PYTHON NUMÉRICO)\n",
        "import numpy as np\n",
        "\n",
        "# DEFINDO UMA FUNÇÃO f COM A FUNÇÃO DO PROBLEMA\n",
        "f = lambda x: 0.2*x**3-3.006*x**2+15.06*x-25.15\n",
        "\n",
        "# APLICANDO A FUNÇÃO corda E OBTENDO APENAS A RAIZ DO PROBLEMA\n",
        "# QUE SE ENCONTRA NO INTERVALO 4 À 7.\n",
        "corda(4, 7,n=1000, e=1e-4)[0]"
      ],
      "execution_count": 15,
      "outputs": [
        {
          "output_type": "execute_result",
          "data": {
            "text/plain": [
              "4.887346608889715"
            ]
          },
          "metadata": {},
          "execution_count": 15
        }
      ]
    },
    {
      "cell_type": "markdown",
      "metadata": {
        "id": "92tlaqly-FJ_"
      },
      "source": [
        "## Item c)\n",
        "\n",
        "$f(x) = x^5 − 9x^4 + 7x^3 + 185x^2 − 729x + 1040$, com $\\epsilon ≤ 10^{−2}$;"
      ]
    },
    {
      "cell_type": "code",
      "metadata": {
        "id": "BcUDv1xz-T_e"
      },
      "source": [
        "# CRIANDO A FUNÇÃO newton, ESTÁ FUNÇÃO SE UTILIZA DE APENAS UM\n",
        "# VALOR INÍCIAL\n",
        "def newton(a, n=100, e=0.01):\n",
        "    \n",
        "    # SE UTILIZANDO DA DERIVAÇÃO NUMÉRICA PARA SE OBTER f'(X)\n",
        "    df = lambda a, h=e:(f(a + h)-f(a-h))/(2*h)\n",
        "\n",
        "    # RODANDO UM LOOP E FAZENDO i VARRER DE 0 À 99 COMO FOI DEFINIDO\n",
        "    # NOS PARÂMETROS DA FUNÇÃO\n",
        "    for i in range(n):\n",
        "\n",
        "        # CONDIÇÃO: SE ESTIVER NO PRIMEIRO LOOP, x RECEBE a, CASO\n",
        "        # CONTRÁRIO, x RECEBE UMA APROXIMAÇÃO DA FUNÇÃO PELA SERIE\n",
        "        # DE TEYLOR TRUNCADA NO SEGUNDO TERMO\n",
        "        x = a if i == 0 else x-f(x)/df(x)\n",
        "        \n",
        "        # CONDIÇÃO: SE NÃO FOR A PRIMEIRA VEZ QUE O LOOP RODA\n",
        "        # ERRO SERÁ DEFINIDO COMO O ERRO RELÁTIVO PEGANDO OS VALORES\n",
        "        # OBTIDOS, CASO CONTRÁRIO, error RECEBE UM VALOR QUALQUER QUE\n",
        "        # EU DEFINI COMO 1\n",
        "        error = abs((er-x)/x) if i != 0 else 1; er = x\n",
        "        \n",
        "        # SE O ERRO FOR ATINGIDO, O PROGRAMA PARA\n",
        "        if error <= e:\n",
        "            break\n",
        "    # A FUNÇÃO TERMINA, RETORNANDO A RAIZ, O NÚMERO DE LOOPS E O\n",
        "    # ERRO RELÁTIVO\n",
        "    return x, i, error\n",
        "\n",
        "# ---\n",
        "\n",
        "# SEM OS COMENTÁRIOS, A FUNÇÃO TERIA ESSA CARA.\n",
        "\n",
        "# def newton(a, n=100, e=0.01):\n",
        "#     \n",
        "#     df = lambda a, h=e:(f(a + h)-f(a-h))/(2*h)\n",
        "# \n",
        "#     for i in range(n):\n",
        "#         x = a if i == 0 else x-f(x)/df(x)\n",
        "#         error = abs((er-x)/x) if i != 0 else 1; er = x\n",
        "#         if error <= e:\n",
        "#             break\n",
        "#     \n",
        "#     return x, i, error"
      ],
      "execution_count": 16,
      "outputs": []
    },
    {
      "cell_type": "code",
      "metadata": {
        "colab": {
          "base_uri": "https://localhost:8080/",
          "height": 0
        },
        "id": "0xgX3Lf_-Wng",
        "outputId": "7e66b867-efd6-4900-f083-0fc61d8b7f98"
      },
      "source": [
        "# IMPORTANDO O NUMPY (PYTHON NUMÉRICO)\n",
        "import numpy as np\n",
        "\n",
        "# DEFINDO UMA FUNÇÃO f COM A FUNÇÃO DO PROBLEMA\n",
        "f = lambda x: x**5-9*x**4+7*x**3+185*x**2-729*x+1040\n",
        "\n",
        "# RODANDO A FUNÇÃO newton E DEFINDO O ERRO COMO FOI SOLICITADO.\n",
        "newton(0, e=1e-2)"
      ],
      "execution_count": 17,
      "outputs": [
        {
          "output_type": "execute_result",
          "data": {
            "text/plain": [
              "(-4.941959034344222, 47, 0.000982841588756246)"
            ]
          },
          "metadata": {},
          "execution_count": 17
        }
      ]
    },
    {
      "cell_type": "markdown",
      "metadata": {
        "id": "z4RzYVJ7-GU7"
      },
      "source": [
        "## Item d)\n",
        "\n",
        "$f(x) = x^3 − e^{2x} + 3$, com $\\epsilon ≤ 10^{−3}$."
      ]
    },
    {
      "cell_type": "code",
      "metadata": {
        "id": "dWk6j3My-Ucf"
      },
      "source": [
        "# CRIANDO UMA FUNÇÃO DENOMINADA DE in_linear.\n",
        "def in_linear(a, n=100, e=0.1):\n",
        "\n",
        "    # RODANDO UM LOOP E FAZENDO l VARRER DE 0 Á 99, MAS PODE SER\n",
        "    # MUDADO PASSANDO UM NOVO PARÂMETRO\n",
        "    for l in range(n):\n",
        "        \n",
        "        # CONDIÇÃO: SE O LOOP ESTIVER RODDANDO NA PRIMEIRA VEZ,\n",
        "        # RAIZ RECEBE UMA VALOR QUALQUER DEFINIDO COMO a, CASO\n",
        "        # CONTRÁRIO, RAIZ RECEBE g(raiz) ONDE g É A FUNÇÃO PASSADA\n",
        "        raiz = a if l == 0 else g(raiz)\n",
        "        \n",
        "        # SE O LOOP ESTIVER RODANDO PELA PRIMEIRA VEZ O ERRO VAI\n",
        "        # RECEBER UM VALOR QUALQUER DEFINIDO COMO INÍCIALMENTE COMO 1,\n",
        "        # CASO CONTRÁRIO, ELE DEVE RECEBER O ERRO RELÁTIVO A PARTIR DOS\n",
        "        # PONTOS OBTIDOS\n",
        "        error = 1 if l == 0 else abs((r2-raiz)/raiz)\n",
        "        \n",
        "        # SE O ERRO RELÁTIVO FOR ALCANÇADO, O PROGRAMA DEVE PARAR\n",
        "        if error < e:\n",
        "            break\n",
        "\n",
        "        # DEFINDO r2 COMO A RAIZ E ELA SERÁ USADA PARA SE OBTER O ERRO\n",
        "        # RELÁTIVO\n",
        "        r2 = raiz\n",
        "\n",
        "    # O PROGRAMA TERMINA RETORNANDO A RAIZ, O NÚMERO DE LOOPS E O ERRO\n",
        "    # RELÁTIVO.\n",
        "    return raiz, l, error\n",
        "\n",
        "# ---\n",
        "\n",
        "# SEM OS COMENTÁRIOS, A FUNÇÃO TERIA ESSA CARA.\n",
        "\n",
        "# def in_linear(a, n=100, e=0.1):\n",
        "#     for l in range(n):\n",
        "#         raiz = a if l == 0 else g(raiz)\n",
        "#         error = 1 if l == 0 else abs((r2-raiz)/raiz)\n",
        "#         if error < e:\n",
        "#             break\n",
        "#         r2 = raiz\n",
        "#     return raiz, l, error"
      ],
      "execution_count": 18,
      "outputs": []
    },
    {
      "cell_type": "code",
      "metadata": {
        "colab": {
          "base_uri": "https://localhost:8080/",
          "height": 0
        },
        "id": "Nm8mEmIf-W3Q",
        "outputId": "b88d75df-5988-4ca2-95de-3c5984d5cd11"
      },
      "source": [
        "# IMPORTANDO O NUMPY (PYTHON NUMÉRICO)\n",
        "import numpy as np\n",
        "\n",
        "# DEFINDO UMA FUNÇÃO f COM A FUNÇÃO DO PROBLEMA\n",
        "f = lambda x: x**3-np.exp(2*x)+3\n",
        "# DEFININDO UMA FUNÇÃO g COMO ALTERNATIVA A f, ELA FOI OBTIDA APENAS\n",
        "# ISSOLANDO O x DA EXPONENCIAL\n",
        "g = lambda x: np.log(x**3+3)/2\n",
        "\n",
        "# RETORNANDO APENAS A RAIZ DO PROBLEMA AO APLICAR A FUNÇÃO in_linear\n",
        "in_linear(0, e=1e-3)[0]"
      ],
      "execution_count": 19,
      "outputs": [
        {
          "output_type": "execute_result",
          "data": {
            "text/plain": [
              "0.5809446691035433"
            ]
          },
          "metadata": {},
          "execution_count": 19
        }
      ]
    },
    {
      "cell_type": "markdown",
      "metadata": {
        "id": "SupL4iHCEP4y"
      },
      "source": [
        "# Quinta questão"
      ]
    },
    {
      "cell_type": "markdown",
      "metadata": {
        "id": "CL2ahdRuEUs-"
      },
      "source": [
        "Determine o comprimento $L$ de um cabo suspenso em dois pontos do mesmo nível\n",
        "e distantes $(2x)\\:400m$, com flecha $f$ de $100m$, sabendo que\n",
        "\n",
        "\n",
        "$$L = 2a\\cdot senh\\left(\\frac{x}{a}\\right)$$\n",
        "\n",
        "\n",
        "Sendo $a$ a raiz da equação\n",
        "\n",
        "$$a\\left(cosh\\left(\\frac{x}{a}\\right)-1\\right)-f=0$$"
      ]
    },
    {
      "cell_type": "markdown",
      "metadata": {
        "id": "-HwpKJF5RmO-"
      },
      "source": [
        "Como:\n",
        "\n",
        "$x=200m$\n",
        "\n",
        "e \n",
        "\n",
        "$f=100m$"
      ]
    },
    {
      "cell_type": "code",
      "metadata": {
        "colab": {
          "base_uri": "https://localhost:8080/",
          "height": 0
        },
        "id": "QXOIImejgx6d",
        "outputId": "1e3a97ad-dd3f-4417-9288-fd4aac85b3ea"
      },
      "source": [
        "# IMPORTANDO O PACOTE NUMPY (PYTHON NUMÉRICO)\n",
        "import numpy as np\n",
        "\n",
        "# DEFININDO A FUNÇÃO f(x) COMO A FUNÇÃO DO PROBLEMA\n",
        "f = lambda a: a*(np.cosh(200/a)-1)-100\n",
        "\n",
        "# ENCONTRANDO A RAIZ PELO MÉTODO DE NEWTON, QUE JÁ FOI COMENTADO.\n",
        "newton(100, e=1e-5)"
      ],
      "execution_count": 20,
      "outputs": [
        {
          "output_type": "execute_result",
          "data": {
            "text/plain": [
              "(214.86403765166057, 6, 1.0096260336646527e-06)"
            ]
          },
          "metadata": {},
          "execution_count": 20
        }
      ]
    },
    {
      "cell_type": "markdown",
      "metadata": {
        "id": "2xHxKhGVTMNr"
      },
      "source": [
        "Assim $L$ será"
      ]
    },
    {
      "cell_type": "code",
      "metadata": {
        "colab": {
          "base_uri": "https://localhost:8080/",
          "height": 0
        },
        "id": "NDuNGoXZxllo",
        "outputId": "aac17214-b942-42a3-a3d0-b1366800385e"
      },
      "source": [
        "2*newton(100, e=1e-5)[0]*np.sinh(200/newton(100, e=1e-5)[0])"
      ],
      "execution_count": 23,
      "outputs": [
        {
          "output_type": "execute_result",
          "data": {
            "text/plain": [
              "460.3164456346076"
            ]
          },
          "metadata": {},
          "execution_count": 23
        }
      ]
    },
    {
      "cell_type": "code",
      "metadata": {
        "id": "erkN11xcy8DN"
      },
      "source": [
        ""
      ],
      "execution_count": null,
      "outputs": []
    },
    {
      "cell_type": "code",
      "metadata": {
        "colab": {
          "base_uri": "https://localhost:8080/",
          "height": 128
        },
        "cellView": "form",
        "id": "_JpQk2YIUBFU",
        "outputId": "5b8ccfc5-db2f-4f34-956f-9669207119e2"
      },
      "source": [
        "#@title\n",
        "\n",
        "%%html\n",
        "\n",
        "<table style=\"white-space: nowrap; width: 0px;\" border=\"0\" cellspacing=\"0\">\n",
        "  <tbody>\n",
        "    <tr>\n",
        "      <td style=\"vertical-align: 0px;\">\n",
        "        <img style=\"border-right: 3px solid #ff6b00; padding-right: 13px; height: 90px;\" src=\"https://i.pinimg.com/280x280_RS/79/42/c4/7942c414d01e7c8f8c179f905a5a86eb.jpg\"/></td>\n",
        "        <td style=\"white-space: nowrap; font-family: Helvetica, Arial; padding-left: 11px; font-size: 12px; vertical-align: middle; width: 560px;\">\n",
        "        <h1 style=\"white-space: nowrap; font-size: 14px; color: #ff6b00; line-height: 1; margin: 0 0 8px 0;\">\n",
        "          <b>CLEBSON DOS SANTOS MARQUES</b>\n",
        "        </h1>\n",
        "\n",
        "        <span style=\"color: #808080; data-contrast: none;\">\n",
        "          Estudante do Curso de Licenciatura em F&iacute;sica pela Universidade Estadual Vale do Acara&uacute;<br />\n",
        "        </span>\n",
        "        <span style=\"white-space: nowrap; font-size: 12px; color: #ff6b00; line-height: 1px; margin: 0 0 8px 0;\" data-contrast=\"none\">\n",
        "          <b>Tel.:</b>\n",
        "        </span>\n",
        "        <span style=\"color: #808080; data-contrast: none;\">(88) 9 9412 2413\n",
        "          <br /><a style=\"color: #808080; data-contrast: none; text-decoration: none;\" href=\"mailto:klebersantosy@gmail.com\">klebersantosy@gmail.com</a><br />\n",
        "          <a style=\"color: #808080; data-contrast: none; text-decoration: none;\" href=\"http://lattes.cnpq.br/9411163467458250\">http://lattes.cnpq.br/9411163467458250</a>\n",
        "        </span>\n",
        "\n",
        "        <div style=\"white-space: nowrap; margin-top: 8px;\">\n",
        "          <a style=\"white-space: nowrap; display: inline-block;\" href=\"https://api.whatsapp.com/send?phone=558894122413\">\n",
        "            <img style=\"white-space: nowrap; width: 20px; height: 20px;\" src=\"https://icon-library.com/images/icon-whatsapp-png/icon-whatsapp-png-2.jpg\" />\n",
        "          </a> <a style=\"white-space: nowrap; display: inline-block;\" href=\"https://t.me/clebson_marques\">\n",
        "            <img style=\"white-space: nowrap; width: 20px; height: 20px;\" src=\"https://www.freepnglogos.com/uploads/telegram-png/telegram-communications-icons-24.png\" />\n",
        "          </a> <a style=\"white-space: nowrap; display: inline-block;\" href=\"https://www.passeidireto.com/perfil/371127-klebson-marques/\">\n",
        "            <img style=\"white-space: nowrap; width: 20px; height: 20px;\" src=\"https://img.utdstc.com/icon/f63/09d/f6309d71c42e9f12c4aaf4800260f4c2ae9637ab4b148c381e8378e80ccce0e6:200\" />\n",
        "          </a> <a style=\"white-space: nowrap; display: inline-block;\" href=\"https://github.com/kleber293\">\n",
        "            <img style=\"white-space: nowrap; width: 26px; height: 20px; object-fit: cover;\" src=\"http://pngimg.com/uploads/github/github_PNG69.png\" /></a>\n",
        "        </div>\n",
        "      </td>\n",
        "    </tr>\n",
        "  </tbody>\n",
        "</table>"
      ],
      "execution_count": 21,
      "outputs": [
        {
          "output_type": "display_data",
          "data": {
            "text/html": [
              "\n",
              "<table style=\"white-space: nowrap; width: 0px;\" border=\"0\" cellspacing=\"0\">\n",
              "  <tbody>\n",
              "    <tr>\n",
              "      <td style=\"vertical-align: 0px;\">\n",
              "        <img style=\"border-right: 3px solid #ff6b00; padding-right: 13px; height: 90px;\" src=\"https://i.pinimg.com/280x280_RS/79/42/c4/7942c414d01e7c8f8c179f905a5a86eb.jpg\"/></td>\n",
              "        <td style=\"white-space: nowrap; font-family: Helvetica, Arial; padding-left: 11px; font-size: 12px; vertical-align: middle; width: 560px;\">\n",
              "        <h1 style=\"white-space: nowrap; font-size: 14px; color: #ff6b00; line-height: 1; margin: 0 0 8px 0;\">\n",
              "          <b>CLEBSON DOS SANTOS MARQUES</b>\n",
              "        </h1>\n",
              "\n",
              "        <span style=\"color: #808080; data-contrast: none;\">\n",
              "          Estudante do Curso de Licenciatura em F&iacute;sica pela Universidade Estadual Vale do Acara&uacute;<br />\n",
              "        </span>\n",
              "        <span style=\"white-space: nowrap; font-size: 12px; color: #ff6b00; line-height: 1px; margin: 0 0 8px 0;\" data-contrast=\"none\">\n",
              "          <b>Tel.:</b>\n",
              "        </span>\n",
              "        <span style=\"color: #808080; data-contrast: none;\">(88) 9 9412 2413\n",
              "          <br /><a style=\"color: #808080; data-contrast: none; text-decoration: none;\" href=\"mailto:klebersantosy@gmail.com\">klebersantosy@gmail.com</a><br />\n",
              "          <a style=\"color: #808080; data-contrast: none; text-decoration: none;\" href=\"http://lattes.cnpq.br/9411163467458250\">http://lattes.cnpq.br/9411163467458250</a>\n",
              "        </span>\n",
              "\n",
              "        <div style=\"white-space: nowrap; margin-top: 8px;\">\n",
              "          <a style=\"white-space: nowrap; display: inline-block;\" href=\"https://api.whatsapp.com/send?phone=558894122413\">\n",
              "            <img style=\"white-space: nowrap; width: 20px; height: 20px;\" src=\"https://icon-library.com/images/icon-whatsapp-png/icon-whatsapp-png-2.jpg\" />\n",
              "          </a> <a style=\"white-space: nowrap; display: inline-block;\" href=\"https://t.me/clebson_marques\">\n",
              "            <img style=\"white-space: nowrap; width: 20px; height: 20px;\" src=\"https://www.freepnglogos.com/uploads/telegram-png/telegram-communications-icons-24.png\" />\n",
              "          </a> <a style=\"white-space: nowrap; display: inline-block;\" href=\"https://www.passeidireto.com/perfil/371127-klebson-marques/\">\n",
              "            <img style=\"white-space: nowrap; width: 20px; height: 20px;\" src=\"https://img.utdstc.com/icon/f63/09d/f6309d71c42e9f12c4aaf4800260f4c2ae9637ab4b148c381e8378e80ccce0e6:200\" />\n",
              "          </a> <a style=\"white-space: nowrap; display: inline-block;\" href=\"https://github.com/kleber293\">\n",
              "            <img style=\"white-space: nowrap; width: 26px; height: 20px; object-fit: cover;\" src=\"http://pngimg.com/uploads/github/github_PNG69.png\" /></a>\n",
              "        </div>\n",
              "      </td>\n",
              "    </tr>\n",
              "  </tbody>\n",
              "</table>"
            ],
            "text/plain": [
              "<IPython.core.display.HTML object>"
            ]
          },
          "metadata": {}
        }
      ]
    },
    {
      "cell_type": "markdown",
      "metadata": {
        "id": "qSp1cV3EDzjb"
      },
      "source": [
        "# NOTA\n",
        "\n",
        "Todas as funções listadas aqui, foram criadas por mim."
      ]
    }
  ]
}